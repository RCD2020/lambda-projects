{
 "nbformat": 4,
 "nbformat_minor": 0,
 "metadata": {
  "colab": {
   "name": "Data_Engineer.ipynb",
   "provenance": [],
   "collapsed_sections": []
  },
  "kernelspec": {
   "name": "python3",
   "display_name": "Python 3"
  },
  "language_info": {
   "name": "python"
  }
 },
 "cells": [
  {
   "cell_type": "markdown",
   "metadata": {
    "id": "jMy6vjgrmViW"
   },
   "source": [
    "# Data Engineer & Analyst"
   ]
  },
  {
   "cell_type": "markdown",
   "metadata": {
    "id": "spjvO0ld_x5G"
   },
   "source": [
    "Finding just the right data for a project can be a challenge. Finding perfectly clean data ready for machine learning can be impossible. For our first assignment we'll generate some data, but before we do that we'll need a place to store it! For that I've included a MongoDB interface, all you need to do is enter your credentials when prompted."
   ]
  },
  {
   "cell_type": "markdown",
   "metadata": {
    "id": "1fhHRZLjQEHD"
   },
   "source": [
    "## MongoDB Database Interface"
   ]
  },
  {
   "cell_type": "markdown",
   "metadata": {
    "id": "l1tZUc0uN7nu"
   },
   "source": [
    "Our first assignment is to generate some random data, but first we need a place to put it!\n",
    "\n",
    "MongoDB is a good place to start when learning database operations in Python. Unlike relational databases, working with a no-SQL database (MongoDB) is more like working with other Python libraries and less like writing obscure SQL queries. For some of these assignments you will need a free [MongoDB account](https://www.mongodb.com/). In assignment 2 you'll create your own database interface much like the one below.\n"
   ]
  },
  {
   "cell_type": "code",
   "metadata": {
    "id": "5TojwVhinKnA"
   },
   "source": [
    "# PyMongo requires dnspython to be installed\n",
    "!pip install dnspython"
   ],
   "execution_count": null,
   "outputs": []
  },
  {
   "cell_type": "code",
   "metadata": {
    "id": "lZz_z9M6mIuq"
   },
   "source": [
    "from typing import Dict, Iterable\n",
    "from pymongo import MongoClient\n",
    "import pandas as pd"
   ],
   "execution_count": null,
   "outputs": []
  },
  {
   "cell_type": "code",
   "metadata": {
    "id": "rY7TXZ5rmoEF"
   },
   "source": [
    "class MongoDB:\n",
    "\n",
    "    def __init__(self, url, collection, table):\n",
    "        self.url = url\n",
    "        self.collection = collection\n",
    "        self.table = table\n",
    "\n",
    "    def connect(self):\n",
    "        return MongoClient(self.url)[self.collection][self.table]\n",
    "\n",
    "    def find(self, query_obj: Dict) -> pd.DataFrame:\n",
    "        return pd.DataFrame(self.connect().find(query_obj))\n",
    "\n",
    "    def insert(self, insert_obj: Iterable[Dict]):\n",
    "        self.connect().insert_many(insert_obj)\n",
    "\n",
    "    def update(self, query: Dict, data: Dict):\n",
    "        self.connect().update_many(query, {\"$set\": data})\n",
    "\n",
    "    def delete(self, query_obj: Dict):\n",
    "        self.connect().delete_many(query_obj)\n",
    "\n",
    "    def get_df(self) -> pd.DataFrame:\n",
    "        return pd.DataFrame(self.find({}))"
   ],
   "execution_count": null,
   "outputs": []
  },
  {
   "cell_type": "markdown",
   "metadata": {
    "id": "BsBku68df4ZN"
   },
   "source": [
    "It's best practice to store passwords and credentials in a `.env` file. Here the notebook will ask you for your database info when you run the cell below. Make sure you have your MongoDB account setup first."
   ]
  },
  {
   "cell_type": "code",
   "metadata": {
    "id": "KXBJ_w1YvnoR"
   },
   "source": [
    "base_url = input(\"URL? \")\n",
    "user_name = input(\"Username? \")\n",
    "password = input(\"Password? \")\n",
    "\n",
    "collection = input(\"Collection? \")\n",
    "table = input(\"Table? \")\n",
    "\n",
    "url = f\"mongodb+srv://{user_name}:{password}@{base_url}\""
   ],
   "execution_count": null,
   "outputs": []
  },
  {
   "cell_type": "code",
   "metadata": {
    "id": "v1rWrNECm0eE"
   },
   "source": [
    "db = MongoDB(url, collection, table)\n",
    "print(db.get_df())"
   ],
   "execution_count": null,
   "outputs": []
  },
  {
   "cell_type": "markdown",
   "metadata": {
    "id": "20oCzfEwoPCA"
   },
   "source": [
    "# Assignment 1: Mock Data"
   ]
  },
  {
   "cell_type": "markdown",
   "metadata": {
    "id": "fTzd0t_TNp4M"
   },
   "source": [
    "Now we need some data! Random data can be generated in many ways. Here's an examples using MonsterLab and the database interface above. Mock data should have the same shape as expected in the *real data*. \n",
    "\n",
    "[MonsterLab](https://pypi.org/project/MonsterLab/) is built on [Fortuna](https://pypi.org/project/Fortuna/). MonsterLab is how Bandersnatch generates its data, more on that later...\n",
    "\n",
    "For this assignment review the code cells below and have a go playing with the generators in MonsterLab. See what you can do! \n",
    "\n",
    "\n",
    "1. Sign up for MongoDB if you don't already have an account.\n",
    "2. Run the cells below to get a feel for it. Edit the code, and have fun.\n",
    "3. Create and store at least 1000 monsters using the database interface and MonsterLab's Monster class.\n",
    "4. Find all the Dragons, print them as a DataFrame.\n",
    "5. Get all the monsters into a pandas DataFrame.\n",
    "\n",
    "Bandersnatch should be very happy, indeed!"
   ]
  },
  {
   "cell_type": "markdown",
   "metadata": {
    "id": "4dA2FFM6htNJ"
   },
   "source": [
    "## Random Monsters: MonsterLab & Fortuna"
   ]
  },
  {
   "cell_type": "markdown",
   "metadata": {
    "id": "UxlFiKRaG74O"
   },
   "source": [
    "Fortuna is a random value toolkit by Robert Sharp. If you would like to know more, here's the [Fortuna Documentation](https://pypi.org/project/Fortuna/). Unfortunately, Fortuna is currently incompatible with Windows. As such, it is recommended to run this notebook with Colab or Jupyter on WSL. Fortuna is 100% compatible with all *nix systems including macOS."
   ]
  },
  {
   "cell_type": "code",
   "metadata": {
    "id": "isk20jhXIaP7"
   },
   "source": [
    "# Colab is highly recommended for those on Windows.\n",
    "!pip install MonsterLab"
   ],
   "execution_count": null,
   "outputs": []
  },
  {
   "cell_type": "code",
   "metadata": {
    "id": "GDnBfBzsnno7"
   },
   "source": [
    "from MonsterLab import Monster"
   ],
   "execution_count": null,
   "outputs": []
  },
  {
   "cell_type": "code",
   "metadata": {
    "id": "zJipDGup6ysh"
   },
   "source": [
    "help(Monster)"
   ],
   "execution_count": null,
   "outputs": []
  },
  {
   "cell_type": "markdown",
   "metadata": {
    "id": "-XZNHDl6KNw2"
   },
   "source": [
    "### A Random Monster"
   ]
  },
  {
   "cell_type": "code",
   "metadata": {
    "id": "iyfhF9f0o-Xi"
   },
   "source": [
    "m1 = Monster()\n",
    "m1"
   ],
   "execution_count": null,
   "outputs": []
  },
  {
   "cell_type": "markdown",
   "metadata": {
    "id": "jnaHbH8QD8MX"
   },
   "source": [
    "### Monster as a Dict"
   ]
  },
  {
   "cell_type": "code",
   "metadata": {
    "id": "VgGz-hyI7GP-"
   },
   "source": [
    "m2 = Monster()\n",
    "m2.to_dict()"
   ],
   "execution_count": null,
   "outputs": []
  },
  {
   "cell_type": "markdown",
   "metadata": {
    "id": "IXHjH5sfJ9Nz"
   },
   "source": [
    "### Insert a Single Custom Monster into the database"
   ]
  },
  {
   "cell_type": "code",
   "metadata": {
    "id": "dSgq6BjIpbQx"
   },
   "source": [
    "monster = Monster(\n",
    "    name=\"Bandersnatch\", \n",
    "    monster_type=\"Demonic\", \n",
    "    level=20, \n",
    "    rarity=\"Rank 5\",\n",
    ")\n",
    "\n",
    "db.insert([monster.to_dict()])\n",
    "\n",
    "db.get_df()"
   ],
   "execution_count": null,
   "outputs": []
  },
  {
   "cell_type": "markdown",
   "metadata": {
    "id": "3KFrJFJLKWS_"
   },
   "source": [
    "### Insert Many Random Monsters"
   ]
  },
  {
   "cell_type": "code",
   "metadata": {
    "id": "-zIOJmGmnWTB"
   },
   "source": [
    "n_monsters = 1024\n",
    "db.insert(Monster().to_dict() for _ in range(n_monsters))"
   ],
   "execution_count": null,
   "outputs": []
  },
  {
   "cell_type": "code",
   "metadata": {
    "id": "JfUcf01JrE66"
   },
   "source": [
    "db.get_df()"
   ],
   "execution_count": null,
   "outputs": []
  },
  {
   "cell_type": "markdown",
   "metadata": {
    "id": "mGFjHxJRwtaw"
   },
   "source": [
    "### Find all the monsters that match a query"
   ]
  },
  {
   "cell_type": "code",
   "metadata": {
    "id": "6o5k3-IMm9x5"
   },
   "source": [
    "db.find({\"Name\": \"Vampire\"})"
   ],
   "execution_count": null,
   "outputs": []
  },
  {
   "cell_type": "markdown",
   "metadata": {
    "id": "wds0Ilb-wrBZ"
   },
   "source": [
    "### Find the monsters that match a query"
   ]
  },
  {
   "cell_type": "code",
   "metadata": {
    "id": "YzeFhsUBklK3"
   },
   "source": [
    "db.find({\"Type\": \"Undead\", \"Level\": 10})"
   ],
   "execution_count": null,
   "outputs": []
  },
  {
   "cell_type": "markdown",
   "metadata": {
    "id": "oIUEAJF4EIcQ"
   },
   "source": [
    "### Find all the Dragons."
   ]
  },
  {
   "cell_type": "code",
   "metadata": {
    "id": "fAjYIKldETrr"
   },
   "source": [
    "# YOUR CODE HERE"
   ],
   "execution_count": null,
   "outputs": []
  },
  {
   "cell_type": "markdown",
   "metadata": {
    "id": "A8-hsyUKEXiH"
   },
   "source": [
    "### Get all the monsters into a pandas dataframe."
   ]
  },
  {
   "cell_type": "code",
   "metadata": {
    "id": "jtrgJsH3Eepi"
   },
   "source": [
    "# YOUR CODE HERE"
   ],
   "execution_count": null,
   "outputs": []
  },
  {
   "cell_type": "markdown",
   "metadata": {
    "id": "VPukbxfgEveE"
   },
   "source": [
    "# Assignment 2: Database Interface\n"
   ]
  },
  {
   "cell_type": "markdown",
   "metadata": {
    "id": "ZWz433OyNFrw"
   },
   "source": [
    "Write a database interface class for the database of your choice, typically MongoDB or PostgreSQL. It's recommended to choose the same database type as your primary Labs Project.\n",
    "\n",
    "This interface will serve as an [Abstraction Layer](https://en.wikipedia.org/wiki/Abstraction_layer) for your database. Abstraction layers are one of the most overlooked and under valued constructs in all of programming. In this assignment, we will [encapsulate](https://en.wikipedia.org/wiki/Encapsulation_(computer_programming)) or abstract away the type of database we're using by creating a interface. This interface could be replaced by another one that accesses a different type of database. As long as the same methods with the same signatures are on both, the rest of the app won't even know. The polymorphic abstraction layer give us this ability, without the rest of the app being reworked, because all calls to the database travel through our matching interfaces.\n",
    "\n",
    "Objects that can replace eachother like this are said to be [Polymorphic](https://en.wikipedia.org/wiki/Polymorphism_(computer_science)).\n",
    "\n",
    "Your custom interface should implement the following methods at minimum:\n",
    "1. `create`\n",
    "2. `read`\n",
    "3. `update`\n",
    "5. `delete`\n",
    "\n",
    "If you need a refresher on how to build Python classes, look no further!\n",
    "- [Basic Python Classes](https://sharpdesigndigital.com/class-objects/)\n",
    "- [Advanced Python Classes](https://sharpdesigndigital.com/advanced-classes/)"
   ]
  },
  {
   "cell_type": "code",
   "metadata": {
    "id": "BIBqYwk9SDB6"
   },
   "source": [
    "class DataInterface:\n",
    "    # YOUR CODE HERE"
   ],
   "execution_count": null,
   "outputs": []
  },
  {
   "cell_type": "markdown",
   "metadata": {
    "id": "_UB7QN1VwwQH"
   },
   "source": [
    "For extra data points, use your own interface as the source of data for the next few assignments. For this to work well, your interface must be 100% polymorphic with the provided `MongoDB` interface above or you'll need to refactor the code in the rest of the notebook to match your interface. It is NOT recommended to do some of each. You should choose, but choose wisely."
   ]
  },
  {
   "cell_type": "markdown",
   "metadata": {
    "id": "Nu8hkyrZ0wyH"
   },
   "source": [
    "# Assignment 3: Visualizations"
   ]
  },
  {
   "cell_type": "code",
   "metadata": {
    "id": "i193Nryb0v7K"
   },
   "source": [
    "import plotly.graph_objects as go\n",
    "import plotly.express as px"
   ],
   "execution_count": null,
   "outputs": []
  },
  {
   "cell_type": "markdown",
   "metadata": {
    "id": "WaygqYOUj29F"
   },
   "source": [
    "Change the implementation of Pie Chart \"Monsters by Rarity\" by using the function \"rank_lookup\" to dispaly the rank names Common...Legendary etc. rather than the rank values 0-5 in the legend."
   ]
  },
  {
   "cell_type": "code",
   "metadata": {
    "id": "stsF0bU5xQ7f"
   },
   "source": [
    "def rank_lookup(rank: str) -> str:\n",
    "    return {\n",
    "        \"Rank 0\": \"Very Common\",\n",
    "        \"Rank 1\": \"Common\",\n",
    "        \"Rank 2\": \"Uncommon\",\n",
    "        \"Rank 3\": \"Rare\",\n",
    "        \"Rank 4\": \"Epic\",\n",
    "        \"Rank 5\": \"Legendary\",\n",
    "    }.get(rank, \"Unknown\")"
   ],
   "execution_count": null,
   "outputs": []
  },
  {
   "cell_type": "markdown",
   "metadata": {
    "id": "aFRBqq3j1gwj"
   },
   "source": [
    "## Pie Chart: Monsters by Rarity"
   ]
  },
  {
   "cell_type": "code",
   "metadata": {
    "id": "KphPkcFQ0scm"
   },
   "source": [
    "target = \"Rarity\"\n",
    "\n",
    "df = db.get_df()[target].value_counts()\n",
    "data = go.Pie(labels=df.index, values=df.values, hole=0.5)\n",
    "\n",
    "layout = go.Layout(\n",
    "    title=f\"Monsters by {target}\",\n",
    "    colorway=px.colors.qualitative.Antique,\n",
    "    height=700,\n",
    "    width=770,\n",
    ")\n",
    "\n",
    "figure = go.Figure(data, layout)\n",
    "\n",
    "figure.update_traces(\n",
    "    textfont_size=14,\n",
    "    textinfo='percent+label',\n",
    ")\n",
    "\n",
    "figure.show()"
   ],
   "execution_count": null,
   "outputs": []
  },
  {
   "cell_type": "markdown",
   "metadata": {
    "id": "LrpzQ9S3-mew"
   },
   "source": [
    "## Line Chart: Monster Rarity Totals Over Time"
   ]
  },
  {
   "cell_type": "code",
   "metadata": {
    "id": "aBmbirKj5_Ge"
   },
   "source": [
    "from itertools import accumulate"
   ],
   "execution_count": null,
   "outputs": []
  },
  {
   "cell_type": "code",
   "metadata": {
    "id": "pvDFbHtb08a-"
   },
   "source": [
    "target = \"Rarity\"  # [\"Rarity\", \"Level\", \"Type\"]\n",
    "\n",
    "df = db.get_df()\n",
    "\n",
    "df_cross = pd.crosstab(df['Time Stamp'], df[target])\n",
    "\n",
    "for column in df_cross.columns:\n",
    "    df_cross[column] = list(accumulate(df_cross[column]))\n",
    "\n",
    "title = f\"Monster {target} Totals Over Time\"\n",
    "\n",
    "data = [go.Scatter(\n",
    "    x=df_cross.index, \n",
    "    y=df_cross[col],\n",
    "    name=col,\n",
    "    line={\"width\": 1.5},\n",
    ") for col in df_cross.columns]\n",
    "\n",
    "layout = go.Layout(\n",
    "    title=title,\n",
    "    colorway=px.colors.qualitative.Antique,\n",
    "    height=600,\n",
    "    width=800,\n",
    "    yaxis={\"title\": \"Monster Count\"},\n",
    "    xaxis={\"title\": \"Time Stamp\"},\n",
    ")\n",
    "\n",
    "figure = go.Figure(data, layout)\n",
    "figure.show()"
   ],
   "execution_count": null,
   "outputs": []
  },
  {
   "cell_type": "markdown",
   "metadata": {
    "id": "TXNPXv94_akH"
   },
   "source": [
    "## Stacked Bar Chart Crosstab: Rarity by Level"
   ]
  },
  {
   "cell_type": "markdown",
   "metadata": {
    "id": "DoLAlShmlwKg"
   },
   "source": [
    "Dynaically add the name of the target to the title of the y-axis."
   ]
  },
  {
   "cell_type": "code",
   "metadata": {
    "id": "4BkB9fjD6A3v"
   },
   "source": [
    "feature = \"Level\"  # [\"Level\", \"Type\", \"Rarity\"]\n",
    "target = \"Rarity\"  # [\"Level\", \"Type\", \"Rarity\"]\n",
    "\n",
    "df = db.get_df()\n",
    "\n",
    "df_cross = pd.crosstab(df[feature], df[target])\n",
    "\n",
    "title = f\"{target} by {feature}\"\n",
    "\n",
    "data = [\n",
    "    go.Bar(name=col, x=df_cross.index, y=df_cross[col])\n",
    "    for col in df_cross.columns\n",
    "]\n",
    "\n",
    "layout = go.Layout(\n",
    "    title=title,\n",
    "    colorway=px.colors.qualitative.Antique,\n",
    "    height=600,\n",
    "    width=810,\n",
    "    barmode=\"stack\",\n",
    "    yaxis={\"title\": \"Monster Count\"},\n",
    "    xaxis={'title': feature}\n",
    ")\n",
    "\n",
    "figure = go.Figure(data, layout)\n",
    "\n",
    "figure.show()"
   ],
   "execution_count": null,
   "outputs": []
  },
  {
   "cell_type": "markdown",
   "metadata": {
    "id": "WpkvjMEHWatK"
   },
   "source": [
    "## Altair"
   ]
  },
  {
   "cell_type": "code",
   "metadata": {
    "id": "5siSHE99PEce"
   },
   "source": [
    "import altair as alt\n",
    "import numpy as np"
   ],
   "execution_count": null,
   "outputs": []
  },
  {
   "cell_type": "markdown",
   "metadata": {
    "id": "BauEF90nOLJ_"
   },
   "source": [
    "Replace the all the `...` in the code below with the right variable names. Play with it! What can you do with Altair?"
   ]
  },
  {
   "cell_type": "code",
   "metadata": {
    "id": "-9OJtYQmAazM"
   },
   "source": [
    "x_axis = \"Health\"  # [\"Energy\", \"Sanity\", \"Health\"]\n",
    "y_axis = \"Energy\"  # [\"Energy\", \"Sanity\", \"Health\"]\n",
    "target = \"Rarity\"  # [\"Rarity\", \"Level\", \"Type\"]\n",
    "rarity = \"All\"     # [\"All\", \"Rank 0\", ... \"Rank 5\"]\n",
    "\n",
    "monsters = db.get_df().drop(columns=['_id'])\n",
    "\n",
    "if rarity != \"All\":\n",
    "    monsters = monsters[monsters['Rarity'] == ...]\n",
    "\n",
    "graph = alt.Chart(\n",
    "    monsters,\n",
    "    title=f\"{rarity} Monsters\",\n",
    ").mark_circle(size=100).encode(\n",
    "    x=alt.X(\n",
    "        ...,\n",
    "        axis=alt.Axis(title=x_axis),\n",
    "    ),\n",
    "    y=alt.Y(\n",
    "        ...,\n",
    "        axis=alt.Axis(title=y_axis),\n",
    "    ),\n",
    "    color=...,\n",
    "    tooltip=alt.Tooltip(list(monsters.columns)),\n",
    ").properties(\n",
    "    height=500,\n",
    "    width=500,\n",
    ")\n",
    "\n",
    "graph"
   ],
   "execution_count": null,
   "outputs": []
  },
  {
   "cell_type": "markdown",
   "metadata": {
    "id": "YrbTGOy8PfeX"
   },
   "source": [
    "### Abstraction, Encapsulation, Polymophism\n",
    "\n",
    "Below is one example of an abstraction that encasulates a graph and extends some customization points. Here we'll use a functional interface, but classes work too. \n",
    "\n",
    "You can parameterize every aspect of the graph by adding function arguments. Be mindfull, you don't want to over-do it here. Keep your calling signature simple and usable. Provide good defaults and well named arguments, and your users will enjoy using your code. Make it super complicated and they may as well just use Altair themselves.\n",
    "\n",
    "A good interface should always encapsulate the core logic in such a way that the rest of the app is totally unaware of how it works, but can still interact with the core logic in a general way. One might say that the interface is more abstract than the core logic it encapsulates. At this higher abstraction level it becomes easier to replace our core logic without disrupting parallel development on other parts of the app. And now a word from our sponsor, Polymorphism.\n",
    "\n",
    "One hypothetical example of Polymorphism is if we designed more than one graph, possibly with two different graphing libraries. Then gave them compatible interfaces. This gives us the ability to trade one graph library for another without rewriting the whole app. We could do that at any time during development without disrupting anything."
   ]
  },
  {
   "cell_type": "code",
   "metadata": {
    "id": "I_l36uo4PRnG"
   },
   "source": [
    "def scatter(x_axis=\"Health\", y_axis=\"Energy\", target=\"Rarity\", rarity=\"All\"):\n",
    "\n",
    "    monsters = db.get_df().drop(columns=['_id'])\n",
    "\n",
    "    if rarity != \"All\":\n",
    "        monsters = monsters[monsters['Rarity'] == rarity]\n",
    "\n",
    "    graph = alt.Chart(\n",
    "        monsters,\n",
    "        title=f\"{rarity} Monsters\",\n",
    "    ).mark_circle(size=200).encode(\n",
    "        x=alt.X(\n",
    "            x_axis,\n",
    "            axis=alt.Axis(title=x_axis),\n",
    "        ),\n",
    "        y=alt.Y(\n",
    "            y_axis,\n",
    "            axis=alt.Axis(title=y_axis),\n",
    "        ),\n",
    "        color=target,\n",
    "        tooltip=alt.Tooltip(list(monsters.columns)),\n",
    "    ).properties(\n",
    "        height=500,\n",
    "        width=500,\n",
    "    )\n",
    "\n",
    "    return graph"
   ],
   "execution_count": null,
   "outputs": []
  },
  {
   "cell_type": "markdown",
   "metadata": {
    "id": "5uT_XhX9l9R0"
   },
   "source": [
    "Try other columns below. In terms of data science, what's the most interesting graph you can make with the scatter_plot function? \n",
    "\n",
    "What feature(s) are missing from this function? \n",
    "\n",
    "What's cool about designing software this way? \n",
    "\n",
    "What's lacking about designing software this way?"
   ]
  },
  {
   "cell_type": "code",
   "metadata": {
    "id": "X5Zy4uzMQ9_A"
   },
   "source": [
    "scatter_plot = scatter(\n",
    "    x_axis=\"Time Stamp\", \n",
    "    y_axis=\"Level\", \n",
    "    target=\"Type\", \n",
    "    rarity=\"Rank 0\",\n",
    ")\n",
    "scatter_plot"
   ],
   "execution_count": null,
   "outputs": []
  },
  {
   "cell_type": "markdown",
   "metadata": {
    "id": "aVjJhvdjSL1N"
   },
   "source": [
    "Same graph as above as a JSON file...\n",
    "\n",
    "Juggeling json is tricky until you get the hang of it, then it's really easy!"
   ]
  },
  {
   "cell_type": "code",
   "metadata": {
    "id": "cApPdfV3uK1W"
   },
   "source": [
    "# The Altair Library provides the `.to_json()` method.\n",
    "# This creates a dirty json string. In the next assignment we'll see about fixing it.\n",
    "scatter_plot_json = scatter_plot.to_json()\n",
    "scatter_plot_json"
   ],
   "execution_count": null,
   "outputs": []
  },
  {
   "cell_type": "markdown",
   "metadata": {
    "id": "pUOWBxY-E3CJ"
   },
   "source": [
    "# Assignment 4: Data I/O Juggling"
   ]
  },
  {
   "cell_type": "markdown",
   "metadata": {
    "id": "WrebXgOQwAyH"
   },
   "source": [
    "### JSON Library"
   ]
  },
  {
   "cell_type": "code",
   "metadata": {
    "id": "dKx134S1JN2Z"
   },
   "source": [
    "import json"
   ],
   "execution_count": null,
   "outputs": []
  },
  {
   "cell_type": "markdown",
   "metadata": {
    "id": "eS7I272TSc6f"
   },
   "source": [
    "The JSON python library has 4 functions to help with JSON I/O\n",
    "- 2 for File I/O\n",
    "    - `json.load` -> load a dict from JSON data in a file\n",
    "    - `json.dump` -> takes a dict and saves JSON data to a file. Best use context manager.\n",
    "- 2 for Memory I/O\n",
    "    - `json.loads` -> creates a dict from JSON data in memory (some variable)\n",
    "    - `json.dumps`  -> turns a dict into JSON data in memory (some variable)\n"
   ]
  },
  {
   "cell_type": "code",
   "metadata": {
    "id": "9IEheRgLQ_bR"
   },
   "source": [
    "# json.loads will turn dirty json into a dictionary\n",
    "scatter_plot_dict = json.loads(scatter_plot_json)\n",
    "scatter_plot_dict"
   ],
   "execution_count": null,
   "outputs": []
  },
  {
   "cell_type": "code",
   "metadata": {
    "id": "LBBW6n9RSB2y"
   },
   "source": [
    "# json dumps will create a clean json string from a dict\n",
    "scatter_plot_json = json.dumps(scatter_plot_dict)\n",
    "scatter_plot_json"
   ],
   "execution_count": null,
   "outputs": []
  },
  {
   "cell_type": "markdown",
   "metadata": {
    "id": "LkEtWdKVn96I"
   },
   "source": [
    "Context managers help manage resources like files that need to be closed when we're done with them. The context manager automatically closes its resource when it goes out of scope. Two context managers are defined below, they begin with the `with` keyword."
   ]
  },
  {
   "cell_type": "code",
   "metadata": {
    "id": "dEhDI9fhi__k"
   },
   "source": [
    "# json dump will save a json file from a dict\n",
    "with open(\"scatter_plot.json\", \"w\") as file:\n",
    "    json.dump(scatter_plot_dict, file)"
   ],
   "execution_count": null,
   "outputs": []
  },
  {
   "cell_type": "code",
   "metadata": {
    "id": "IxPcQv_9tgvi"
   },
   "source": [
    "# json load will open a json file and turn it into a dict\n",
    "with open(\"scatter_plot.json\", \"r\") as file:\n",
    "    json_dict = json.load(file)\n",
    "json_dict"
   ],
   "execution_count": null,
   "outputs": []
  },
  {
   "cell_type": "markdown",
   "metadata": {
    "id": "U_rekTddm1Pg"
   },
   "source": [
    "Save your favorite graph as a json file and post it in slack with a screenshot of the graph."
   ]
  },
  {
   "cell_type": "code",
   "metadata": {
    "id": "kMWI9ghXt1Gk"
   },
   "source": [
    ""
   ],
   "execution_count": null,
   "outputs": []
  }
 ]
}