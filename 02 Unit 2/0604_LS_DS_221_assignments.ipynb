{
  "nbformat": 4,
  "nbformat_minor": 0,
  "metadata": {
    "kernelspec": {
      "display_name": "Python 3",
      "language": "python",
      "name": "python3"
    },
    "language_info": {
      "codemirror_mode": {
        "name": "ipython",
        "version": 3
      },
      "file_extension": ".py",
      "mimetype": "text/x-python",
      "name": "python",
      "nbconvert_exporter": "python",
      "pygments_lexer": "ipython3",
      "version": "3.8.9"
    },
    "colab": {
      "name": "0604 LS_DS_221_assignments.ipynb",
      "provenance": [],
      "collapsed_sections": []
    }
  },
  "cells": [
    {
      "cell_type": "markdown",
      "metadata": {
        "id": "69Poex871Tve"
      },
      "source": [
        "Lambda School Data Science\n",
        "\n",
        "*Unit 2, Sprint 2, Module 1*\n",
        "\n",
        "---"
      ]
    },
    {
      "cell_type": "code",
      "metadata": {
        "id": "y3lVYKsZ1Tvf"
      },
      "source": [
        "%%capture\n",
        "import sys\n",
        "\n",
        "# If you're on Colab:\n",
        "if 'google.colab' in sys.modules:\n",
        "    DATA_PATH = 'https://raw.githubusercontent.com/LambdaSchool/DS-Unit-2-Kaggle-Challenge/main/data/'\n",
        "    !pip install category_encoders==2.*\n",
        "    !pip install pandas-profiling==2.*\n",
        "    \n",
        "# If you're working locally:\n",
        "else:\n",
        "    DATA_PATH = '../data/'"
      ],
      "execution_count": null,
      "outputs": []
    },
    {
      "cell_type": "markdown",
      "metadata": {
        "id": "qTkgkmKH1Tvg"
      },
      "source": [
        "# Module Project: Decision Trees\n",
        "\n",
        "This week, the module projects will focus on creating and improving a model for the Tanazania Water Pump dataset. Your goal is to create a model to predict whether a water pump is functional, non-functional, or needs repair.\n",
        "\n",
        "Dataset source: [DrivenData.org](https://www.drivendata.org/competitions/7/pump-it-up-data-mining-the-water-table/).\n",
        "\n",
        "## Directions\n",
        "\n",
        "The tasks for this project are as follows:\n",
        "\n",
        "- **Task 1:** Sign up for a [Kaggle](https://www.kaggle.com/) account.\n",
        "- **Task 2:** Use `wrangle` function to import training and test data.\n",
        "- **Task 3:** Split training data into feature matrix `X` and target vector `y`.\n",
        "- **Task 4:** Split feature matrix `X` and target vector `y` into training and test sets.\n",
        "- **Task 5:** Establish the baseline accuracy score for your dataset.\n",
        "- **Task 6:** Build and train `model_dt`.\n",
        "- **Task 7:** Calculate the training and validation accuracy score for your model.\n",
        "- **Task 8:** Adjust model's `max_depth` to reduce overfitting.\n",
        "- **Task 9 `stretch goal`:** Create a horizontal bar chart showing the 10 most important features for your model.\n",
        "\n",
        "You should limit yourself to the following libraries for this project:\n",
        "\n",
        "- `category_encoders`\n",
        "- `matplotlib`\n",
        "- `pandas`\n",
        "- `pandas-profiling`\n",
        "- `sklearn`"
      ]
    },
    {
      "cell_type": "markdown",
      "metadata": {
        "id": "EHrWEqAO1Tvg"
      },
      "source": [
        "# Kaggle\n",
        "\n",
        "**Task 1:** [Sign up for a Kaggle account](https://www.kaggle.com/), if you don’t already have one. **We recommend that you choose a username that's based on your name, since you might include it in your resume in the future.** Go to our Kaggle InClass competition website (the URL is in Slack). Go to the **Rules** page. Accept the rules of the competition. Notice that the **Rules** page also has instructions for the Submission process. The **Data** page has feature definitions.\n",
        "\n",
        "# I. Wrangle Data"
      ]
    },
    {
      "cell_type": "code",
      "metadata": {
        "id": "1BvLZDOS1Tvh"
      },
      "source": [
        "import pandas as pd\n",
        "\n",
        "def wrangle(fm_path, tv_path=None):\n",
        "    if tv_path:\n",
        "        df = pd.merge(pd.read_csv(fm_path, \n",
        "                                  na_values=[0, -2.000000e-08]),\n",
        "                      pd.read_csv(tv_path)).set_index('id')\n",
        "    else:\n",
        "        df = pd.read_csv(fm_path, \n",
        "                         na_values=[0, -2.000000e-08],\n",
        "                         index_col='id')\n",
        "\n",
        "    # Drop constant columns\n",
        "    df.drop(columns=['recorded_by', 'num_private', 'management', 'payment'], inplace=True)\n",
        "\n",
        "    # Drop HCCCs\n",
        "    cutoff = 100\n",
        "    drop_cols = [col for col in df.select_dtypes('object').columns\n",
        "                 if df[col].nunique() > cutoff]\n",
        "    df.drop(columns=drop_cols, inplace=True)\n",
        "\n",
        "    # Drop duplicate columns\n",
        "    dupe_cols = [col for col in df.head(15).T.duplicated().index\n",
        "                 if df.head(15).T.duplicated()[col]]\n",
        "    df.drop(columns=dupe_cols, inplace=True)             \n",
        "\n",
        "    return df"
      ],
      "execution_count": null,
      "outputs": []
    },
    {
      "cell_type": "code",
      "metadata": {
        "id": "I-C0KQ8M3efW"
      },
      "source": [
        "def color_percent(floaty):\n",
        "  \"Input a normalized number between 0 and 1, and get it in string form colored according to percentage.\"\n",
        "  if floaty >= .5:\n",
        "    green = 200\n",
        "    red = int(500 * (1 - floaty))\n",
        "  else:\n",
        "    red = 255\n",
        "    green = int(400 * floaty)\n",
        "\n",
        "  return f'\\033[38;2;{red};{green};0m{floaty}\\033[00m'"
      ],
      "execution_count": null,
      "outputs": []
    },
    {
      "cell_type": "markdown",
      "metadata": {
        "id": "7YFaTpLl1Tvh"
      },
      "source": [
        "**Task 1:** Using the `wrangle` function above, read the `train_features.csv` and  `train_labels.csv` files into the DataFrame `df`. Next, use the same function to read the test set `test_features.csv` into the DataFrame `X_test`."
      ]
    },
    {
      "cell_type": "code",
      "metadata": {
        "id": "w5pVfq3C1Tvi"
      },
      "source": [
        "df = wrangle('train_features.csv', 'train_labels.csv')\n",
        "X_test = wrangle('test_features.csv')"
      ],
      "execution_count": null,
      "outputs": []
    },
    {
      "cell_type": "markdown",
      "metadata": {
        "id": "vDSLO-L41Tvi"
      },
      "source": [
        "# II. Split Data\n",
        "\n",
        "**Task 3:** Split your DataFrame `df` into a feature matrix `X` and the target vector `y`. You want to predict `'status_group'`."
      ]
    },
    {
      "cell_type": "code",
      "metadata": {
        "id": "cEan3gzH1Tvj"
      },
      "source": [
        "target = 'status_group'\n",
        "X = df.drop(columns=target)\n",
        "y = df[target]"
      ],
      "execution_count": null,
      "outputs": []
    },
    {
      "cell_type": "markdown",
      "metadata": {
        "id": "6SDngm0k1Tvk"
      },
      "source": [
        "**Task 4:** Using a randomized split, divide `X` and `y` into a training set (`X_train`, `y_train`) and a validation set (`X_val`, `y_val`)."
      ]
    },
    {
      "cell_type": "code",
      "metadata": {
        "id": "1JuhA5jb1Tvk"
      },
      "source": [
        "from sklearn.model_selection import train_test_split\n",
        "\n",
        "X_train, X_val, y_train, y_val = train_test_split(X, y, test_size=0.2, random_state=42)"
      ],
      "execution_count": null,
      "outputs": []
    },
    {
      "cell_type": "markdown",
      "metadata": {
        "id": "VFNYDZ8P1Tvk"
      },
      "source": [
        "# III. Establish Baseline\n",
        "\n",
        "**Task 5:** Since this is a **classification** problem, you should establish a baseline accuracy score. Figure out what is the majority class in `y_train` and what percentage of your training observations it represents."
      ]
    },
    {
      "cell_type": "code",
      "metadata": {
        "id": "x96LqFam1Tvk",
        "colab": {
          "base_uri": "https://localhost:8080/"
        },
        "outputId": "bf7329f2-ef70-4616-af06-52db994c53af"
      },
      "source": [
        "baseline_acc = y_train.value_counts(normalize=True).max()\n",
        "print('Baseline Accuracy Score:', color_percent(baseline_acc))"
      ],
      "execution_count": null,
      "outputs": [
        {
          "output_type": "stream",
          "text": [
            "Baseline Accuracy Score: \u001b[38;2;228;200;0m0.5425489938182296\u001b[00m\n"
          ],
          "name": "stdout"
        }
      ]
    },
    {
      "cell_type": "markdown",
      "metadata": {
        "id": "32pZR7YQ1Tvl"
      },
      "source": [
        "# IV. Build Model\n",
        "\n",
        "**Task 6:** Build a `Pipeline` named `model_dt`, and fit it to your training data. Your `Pipeline` should include:\n",
        "\n",
        "- an `OrdinalEncoder` transformer for categorical features.\n",
        "- a `SimpleImputer` transformer fot missing values.\n",
        "- a `DecisionTreeClassifier` predictor.\n",
        "\n",
        "**Note:** Don't forget to set the `random_state` parameter for your `DecisionTreeClassifier`."
      ]
    },
    {
      "cell_type": "code",
      "metadata": {
        "id": "UmxJ55AQ1Tvl",
        "colab": {
          "base_uri": "https://localhost:8080/"
        },
        "outputId": "48d2f886-3705-4cad-8bbb-3127bbeb3f7b"
      },
      "source": [
        "from sklearn.pipeline import make_pipeline\n",
        "from category_encoders import OrdinalEncoder\n",
        "from sklearn.impute import SimpleImputer\n",
        "from sklearn.tree import DecisionTreeClassifier\n",
        "\n",
        "model_dt = make_pipeline(\n",
        "    OrdinalEncoder(),\n",
        "    SimpleImputer(strategy='mean'),\n",
        "    DecisionTreeClassifier(max_depth=15,random_state=42)\n",
        ")\n",
        "model_dt.fit(X_train, y_train)"
      ],
      "execution_count": null,
      "outputs": [
        {
          "output_type": "execute_result",
          "data": {
            "text/plain": [
              "Pipeline(memory=None,\n",
              "         steps=[('ordinalencoder',\n",
              "                 OrdinalEncoder(cols=['basin', 'region', 'public_meeting',\n",
              "                                      'scheme_management', 'permit',\n",
              "                                      'extraction_type',\n",
              "                                      'extraction_type_class',\n",
              "                                      'management_group', 'payment_type',\n",
              "                                      'water_quality', 'quality_group',\n",
              "                                      'quantity', 'source', 'source_type',\n",
              "                                      'source_class', 'waterpoint_type'],\n",
              "                                drop_invariant=False, handle_missing='value',...\n",
              "                               missing_values=nan, strategy='mean',\n",
              "                               verbose=0)),\n",
              "                ('decisiontreeclassifier',\n",
              "                 DecisionTreeClassifier(ccp_alpha=0.0, class_weight=None,\n",
              "                                        criterion='gini', max_depth=15,\n",
              "                                        max_features=None, max_leaf_nodes=None,\n",
              "                                        min_impurity_decrease=0.0,\n",
              "                                        min_impurity_split=None,\n",
              "                                        min_samples_leaf=1, min_samples_split=2,\n",
              "                                        min_weight_fraction_leaf=0.0,\n",
              "                                        presort='deprecated', random_state=42,\n",
              "                                        splitter='best'))],\n",
              "         verbose=False)"
            ]
          },
          "metadata": {
            "tags": []
          },
          "execution_count": 120
        }
      ]
    },
    {
      "cell_type": "markdown",
      "metadata": {
        "id": "SmC8J9mp1Tvl"
      },
      "source": [
        "# V. Check Metrics\n",
        "\n",
        "**Task 7:** Calculate the training and validation accuracy scores for `model_dt`."
      ]
    },
    {
      "cell_type": "code",
      "metadata": {
        "id": "pHldkxnO1Tvm",
        "colab": {
          "base_uri": "https://localhost:8080/"
        },
        "outputId": "875df437-6ab1-44d6-f3ea-afc34e4e40e3"
      },
      "source": [
        "from sklearn.metrics import accuracy_score\n",
        "\n",
        "training_acc = accuracy_score(y_train, model_dt.predict(X_train))\n",
        "val_acc = accuracy_score(y_val, model_dt.predict(X_val))\n",
        "\n",
        "print('Training Accuracy Score:', color_percent(training_acc))\n",
        "print('Validation Accuracy Score:', color_percent(val_acc))"
      ],
      "execution_count": null,
      "outputs": [
        {
          "output_type": "stream",
          "text": [
            "Training Accuracy Score: \u001b[38;2;70;200;0m0.8582927791661187\u001b[00m\n",
            "Validation Accuracy Score: \u001b[38;2;114;200;0m0.7705176767676768\u001b[00m\n"
          ],
          "name": "stdout"
        }
      ]
    },
    {
      "cell_type": "markdown",
      "metadata": {
        "id": "gOo_Zqks1Tvm"
      },
      "source": [
        "# VI. Tune Model\n",
        "\n",
        "**Task 8:** Is there a large difference between your training and validation accuracy? If so, experiment with different setting for `max_depth` in your `DecisionTreeClassifier` to reduce the amount of overfitting in your model."
      ]
    },
    {
      "cell_type": "code",
      "metadata": {
        "id": "i-HYZU9Q1Tvm"
      },
      "source": [
        "# Use this cell to experiment and then change \n",
        "# your model hyperparameters in Task 6\n",
        "\n",
        "scores = []\n",
        "# 0 depths\n",
        "# 1 train\n",
        "# 2 val\n",
        "\n",
        "for depth in depths:\n",
        "  model_pt = make_pipeline(\n",
        "      OrdinalEncoder(),\n",
        "      SimpleImputer(strategy='mean'),\n",
        "      DecisionTreeClassifier(max_depth=depth, random_state=42)\n",
        "  )\n",
        "  model_pt.fit(X_train, y_train)\n",
        "\n",
        "  train_acc = model_pt.score(X_train, y_train)\n",
        "  val_acc = model_pt.score(X_val, y_val)\n",
        "\n",
        "  scores.append((depth, train_acc, val_acc))"
      ],
      "execution_count": null,
      "outputs": []
    },
    {
      "cell_type": "code",
      "metadata": {
        "colab": {
          "base_uri": "https://localhost:8080/"
        },
        "id": "Qv2jY1dIDSHB",
        "outputId": "6989a7dd-b224-476b-cf7e-3df92a6bb973"
      },
      "source": [
        "def best_score(score_list):\n",
        "\n",
        "  def score_sort(e):\n",
        "    test = round(e[2], 4) * 10000 + e[1]\n",
        "    return test\n",
        "\n",
        "  score_list.sort(key=score_sort, reverse=True)\n",
        "  return scores[0][0]\n",
        "\n",
        "best_score(scores)"
      ],
      "execution_count": null,
      "outputs": [
        {
          "output_type": "execute_result",
          "data": {
            "text/plain": [
              "15"
            ]
          },
          "metadata": {
            "tags": []
          },
          "execution_count": 123
        }
      ]
    },
    {
      "cell_type": "markdown",
      "metadata": {
        "id": "07N8BWEp1Tvm"
      },
      "source": [
        "# VII. Communicate Results\n",
        "\n",
        "**Task 9 `stretch goal`:** Create a horizontal barchart that shows the the 10 most important features for model_dt, sorted by value.\n",
        "\n",
        "**Note:** [`DecisionTreeClassifier.feature_importances_`](https://scikit-learn.org/stable/modules/generated/sklearn.tree.DecisionTreeClassifier.html?highlight=decisiontreecla#sklearn.tree.DecisionTreeClassifier.feature_importances_) returns values that are different from [`LogisticRegression.coef_`](https://scikit-learn.org/stable/modules/generated/sklearn.linear_model.LogisticRegression.html). All the values will be positive, and they will sum to `1`."
      ]
    },
    {
      "cell_type": "code",
      "metadata": {
        "id": "4kyrFReS1Tvm",
        "colab": {
          "base_uri": "https://localhost:8080/",
          "height": 265
        },
        "outputId": "cd1d3edd-3621-4f43-f276-db2a244dbbda"
      },
      "source": [
        "import matplotlib.pyplot as plt\n",
        "\n",
        "features = model_dt.named_steps['ordinalencoder'].get_feature_names()\n",
        "gini = model_dt.named_steps['decisiontreeclassifier'].feature_importances_\n",
        "pd.Series(data=gini, index=features).sort_values(key=abs).head(20).plot(kind='barh')\n",
        "plt.show()"
      ],
      "execution_count": null,
      "outputs": [
        {
          "output_type": "display_data",
          "data": {
            "image/png": "[encoded data removed]",
            "text/plain": [
              "<Figure size 432x288 with 1 Axes>"
            ]
          },
          "metadata": {
            "tags": [],
            "needs_background": "light"
          }
        }
      ]
    },
    {
      "cell_type": "code",
      "metadata": {
        "colab": {
          "base_uri": "https://localhost:8080/",
          "height": 235
        },
        "id": "tdXRV3-TIWSd",
        "outputId": "bbddfd51-e12e-42d8-9608-4b3cef6fc143"
      },
      "source": [
        "X_test = wrangle('test_features.csv')\n",
        "X_test.drop(columns=['waterpoint_type_group'], inplace=True)\n",
        "\n",
        "predictions = pd.DataFrame(data=model_dt.predict(X_test), index=X_test.index)\n",
        "predictions.columns = ['status_group']\n",
        "predictions.head()"
      ],
      "execution_count": null,
      "outputs": [
        {
          "output_type": "execute_result",
          "data": {
            "text/html": [
              "<div>\n",
              "<style scoped>\n",
              "    .dataframe tbody tr th:only-of-type {\n",
              "        vertical-align: middle;\n",
              "    }\n",
              "\n",
              "    .dataframe tbody tr th {\n",
              "        vertical-align: top;\n",
              "    }\n",
              "\n",
              "    .dataframe thead th {\n",
              "        text-align: right;\n",
              "    }\n",
              "</style>\n",
              "<table border=\"1\" class=\"dataframe\">\n",
              "  <thead>\n",
              "    <tr style=\"text-align: right;\">\n",
              "      <th></th>\n",
              "      <th>status_group</th>\n",
              "    </tr>\n",
              "    <tr>\n",
              "      <th>id</th>\n",
              "      <th></th>\n",
              "    </tr>\n",
              "  </thead>\n",
              "  <tbody>\n",
              "    <tr>\n",
              "      <th>37098</th>\n",
              "      <td>non functional</td>\n",
              "    </tr>\n",
              "    <tr>\n",
              "      <th>14530</th>\n",
              "      <td>functional</td>\n",
              "    </tr>\n",
              "    <tr>\n",
              "      <th>62607</th>\n",
              "      <td>functional</td>\n",
              "    </tr>\n",
              "    <tr>\n",
              "      <th>46053</th>\n",
              "      <td>non functional</td>\n",
              "    </tr>\n",
              "    <tr>\n",
              "      <th>47083</th>\n",
              "      <td>functional</td>\n",
              "    </tr>\n",
              "  </tbody>\n",
              "</table>\n",
              "</div>"
            ],
            "text/plain": [
              "         status_group\n",
              "id                   \n",
              "37098  non functional\n",
              "14530      functional\n",
              "62607      functional\n",
              "46053  non functional\n",
              "47083      functional"
            ]
          },
          "metadata": {
            "tags": []
          },
          "execution_count": 125
        }
      ]
    },
    {
      "cell_type": "code",
      "metadata": {
        "id": "esowep0QLEMb"
      },
      "source": [
        "predictions.to_csv('new_submission.csv')"
      ],
      "execution_count": null,
      "outputs": []
    },
    {
      "cell_type": "code",
      "metadata": {
        "id": "98rKnweOPcHi"
      },
      "source": [
        "# from google.colab import files\n",
        "# files.download('new_submission.csv')"
      ],
      "execution_count": null,
      "outputs": []
    },
    {
      "cell_type": "code",
      "metadata": {
        "id": "BID0cn_LP240"
      },
      "source": [
        ""
      ],
      "execution_count": null,
      "outputs": []
    }
  ]
}