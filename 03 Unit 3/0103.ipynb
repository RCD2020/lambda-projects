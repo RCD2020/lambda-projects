{
 "cells": [
  {
   "cell_type": "code",
   "execution_count": 1,
   "source": [
    "# import fibo"
   ],
   "outputs": [],
   "metadata": {}
  },
  {
   "cell_type": "code",
   "execution_count": 12,
   "source": [
    "# fibo.fib(10000000000000000000)"
   ],
   "outputs": [
    {
     "output_type": "stream",
     "name": "stdout",
     "text": [
      "0 1 1 2 3 5 8 13 21 34 55 89 144 233 377 610 987 1597 2584 4181 6765 10946 17711 28657 46368 75025 121393 196418 317811 514229 832040 1346269 2178309 3524578 5702887 9227465 14930352 24157817 39088169 63245986 102334155 165580141 267914296 433494437 701408733 1134903170 1836311903 2971215073 4807526976 7778742049 12586269025 20365011074 32951280099 53316291173 86267571272 139583862445 225851433717 365435296162 591286729879 956722026041 1548008755920 2504730781961 4052739537881 6557470319842 10610209857723 17167680177565 27777890035288 44945570212853 72723460248141 117669030460994 190392490709135 308061521170129 498454011879264 806515533049393 1304969544928657 2111485077978050 3416454622906707 5527939700884757 8944394323791464 14472334024676221 23416728348467685 37889062373143906 61305790721611591 99194853094755497 160500643816367088 259695496911122585 420196140727489673 679891637638612258 1100087778366101931 1779979416004714189 2880067194370816120 4660046610375530309 7540113804746346429 \n"
     ]
    }
   ],
   "metadata": {}
  },
  {
   "cell_type": "code",
   "execution_count": 15,
   "source": [
    "#the namespace is this\n",
    "globals()"
   ],
   "outputs": [
    {
     "output_type": "execute_result",
     "data": {
      "text/plain": [
       "{'__name__': '__main__',\n",
       " '__doc__': 'Automatically created module for IPython interactive environment',\n",
       " '__package__': None,\n",
       " '__loader__': None,\n",
       " '__spec__': None,\n",
       " '__builtin__': <module 'builtins' (built-in)>,\n",
       " '__builtins__': <module 'builtins' (built-in)>,\n",
       " '_ih': ['',\n",
       "  'import fibo',\n",
       "  'fibo.fib(20)',\n",
       "  'fibo.fib(100)',\n",
       "  'fibo.fib(1000)',\n",
       "  'fibo.fib(10000)',\n",
       "  'fibo.fib(100000)',\n",
       "  'fibo.fib(10000000)',\n",
       "  'fibo.fib(1000000000)',\n",
       "  'fibo.fib(100000000000)',\n",
       "  'fibo.fib(100000000000000000000000000000000000)',\n",
       "  'fibo.fib(100000000000000000000000000000000000000000000000000000000000000000000000000000000000000000000000000000000000000000000000000000000000000000000000000000)',\n",
       "  'fibo.fib(10000000000000000000)',\n",
       "  '#@markdown the namespace is this\\nglobals()',\n",
       "  '#@markdown the namespace is this\\ndir()',\n",
       "  '#@markdown the namespace is this\\nglobals()'],\n",
       " '_oh': {13: {...},\n",
       "  14: ['In',\n",
       "   'Out',\n",
       "   '_',\n",
       "   '_13',\n",
       "   '__',\n",
       "   '___',\n",
       "   '__builtin__',\n",
       "   '__builtins__',\n",
       "   '__doc__',\n",
       "   '__loader__',\n",
       "   '__name__',\n",
       "   '__package__',\n",
       "   '__spec__',\n",
       "   '_dh',\n",
       "   '_i',\n",
       "   '_i1',\n",
       "   '_i10',\n",
       "   '_i11',\n",
       "   '_i12',\n",
       "   '_i13',\n",
       "   '_i14',\n",
       "   '_i2',\n",
       "   '_i3',\n",
       "   '_i4',\n",
       "   '_i5',\n",
       "   '_i6',\n",
       "   '_i7',\n",
       "   '_i8',\n",
       "   '_i9',\n",
       "   '_ih',\n",
       "   '_ii',\n",
       "   '_iii',\n",
       "   '_oh',\n",
       "   'exit',\n",
       "   'fibo',\n",
       "   'get_ipython',\n",
       "   'os',\n",
       "   'quit',\n",
       "   'sys']},\n",
       " '_dh': ['/Users/colby/Documents/Lambda/03 Unit 3'],\n",
       " 'In': ['',\n",
       "  'import fibo',\n",
       "  'fibo.fib(20)',\n",
       "  'fibo.fib(100)',\n",
       "  'fibo.fib(1000)',\n",
       "  'fibo.fib(10000)',\n",
       "  'fibo.fib(100000)',\n",
       "  'fibo.fib(10000000)',\n",
       "  'fibo.fib(1000000000)',\n",
       "  'fibo.fib(100000000000)',\n",
       "  'fibo.fib(100000000000000000000000000000000000)',\n",
       "  'fibo.fib(100000000000000000000000000000000000000000000000000000000000000000000000000000000000000000000000000000000000000000000000000000000000000000000000000000)',\n",
       "  'fibo.fib(10000000000000000000)',\n",
       "  '#@markdown the namespace is this\\nglobals()',\n",
       "  '#@markdown the namespace is this\\ndir()',\n",
       "  '#@markdown the namespace is this\\nglobals()'],\n",
       " 'Out': {13: {...},\n",
       "  14: ['In',\n",
       "   'Out',\n",
       "   '_',\n",
       "   '_13',\n",
       "   '__',\n",
       "   '___',\n",
       "   '__builtin__',\n",
       "   '__builtins__',\n",
       "   '__doc__',\n",
       "   '__loader__',\n",
       "   '__name__',\n",
       "   '__package__',\n",
       "   '__spec__',\n",
       "   '_dh',\n",
       "   '_i',\n",
       "   '_i1',\n",
       "   '_i10',\n",
       "   '_i11',\n",
       "   '_i12',\n",
       "   '_i13',\n",
       "   '_i14',\n",
       "   '_i2',\n",
       "   '_i3',\n",
       "   '_i4',\n",
       "   '_i5',\n",
       "   '_i6',\n",
       "   '_i7',\n",
       "   '_i8',\n",
       "   '_i9',\n",
       "   '_ih',\n",
       "   '_ii',\n",
       "   '_iii',\n",
       "   '_oh',\n",
       "   'exit',\n",
       "   'fibo',\n",
       "   'get_ipython',\n",
       "   'os',\n",
       "   'quit',\n",
       "   'sys']},\n",
       " 'get_ipython': <bound method InteractiveShell.get_ipython of <ipykernel.zmqshell.ZMQInteractiveShell object at 0x7fa8774ca8e0>>,\n",
       " 'exit': <IPython.core.autocall.ZMQExitAutocall at 0x7fa877545a90>,\n",
       " 'quit': <IPython.core.autocall.ZMQExitAutocall at 0x7fa877545a90>,\n",
       " '_': ['In',\n",
       "  'Out',\n",
       "  '_',\n",
       "  '_13',\n",
       "  '__',\n",
       "  '___',\n",
       "  '__builtin__',\n",
       "  '__builtins__',\n",
       "  '__doc__',\n",
       "  '__loader__',\n",
       "  '__name__',\n",
       "  '__package__',\n",
       "  '__spec__',\n",
       "  '_dh',\n",
       "  '_i',\n",
       "  '_i1',\n",
       "  '_i10',\n",
       "  '_i11',\n",
       "  '_i12',\n",
       "  '_i13',\n",
       "  '_i14',\n",
       "  '_i2',\n",
       "  '_i3',\n",
       "  '_i4',\n",
       "  '_i5',\n",
       "  '_i6',\n",
       "  '_i7',\n",
       "  '_i8',\n",
       "  '_i9',\n",
       "  '_ih',\n",
       "  '_ii',\n",
       "  '_iii',\n",
       "  '_oh',\n",
       "  'exit',\n",
       "  'fibo',\n",
       "  'get_ipython',\n",
       "  'os',\n",
       "  'quit',\n",
       "  'sys'],\n",
       " '__': {...},\n",
       " '___': '',\n",
       " 'sys': <module 'sys' (built-in)>,\n",
       " 'os': <module 'os' from '/Library/Frameworks/Python.framework/Versions/3.8/lib/python3.8/os.py'>,\n",
       " '_i': '#@markdown the namespace is this\\ndir()',\n",
       " '_ii': '#@markdown the namespace is this\\nglobals()',\n",
       " '_iii': 'fibo.fib(10000000000000000000)',\n",
       " '_i1': 'import fibo',\n",
       " 'fibo': <module 'fibo' from '/Users/colby/Documents/Lambda/03 Unit 3/fibo.py'>,\n",
       " '_i2': 'fibo.fib(20)',\n",
       " '_i3': 'fibo.fib(100)',\n",
       " '_i4': 'fibo.fib(1000)',\n",
       " '_i5': 'fibo.fib(10000)',\n",
       " '_i6': 'fibo.fib(100000)',\n",
       " '_i7': 'fibo.fib(10000000)',\n",
       " '_i8': 'fibo.fib(1000000000)',\n",
       " '_i9': 'fibo.fib(100000000000)',\n",
       " '_i10': 'fibo.fib(100000000000000000000000000000000000)',\n",
       " '_i11': 'fibo.fib(100000000000000000000000000000000000000000000000000000000000000000000000000000000000000000000000000000000000000000000000000000000000000000000000000000)',\n",
       " '_i12': 'fibo.fib(10000000000000000000)',\n",
       " '_i13': '#@markdown the namespace is this\\nglobals()',\n",
       " '_13': {...},\n",
       " '_i14': '#@markdown the namespace is this\\ndir()',\n",
       " '_14': ['In',\n",
       "  'Out',\n",
       "  '_',\n",
       "  '_13',\n",
       "  '__',\n",
       "  '___',\n",
       "  '__builtin__',\n",
       "  '__builtins__',\n",
       "  '__doc__',\n",
       "  '__loader__',\n",
       "  '__name__',\n",
       "  '__package__',\n",
       "  '__spec__',\n",
       "  '_dh',\n",
       "  '_i',\n",
       "  '_i1',\n",
       "  '_i10',\n",
       "  '_i11',\n",
       "  '_i12',\n",
       "  '_i13',\n",
       "  '_i14',\n",
       "  '_i2',\n",
       "  '_i3',\n",
       "  '_i4',\n",
       "  '_i5',\n",
       "  '_i6',\n",
       "  '_i7',\n",
       "  '_i8',\n",
       "  '_i9',\n",
       "  '_ih',\n",
       "  '_ii',\n",
       "  '_iii',\n",
       "  '_oh',\n",
       "  'exit',\n",
       "  'fibo',\n",
       "  'get_ipython',\n",
       "  'os',\n",
       "  'quit',\n",
       "  'sys'],\n",
       " '_i15': '#@markdown the namespace is this\\nglobals()'}"
      ]
     },
     "metadata": {},
     "execution_count": 15
    }
   ],
   "metadata": {}
  },
  {
   "cell_type": "markdown",
   "source": [
    "REPL - Read Evaluate Print Loop\n",
    "This is when you access python using the terminal"
   ],
   "metadata": {}
  },
  {
   "cell_type": "markdown",
   "source": [
    "How to make a package\n",
    "in terminal\n",
    "mkdir (package name)\n",
    "put modules in directory\n",
    "touch __init__.py\n",
    "すいごね！"
   ],
   "metadata": {}
  },
  {
   "cell_type": "code",
   "execution_count": 21,
   "source": [
    "from lambda30.fibo import fib, fib2"
   ],
   "outputs": [],
   "metadata": {}
  },
  {
   "cell_type": "code",
   "execution_count": 20,
   "source": [
    "fib(10)"
   ],
   "outputs": [
    {
     "output_type": "stream",
     "name": "stdout",
     "text": [
      "0 1 1 2 3 5 8 \n"
     ]
    }
   ],
   "metadata": {}
  },
  {
   "cell_type": "code",
   "execution_count": 22,
   "source": [
    "fib2(10)"
   ],
   "outputs": [
    {
     "output_type": "execute_result",
     "data": {
      "text/plain": [
       "[0, 1, 1, 2, 3, 5, 8]"
      ]
     },
     "metadata": {},
     "execution_count": 22
    }
   ],
   "metadata": {}
  }
 ],
 "metadata": {
  "orig_nbformat": 4,
  "language_info": {
   "name": "python",
   "version": "3.8.6",
   "mimetype": "text/x-python",
   "codemirror_mode": {
    "name": "ipython",
    "version": 3
   },
   "pygments_lexer": "ipython3",
   "nbconvert_exporter": "python",
   "file_extension": ".py"
  },
  "kernelspec": {
   "name": "python3",
   "display_name": "Python 3.8.6 64-bit"
  },
  "interpreter": {
   "hash": "aee8b7b246df8f9039afb4144a1f6fd8d2ca17a180786b69acc140d282b71a49"
  }
 },
 "nbformat": 4,
 "nbformat_minor": 2
}