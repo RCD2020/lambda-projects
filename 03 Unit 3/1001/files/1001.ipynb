{
 "cells": [
  {
   "cell_type": "code",
   "execution_count": 1,
   "source": [
    "import tweepy"
   ],
   "outputs": [],
   "metadata": {}
  },
  {
   "cell_type": "code",
   "execution_count": 2,
   "source": [
    "TWITTER_API_KEY = 'dfgQNyITSHe9erhjF5hymSdEm'\n",
    "TWITTER_API_KEY_SECRET = 'VyXvb2sFByM85vtsIdiI62gdT7lT0O1ucIDyWPkjpk0GTMpGEA'"
   ],
   "outputs": [],
   "metadata": {}
  },
  {
   "cell_type": "code",
   "execution_count": 3,
   "source": [
    "auth = tweepy.OAuthHandler(TWITTER_API_KEY, TWITTER_API_KEY_SECRET)"
   ],
   "outputs": [],
   "metadata": {}
  },
  {
   "cell_type": "code",
   "execution_count": 4,
   "source": [
    "twitter = tweepy.API(auth)"
   ],
   "outputs": [],
   "metadata": {}
  },
  {
   "cell_type": "code",
   "execution_count": 8,
   "source": [
    "me = twitter.get_user('RCD2021')"
   ],
   "outputs": [],
   "metadata": {}
  },
  {
   "cell_type": "code",
   "execution_count": 9,
   "source": [
    "no_tweets = me.timeline(count=200, exclude_replies=True, include_rts=False, tweet_mode='Extended')"
   ],
   "outputs": [],
   "metadata": {}
  },
  {
   "cell_type": "code",
   "execution_count": 11,
   "source": [
    "no_tweets[0].text"
   ],
   "outputs": [
    {
     "output_type": "error",
     "ename": "IndexError",
     "evalue": "list index out of range",
     "traceback": [
      "\u001b[0;31m---------------------------------------------------------------------------\u001b[0m",
      "\u001b[0;31mIndexError\u001b[0m                                Traceback (most recent call last)",
      "\u001b[0;32m/var/folders/0c/dbgxwg7d65qdvc43d6dzsg980000gn/T/ipykernel_12077/2572072723.py\u001b[0m in \u001b[0;36m<module>\u001b[0;34m\u001b[0m\n\u001b[0;32m----> 1\u001b[0;31m \u001b[0mno_tweets\u001b[0m\u001b[0;34m[\u001b[0m\u001b[0;36m0\u001b[0m\u001b[0;34m]\u001b[0m\u001b[0;34m.\u001b[0m\u001b[0mtext\u001b[0m\u001b[0;34m\u001b[0m\u001b[0;34m\u001b[0m\u001b[0m\n\u001b[0m",
      "\u001b[0;31mIndexError\u001b[0m: list index out of range"
     ]
    }
   ],
   "metadata": {}
  },
  {
   "cell_type": "code",
   "execution_count": 12,
   "source": [
    "apple = twitter.get_user('Apple')"
   ],
   "outputs": [],
   "metadata": {}
  },
  {
   "cell_type": "code",
   "execution_count": 15,
   "source": [
    "aptweets = apple.timeline(count=200, exclude_replies=True, include_rts=False, tweet_mode='Extended')"
   ],
   "outputs": [],
   "metadata": {}
  },
  {
   "cell_type": "code",
   "execution_count": 16,
   "source": [
    "aptweets[0].text"
   ],
   "outputs": [
    {
     "output_type": "error",
     "ename": "IndexError",
     "evalue": "list index out of range",
     "traceback": [
      "\u001b[0;31m---------------------------------------------------------------------------\u001b[0m",
      "\u001b[0;31mIndexError\u001b[0m                                Traceback (most recent call last)",
      "\u001b[0;32m/var/folders/0c/dbgxwg7d65qdvc43d6dzsg980000gn/T/ipykernel_12077/3456142070.py\u001b[0m in \u001b[0;36m<module>\u001b[0;34m\u001b[0m\n\u001b[0;32m----> 1\u001b[0;31m \u001b[0maptweets\u001b[0m\u001b[0;34m[\u001b[0m\u001b[0;36m0\u001b[0m\u001b[0;34m]\u001b[0m\u001b[0;34m.\u001b[0m\u001b[0mtext\u001b[0m\u001b[0;34m\u001b[0m\u001b[0;34m\u001b[0m\u001b[0m\n\u001b[0m",
      "\u001b[0;31mIndexError\u001b[0m: list index out of range"
     ]
    }
   ],
   "metadata": {}
  },
  {
   "cell_type": "code",
   "execution_count": 17,
   "source": [
    "nasa = twitter.get_user('nasa')"
   ],
   "outputs": [],
   "metadata": {}
  },
  {
   "cell_type": "code",
   "execution_count": null,
   "source": [
    "nasa"
   ],
   "outputs": [],
   "metadata": {}
  },
  {
   "cell_type": "code",
   "execution_count": 8,
   "source": [
    "nasa.location"
   ],
   "outputs": [
    {
     "output_type": "execute_result",
     "data": {
      "text/plain": [
       "'Pale Blue Dot'"
      ]
     },
     "metadata": {},
     "execution_count": 8
    }
   ],
   "metadata": {}
  },
  {
   "cell_type": "code",
   "execution_count": 9,
   "source": [
    "nasa.created_at"
   ],
   "outputs": [
    {
     "output_type": "execute_result",
     "data": {
      "text/plain": [
       "datetime.datetime(2007, 12, 19, 20, 20, 32)"
      ]
     },
     "metadata": {},
     "execution_count": 9
    }
   ],
   "metadata": {}
  },
  {
   "cell_type": "code",
   "execution_count": 10,
   "source": [
    "jeff = twitter.get_user('jeffbezos')"
   ],
   "outputs": [],
   "metadata": {}
  },
  {
   "cell_type": "code",
   "execution_count": 11,
   "source": [
    "for friend in nasa.friends():\n",
    "    print(friend.screen_name)"
   ],
   "outputs": [
    {
     "output_type": "stream",
     "name": "stdout",
     "text": [
      "v_wyche\n",
      "NASA_Gateway\n",
      "Astro_Pam\n",
      "SenBillNelson\n",
      "Aki_Hoshide\n",
      "Thom_astro\n",
      "NASAArtemis\n",
      "dominickmatthew\n",
      "uaespaceagency\n",
      "Astro_Megan\n",
      "KathyLueders\n",
      "MarkKirasich\n",
      "Astro_SEAL\n",
      "NASARoman\n",
      "NASAPersevere\n",
      "DoNASAScience\n",
      "NASA_Marshall\n",
      "JonnyKimUSA\n",
      "AEM_mx\n",
      "isro\n"
     ]
    }
   ],
   "metadata": {}
  },
  {
   "cell_type": "code",
   "execution_count": 12,
   "source": [
    "jeff_tweets = jeff.timeline(count=200, exclude_replies=True, include_rts=False, tweet_mode='Extended')"
   ],
   "outputs": [],
   "metadata": {}
  },
  {
   "cell_type": "code",
   "execution_count": 13,
   "source": [
    "jeff_tweets[0].text"
   ],
   "outputs": [
    {
     "output_type": "execute_result",
     "data": {
      "text/plain": [
       "'Discussing climate, sustainability, and preserving the natural world with President @EmmanuelMacron today in Paris.… https://t.co/ry52OGekMH'"
      ]
     },
     "metadata": {},
     "execution_count": 13
    }
   ],
   "metadata": {}
  },
  {
   "cell_type": "code",
   "execution_count": 18,
   "source": [
    "nasa_tweets = nasa.timeline(count=5, exclude_replies=True, include_rts=False, tweet_mode='Extended')"
   ],
   "outputs": [],
   "metadata": {}
  },
  {
   "cell_type": "code",
   "execution_count": 21,
   "source": [
    "for x in nasa_tweets:\n",
    "    print(type(x.text))"
   ],
   "outputs": [
    {
     "output_type": "stream",
     "name": "stdout",
     "text": [
      "<class 'str'>\n"
     ]
    }
   ],
   "metadata": {}
  },
  {
   "cell_type": "code",
   "execution_count": 16,
   "source": [
    "president = twitter.get_user('joebiden')"
   ],
   "outputs": [],
   "metadata": {}
  },
  {
   "cell_type": "code",
   "execution_count": 17,
   "source": [
    "president.description"
   ],
   "outputs": [
    {
     "output_type": "execute_result",
     "data": {
      "text/plain": [
       "'Husband to @DrBiden, proud father and grandfather. Ready to build back better for all Americans. Official account is @POTUS.'"
      ]
     },
     "metadata": {},
     "execution_count": 17
    }
   ],
   "metadata": {}
  },
  {
   "cell_type": "code",
   "execution_count": 18,
   "source": [
    "pres_tweets =  president.timeline(count=200, exclude_replies=True, include_rts=False, tweet_mode=\"Extended\")"
   ],
   "outputs": [],
   "metadata": {}
  },
  {
   "cell_type": "code",
   "execution_count": 19,
   "source": [
    "pres_tweets[0].text"
   ],
   "outputs": [
    {
     "output_type": "execute_result",
     "data": {
      "text/plain": [
       "'California, vote to keep @GavinNewsom your governor. The rest of America is counting on you, and so am I. https://t.co/mYnR2isUjI'"
      ]
     },
     "metadata": {},
     "execution_count": 19
    }
   ],
   "metadata": {}
  },
  {
   "cell_type": "code",
   "execution_count": 20,
   "source": [
    "import spacy"
   ],
   "outputs": [],
   "metadata": {}
  },
  {
   "cell_type": "code",
   "execution_count": 21,
   "source": [
    "import en_core_web_sm"
   ],
   "outputs": [],
   "metadata": {}
  },
  {
   "cell_type": "code",
   "execution_count": 22,
   "source": [
    "en_core_web_sm"
   ],
   "outputs": [
    {
     "output_type": "execute_result",
     "data": {
      "text/plain": [
       "<module 'en_core_web_sm' from '/Library/Frameworks/Python.framework/Versions/3.8/lib/python3.8/site-packages/en_core_web_sm/__init__.py'>"
      ]
     },
     "metadata": {},
     "execution_count": 22
    }
   ],
   "metadata": {}
  },
  {
   "cell_type": "code",
   "execution_count": 24,
   "source": [
    "nlp_model = en_core_web_sm.load()"
   ],
   "outputs": [],
   "metadata": {}
  },
  {
   "cell_type": "code",
   "execution_count": 25,
   "source": [
    "nlp_model"
   ],
   "outputs": [
    {
     "output_type": "execute_result",
     "data": {
      "text/plain": [
       "<spacy.lang.en.English at 0x7fb24de8f8e0>"
      ]
     },
     "metadata": {},
     "execution_count": 25
    }
   ],
   "metadata": {}
  },
  {
   "cell_type": "code",
   "execution_count": 26,
   "source": [
    "word2vec = nlp_model('Hello World!').vector"
   ],
   "outputs": [],
   "metadata": {}
  },
  {
   "cell_type": "code",
   "execution_count": 27,
   "source": [
    "word2vec"
   ],
   "outputs": [
    {
     "output_type": "execute_result",
     "data": {
      "text/plain": [
       "array([-0.19403972, -0.6806933 ,  0.12755343,  0.16818707, -0.58220476,\n",
       "       -0.55326384, -0.55738866, -0.353055  , -0.43043327, -0.12072764,\n",
       "        0.5898829 , -0.40636638, -0.3920207 , -0.01008066, -0.14210437,\n",
       "       -0.3500007 ,  0.37498865, -0.30555844, -0.23686278,  0.01170683,\n",
       "        0.6864793 , -0.28574637, -0.23022564,  0.30475286, -0.03268542,\n",
       "        0.31870896, -0.35732484, -0.16032203,  0.00860693,  0.18091649,\n",
       "        0.46053585, -0.28120473,  0.07763765,  0.04139545, -0.18985909,\n",
       "        0.6969841 , -0.35541072,  0.41908374,  0.82981086,  0.04201102,\n",
       "       -0.28440833, -0.6240169 , -0.03010535,  1.5173941 ,  0.3993669 ,\n",
       "       -0.56478435,  0.42537427, -0.3852005 , -0.9059079 ,  0.1355408 ,\n",
       "       -0.08441719, -0.04836035,  0.02798867, -0.5635442 , -0.44923672,\n",
       "       -0.25115526, -0.39758506,  1.2101783 , -0.6304849 , -0.1033346 ,\n",
       "        0.7818753 ,  0.38085106,  0.4155408 , -0.09615143, -0.16868794,\n",
       "        0.6736729 , -0.71184283, -0.8646528 ,  0.43799487,  0.19155926,\n",
       "        0.4062413 ,  0.69300485,  0.13046314, -0.7796034 ,  0.02731156,\n",
       "       -0.12603049,  0.5378043 , -0.63779336, -0.11657991,  0.3226324 ,\n",
       "        0.8466456 , -0.21597262, -0.3975247 ,  0.2443539 , -0.60812825,\n",
       "       -0.53718203,  0.21843775,  0.3626096 ,  0.6626294 , -0.175035  ,\n",
       "        0.18044285,  0.33191618, -0.052109  ,  0.03168518,  0.14011168,\n",
       "       -0.47390413], dtype=float32)"
      ]
     },
     "metadata": {},
     "execution_count": 27
    }
   ],
   "metadata": {}
  },
  {
   "cell_type": "code",
   "execution_count": 28,
   "source": [
    "word2vec_nasa_last_tweet = nlp_model(nasa_tweets[0].text).vector"
   ],
   "outputs": [],
   "metadata": {}
  },
  {
   "cell_type": "code",
   "execution_count": 29,
   "source": [
    "word2vec_nasa_last_tweet"
   ],
   "outputs": [
    {
     "output_type": "execute_result",
     "data": {
      "text/plain": [
       "array([ 0.2422977 , -0.10988127,  0.05335531, -0.03356412,  0.2226702 ,\n",
       "       -0.17712756, -0.18038785, -0.00729184,  0.22103064, -0.2529633 ,\n",
       "        0.29067463,  0.00895032, -0.36260003, -0.07668272,  0.20016673,\n",
       "       -0.17201515, -0.04835444, -0.29696092,  0.0044163 ,  0.20881489,\n",
       "       -0.10929216,  0.02661219, -0.37919772, -0.0017712 ,  0.03995473,\n",
       "       -0.07016513,  0.0795292 , -0.09785551,  0.01157702, -0.17134239,\n",
       "       -0.42299882,  0.07432324, -0.14557537, -0.06646393,  0.11641462,\n",
       "        0.084953  , -0.28712606, -0.07457945, -0.06969827,  0.02721102,\n",
       "       -0.33118352,  0.15510325, -0.12871747, -0.02228935, -0.03568854,\n",
       "        0.09422601,  0.0163957 ,  0.0188165 , -0.41368505,  0.11482082,\n",
       "        0.285962  , -0.25562745, -0.04443979,  0.05426951, -0.03482359,\n",
       "       -0.04915723,  0.06754622, -0.0048535 , -0.14007509, -0.01522405,\n",
       "        0.21575524, -0.08604611,  0.24980024,  0.01553237, -0.03449763,\n",
       "       -0.08108261, -0.05723091, -0.29582223,  0.22852035, -0.04900871,\n",
       "       -0.15399504,  0.13625161,  0.11341077, -0.4539553 , -0.21139666,\n",
       "       -0.2213519 ,  0.11211172,  0.08711243, -0.29642045,  0.20234455,\n",
       "        0.17165384,  0.1287178 ,  0.12186962,  0.5173158 , -0.35852578,\n",
       "        0.06263185,  0.36810914, -0.22388814,  0.23154604,  0.13524273,\n",
       "        0.1417831 ,  0.2112739 ,  0.20129815,  0.37426478, -0.2326958 ,\n",
       "       -0.09999288], dtype=float32)"
      ]
     },
     "metadata": {},
     "execution_count": 29
    }
   ],
   "metadata": {}
  },
  {
   "cell_type": "code",
   "execution_count": 30,
   "source": [
    "nlp_model.to_disk('my_nlp_model')"
   ],
   "outputs": [],
   "metadata": {}
  },
  {
   "cell_type": "code",
   "execution_count": 31,
   "source": [
    "nlp_model2 = spacy.load('my_nlp_model')"
   ],
   "outputs": [],
   "metadata": {}
  },
  {
   "cell_type": "code",
   "execution_count": 32,
   "source": [
    "word2vec_2 = nlp_model2('Hello World!').vector"
   ],
   "outputs": [],
   "metadata": {}
  },
  {
   "cell_type": "code",
   "execution_count": 33,
   "source": [
    "word2vec_2"
   ],
   "outputs": [
    {
     "output_type": "execute_result",
     "data": {
      "text/plain": [
       "array([-0.19403972, -0.6806933 ,  0.12755343,  0.16818707, -0.58220476,\n",
       "       -0.55326384, -0.55738866, -0.353055  , -0.43043327, -0.12072764,\n",
       "        0.5898829 , -0.40636638, -0.3920207 , -0.01008066, -0.14210437,\n",
       "       -0.3500007 ,  0.37498865, -0.30555844, -0.23686278,  0.01170683,\n",
       "        0.6864793 , -0.28574637, -0.23022564,  0.30475286, -0.03268542,\n",
       "        0.31870896, -0.35732484, -0.16032203,  0.00860693,  0.18091649,\n",
       "        0.46053585, -0.28120473,  0.07763765,  0.04139545, -0.18985909,\n",
       "        0.6969841 , -0.35541072,  0.41908374,  0.82981086,  0.04201102,\n",
       "       -0.28440833, -0.6240169 , -0.03010535,  1.5173941 ,  0.3993669 ,\n",
       "       -0.56478435,  0.42537427, -0.3852005 , -0.9059079 ,  0.1355408 ,\n",
       "       -0.08441719, -0.04836035,  0.02798867, -0.5635442 , -0.44923672,\n",
       "       -0.25115526, -0.39758506,  1.2101783 , -0.6304849 , -0.1033346 ,\n",
       "        0.7818753 ,  0.38085106,  0.4155408 , -0.09615143, -0.16868794,\n",
       "        0.6736729 , -0.71184283, -0.8646528 ,  0.43799487,  0.19155926,\n",
       "        0.4062413 ,  0.69300485,  0.13046314, -0.7796034 ,  0.02731156,\n",
       "       -0.12603049,  0.5378043 , -0.63779336, -0.11657991,  0.3226324 ,\n",
       "        0.8466456 , -0.21597262, -0.3975247 ,  0.2443539 , -0.60812825,\n",
       "       -0.53718203,  0.21843775,  0.3626096 ,  0.6626294 , -0.175035  ,\n",
       "        0.18044285,  0.33191618, -0.052109  ,  0.03168518,  0.14011168,\n",
       "       -0.47390413], dtype=float32)"
      ]
     },
     "metadata": {},
     "execution_count": 33
    }
   ],
   "metadata": {}
  },
  {
   "cell_type": "code",
   "execution_count": 34,
   "source": [
    "words2vec_pres_last_tweet = nlp_model2(pres_tweets[0].text).vector"
   ],
   "outputs": [],
   "metadata": {}
  },
  {
   "cell_type": "code",
   "execution_count": 35,
   "source": [
    "words2vec_pres_last_tweet"
   ],
   "outputs": [
    {
     "output_type": "execute_result",
     "data": {
      "text/plain": [
       "array([ 0.04084738, -0.20012219, -0.038658  ,  0.15455785, -0.00423898,\n",
       "       -0.00724992, -0.15532294, -0.2640567 , -0.02927007, -0.1525807 ,\n",
       "        0.2070847 ,  0.06591757,  0.01660543,  0.05055585, -0.16731054,\n",
       "       -0.22993498,  0.01632513, -0.30991155, -0.04849397,  0.14503117,\n",
       "       -0.10563562, -0.03524712, -0.23784922,  0.2732561 ,  0.25840816,\n",
       "        0.07283801,  0.07813739, -0.0479633 , -0.06932878,  0.22787243,\n",
       "       -0.04227945,  0.09869076, -0.07206238, -0.03513696,  0.05004402,\n",
       "       -0.01571767, -0.05445014,  0.11676547, -0.11666229,  0.00453593,\n",
       "       -0.08535841,  0.04590738, -0.0071596 ,  0.22021589, -0.24076211,\n",
       "       -0.06813142,  0.15599817, -0.04865232, -0.2005597 , -0.2019577 ,\n",
       "        0.17544217, -0.12688847,  0.23331758,  0.12647918, -0.08956215,\n",
       "        0.02066158,  0.01706459,  0.06841374, -0.01639836, -0.045635  ,\n",
       "        0.38484818,  0.00146103,  0.07039695,  0.11838716, -0.11624224,\n",
       "       -0.15944032, -0.31598058, -0.10140464,  0.15420139, -0.0181979 ,\n",
       "        0.19888048,  0.12801826, -0.0568281 , -0.29580817, -0.2623135 ,\n",
       "        0.00546024, -0.139922  , -0.07640743, -0.01258702,  0.12398927,\n",
       "        0.24062654,  0.12055461,  0.0288885 ,  0.30271485, -0.09861626,\n",
       "       -0.09609631,  0.162101  , -0.17465925,  0.13101593, -0.02180194,\n",
       "       -0.13771585, -0.00077144,  0.06398306,  0.22654231,  0.03025306,\n",
       "       -0.10783212], dtype=float32)"
      ]
     },
     "metadata": {},
     "execution_count": 35
    }
   ],
   "metadata": {}
  }
 ],
 "metadata": {
  "orig_nbformat": 4,
  "language_info": {
   "name": "python",
   "version": "3.8.6",
   "mimetype": "text/x-python",
   "codemirror_mode": {
    "name": "ipython",
    "version": 3
   },
   "pygments_lexer": "ipython3",
   "nbconvert_exporter": "python",
   "file_extension": ".py"
  },
  "kernelspec": {
   "name": "python3",
   "display_name": "Python 3.8.6 64-bit"
  },
  "interpreter": {
   "hash": "aee8b7b246df8f9039afb4144a1f6fd8d2ca17a180786b69acc140d282b71a49"
  }
 },
 "nbformat": 4,
 "nbformat_minor": 2
}