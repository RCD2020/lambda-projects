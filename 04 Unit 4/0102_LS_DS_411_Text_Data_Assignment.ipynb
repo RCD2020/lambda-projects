{
  "nbformat": 4,
  "nbformat_minor": 0,
  "metadata": {
    "colab": {
      "name": "0102 LS_DS_411_Text_Data_Assignment.ipynb",
      "provenance": [],
      "collapsed_sections": []
    },
    "kernelspec": {
      "display_name": "U4-S1-NLP (Python 3)",
      "language": "python",
      "name": "u4-s1-nlp"
    },
    "language_info": {
      "codemirror_mode": {
        "name": "ipython",
        "version": 3
      },
      "file_extension": ".py",
      "mimetype": "text/x-python",
      "name": "python",
      "nbconvert_exporter": "python",
      "pygments_lexer": "ipython3",
      "version": "3.7.3"
    },
    "toc-autonumbering": false
  },
  "cells": [
    {
      "cell_type": "markdown",
      "metadata": {
        "id": "njVxGOV-7QMj"
      },
      "source": [
        "<img align=\"left\" src=\"https://lever-client-logos.s3.amazonaws.com/864372b1-534c-480e-acd5-9711f850815c-1524247202159.png\" width=200>\n",
        "<br></br>\n",
        "<br></br>\n",
        "\n",
        "# Natural Language Processing (NLP)\n",
        "## *Data Science Unit 4 Sprint 1 Assignment 1*\n",
        "\n",
        "Your goal in this assignment: find the attributes of the best & worst coffee shops in the dataset. The text is fairly raw: dates in the review, extra words in the `star_rating` column, etc. You'll probably want to clean that stuff up for a better analysis. \n",
        "\n",
        "Analyze the corpus of text using text visualizations of token frequency. Try cleaning the data as much as possible. Try the following techniques: \n",
        "- Lemmatization\n",
        "- Custom stopword removal\n",
        "\n",
        "Keep in mind the attributes of good tokens once you have a solid baseline, layer in the star rating in your visualization(s). The key part of this assignment - produce a write-up of the attributes of the best and worst coffee shops. Based on your analysis, what makes the best the best and the worst the worst. Use graphs and numbers from your analysis to support your conclusions. There should be plenty of markdown cells! :coffee:"
      ]
    },
    {
      "cell_type": "code",
      "metadata": {
        "colab": {
          "base_uri": "https://localhost:8080/"
        },
        "id": "CLu49uQyuWVH",
        "outputId": "101072f8-55de-46da-c602-7b884f021de5"
      },
      "source": [
        "!python -m spacy download en_core_web_md"
      ],
      "execution_count": null,
      "outputs": [
        {
          "output_type": "stream",
          "name": "stdout",
          "text": [
            "Collecting en_core_web_md==2.2.5\n",
            "  Downloading https://github.com/explosion/spacy-models/releases/download/en_core_web_md-2.2.5/en_core_web_md-2.2.5.tar.gz (96.4 MB)\n",
            "\u001b[K     |████████████████████████████████| 96.4 MB 1.2 MB/s \n",
            "\u001b[?25hRequirement already satisfied: spacy>=2.2.2 in /usr/local/lib/python3.7/dist-packages (from en_core_web_md==2.2.5) (2.2.4)\n",
            "Requirement already satisfied: preshed<3.1.0,>=3.0.2 in /usr/local/lib/python3.7/dist-packages (from spacy>=2.2.2->en_core_web_md==2.2.5) (3.0.5)\n",
            "Requirement already satisfied: srsly<1.1.0,>=1.0.2 in /usr/local/lib/python3.7/dist-packages (from spacy>=2.2.2->en_core_web_md==2.2.5) (1.0.5)\n",
            "Requirement already satisfied: setuptools in /usr/local/lib/python3.7/dist-packages (from spacy>=2.2.2->en_core_web_md==2.2.5) (57.4.0)\n",
            "Requirement already satisfied: blis<0.5.0,>=0.4.0 in /usr/local/lib/python3.7/dist-packages (from spacy>=2.2.2->en_core_web_md==2.2.5) (0.4.1)\n",
            "Requirement already satisfied: cymem<2.1.0,>=2.0.2 in /usr/local/lib/python3.7/dist-packages (from spacy>=2.2.2->en_core_web_md==2.2.5) (2.0.5)\n",
            "Requirement already satisfied: catalogue<1.1.0,>=0.0.7 in /usr/local/lib/python3.7/dist-packages (from spacy>=2.2.2->en_core_web_md==2.2.5) (1.0.0)\n",
            "Requirement already satisfied: wasabi<1.1.0,>=0.4.0 in /usr/local/lib/python3.7/dist-packages (from spacy>=2.2.2->en_core_web_md==2.2.5) (0.8.2)\n",
            "Requirement already satisfied: murmurhash<1.1.0,>=0.28.0 in /usr/local/lib/python3.7/dist-packages (from spacy>=2.2.2->en_core_web_md==2.2.5) (1.0.5)\n",
            "Requirement already satisfied: thinc==7.4.0 in /usr/local/lib/python3.7/dist-packages (from spacy>=2.2.2->en_core_web_md==2.2.5) (7.4.0)\n",
            "Requirement already satisfied: tqdm<5.0.0,>=4.38.0 in /usr/local/lib/python3.7/dist-packages (from spacy>=2.2.2->en_core_web_md==2.2.5) (4.62.2)\n",
            "Requirement already satisfied: requests<3.0.0,>=2.13.0 in /usr/local/lib/python3.7/dist-packages (from spacy>=2.2.2->en_core_web_md==2.2.5) (2.23.0)\n",
            "Requirement already satisfied: numpy>=1.15.0 in /usr/local/lib/python3.7/dist-packages (from spacy>=2.2.2->en_core_web_md==2.2.5) (1.19.5)\n",
            "Requirement already satisfied: plac<1.2.0,>=0.9.6 in /usr/local/lib/python3.7/dist-packages (from spacy>=2.2.2->en_core_web_md==2.2.5) (1.1.3)\n",
            "Requirement already satisfied: importlib-metadata>=0.20 in /usr/local/lib/python3.7/dist-packages (from catalogue<1.1.0,>=0.0.7->spacy>=2.2.2->en_core_web_md==2.2.5) (4.8.1)\n",
            "Requirement already satisfied: typing-extensions>=3.6.4 in /usr/local/lib/python3.7/dist-packages (from importlib-metadata>=0.20->catalogue<1.1.0,>=0.0.7->spacy>=2.2.2->en_core_web_md==2.2.5) (3.7.4.3)\n",
            "Requirement already satisfied: zipp>=0.5 in /usr/local/lib/python3.7/dist-packages (from importlib-metadata>=0.20->catalogue<1.1.0,>=0.0.7->spacy>=2.2.2->en_core_web_md==2.2.5) (3.5.0)\n",
            "Requirement already satisfied: chardet<4,>=3.0.2 in /usr/local/lib/python3.7/dist-packages (from requests<3.0.0,>=2.13.0->spacy>=2.2.2->en_core_web_md==2.2.5) (3.0.4)\n",
            "Requirement already satisfied: idna<3,>=2.5 in /usr/local/lib/python3.7/dist-packages (from requests<3.0.0,>=2.13.0->spacy>=2.2.2->en_core_web_md==2.2.5) (2.10)\n",
            "Requirement already satisfied: urllib3!=1.25.0,!=1.25.1,<1.26,>=1.21.1 in /usr/local/lib/python3.7/dist-packages (from requests<3.0.0,>=2.13.0->spacy>=2.2.2->en_core_web_md==2.2.5) (1.24.3)\n",
            "Requirement already satisfied: certifi>=2017.4.17 in /usr/local/lib/python3.7/dist-packages (from requests<3.0.0,>=2.13.0->spacy>=2.2.2->en_core_web_md==2.2.5) (2021.5.30)\n",
            "Building wheels for collected packages: en-core-web-md\n",
            "  Building wheel for en-core-web-md (setup.py) ... \u001b[?25l\u001b[?25hdone\n",
            "  Created wheel for en-core-web-md: filename=en_core_web_md-2.2.5-py3-none-any.whl size=98051302 sha256=6057c6818cc9d57789a3293b46c4b9ca6a963f31094d0ae06dd8135991289033\n",
            "  Stored in directory: /tmp/pip-ephem-wheel-cache-xl136hql/wheels/69/c5/b8/4f1c029d89238734311b3269762ab2ee325a42da2ce8edb997\n",
            "Successfully built en-core-web-md\n",
            "Installing collected packages: en-core-web-md\n",
            "Successfully installed en-core-web-md-2.2.5\n",
            "\u001b[38;5;2m✔ Download and installation successful\u001b[0m\n",
            "You can now load the model via spacy.load('en_core_web_md')\n"
          ]
        }
      ]
    },
    {
      "cell_type": "code",
      "metadata": {
        "colab": {
          "base_uri": "https://localhost:8080/"
        },
        "id": "cZfGUpHjAOBJ",
        "outputId": "f9e592ae-75e5-48d0-db7c-39f7af70cbcf"
      },
      "source": [
        "!pip install squarify"
      ],
      "execution_count": null,
      "outputs": [
        {
          "output_type": "stream",
          "name": "stdout",
          "text": [
            "Collecting squarify\n",
            "  Downloading squarify-0.4.3-py3-none-any.whl (4.3 kB)\n",
            "Installing collected packages: squarify\n",
            "Successfully installed squarify-0.4.3\n"
          ]
        }
      ]
    },
    {
      "cell_type": "code",
      "metadata": {
        "id": "t5FVsWKM7QMm",
        "colab": {
          "base_uri": "https://localhost:8080/",
          "height": 321
        },
        "outputId": "c29df2ab-0785-415b-9681-bda1bffa063b"
      },
      "source": [
        "from IPython.display import YouTubeVideo\n",
        "\n",
        "YouTubeVideo('Jml7NVYm8cs')"
      ],
      "execution_count": null,
      "outputs": [
        {
          "output_type": "execute_result",
          "data": {
            "text/html": [
              "\n",
              "        <iframe\n",
              "            width=\"400\"\n",
              "            height=\"300\"\n",
              "            src=\"https://www.youtube.com/embed/Jml7NVYm8cs\"\n",
              "            frameborder=\"0\"\n",
              "            allowfullscreen\n",
              "        ></iframe>\n",
              "        "
            ],
            "text/plain": [
              "<IPython.lib.display.YouTubeVideo at 0x7fd263adb1d0>"
            ],
            "image/jpeg": "[encoded data removed]"
          },
          "metadata": {},
          "execution_count": 1
        }
      ]
    },
    {
      "cell_type": "code",
      "metadata": {
        "id": "1Bo1n0Uz7QMo",
        "colab": {
          "base_uri": "https://localhost:8080/",
          "height": 37
        },
        "outputId": "ba3fdc35-c602-4247-c891-da0c168274d8"
      },
      "source": [
        "%pwd"
      ],
      "execution_count": null,
      "outputs": [
        {
          "output_type": "execute_result",
          "data": {
            "application/vnd.google.colaboratory.intrinsic+json": {
              "type": "string"
            },
            "text/plain": [
              "'/content'"
            ]
          },
          "metadata": {},
          "execution_count": 2
        }
      ]
    },
    {
      "cell_type": "code",
      "metadata": {
        "id": "Kf0C2lAb7QMo",
        "colab": {
          "base_uri": "https://localhost:8080/",
          "height": 204
        },
        "outputId": "71bc31ad-3cfe-439d-8a73-7e53933973d9"
      },
      "source": [
        "import pandas as pd\n",
        "\n",
        "url = \"https://raw.githubusercontent.com/LambdaSchool/DS-Unit-4-Sprint-1-NLP/main/module1-text-data/data/yelp_coffeeshop_review_data.csv\"\n",
        "\n",
        "shops = pd.read_csv(url)\n",
        "shops.head()"
      ],
      "execution_count": null,
      "outputs": [
        {
          "output_type": "execute_result",
          "data": {
            "text/html": [
              "<div>\n",
              "<style scoped>\n",
              "    .dataframe tbody tr th:only-of-type {\n",
              "        vertical-align: middle;\n",
              "    }\n",
              "\n",
              "    .dataframe tbody tr th {\n",
              "        vertical-align: top;\n",
              "    }\n",
              "\n",
              "    .dataframe thead th {\n",
              "        text-align: right;\n",
              "    }\n",
              "</style>\n",
              "<table border=\"1\" class=\"dataframe\">\n",
              "  <thead>\n",
              "    <tr style=\"text-align: right;\">\n",
              "      <th></th>\n",
              "      <th>coffee_shop_name</th>\n",
              "      <th>full_review_text</th>\n",
              "      <th>star_rating</th>\n",
              "    </tr>\n",
              "  </thead>\n",
              "  <tbody>\n",
              "    <tr>\n",
              "      <th>0</th>\n",
              "      <td>The Factory - Cafe With a Soul</td>\n",
              "      <td>11/25/2016 1 check-in Love love loved the atm...</td>\n",
              "      <td>5.0 star rating</td>\n",
              "    </tr>\n",
              "    <tr>\n",
              "      <th>1</th>\n",
              "      <td>The Factory - Cafe With a Soul</td>\n",
              "      <td>12/2/2016 Listed in Date Night: Austin, Ambia...</td>\n",
              "      <td>4.0 star rating</td>\n",
              "    </tr>\n",
              "    <tr>\n",
              "      <th>2</th>\n",
              "      <td>The Factory - Cafe With a Soul</td>\n",
              "      <td>11/30/2016 1 check-in Listed in Brunch Spots ...</td>\n",
              "      <td>4.0 star rating</td>\n",
              "    </tr>\n",
              "    <tr>\n",
              "      <th>3</th>\n",
              "      <td>The Factory - Cafe With a Soul</td>\n",
              "      <td>11/25/2016 Very cool decor! Good drinks Nice ...</td>\n",
              "      <td>2.0 star rating</td>\n",
              "    </tr>\n",
              "    <tr>\n",
              "      <th>4</th>\n",
              "      <td>The Factory - Cafe With a Soul</td>\n",
              "      <td>12/3/2016 1 check-in They are located within ...</td>\n",
              "      <td>4.0 star rating</td>\n",
              "    </tr>\n",
              "  </tbody>\n",
              "</table>\n",
              "</div>"
            ],
            "text/plain": [
              "                  coffee_shop_name  ...        star_rating\n",
              "0  The Factory - Cafe With a Soul   ...   5.0 star rating \n",
              "1  The Factory - Cafe With a Soul   ...   4.0 star rating \n",
              "2  The Factory - Cafe With a Soul   ...   4.0 star rating \n",
              "3  The Factory - Cafe With a Soul   ...   2.0 star rating \n",
              "4  The Factory - Cafe With a Soul   ...   4.0 star rating \n",
              "\n",
              "[5 rows x 3 columns]"
            ]
          },
          "metadata": {},
          "execution_count": 11
        }
      ]
    },
    {
      "cell_type": "code",
      "metadata": {
        "id": "JMXIVPL57QMp",
        "colab": {
          "base_uri": "https://localhost:8080/"
        },
        "outputId": "2221b273-5e37-4f28-9792-ea50c596a432"
      },
      "source": [
        "# Start here\n",
        "shops.info()"
      ],
      "execution_count": null,
      "outputs": [
        {
          "output_type": "stream",
          "name": "stdout",
          "text": [
            "<class 'pandas.core.frame.DataFrame'>\n",
            "RangeIndex: 7616 entries, 0 to 7615\n",
            "Data columns (total 3 columns):\n",
            " #   Column            Non-Null Count  Dtype \n",
            "---  ------            --------------  ----- \n",
            " 0   coffee_shop_name  7616 non-null   object\n",
            " 1   full_review_text  7616 non-null   object\n",
            " 2   star_rating       7616 non-null   object\n",
            "dtypes: object(3)\n",
            "memory usage: 178.6+ KB\n"
          ]
        }
      ]
    },
    {
      "cell_type": "code",
      "metadata": {
        "colab": {
          "base_uri": "https://localhost:8080/",
          "height": 204
        },
        "id": "4nQLfZh3u5_E",
        "outputId": "7effd33c-63d4-451a-d10e-4d57a24bde0d"
      },
      "source": [
        "shops['star_rating'] = shops['star_rating'].apply(lambda x : int(x[1]))\n",
        "shops.head()"
      ],
      "execution_count": null,
      "outputs": [
        {
          "output_type": "execute_result",
          "data": {
            "text/html": [
              "<div>\n",
              "<style scoped>\n",
              "    .dataframe tbody tr th:only-of-type {\n",
              "        vertical-align: middle;\n",
              "    }\n",
              "\n",
              "    .dataframe tbody tr th {\n",
              "        vertical-align: top;\n",
              "    }\n",
              "\n",
              "    .dataframe thead th {\n",
              "        text-align: right;\n",
              "    }\n",
              "</style>\n",
              "<table border=\"1\" class=\"dataframe\">\n",
              "  <thead>\n",
              "    <tr style=\"text-align: right;\">\n",
              "      <th></th>\n",
              "      <th>coffee_shop_name</th>\n",
              "      <th>full_review_text</th>\n",
              "      <th>star_rating</th>\n",
              "    </tr>\n",
              "  </thead>\n",
              "  <tbody>\n",
              "    <tr>\n",
              "      <th>0</th>\n",
              "      <td>The Factory - Cafe With a Soul</td>\n",
              "      <td>11/25/2016 1 check-in Love love loved the atm...</td>\n",
              "      <td>5</td>\n",
              "    </tr>\n",
              "    <tr>\n",
              "      <th>1</th>\n",
              "      <td>The Factory - Cafe With a Soul</td>\n",
              "      <td>12/2/2016 Listed in Date Night: Austin, Ambia...</td>\n",
              "      <td>4</td>\n",
              "    </tr>\n",
              "    <tr>\n",
              "      <th>2</th>\n",
              "      <td>The Factory - Cafe With a Soul</td>\n",
              "      <td>11/30/2016 1 check-in Listed in Brunch Spots ...</td>\n",
              "      <td>4</td>\n",
              "    </tr>\n",
              "    <tr>\n",
              "      <th>3</th>\n",
              "      <td>The Factory - Cafe With a Soul</td>\n",
              "      <td>11/25/2016 Very cool decor! Good drinks Nice ...</td>\n",
              "      <td>2</td>\n",
              "    </tr>\n",
              "    <tr>\n",
              "      <th>4</th>\n",
              "      <td>The Factory - Cafe With a Soul</td>\n",
              "      <td>12/3/2016 1 check-in They are located within ...</td>\n",
              "      <td>4</td>\n",
              "    </tr>\n",
              "  </tbody>\n",
              "</table>\n",
              "</div>"
            ],
            "text/plain": [
              "                  coffee_shop_name  ... star_rating\n",
              "0  The Factory - Cafe With a Soul   ...           5\n",
              "1  The Factory - Cafe With a Soul   ...           4\n",
              "2  The Factory - Cafe With a Soul   ...           4\n",
              "3  The Factory - Cafe With a Soul   ...           2\n",
              "4  The Factory - Cafe With a Soul   ...           4\n",
              "\n",
              "[5 rows x 3 columns]"
            ]
          },
          "metadata": {},
          "execution_count": 13
        }
      ]
    },
    {
      "cell_type": "code",
      "metadata": {
        "colab": {
          "base_uri": "https://localhost:8080/"
        },
        "id": "dJsaak3JvZnc",
        "outputId": "570d3719-734b-44ea-d26e-ba243c6a828a"
      },
      "source": [
        "print(shops['full_review_text'][3])"
      ],
      "execution_count": null,
      "outputs": [
        {
          "output_type": "stream",
          "name": "stdout",
          "text": [
            " 11/25/2016 Very cool decor! Good drinks Nice seating  However...  Just about everything is overpriced. $1.50 extra for 3 ounces of Almond Milk in a cortado. No WiFi Music is a bit loud and the mix is odd.  Pleasant French oldies followed by loud techno. Several tables were dirty when we got there. Service is average.  It feels like a Los Angeles coffee shot that is out of place. \n"
          ]
        }
      ]
    },
    {
      "cell_type": "code",
      "metadata": {
        "id": "No7hnMAiwWFI"
      },
      "source": [
        "shops['date'] = shops['full_review_text'].apply(lambda x : x.split()[0])"
      ],
      "execution_count": null,
      "outputs": []
    },
    {
      "cell_type": "code",
      "metadata": {
        "colab": {
          "base_uri": "https://localhost:8080/",
          "height": 204
        },
        "id": "0XdbZTStwupf",
        "outputId": "ccc87348-986a-41b9-e4e7-848f71be7d8a"
      },
      "source": [
        "shops.head()"
      ],
      "execution_count": null,
      "outputs": [
        {
          "output_type": "execute_result",
          "data": {
            "text/html": [
              "<div>\n",
              "<style scoped>\n",
              "    .dataframe tbody tr th:only-of-type {\n",
              "        vertical-align: middle;\n",
              "    }\n",
              "\n",
              "    .dataframe tbody tr th {\n",
              "        vertical-align: top;\n",
              "    }\n",
              "\n",
              "    .dataframe thead th {\n",
              "        text-align: right;\n",
              "    }\n",
              "</style>\n",
              "<table border=\"1\" class=\"dataframe\">\n",
              "  <thead>\n",
              "    <tr style=\"text-align: right;\">\n",
              "      <th></th>\n",
              "      <th>coffee_shop_name</th>\n",
              "      <th>full_review_text</th>\n",
              "      <th>star_rating</th>\n",
              "      <th>date</th>\n",
              "    </tr>\n",
              "  </thead>\n",
              "  <tbody>\n",
              "    <tr>\n",
              "      <th>0</th>\n",
              "      <td>The Factory - Cafe With a Soul</td>\n",
              "      <td>11/25/2016 1 check-in Love love loved the atm...</td>\n",
              "      <td>5</td>\n",
              "      <td>11/25/2016</td>\n",
              "    </tr>\n",
              "    <tr>\n",
              "      <th>1</th>\n",
              "      <td>The Factory - Cafe With a Soul</td>\n",
              "      <td>12/2/2016 Listed in Date Night: Austin, Ambia...</td>\n",
              "      <td>4</td>\n",
              "      <td>12/2/2016</td>\n",
              "    </tr>\n",
              "    <tr>\n",
              "      <th>2</th>\n",
              "      <td>The Factory - Cafe With a Soul</td>\n",
              "      <td>11/30/2016 1 check-in Listed in Brunch Spots ...</td>\n",
              "      <td>4</td>\n",
              "      <td>11/30/2016</td>\n",
              "    </tr>\n",
              "    <tr>\n",
              "      <th>3</th>\n",
              "      <td>The Factory - Cafe With a Soul</td>\n",
              "      <td>11/25/2016 Very cool decor! Good drinks Nice ...</td>\n",
              "      <td>2</td>\n",
              "      <td>11/25/2016</td>\n",
              "    </tr>\n",
              "    <tr>\n",
              "      <th>4</th>\n",
              "      <td>The Factory - Cafe With a Soul</td>\n",
              "      <td>12/3/2016 1 check-in They are located within ...</td>\n",
              "      <td>4</td>\n",
              "      <td>12/3/2016</td>\n",
              "    </tr>\n",
              "  </tbody>\n",
              "</table>\n",
              "</div>"
            ],
            "text/plain": [
              "                  coffee_shop_name  ...        date\n",
              "0  The Factory - Cafe With a Soul   ...  11/25/2016\n",
              "1  The Factory - Cafe With a Soul   ...   12/2/2016\n",
              "2  The Factory - Cafe With a Soul   ...  11/30/2016\n",
              "3  The Factory - Cafe With a Soul   ...  11/25/2016\n",
              "4  The Factory - Cafe With a Soul   ...   12/3/2016\n",
              "\n",
              "[5 rows x 4 columns]"
            ]
          },
          "metadata": {},
          "execution_count": 20
        }
      ]
    },
    {
      "cell_type": "code",
      "metadata": {
        "id": "OQQugqjGxmC0"
      },
      "source": [
        "import datetime"
      ],
      "execution_count": null,
      "outputs": []
    },
    {
      "cell_type": "code",
      "metadata": {
        "colab": {
          "base_uri": "https://localhost:8080/"
        },
        "id": "LB3elkqow4bP",
        "outputId": "d0ae5d39-e3fb-41c3-e551-5f0bf358942f"
      },
      "source": [
        "def datify(date):\n",
        "  data = date.split('/')\n",
        "\n",
        "  dated = datetime.date(\n",
        "      int(data[2]),\n",
        "      int(data[0]),\n",
        "      int(data[1])\n",
        "  )\n",
        "  return dated\n",
        "\n",
        "shops['date'].apply(lambda x : datify(x).strftime('%A')).value_counts()"
      ],
      "execution_count": null,
      "outputs": [
        {
          "output_type": "execute_result",
          "data": {
            "text/plain": [
              "Sunday       1279\n",
              "Saturday     1154\n",
              "Monday       1146\n",
              "Wednesday    1092\n",
              "Thursday     1011\n",
              "Tuesday       983\n",
              "Friday        951\n",
              "Name: date, dtype: int64"
            ]
          },
          "metadata": {},
          "execution_count": 32
        }
      ]
    },
    {
      "cell_type": "code",
      "metadata": {
        "id": "G5s3Php5z5Qw"
      },
      "source": [
        "def reattach(word_list):\n",
        "  string = ''\n",
        "  for x in word_list:\n",
        "    string += f'{x} '\n",
        "  \n",
        "  return string[:-1]"
      ],
      "execution_count": null,
      "outputs": []
    },
    {
      "cell_type": "code",
      "metadata": {
        "id": "8G_U1tP40MmR"
      },
      "source": [
        "shops['full_review_text'] = shops['full_review_text'].apply(lambda x : reattach(x.split()[1:]))"
      ],
      "execution_count": null,
      "outputs": []
    },
    {
      "cell_type": "code",
      "metadata": {
        "colab": {
          "base_uri": "https://localhost:8080/",
          "height": 204
        },
        "id": "UR_WtHm00aCd",
        "outputId": "a5de5a42-605a-4be4-8538-f021edcafb67"
      },
      "source": [
        "shops.head()"
      ],
      "execution_count": null,
      "outputs": [
        {
          "output_type": "execute_result",
          "data": {
            "text/html": [
              "<div>\n",
              "<style scoped>\n",
              "    .dataframe tbody tr th:only-of-type {\n",
              "        vertical-align: middle;\n",
              "    }\n",
              "\n",
              "    .dataframe tbody tr th {\n",
              "        vertical-align: top;\n",
              "    }\n",
              "\n",
              "    .dataframe thead th {\n",
              "        text-align: right;\n",
              "    }\n",
              "</style>\n",
              "<table border=\"1\" class=\"dataframe\">\n",
              "  <thead>\n",
              "    <tr style=\"text-align: right;\">\n",
              "      <th></th>\n",
              "      <th>coffee_shop_name</th>\n",
              "      <th>full_review_text</th>\n",
              "      <th>star_rating</th>\n",
              "      <th>date</th>\n",
              "    </tr>\n",
              "  </thead>\n",
              "  <tbody>\n",
              "    <tr>\n",
              "      <th>0</th>\n",
              "      <td>The Factory - Cafe With a Soul</td>\n",
              "      <td>1 check-in Love love loved the atmosphere! Eve...</td>\n",
              "      <td>5</td>\n",
              "      <td>11/25/2016</td>\n",
              "    </tr>\n",
              "    <tr>\n",
              "      <th>1</th>\n",
              "      <td>The Factory - Cafe With a Soul</td>\n",
              "      <td>Listed in Date Night: Austin, Ambiance in Aust...</td>\n",
              "      <td>4</td>\n",
              "      <td>12/2/2016</td>\n",
              "    </tr>\n",
              "    <tr>\n",
              "      <th>2</th>\n",
              "      <td>The Factory - Cafe With a Soul</td>\n",
              "      <td>1 check-in Listed in Brunch Spots I loved the ...</td>\n",
              "      <td>4</td>\n",
              "      <td>11/30/2016</td>\n",
              "    </tr>\n",
              "    <tr>\n",
              "      <th>3</th>\n",
              "      <td>The Factory - Cafe With a Soul</td>\n",
              "      <td>Very cool decor! Good drinks Nice seating Howe...</td>\n",
              "      <td>2</td>\n",
              "      <td>11/25/2016</td>\n",
              "    </tr>\n",
              "    <tr>\n",
              "      <th>4</th>\n",
              "      <td>The Factory - Cafe With a Soul</td>\n",
              "      <td>1 check-in They are located within the Northcr...</td>\n",
              "      <td>4</td>\n",
              "      <td>12/3/2016</td>\n",
              "    </tr>\n",
              "  </tbody>\n",
              "</table>\n",
              "</div>"
            ],
            "text/plain": [
              "                  coffee_shop_name  ...        date\n",
              "0  The Factory - Cafe With a Soul   ...  11/25/2016\n",
              "1  The Factory - Cafe With a Soul   ...   12/2/2016\n",
              "2  The Factory - Cafe With a Soul   ...  11/30/2016\n",
              "3  The Factory - Cafe With a Soul   ...  11/25/2016\n",
              "4  The Factory - Cafe With a Soul   ...   12/3/2016\n",
              "\n",
              "[5 rows x 4 columns]"
            ]
          },
          "metadata": {},
          "execution_count": 35
        }
      ]
    },
    {
      "cell_type": "markdown",
      "metadata": {
        "id": "sy5_U8L67QMp"
      },
      "source": [
        "## How do we want to analyze these coffee shop tokens? \n",
        "\n",
        "- Overall Word / Token Count\n",
        "- View Counts by Rating \n",
        "- *Hint:* a 'bad' coffee shop has a rating between 1 & 3 based on the ratings distribution. A 'good' coffee shop is a 4 or 5. "
      ]
    },
    {
      "cell_type": "code",
      "metadata": {
        "id": "Ox8P5ZZ14Z-X"
      },
      "source": [
        "import re"
      ],
      "execution_count": null,
      "outputs": []
    },
    {
      "cell_type": "code",
      "metadata": {
        "id": "-kkMbaLp4nvO"
      },
      "source": [
        "def tokenize(text):\n",
        "  tokens = re.sub('[^a-zA-Z 0-9]', '', text)\n",
        "  tokens = tokens.lower().split()\n",
        "  return tokens"
      ],
      "execution_count": null,
      "outputs": []
    },
    {
      "cell_type": "code",
      "metadata": {
        "id": "Hj2yGuou4bVf"
      },
      "source": [
        "shops['tokens'] = shops['full_review_text'].apply(tokenize)"
      ],
      "execution_count": null,
      "outputs": []
    },
    {
      "cell_type": "code",
      "metadata": {
        "colab": {
          "base_uri": "https://localhost:8080/",
          "height": 204
        },
        "id": "nOwvqaDV6M_d",
        "outputId": "7fffeb86-a41f-4689-9998-64b198f042f1"
      },
      "source": [
        "shops.head()"
      ],
      "execution_count": null,
      "outputs": [
        {
          "output_type": "execute_result",
          "data": {
            "text/html": [
              "<div>\n",
              "<style scoped>\n",
              "    .dataframe tbody tr th:only-of-type {\n",
              "        vertical-align: middle;\n",
              "    }\n",
              "\n",
              "    .dataframe tbody tr th {\n",
              "        vertical-align: top;\n",
              "    }\n",
              "\n",
              "    .dataframe thead th {\n",
              "        text-align: right;\n",
              "    }\n",
              "</style>\n",
              "<table border=\"1\" class=\"dataframe\">\n",
              "  <thead>\n",
              "    <tr style=\"text-align: right;\">\n",
              "      <th></th>\n",
              "      <th>coffee_shop_name</th>\n",
              "      <th>full_review_text</th>\n",
              "      <th>star_rating</th>\n",
              "      <th>date</th>\n",
              "      <th>tokens</th>\n",
              "    </tr>\n",
              "  </thead>\n",
              "  <tbody>\n",
              "    <tr>\n",
              "      <th>0</th>\n",
              "      <td>The Factory - Cafe With a Soul</td>\n",
              "      <td>1 check-in Love love loved the atmosphere! Eve...</td>\n",
              "      <td>5</td>\n",
              "      <td>11/25/2016</td>\n",
              "      <td>[1, checkin, love, love, loved, the, atmospher...</td>\n",
              "    </tr>\n",
              "    <tr>\n",
              "      <th>1</th>\n",
              "      <td>The Factory - Cafe With a Soul</td>\n",
              "      <td>Listed in Date Night: Austin, Ambiance in Aust...</td>\n",
              "      <td>4</td>\n",
              "      <td>12/2/2016</td>\n",
              "      <td>[listed, in, date, night, austin, ambiance, in...</td>\n",
              "    </tr>\n",
              "    <tr>\n",
              "      <th>2</th>\n",
              "      <td>The Factory - Cafe With a Soul</td>\n",
              "      <td>1 check-in Listed in Brunch Spots I loved the ...</td>\n",
              "      <td>4</td>\n",
              "      <td>11/30/2016</td>\n",
              "      <td>[1, checkin, listed, in, brunch, spots, i, lov...</td>\n",
              "    </tr>\n",
              "    <tr>\n",
              "      <th>3</th>\n",
              "      <td>The Factory - Cafe With a Soul</td>\n",
              "      <td>Very cool decor! Good drinks Nice seating Howe...</td>\n",
              "      <td>2</td>\n",
              "      <td>11/25/2016</td>\n",
              "      <td>[very, cool, decor, good, drinks, nice, seatin...</td>\n",
              "    </tr>\n",
              "    <tr>\n",
              "      <th>4</th>\n",
              "      <td>The Factory - Cafe With a Soul</td>\n",
              "      <td>1 check-in They are located within the Northcr...</td>\n",
              "      <td>4</td>\n",
              "      <td>12/3/2016</td>\n",
              "      <td>[1, checkin, they, are, located, within, the, ...</td>\n",
              "    </tr>\n",
              "  </tbody>\n",
              "</table>\n",
              "</div>"
            ],
            "text/plain": [
              "                  coffee_shop_name  ...                                             tokens\n",
              "0  The Factory - Cafe With a Soul   ...  [1, checkin, love, love, loved, the, atmospher...\n",
              "1  The Factory - Cafe With a Soul   ...  [listed, in, date, night, austin, ambiance, in...\n",
              "2  The Factory - Cafe With a Soul   ...  [1, checkin, listed, in, brunch, spots, i, lov...\n",
              "3  The Factory - Cafe With a Soul   ...  [very, cool, decor, good, drinks, nice, seatin...\n",
              "4  The Factory - Cafe With a Soul   ...  [1, checkin, they, are, located, within, the, ...\n",
              "\n",
              "[5 rows x 5 columns]"
            ]
          },
          "metadata": {},
          "execution_count": 49
        }
      ]
    },
    {
      "cell_type": "code",
      "metadata": {
        "id": "3g6eKPcG6PP-"
      },
      "source": [
        "from collections import Counter"
      ],
      "execution_count": null,
      "outputs": []
    },
    {
      "cell_type": "code",
      "metadata": {
        "id": "dgTBpEtA6dtX"
      },
      "source": [
        "import spacy\n",
        "nlp = spacy.load('en_core_web_md')"
      ],
      "execution_count": null,
      "outputs": []
    },
    {
      "cell_type": "code",
      "metadata": {
        "id": "9Z7CPdkJ8RNX"
      },
      "source": [
        "def get_lemmas(text):\n",
        "  lemmas = []\n",
        "\n",
        "  doc = nlp(text)\n",
        "\n",
        "  for token in doc:\n",
        "    if not token.is_stop and not token.is_punct and token.pos != 'PRON':\n",
        "      lemmas.append(token.lemma_)\n",
        "\n",
        "  return lemmas"
      ],
      "execution_count": null,
      "outputs": []
    },
    {
      "cell_type": "code",
      "metadata": {
        "id": "Z1XTD60_7qIL"
      },
      "source": [
        "shops['lemmatoken'] = shops['full_review_text'].apply(get_lemmas)"
      ],
      "execution_count": null,
      "outputs": []
    },
    {
      "cell_type": "code",
      "metadata": {
        "colab": {
          "base_uri": "https://localhost:8080/",
          "height": 289
        },
        "id": "eamWB47d9gxC",
        "outputId": "ee1a54d5-8e28-45e0-c18e-65d2c04c98e4"
      },
      "source": [
        "shops.head()"
      ],
      "execution_count": null,
      "outputs": [
        {
          "output_type": "execute_result",
          "data": {
            "text/html": [
              "<div>\n",
              "<style scoped>\n",
              "    .dataframe tbody tr th:only-of-type {\n",
              "        vertical-align: middle;\n",
              "    }\n",
              "\n",
              "    .dataframe tbody tr th {\n",
              "        vertical-align: top;\n",
              "    }\n",
              "\n",
              "    .dataframe thead th {\n",
              "        text-align: right;\n",
              "    }\n",
              "</style>\n",
              "<table border=\"1\" class=\"dataframe\">\n",
              "  <thead>\n",
              "    <tr style=\"text-align: right;\">\n",
              "      <th></th>\n",
              "      <th>coffee_shop_name</th>\n",
              "      <th>full_review_text</th>\n",
              "      <th>star_rating</th>\n",
              "      <th>date</th>\n",
              "      <th>tokens</th>\n",
              "      <th>lemmatoken</th>\n",
              "    </tr>\n",
              "  </thead>\n",
              "  <tbody>\n",
              "    <tr>\n",
              "      <th>0</th>\n",
              "      <td>The Factory - Cafe With a Soul</td>\n",
              "      <td>1 check-in Love love loved the atmosphere! Eve...</td>\n",
              "      <td>5</td>\n",
              "      <td>11/25/2016</td>\n",
              "      <td>[1, checkin, love, love, loved, the, atmospher...</td>\n",
              "      <td>[1, check, Love, love, love, atmosphere, corne...</td>\n",
              "    </tr>\n",
              "    <tr>\n",
              "      <th>1</th>\n",
              "      <td>The Factory - Cafe With a Soul</td>\n",
              "      <td>Listed in Date Night: Austin, Ambiance in Aust...</td>\n",
              "      <td>4</td>\n",
              "      <td>12/2/2016</td>\n",
              "      <td>[listed, in, date, night, austin, ambiance, in...</td>\n",
              "      <td>[list, Date, Night, Austin, ambiance, Austin, ...</td>\n",
              "    </tr>\n",
              "    <tr>\n",
              "      <th>2</th>\n",
              "      <td>The Factory - Cafe With a Soul</td>\n",
              "      <td>1 check-in Listed in Brunch Spots I loved the ...</td>\n",
              "      <td>4</td>\n",
              "      <td>11/30/2016</td>\n",
              "      <td>[1, checkin, listed, in, brunch, spots, i, lov...</td>\n",
              "      <td>[1, check, list, Brunch, Spots, love, eclectic...</td>\n",
              "    </tr>\n",
              "    <tr>\n",
              "      <th>3</th>\n",
              "      <td>The Factory - Cafe With a Soul</td>\n",
              "      <td>Very cool decor! Good drinks Nice seating Howe...</td>\n",
              "      <td>2</td>\n",
              "      <td>11/25/2016</td>\n",
              "      <td>[very, cool, decor, good, drinks, nice, seatin...</td>\n",
              "      <td>[cool, decor, good, drink, nice, seating, over...</td>\n",
              "    </tr>\n",
              "    <tr>\n",
              "      <th>4</th>\n",
              "      <td>The Factory - Cafe With a Soul</td>\n",
              "      <td>1 check-in They are located within the Northcr...</td>\n",
              "      <td>4</td>\n",
              "      <td>12/3/2016</td>\n",
              "      <td>[1, checkin, they, are, located, within, the, ...</td>\n",
              "      <td>[1, check, locate, Northcross, mall, shopping,...</td>\n",
              "    </tr>\n",
              "  </tbody>\n",
              "</table>\n",
              "</div>"
            ],
            "text/plain": [
              "                  coffee_shop_name  ...                                         lemmatoken\n",
              "0  The Factory - Cafe With a Soul   ...  [1, check, Love, love, love, atmosphere, corne...\n",
              "1  The Factory - Cafe With a Soul   ...  [list, Date, Night, Austin, ambiance, Austin, ...\n",
              "2  The Factory - Cafe With a Soul   ...  [1, check, list, Brunch, Spots, love, eclectic...\n",
              "3  The Factory - Cafe With a Soul   ...  [cool, decor, good, drink, nice, seating, over...\n",
              "4  The Factory - Cafe With a Soul   ...  [1, check, locate, Northcross, mall, shopping,...\n",
              "\n",
              "[5 rows x 6 columns]"
            ]
          },
          "metadata": {},
          "execution_count": 57
        }
      ]
    },
    {
      "cell_type": "code",
      "metadata": {
        "id": "QHsf4CIN7QMq"
      },
      "source": [
        "bad = shops[shops['star_rating'] <= 3]\n",
        "good = shops[shops['star_rating'] > 3]"
      ],
      "execution_count": null,
      "outputs": []
    },
    {
      "cell_type": "code",
      "metadata": {
        "colab": {
          "base_uri": "https://localhost:8080/",
          "height": 289
        },
        "id": "jaiiDYfE3ejW",
        "outputId": "66bfdbc2-2486-4e1c-91e0-d47798128c0b"
      },
      "source": [
        "bad.head()"
      ],
      "execution_count": null,
      "outputs": [
        {
          "output_type": "execute_result",
          "data": {
            "text/html": [
              "<div>\n",
              "<style scoped>\n",
              "    .dataframe tbody tr th:only-of-type {\n",
              "        vertical-align: middle;\n",
              "    }\n",
              "\n",
              "    .dataframe tbody tr th {\n",
              "        vertical-align: top;\n",
              "    }\n",
              "\n",
              "    .dataframe thead th {\n",
              "        text-align: right;\n",
              "    }\n",
              "</style>\n",
              "<table border=\"1\" class=\"dataframe\">\n",
              "  <thead>\n",
              "    <tr style=\"text-align: right;\">\n",
              "      <th></th>\n",
              "      <th>coffee_shop_name</th>\n",
              "      <th>full_review_text</th>\n",
              "      <th>star_rating</th>\n",
              "      <th>date</th>\n",
              "      <th>tokens</th>\n",
              "      <th>lemmatoken</th>\n",
              "    </tr>\n",
              "  </thead>\n",
              "  <tbody>\n",
              "    <tr>\n",
              "      <th>3</th>\n",
              "      <td>The Factory - Cafe With a Soul</td>\n",
              "      <td>Very cool decor! Good drinks Nice seating Howe...</td>\n",
              "      <td>2</td>\n",
              "      <td>11/25/2016</td>\n",
              "      <td>[very, cool, decor, good, drinks, nice, seatin...</td>\n",
              "      <td>[cool, decor, good, drink, nice, seating, over...</td>\n",
              "    </tr>\n",
              "    <tr>\n",
              "      <th>8</th>\n",
              "      <td>The Factory - Cafe With a Soul</td>\n",
              "      <td>1 check-in Ok, let's try this approach... Pros...</td>\n",
              "      <td>3</td>\n",
              "      <td>10/25/2016</td>\n",
              "      <td>[1, checkin, ok, lets, try, this, approach, pr...</td>\n",
              "      <td>[1, check, ok, let, try, approach, pro, music,...</td>\n",
              "    </tr>\n",
              "    <tr>\n",
              "      <th>11</th>\n",
              "      <td>The Factory - Cafe With a Soul</td>\n",
              "      <td>The store has A+ decoration, but honestly, the...</td>\n",
              "      <td>3</td>\n",
              "      <td>11/20/2016</td>\n",
              "      <td>[the, store, has, a, decoration, but, honestly...</td>\n",
              "      <td>[store, a+, decoration, honestly, coffee, good...</td>\n",
              "    </tr>\n",
              "    <tr>\n",
              "      <th>12</th>\n",
              "      <td>The Factory - Cafe With a Soul</td>\n",
              "      <td>1 check-in Listed in 2016 - The Third Time is ...</td>\n",
              "      <td>3</td>\n",
              "      <td>11/17/2016</td>\n",
              "      <td>[1, checkin, listed, in, 2016, the, third, tim...</td>\n",
              "      <td>[1, check, list, 2016, Time, Charm, Factory, a...</td>\n",
              "    </tr>\n",
              "    <tr>\n",
              "      <th>25</th>\n",
              "      <td>The Factory - Cafe With a Soul</td>\n",
              "      <td>Okay, so after visiting my friends in LA and t...</td>\n",
              "      <td>1</td>\n",
              "      <td>12/2/2016</td>\n",
              "      <td>[okay, so, after, visiting, my, friends, in, l...</td>\n",
              "      <td>[okay, visit, friend, LA, try, mint, mojito, i...</td>\n",
              "    </tr>\n",
              "  </tbody>\n",
              "</table>\n",
              "</div>"
            ],
            "text/plain": [
              "                   coffee_shop_name  ...                                         lemmatoken\n",
              "3   The Factory - Cafe With a Soul   ...  [cool, decor, good, drink, nice, seating, over...\n",
              "8   The Factory - Cafe With a Soul   ...  [1, check, ok, let, try, approach, pro, music,...\n",
              "11  The Factory - Cafe With a Soul   ...  [store, a+, decoration, honestly, coffee, good...\n",
              "12  The Factory - Cafe With a Soul   ...  [1, check, list, 2016, Time, Charm, Factory, a...\n",
              "25  The Factory - Cafe With a Soul   ...  [okay, visit, friend, LA, try, mint, mojito, i...\n",
              "\n",
              "[5 rows x 6 columns]"
            ]
          },
          "metadata": {},
          "execution_count": 59
        }
      ]
    },
    {
      "cell_type": "code",
      "metadata": {
        "colab": {
          "base_uri": "https://localhost:8080/",
          "height": 289
        },
        "id": "ek9Oe34V3hay",
        "outputId": "ffbe0fac-9606-4f53-99f4-2af5b4be0f4a"
      },
      "source": [
        "good.head()"
      ],
      "execution_count": null,
      "outputs": [
        {
          "output_type": "execute_result",
          "data": {
            "text/html": [
              "<div>\n",
              "<style scoped>\n",
              "    .dataframe tbody tr th:only-of-type {\n",
              "        vertical-align: middle;\n",
              "    }\n",
              "\n",
              "    .dataframe tbody tr th {\n",
              "        vertical-align: top;\n",
              "    }\n",
              "\n",
              "    .dataframe thead th {\n",
              "        text-align: right;\n",
              "    }\n",
              "</style>\n",
              "<table border=\"1\" class=\"dataframe\">\n",
              "  <thead>\n",
              "    <tr style=\"text-align: right;\">\n",
              "      <th></th>\n",
              "      <th>coffee_shop_name</th>\n",
              "      <th>full_review_text</th>\n",
              "      <th>star_rating</th>\n",
              "      <th>date</th>\n",
              "      <th>tokens</th>\n",
              "      <th>lemmatoken</th>\n",
              "    </tr>\n",
              "  </thead>\n",
              "  <tbody>\n",
              "    <tr>\n",
              "      <th>0</th>\n",
              "      <td>The Factory - Cafe With a Soul</td>\n",
              "      <td>1 check-in Love love loved the atmosphere! Eve...</td>\n",
              "      <td>5</td>\n",
              "      <td>11/25/2016</td>\n",
              "      <td>[1, checkin, love, love, loved, the, atmospher...</td>\n",
              "      <td>[1, check, Love, love, love, atmosphere, corne...</td>\n",
              "    </tr>\n",
              "    <tr>\n",
              "      <th>1</th>\n",
              "      <td>The Factory - Cafe With a Soul</td>\n",
              "      <td>Listed in Date Night: Austin, Ambiance in Aust...</td>\n",
              "      <td>4</td>\n",
              "      <td>12/2/2016</td>\n",
              "      <td>[listed, in, date, night, austin, ambiance, in...</td>\n",
              "      <td>[list, Date, Night, Austin, ambiance, Austin, ...</td>\n",
              "    </tr>\n",
              "    <tr>\n",
              "      <th>2</th>\n",
              "      <td>The Factory - Cafe With a Soul</td>\n",
              "      <td>1 check-in Listed in Brunch Spots I loved the ...</td>\n",
              "      <td>4</td>\n",
              "      <td>11/30/2016</td>\n",
              "      <td>[1, checkin, listed, in, brunch, spots, i, lov...</td>\n",
              "      <td>[1, check, list, Brunch, Spots, love, eclectic...</td>\n",
              "    </tr>\n",
              "    <tr>\n",
              "      <th>4</th>\n",
              "      <td>The Factory - Cafe With a Soul</td>\n",
              "      <td>1 check-in They are located within the Northcr...</td>\n",
              "      <td>4</td>\n",
              "      <td>12/3/2016</td>\n",
              "      <td>[1, checkin, they, are, located, within, the, ...</td>\n",
              "      <td>[1, check, locate, Northcross, mall, shopping,...</td>\n",
              "    </tr>\n",
              "    <tr>\n",
              "      <th>5</th>\n",
              "      <td>The Factory - Cafe With a Soul</td>\n",
              "      <td>1 check-in Very cute cafe! I think from the mo...</td>\n",
              "      <td>4</td>\n",
              "      <td>11/20/2016</td>\n",
              "      <td>[1, checkin, very, cute, cafe, i, think, from,...</td>\n",
              "      <td>[1, check, cute, cafe, think, moment, step, fi...</td>\n",
              "    </tr>\n",
              "  </tbody>\n",
              "</table>\n",
              "</div>"
            ],
            "text/plain": [
              "                  coffee_shop_name  ...                                         lemmatoken\n",
              "0  The Factory - Cafe With a Soul   ...  [1, check, Love, love, love, atmosphere, corne...\n",
              "1  The Factory - Cafe With a Soul   ...  [list, Date, Night, Austin, ambiance, Austin, ...\n",
              "2  The Factory - Cafe With a Soul   ...  [1, check, list, Brunch, Spots, love, eclectic...\n",
              "4  The Factory - Cafe With a Soul   ...  [1, check, locate, Northcross, mall, shopping,...\n",
              "5  The Factory - Cafe With a Soul   ...  [1, check, cute, cafe, think, moment, step, fi...\n",
              "\n",
              "[5 rows x 6 columns]"
            ]
          },
          "metadata": {},
          "execution_count": 60
        }
      ]
    },
    {
      "cell_type": "markdown",
      "metadata": {
        "id": "d-TYluoI7QMr"
      },
      "source": [
        "## Can you visualize the words with the greatest difference in counts between 'good' & 'bad'?\n",
        "\n",
        "Couple Notes: \n",
        "- Rel. freq. instead of absolute counts b/c of different numbers of reviews\n",
        "- Only look at the top 5-10 words with the greatest differences\n"
      ]
    },
    {
      "cell_type": "code",
      "metadata": {
        "id": "yLD8MTZn7QMr"
      },
      "source": [
        "import squarify\n",
        "import matplotlib.pyplot as plt"
      ],
      "execution_count": null,
      "outputs": []
    },
    {
      "cell_type": "code",
      "metadata": {
        "id": "W7IgwzJjAl17"
      },
      "source": [
        "def count(df, tokname = 'lemmatoken'):\n",
        "  tokens = df[tokname]\n",
        "  \n",
        "  word_counts = Counter()\n",
        "  appears_in = Counter()\n",
        "\n",
        "  total_docs = len(tokens)\n",
        "\n",
        "  for token in tokens:\n",
        "    word_counts.update(token)\n",
        "    appears_in.update(set(token))\n",
        "\n",
        "  temp = zip(word_counts.keys(), word_counts.values())\n",
        "  wc = pd.DataFrame(temp, columns = ['word', 'count'])\n",
        "  wc['rank'] = wc['count'].rank(method='first', ascending=False)\n",
        "  total = wc['count'].sum()\n",
        "\n",
        "  wc['pct_total'] = wc['count'].apply(lambda token_count: token_count / total)\n",
        "  \n",
        "  wc = wc.sort_values(by='rank')\n",
        "  wc['cul_pct_total'] = wc['pct_total'].cumsum()\n",
        "\n",
        "  t2 = zip(appears_in.keys(), appears_in.values())\n",
        "  ac = pd.DataFrame(t2, columns=['word', 'appears_in'])\n",
        "\n",
        "  wc = ac.merge(wc, on='word')\n",
        "  wc['appears_in_pct'] = wc['appears_in'].apply(lambda x : x / total_docs)\n",
        "\n",
        "  return wc.sort_values(by='rank')\n",
        "\n",
        "\n",
        "def square_plot(df):\n",
        "  wc = count(df)\n",
        "  wc_top20 = wc[wc['rank'] <= 20]\n",
        "\n",
        "  squarify.plot(sizes=wc_top20['pct_total'], label=wc_top20['word'], alpha=.8)\n",
        "  plt.axis('off')\n",
        "  plt.show()"
      ],
      "execution_count": null,
      "outputs": []
    },
    {
      "cell_type": "code",
      "metadata": {
        "colab": {
          "base_uri": "https://localhost:8080/",
          "height": 479
        },
        "id": "4_zJ8fEfDMWs",
        "outputId": "a205c9ce-b06e-49bd-b4c0-248b38fa49e2"
      },
      "source": [
        "square_plot(good)\n",
        "square_plot(bad)"
      ],
      "execution_count": null,
      "outputs": [
        {
          "output_type": "display_data",
          "data": {
            "image/png": "[encoded data removed]",
            "text/plain": [
              "<Figure size 432x288 with 1 Axes>"
            ]
          },
          "metadata": {
            "needs_background": "light"
          }
        },
        {
          "output_type": "display_data",
          "data": {
            "image/png": "[encoded data removed]",
            "text/plain": [
              "<Figure size 432x288 with 1 Axes>"
            ]
          },
          "metadata": {
            "needs_background": "light"
          }
        }
      ]
    },
    {
      "cell_type": "code",
      "metadata": {
        "colab": {
          "base_uri": "https://localhost:8080/",
          "height": 204
        },
        "id": "zxK-R2zvDy8s",
        "outputId": "6bab9712-55d7-4cf1-f2e6-223a4d315a13"
      },
      "source": [
        "count(bad).head(5)"
      ],
      "execution_count": null,
      "outputs": [
        {
          "output_type": "execute_result",
          "data": {
            "text/html": [
              "<div>\n",
              "<style scoped>\n",
              "    .dataframe tbody tr th:only-of-type {\n",
              "        vertical-align: middle;\n",
              "    }\n",
              "\n",
              "    .dataframe tbody tr th {\n",
              "        vertical-align: top;\n",
              "    }\n",
              "\n",
              "    .dataframe thead th {\n",
              "        text-align: right;\n",
              "    }\n",
              "</style>\n",
              "<table border=\"1\" class=\"dataframe\">\n",
              "  <thead>\n",
              "    <tr style=\"text-align: right;\">\n",
              "      <th></th>\n",
              "      <th>word</th>\n",
              "      <th>appears_in</th>\n",
              "      <th>count</th>\n",
              "      <th>rank</th>\n",
              "      <th>pct_total</th>\n",
              "      <th>cul_pct_total</th>\n",
              "      <th>appears_in_pct</th>\n",
              "    </tr>\n",
              "  </thead>\n",
              "  <tbody>\n",
              "    <tr>\n",
              "      <th>28</th>\n",
              "      <td>coffee</td>\n",
              "      <td>935</td>\n",
              "      <td>2126</td>\n",
              "      <td>1.0</td>\n",
              "      <td>0.026844</td>\n",
              "      <td>0.026844</td>\n",
              "      <td>0.633469</td>\n",
              "    </tr>\n",
              "    <tr>\n",
              "      <th>25</th>\n",
              "      <td>place</td>\n",
              "      <td>753</td>\n",
              "      <td>1227</td>\n",
              "      <td>2.0</td>\n",
              "      <td>0.015493</td>\n",
              "      <td>0.042336</td>\n",
              "      <td>0.510163</td>\n",
              "    </tr>\n",
              "    <tr>\n",
              "      <th>29</th>\n",
              "      <td>good</td>\n",
              "      <td>642</td>\n",
              "      <td>994</td>\n",
              "      <td>3.0</td>\n",
              "      <td>0.012551</td>\n",
              "      <td>0.054887</td>\n",
              "      <td>0.434959</td>\n",
              "    </tr>\n",
              "    <tr>\n",
              "      <th>22</th>\n",
              "      <td>like</td>\n",
              "      <td>596</td>\n",
              "      <td>945</td>\n",
              "      <td>4.0</td>\n",
              "      <td>0.011932</td>\n",
              "      <td>0.066819</td>\n",
              "      <td>0.403794</td>\n",
              "    </tr>\n",
              "    <tr>\n",
              "      <th>55</th>\n",
              "      <td>order</td>\n",
              "      <td>433</td>\n",
              "      <td>763</td>\n",
              "      <td>5.0</td>\n",
              "      <td>0.009634</td>\n",
              "      <td>0.076453</td>\n",
              "      <td>0.293360</td>\n",
              "    </tr>\n",
              "  </tbody>\n",
              "</table>\n",
              "</div>"
            ],
            "text/plain": [
              "      word  appears_in  count  rank  pct_total  cul_pct_total  appears_in_pct\n",
              "28  coffee         935   2126   1.0   0.026844       0.026844        0.633469\n",
              "25   place         753   1227   2.0   0.015493       0.042336        0.510163\n",
              "29    good         642    994   3.0   0.012551       0.054887        0.434959\n",
              "22    like         596    945   4.0   0.011932       0.066819        0.403794\n",
              "55   order         433    763   5.0   0.009634       0.076453        0.293360"
            ]
          },
          "metadata": {},
          "execution_count": 214
        }
      ]
    },
    {
      "cell_type": "code",
      "metadata": {
        "colab": {
          "base_uri": "https://localhost:8080/"
        },
        "id": "q-KEAOC8FSS6",
        "outputId": "6a7babb4-2fe3-4911-c362-7019f03be93c"
      },
      "source": [
        "df = good\n",
        "count(df)[count(df)['word'] == 'terrible']\n",
        ".028434 - .026844"
      ],
      "execution_count": null,
      "outputs": [
        {
          "output_type": "execute_result",
          "data": {
            "text/plain": [
              "0.0015900000000000011"
            ]
          },
          "metadata": {},
          "execution_count": 223
        }
      ]
    },
    {
      "cell_type": "code",
      "metadata": {
        "colab": {
          "base_uri": "https://localhost:8080/",
          "height": 204
        },
        "id": "HdD6suXFEu0K",
        "outputId": "eec1b3eb-1cfe-4f72-d2b9-3de143a683ab"
      },
      "source": [
        "count(good).head(5)"
      ],
      "execution_count": null,
      "outputs": [
        {
          "output_type": "execute_result",
          "data": {
            "text/html": [
              "<div>\n",
              "<style scoped>\n",
              "    .dataframe tbody tr th:only-of-type {\n",
              "        vertical-align: middle;\n",
              "    }\n",
              "\n",
              "    .dataframe tbody tr th {\n",
              "        vertical-align: top;\n",
              "    }\n",
              "\n",
              "    .dataframe thead th {\n",
              "        text-align: right;\n",
              "    }\n",
              "</style>\n",
              "<table border=\"1\" class=\"dataframe\">\n",
              "  <thead>\n",
              "    <tr style=\"text-align: right;\">\n",
              "      <th></th>\n",
              "      <th>word</th>\n",
              "      <th>appears_in</th>\n",
              "      <th>count</th>\n",
              "      <th>rank</th>\n",
              "      <th>pct_total</th>\n",
              "      <th>cul_pct_total</th>\n",
              "      <th>appears_in_pct</th>\n",
              "    </tr>\n",
              "  </thead>\n",
              "  <tbody>\n",
              "    <tr>\n",
              "      <th>27</th>\n",
              "      <td>coffee</td>\n",
              "      <td>3919</td>\n",
              "      <td>8038</td>\n",
              "      <td>1.0</td>\n",
              "      <td>0.028434</td>\n",
              "      <td>0.028434</td>\n",
              "      <td>0.638274</td>\n",
              "    </tr>\n",
              "    <tr>\n",
              "      <th>69</th>\n",
              "      <td>place</td>\n",
              "      <td>3128</td>\n",
              "      <td>4807</td>\n",
              "      <td>2.0</td>\n",
              "      <td>0.017005</td>\n",
              "      <td>0.045439</td>\n",
              "      <td>0.509446</td>\n",
              "    </tr>\n",
              "    <tr>\n",
              "      <th>197</th>\n",
              "      <td>good</td>\n",
              "      <td>2912</td>\n",
              "      <td>4311</td>\n",
              "      <td>3.0</td>\n",
              "      <td>0.015250</td>\n",
              "      <td>0.060689</td>\n",
              "      <td>0.474267</td>\n",
              "    </tr>\n",
              "    <tr>\n",
              "      <th>138</th>\n",
              "      <td>great</td>\n",
              "      <td>2495</td>\n",
              "      <td>3454</td>\n",
              "      <td>4.0</td>\n",
              "      <td>0.012219</td>\n",
              "      <td>0.072908</td>\n",
              "      <td>0.406352</td>\n",
              "    </tr>\n",
              "    <tr>\n",
              "      <th>31</th>\n",
              "      <td>check</td>\n",
              "      <td>2686</td>\n",
              "      <td>2942</td>\n",
              "      <td>5.0</td>\n",
              "      <td>0.010407</td>\n",
              "      <td>0.083315</td>\n",
              "      <td>0.437459</td>\n",
              "    </tr>\n",
              "  </tbody>\n",
              "</table>\n",
              "</div>"
            ],
            "text/plain": [
              "       word  appears_in  count  rank  pct_total  cul_pct_total  appears_in_pct\n",
              "27   coffee        3919   8038   1.0   0.028434       0.028434        0.638274\n",
              "69    place        3128   4807   2.0   0.017005       0.045439        0.509446\n",
              "197    good        2912   4311   3.0   0.015250       0.060689        0.474267\n",
              "138   great        2495   3454   4.0   0.012219       0.072908        0.406352\n",
              "31    check        2686   2942   5.0   0.010407       0.083315        0.437459"
            ]
          },
          "metadata": {},
          "execution_count": 215
        }
      ]
    },
    {
      "cell_type": "code",
      "metadata": {
        "id": "cTWtnL-QG8PA"
      },
      "source": [
        "def compare_appears(df1, df2, perdiff=.1, name1='Good Reviews', name2='Bad Reviews'):\n",
        "  goodcount = count(df1)\n",
        "  badcount = count(df2)\n",
        "  goodwords = []\n",
        "\n",
        "  goodtests = goodcount[goodcount['appears_in_pct'] >= .03]\n",
        "  badtests = badcount[badcount['appears_in_pct'] >= .03]\n",
        "\n",
        "  print(f'{name1}:')\n",
        "  for x in goodtests['word']:\n",
        "    goodrow = goodtests[goodtests['word'] == x]\n",
        "    badrow = badcount[badcount['word'] == x]\n",
        "    \n",
        "    try:\n",
        "      change = float(goodrow['appears_in_pct']) - float(badrow['appears_in_pct'])\n",
        "    except:\n",
        "      change = float(goodrow['appears_in_pct'])\n",
        "\n",
        "    if change > perdiff:\n",
        "      print(f'\\'{x}\\' appears {change * 100}% more reviews.')\n",
        "      goodwords.append(x)\n",
        "\n",
        "  print(f'\\n{name2}:')\n",
        "  for x in badtests['word']:\n",
        "    goodrow = goodcount[goodcount['word'] == x]\n",
        "    badrow = badtests[badtests['word'] == x]\n",
        "    \n",
        "    try:\n",
        "      change = float(badrow['appears_in_pct']) - float(goodrow['appears_in_pct'])\n",
        "    except:\n",
        "      change = float(badrow['appears_in_pct'])\n",
        "\n",
        "    if change > perdiff and x not in goodwords:\n",
        "      print(f'\\'{x}\\' appears in {change * 100}% more reviews.')\n",
        "\n",
        "  \n",
        "def compare_total(df1, df2, perdiff=.001, name1='Good Reviews', name2='Bad Reviews'):\n",
        "  goodcount = count(df1)\n",
        "  badcount = count(df2)\n",
        "  goodwords = []\n",
        "\n",
        "  goodtests = goodcount[goodcount['pct_total'] >= .001]\n",
        "  badtests = badcount[badcount['pct_total'] >= .001]\n",
        "\n",
        "  print(f'{name1}:')\n",
        "  for x in goodtests['word']:\n",
        "    goodrow = goodtests[goodtests['word'] == x]\n",
        "    badrow = badcount[badcount['word'] == x]\n",
        "    \n",
        "    try:\n",
        "      change = float(goodrow['pct_total']) - float(badrow['pct_total'])\n",
        "    except:\n",
        "      change = float(goodrow['pct_total'])\n",
        "\n",
        "    if change > perdiff:\n",
        "      print(f'\\'{x}\\' appears {change * 100}% more.')\n",
        "      goodwords.append(x)\n",
        "\n",
        "  print(f'\\n{name2}:')\n",
        "  for x in badtests['word']:\n",
        "    goodrow = goodcount[goodcount['word'] == x]\n",
        "    badrow = badtests[badtests['word'] == x]\n",
        "    \n",
        "    try:\n",
        "      change = float(badrow['pct_total']) - float(goodrow['pct_total'])\n",
        "    except:\n",
        "      change = float(badrow['pct_total'])\n",
        "\n",
        "    if change > perdiff and x not in goodwords:\n",
        "      print(f'\\'{x}\\' appears {change * 100}% more.')"
      ],
      "execution_count": null,
      "outputs": []
    },
    {
      "cell_type": "code",
      "metadata": {
        "colab": {
          "base_uri": "https://localhost:8080/"
        },
        "id": "f31aZQ0hJNSd",
        "outputId": "c484ad56-0c9b-4a8e-b5c7-11b297db76a5"
      },
      "source": [
        "compare_appears(good, bad, perdiff=.06)"
      ],
      "execution_count": null,
      "outputs": [
        {
          "output_type": "stream",
          "name": "stdout",
          "text": [
            "Good Reviews:\n",
            "'great' appears 17.125694058243514% more reviews.\n",
            "'check' appears 10.615847037949205% more reviews.\n",
            "'love' appears 11.72739952155222% more reviews.\n",
            "'Austin' appears 8.750915847920693% more reviews.\n",
            "'friendly' appears 10.731928003319121% more reviews.\n",
            "'delicious' appears 12.650309402116822% more reviews.\n",
            "'definitely' appears 6.2783912855415185% more reviews.\n",
            "'in' appears 7.722650353539365% more reviews.\n",
            "'amazing' appears 7.84438088680561% more reviews.\n",
            "'favorite' appears 7.1310346653955134% more reviews.\n",
            "'perfect' appears 7.504303381796032% more reviews.\n",
            "\n",
            "Bad Reviews:\n",
            "'like' appears in 13.05041356602491% more reviews.\n",
            "'order' appears in 12.7888120900753% more reviews.\n",
            "'come' appears in 6.486498415472755% more reviews.\n",
            "'time' appears in 6.598607028415559% more reviews.\n",
            "'go' appears in 8.795494469602676% more reviews.\n",
            "'service' appears in 9.532939629070558% more reviews.\n",
            "'taste' appears in 8.329802353398126% more reviews.\n",
            "'$' appears in 8.352709585727778% more reviews.\n",
            "'pretty' appears in 6.2281630959632075% more reviews.\n",
            "'want' appears in 6.492677630359365% more reviews.\n",
            "'ask' appears in 9.856289116637097% more reviews.\n",
            "'think' appears in 7.153279838987316% more reviews.\n",
            "'customer' appears in 8.122798654696645% more reviews.\n",
            "'review' appears in 7.483647149175077% more reviews.\n",
            "'say' appears in 7.894785625380682% more reviews.\n",
            "'bad' appears in 9.427672289752213% more reviews.\n",
            "'star' appears in 6.405550700458145% more reviews.\n",
            "'take' appears in 6.334533866511303% more reviews.\n",
            "'maybe' appears in 7.4068924728335235% more reviews.\n",
            "'ok' appears in 7.0212653266597815% more reviews.\n",
            "'pay' appears in 6.156131105284994% more reviews.\n",
            "'rude' appears in 6.330120141592295% more reviews.\n"
          ]
        }
      ]
    },
    {
      "cell_type": "code",
      "metadata": {
        "colab": {
          "base_uri": "https://localhost:8080/"
        },
        "id": "xtIU7l0vQ5_H",
        "outputId": "efe307c5-d968-4ef9-e606-cbb477dad22c"
      },
      "source": [
        "compare_total(good, bad, perdiff=.002)"
      ],
      "execution_count": null,
      "outputs": [
        {
          "output_type": "stream",
          "name": "stdout",
          "text": [
            "Good Reviews:\n",
            "'good' appears 0.26995266224908615% more.\n",
            "'great' appears 0.6334634470451606% more.\n",
            "'check' appears 0.37532194425478643% more.\n",
            "'love' appears 0.41842105908641064% more.\n",
            "'Austin' appears 0.33926156894826087% more.\n",
            "'friendly' appears 0.2723937511569498% more.\n",
            "'delicious' appears 0.3307710667001743% more.\n",
            "'amazing' appears 0.21067088601401338% more.\n",
            "\n",
            "Bad Reviews:\n",
            "'like' appears 0.3318140725426924% more.\n",
            "'order' appears 0.4791113747088909% more.\n",
            "'go' appears 0.20134957738881668% more.\n",
            "'service' appears 0.23844436479004008% more.\n",
            "'taste' appears 0.21029507927786298% more.\n",
            "'$' appears 0.2854425755661607% more.\n",
            "'ask' appears 0.28831474544576496% more.\n",
            "'customer' appears 0.26155410952939256% more.\n",
            "'say' appears 0.22074150780998944% more.\n",
            "'bad' appears 0.2083865883378206% more.\n"
          ]
        }
      ]
    },
    {
      "cell_type": "markdown",
      "metadata": {
        "id": "QL2Cok6iWKKn"
      },
      "source": [
        "# Conclusion\n",
        "Looking at the numbers generated above, it appears that the staff were friendly and the food tasty.\n",
        "\n",
        "The bad reviews appear to worry about the money and bad service."
      ]
    },
    {
      "cell_type": "markdown",
      "metadata": {
        "id": "1dCb1q8XphcP",
        "toc-hr-collapsed": true
      },
      "source": [
        "## Stretch Goals\n",
        "\n",
        "* Analyze another corpus of documents - such as Indeed.com job listings ;).\n",
        "* Play with the Spacy API to\n",
        " - Extract Named Entities\n",
        " - Extracting 'noun chunks'\n",
        " - Attempt Document Classification with just Spacy\n",
        " - *Note:* This [course](https://course.spacy.io/) will be interesting in helping you with these stretch goals. \n",
        "* Try to build a plotly dash app with your text data \n",
        "\n"
      ]
    }
  ]
}