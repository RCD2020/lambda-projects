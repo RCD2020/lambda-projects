{
  "nbformat": 4,
  "nbformat_minor": 0,
  "metadata": {
    "colab": {
      "name": "0802 LS_DS_424_Deploy_Assignment.ipynb",
      "provenance": [],
      "collapsed_sections": []
    },
    "kernelspec": {
      "display_name": "py37  (Python3)",
      "language": "python",
      "name": "py37"
    },
    "language_info": {
      "codemirror_mode": {
        "name": "ipython",
        "version": 3
      },
      "file_extension": ".py",
      "mimetype": "text/x-python",
      "name": "python",
      "nbconvert_exporter": "python",
      "pygments_lexer": "ipython3",
      "version": "3.7.0"
    },
    "nteract": {
      "version": "0.22.4"
    }
  },
  "cells": [
    {
      "cell_type": "markdown",
      "metadata": {
        "id": "NGGrt9EYlCqY"
      },
      "source": [
        "\n",
        "\n",
        "\n",
        "# *Data Science Unit 4 Sprint 2 Assignment 4*\n",
        "\n",
        "Continue to use TensorFlow Keras and a sample of the [Quickdraw dataset](https://github.com/googlecreativelab/quickdraw-dataset) to build a sketch classification model. The dataset has been sampled to only 10 classes and 10000 observations per class. Apply regularization techniques to your model. \n",
        "\n",
        "**Don't forget to switch to GPU on Colab!**\n",
        "\n",
        "\n",
        "## Objective \n",
        "\n",
        "You were exposed to Lp space regularization, Max Norn weight constraints, and dropout in the lecture. \n",
        "\n",
        "In this assignment, you will run several experiments to perform a deeper analysis of various regularization techniques' effects on model performance and the learned model weights. \n",
        "\n",
        "By the end of this assignment, these regularization techniques should no longer feel like black boxes to you (i.e., completely mysterious as to how they work.) \n"
      ]
    },
    {
      "cell_type": "markdown",
      "metadata": {
        "id": "ptJ2b3wk62Ud"
      },
      "source": [
        "#### Import libraries"
      ]
    },
    {
      "cell_type": "code",
      "metadata": {
        "id": "USXjs7Hk71Hy"
      },
      "source": [
        "# native libraries \n",
        "import os\n",
        "from time import time \n",
        "\n",
        "# data analysis libraries \n",
        "import numpy as np\n",
        "import pandas as pd\n",
        "import matplotlib.pyplot as plt\n",
        "import seaborn as sns\n",
        "\n",
        "# deep learning libraries \n",
        "from keras import Sequential\n",
        "from keras.callbacks import EarlyStopping, TensorBoard\n",
        "from keras.layers import Flatten, Dense, Dropout\n",
        "from keras.layers import ReLU\n",
        "from keras.initializers import GlorotUniform\n",
        "\n",
        "import tensorflow as tf\n",
        "from tensorflow.keras.datasets import fashion_mnist\n",
        "\n",
        "# regularizers \n",
        "from keras.regularizers import l2, l1\n",
        "from keras.constraints import MaxNorm\n",
        "\n",
        "# required for compatibility between sklearn and keras\n",
        "from tensorflow.keras.wrappers.scikit_learn import KerasClassifier\n",
        "\n",
        "from sklearn.model_selection import GridSearchCV\n",
        "\n",
        "# native python unit test library\n",
        "from unittest import TestCase\n",
        "\n",
        "%matplotlib inline"
      ],
      "execution_count": 1,
      "outputs": []
    },
    {
      "cell_type": "markdown",
      "metadata": {
        "id": "i4iRIkW2pVGR"
      },
      "source": [
        "-----\n",
        "\n",
        "# $L_p$ Space Regularization \n",
        "\n",
        "## Bridging Theory and Practice \n",
        "\n",
        "The idea of infinitely many vector spaces, each with its very own distance metric for measuring distance differently, can seem very abstract. However, we will take that distance metric general formula and look at a few special cases by writing custom regularization functions and noting their effect on the model's learning outcomes. \n",
        "\n",
        "Don't forget to review the theory of $L_p$ Space Regularization in the guided project. \n",
        "\n",
        "Also, watch this video if you haven't already. "
      ]
    },
    {
      "cell_type": "code",
      "metadata": {
        "id": "hfdD8qcppVGT"
      },
      "source": [
        "# check out this video for an animated explanation of Lp Space and distance metrics \n",
        "from IPython.display import YouTubeVideo\n",
        "YouTubeVideo('FiSy6zWDfiA', width=800, height=300)"
      ],
      "execution_count": null,
      "outputs": []
    },
    {
      "cell_type": "markdown",
      "metadata": {
        "id": "TY225z9BpVGU"
      },
      "source": [
        "### Distance Metric General Formula\n",
        "$${\\displaystyle \\left\\|x\\right\\|_{p}=\\left(|x_{1}|^{p}+|x_{2}|^{p}+\\dotsb +|x_{n}|^{p}\\right)^{1/p}.}$$\n",
        "\n",
        "Let's create a class for the distance metric general formula.\n",
        "\n",
        "\n",
        "There are 2 classes below: \n",
        "\n",
        "```python\n",
        "class Test_distance_metric_solution()\n",
        "```\n",
        "\n",
        "You don't need to change anything in this class. This class is here to calculate each portion of the distance metric general formula correctly.\n",
        "\n",
        "\n",
        "```python\n",
        "class Lp_distance_metric_general_formula()\n",
        "```\n",
        "\n",
        "This is the class that you will complete. \n",
        "\n",
        "Each of the non `__call__` methods calculates one portion of the distance metric general formula. \n",
        "\n",
        "Breaking up each portion of the formula into a separate method is unnecessary. \n",
        "\n",
        "Including the entire calculation of the general formula into a single method is ideal, however it is more difficult to write granular unit tests that way. \n",
        "\n",
        "So, for instructional purposes, it was broken up into 3 methods. However, outside of an academic environment, we would only need the `__init__` and `__call__` methods. \n",
        "\n",
        "It is good for you to see how a custom unit test class is used to test the calculations of another class. This is a portion of what software engineering looks like. Get used to it. You'll need good software engineering practices to make it in the world. You'll learn more about this in your CS unit. For now, consider it a bit of foreshadowing. "
      ]
    },
    {
      "cell_type": "code",
      "metadata": {
        "id": "nec3V1gZpVGV"
      },
      "source": [
        "class Test_distance_metric_solution(TestCase):\n",
        "    \"\"\"\n",
        "    This unit test class is designed to ensure that the students correctly calculates each Distance Metric General Formula component, thereby getting real-time feedback and correction. \n",
        "    \"\"\"\n",
        "    \n",
        "    def test_squared_vector_comps(self, test_array):\n",
        "        \"\"\"\n",
        "        This test makes sure that students calculate the sum_of_squared_comp correctly. \n",
        "        \"\"\"\n",
        "        answer = np.array([1., 4.])\n",
        "        # error message in case if test case got failed\n",
        "        message = \"you did not calculate sum_of_squared_comp correctly\"\n",
        "        # assert function() to check if values are almost equal\n",
        "        np.testing.assert_array_equal(answer, test_array,  err_msg=message)\n",
        "        \n",
        "        \n",
        "    def test_sum_of_squared_comp(self, test_sum):\n",
        "        \"\"\"\n",
        "        This test makes sure that students calculate the sum_of_squared_comp correctly. \n",
        "        \"\"\"\n",
        "        answer = 5\n",
        "        # error message in case if test case got failed\n",
        "        message = \"you did not calculate sum_of_squared_comp correctly\"\n",
        "        # assert function() to check if values are almost equal\n",
        "        np.testing.assert_array_equal(answer, test_sum,  err_msg=message)\n",
        "        \n",
        "    def test_vector_norm(self, test_norm):\n",
        "        \"\"\"\n",
        "        This test makes sure that students calculate the vector_norm correctly. \n",
        "        \"\"\"\n",
        "        answer = 2.236\n",
        "        decimalPlace = 3\n",
        "        # error message in case if test case got failed\n",
        "        message = \"you did not calculate sum_of_squared_comp correctly\"\n",
        "        # assert function() to check if values are almost equal\n",
        "        self.assertAlmostEqual(answer, test_norm,  decimalPlace, message)        "
      ],
      "execution_count": null,
      "outputs": []
    },
    {
      "cell_type": "markdown",
      "metadata": {
        "id": "NzlyrAUfpVGW"
      },
      "source": [
        "### Fill in the Missing Code in the Class Below"
      ]
    },
    {
      "cell_type": "code",
      "metadata": {
        "deletable": false,
        "nbgrader": {
          "cell_type": "code",
          "checksum": "b8830110178a58a6fe1973906f649d36",
          "grade": false,
          "grade_id": "cell-0bd59a2d10fbf254",
          "locked": false,
          "schema_version": 3,
          "solution": true,
          "task": false
        },
        "id": "GzA8-uanpVGX"
      },
      "source": [
        "class Lp_distance_metric_general_formula(object):\n",
        "    \"\"\"\n",
        "    This class takes the Lp distance metric general formula and sets p equal to a value provided by the user. \n",
        "    This has the effect of deriving a distance metric for a specific metric space and calculating the distance \n",
        "    of a vector in that metric space.\n",
        "    \n",
        "    Example\n",
        "    -------\n",
        "    If the user sets p = 2, then the euclidean distance formula is derived.\n",
        "    If the user sets p = 1, then the taxicab distance formula is derived. \n",
        "    \n",
        "    Note\n",
        "    ----\n",
        "    It is possible to use p values less than 1, but those are special cases that we will ignore. \n",
        "    These special values are interesting for academic purposes, but in practice, you very likely won't need to know \n",
        "    about them.\n",
        "    \"\"\"\n",
        "\n",
        "    def __init__(self, p=2, reg_strength = 1.0):\n",
        "        \"\"\"\n",
        "        Parameters\n",
        "        ----------\n",
        "        \n",
        "        p: int or float\n",
        "            p-value used for calculating the distance of a vector in a certain metric space\n",
        "            \n",
        "        reg_strength: int or float\n",
        "            usually set to a value less than 1.0 to decrease the strength of the distance metric when used as a model regularizer\n",
        "            keep this value at 1.0 when measuring vector norms (i.e., vector lengths)\n",
        "        \"\"\"\n",
        "        \n",
        "        assert p >=1 , \"p-value must be greater than or equal to 1\"\n",
        "        \n",
        "        self.p = p\n",
        "        self.reg_strength = reg_strength\n",
        "                \n",
        "    def calc_squared_vector_comps(self):\n",
        "    \n",
        "        # raise each vector component in self.x to the power of p\n",
        "        # save result to self.squared_vector_comps\n",
        "        # YOUR CODE HERE\n",
        "        raise NotImplementedError()\n",
        "        \n",
        "    def calc_sum_of_squared_comp(self):\n",
        "        # take the sum of the squared components in self.squared_vector_comps\n",
        "        # save to self.sum_of_squared_comp\n",
        "        # hint: use tf.reduce_sum\n",
        "        # YOUR CODE HERE\n",
        "        raise NotImplementedError()\n",
        "        \n",
        "    def calc_vector_norm(self):\n",
        "        \n",
        "        # take the 1/p root of the self.sum_of_squared_comp in order to calculate the norm, i.e. ||x||\n",
        "        # save result to self.vector_norm\n",
        "        # YOUR CODE HERE\n",
        "        raise NotImplementedError()\n",
        "        \n",
        "        \n",
        "    def __call__(self, x):\n",
        "        \"\"\"\n",
        "        This method calculates the distance (i.e., norm) for vector x in Lp space for a value p given by the use.\n",
        "        \n",
        "        ‖𝑥‖𝑝 = (|𝑥_1|^𝑝 + |𝑥_2|^𝑝 + ⋯ +|𝑥_𝑛|^𝑝 )^1/𝑝\n",
        "        \n",
        "        Parameters\n",
        "        ----------\n",
        "        x: N-dimensional NumPy array or tensorflow tensor of floats \n",
        "            x is our vector, could be a weight vector, but any vector is valid \n",
        "            \n",
        "            \n",
        "        HINT\n",
        "        -----\n",
        "        It would help if you used self.p when calculating squared_vector_comps and vector_norm   \n",
        "        \"\"\"\n",
        "        \n",
        "        self.x = x\n",
        "        \n",
        "        # calculate these parts |𝑥_i|^𝑝\n",
        "        self.calc_squared_vector_comps()\n",
        "        \n",
        "        # calculate this |𝑥_1|^𝑝 + |𝑥_2|^𝑝 + ⋯ +|𝑥_𝑛|^𝑝\n",
        "        self.calc_sum_of_squared_comp()\n",
        "        \n",
        "        # calculate this (|𝑥_1|^𝑝 + |𝑥_2|^𝑝 + ⋯ +|𝑥_𝑛|^𝑝 )^1/𝑝\n",
        "        self.calc_vector_norm()\n",
        "        \n",
        "        # return the vector norm scaled by a regularization penalty\n",
        "        # we say penalty because the value is usually less than 1.0 thereby scaling down the norm\n",
        "        return self.reg_strength * self.vector_norm"
      ],
      "execution_count": null,
      "outputs": []
    },
    {
      "cell_type": "markdown",
      "metadata": {
        "id": "aYy6mbdVpVGY"
      },
      "source": [
        "------\n",
        "### Unit Test Your Code\n",
        "\n",
        "You know you wrote your class correctly when all the unit tests pass. \n",
        "\n",
        "So the code in the following cell should run without throwing a single error. \n",
        "\n",
        "Protip: you can comment out the 2nd and 3rd unit test to test your results for the first method and then uncomment as you go. Feel free to create a new cell and run your testing there."
      ]
    },
    {
      "cell_type": "code",
      "metadata": {
        "id": "i5NxP9SLpVGY"
      },
      "source": [
        "# instantiate the unit test class that will check the calculates of Lp_distance_metric_general_formula's methods\n",
        "tests = Test_distance_metric_solution()\n",
        "\n",
        "# instantiate Lp_distance_metric_general_formula, set p = 2 in order to derive the euclidean distance metric\n",
        "lp = Lp_distance_metric_general_formula( p=2, reg_strength = 1.0)\n",
        "\n",
        "# don't change this test_vector\n",
        "# Test_distance_metric_solution assumes that you're using ths exact test_vector\n",
        "test_vector = np.array([1., 2.])\n",
        "lp(test_vector)\n",
        "\n",
        "# test the calculations that are performed in each of the following lp class methods \n",
        "tests.test_squared_vector_comps(lp.squared_vector_comps)\n",
        "tests.test_sum_of_squared_comp(lp.sum_of_squared_comp)\n",
        "tests.test_vector_norm(lp.vector_norm.numpy())"
      ],
      "execution_count": null,
      "outputs": []
    },
    {
      "cell_type": "code",
      "metadata": {
        "id": "3hT7iIwxpVGZ"
      },
      "source": [
        "# note: because we use tf.reduce_sum to calculate sum_of_squared_comp\n",
        "# the result is inside of a tensor and we need to use .numpy() to get the scalar out of the tensor \n",
        "print (lp.vector_norm)"
      ],
      "execution_count": null,
      "outputs": []
    },
    {
      "cell_type": "code",
      "metadata": {
        "id": "6jVhEpLCpVGZ"
      },
      "source": [
        "print (lp.vector_norm.numpy())"
      ],
      "execution_count": null,
      "outputs": []
    },
    {
      "cell_type": "markdown",
      "metadata": {
        "id": "bXV065JspVGZ"
      },
      "source": [
        "----"
      ]
    },
    {
      "cell_type": "markdown",
      "metadata": {
        "id": "myiX087upVGa"
      },
      "source": [
        "### Apply Our $L_p$ Space Class\n",
        "\n",
        "Next, we will use our distance metric class to calculate our vector's euclidean and taxicab distance below."
      ]
    },
    {
      "cell_type": "code",
      "metadata": {
        "id": "gd1yFi-2pVGa"
      },
      "source": [
        "# W is a 2D vector with an x and y component, i.e. (x, y) = (4,3)\n",
        "w = np.array([4., 3.])\n",
        "\n",
        "# origin point - we need to specify the starting point for plotting\n",
        "origin = np.array([0,0])\n",
        "\n",
        "plt.figure(figsize=(10, 6))\n",
        "ax = plt.axes()\n",
        "\n",
        "ax.arrow(origin[0], origin[1], w[0], w[1], head_width=0.5, head_length=0.7, fc='lightblue', ec='black')\n",
        "\n",
        "plt.grid()\n",
        "plt.yticks(np.arange(0,5))\n",
        "plt.xticks(np.arange(0,6));"
      ],
      "execution_count": null,
      "outputs": []
    },
    {
      "cell_type": "markdown",
      "metadata": {
        "id": "I6ciqvcBpVGa"
      },
      "source": [
        "## Derive Euclidean Distance From the General Formula \n",
        "\n",
        "Below is the general formula for distance metrics. Where we have an N-dimensional weight vector **w**, notice that the general formula has a vector component for each N dimension. Hence, it is the general formula.\n",
        "\n",
        "$${\\displaystyle \\left\\|\\textbf{w}\\right\\|_{p}=\\left(|w_{1}|^{p}+|w_{2}|^{p}+\\dotsb +|w_{n}|^{p}\\right)^{1/p}.}$$\n",
        " \n",
        "\n",
        "Let N = 2 such that our weight vector now exists in 2-dimensional space. \n",
        "\n",
        "Let p = 2 such that our weight vector's distance will be calculated in $L_{p=2}$ space.\n",
        "\n",
        "In which case, our general formula gets reduced from N-dimensions to 2-dimensions. So now we only need to consider a distance formula for a vector with 2 components, one for each dimension.\n",
        "\n",
        "$$||\\textbf{w}||_{p=2} = ((x_2 - x_1)^2 + (y_2 - y_1)^2)^{1/2}$$\n",
        "\n",
        "Now re-express the square root, and we arrive at the familiar euclidean distance from high school algebra. \n",
        "\n",
        "$$||\\textbf{w}||_{p=2} = \\sqrt{(x_2 - x_1)^2 + (y_2 - y_1)^2}$$\n",
        "\n",
        "\n",
        "You might wonder why the general case doesn't differ for the components, but the euclidean distance explicitly shows the component-wise differences. It is common in mathematics to suppress certain information, especially if it is \"obvious\" - however, it is highly relative. \n",
        "\n",
        "The general formula assumes that the vector starts at the origin, in which case, there's no need to show the subtraction of zero from a vector component. \n",
        "\n",
        "Assuming that our vector starts at the origin (and it does), the formula can be reduced to \n",
        "\n",
        "$$||\\textbf{w}||_{p=2} = \\sqrt{(x_2 - 0)^2 + (y_2 - 0)^2}$$\n",
        "\n",
        "$$||\\textbf{w}||_{p=2} = \\sqrt{x_2^2 + y_2^2}$$"
      ]
    },
    {
      "cell_type": "markdown",
      "metadata": {
        "id": "xtzoTS4KpVGa"
      },
      "source": [
        "### Euclidean Distance of Our Vector \n",
        "\n",
        "With **p=2** in our `Lp_distance_metric_general_formula` class, we can calculate the euclidean distance of our vector **w**. Therefore, I encourage you to either solve the euclidean distance of our vector either in your head or on paper to prove to yourself that the above formula that we derived works and gives you `5` as an answer. "
      ]
    },
    {
      "cell_type": "code",
      "metadata": {
        "deletable": false,
        "nbgrader": {
          "cell_type": "code",
          "checksum": "bf0cdea85e37c69f73956bf851cba8d6",
          "grade": false,
          "grade_id": "cell-74dae14f4bbad1ab",
          "locked": false,
          "schema_version": 3,
          "solution": true,
          "task": false
        },
        "id": "3THiIg4NpVGb"
      },
      "source": [
        "# YOUR CODE HERE\n",
        "raise NotImplementedError()"
      ],
      "execution_count": null,
      "outputs": []
    },
    {
      "cell_type": "markdown",
      "metadata": {
        "id": "i80uH20KpVGb"
      },
      "source": [
        "-----\n",
        "\n",
        "## Derive Taxicab Distance From the General Formula \n",
        "\n",
        "This formula is the general formula for distance metrics. Where we have an N-dimensional weight vector **w**, notice that the general formula has a vector component for each N dimensions. Hence, it is the general formula.\n",
        "\n",
        "$${\\displaystyle \\left\\|\\textbf{w}\\right\\|_{p}=\\left(|w_{1}|^{p}+|w_{2}|^{p}+\\dotsb +|w_{n}|^{p}\\right)^{1/p}.}$$\n",
        " \n",
        "\n",
        "Let N = 2 such that our weight vector now exists in 2-dimensional space. \n",
        "\n",
        "Let p = 1 such that our weight vector's distance will be calculated in $L_{p=1}$ space \n",
        "\n",
        "\n",
        "In which case, our general formula gets reduced from N-dimensions to 2-dimensions. So now we only need to consider a distance formula for a vector with 2 components, one for each dimension.\n",
        "\n",
        "$$||\\textbf{w}||_{p=1} = ((x_2 - x_1)^1 + (y_2 - y_1)^1)^{1/1}$$\n",
        "\n",
        "There's no need to express all those 1's\n",
        "\n",
        "$$||\\textbf{w}||_{p=1} = (x_2 - x_1) + (y_2 - y_1) $$\n",
        "\n",
        "Assuming that our vector starts at the origin (which it does)\n",
        "\n",
        "$$||\\textbf{w}||_{p=1} = (x_2 - 0) + (y_2 - 0) $$\n",
        "\n",
        "\n",
        "\n",
        "$$||\\textbf{w}||_{p=1} = x + y $$\n",
        "\n",
        "We have just derived the taxicab distance metric from the general formula. The above equation tells us to add up all the x and y-direction steps to calculate the Taxicab distance."
      ]
    },
    {
      "cell_type": "markdown",
      "metadata": {
        "id": "ghRTEZgJpVGb"
      },
      "source": [
        "### Taxicab distance of our Vector \n",
        "\n",
        "With **p=1** in our `Lp_distance_metric_general_formula` class, we can calculate the taxicab distance of our vector **w**. This distance we can easily calculate in our head. Look at the vector plot and add up all the x and y components, i.e., count up all the steps you have to take to \"walk\" from the origin to the head of the vector. Do this to prove to yourself that the taxicab distance of our vector is `7`. "
      ]
    },
    {
      "cell_type": "code",
      "metadata": {
        "deletable": false,
        "nbgrader": {
          "cell_type": "code",
          "checksum": "9a527c635255f30979d1759e4ecc480d",
          "grade": false,
          "grade_id": "cell-9bf41d7142ad35e9",
          "locked": false,
          "schema_version": 3,
          "solution": true,
          "task": false
        },
        "id": "BMLafKBPpVGb"
      },
      "source": [
        "# use Lp_distance_metric_general_formula class to calculate the taxicab distance of w\n",
        "\n",
        "# YOUR CODE HERE\n",
        "raise NotImplementedError()"
      ],
      "execution_count": null,
      "outputs": []
    },
    {
      "cell_type": "markdown",
      "metadata": {
        "id": "msu3E_XIpVGc"
      },
      "source": [
        "### Elastic Net Distance \n",
        "\n",
        "\n",
        "Elastic Net is a combination of L1 and L2. Compare the geometry below. \n",
        "\n",
        "![](https://ds100.org/sp17/assets/notebooks/linear_regression/norm_balls.png)\n",
        "\n",
        "The mathematical derivation of the distance metric for  $L_{p=3/2}$ space will be left to you as an optional exercise. "
      ]
    },
    {
      "cell_type": "code",
      "metadata": {
        "deletable": false,
        "nbgrader": {
          "cell_type": "code",
          "checksum": "0f19be155b2e5be75c855710eab34cdd",
          "grade": false,
          "grade_id": "cell-d657c845dbb1ab23",
          "locked": false,
          "schema_version": 3,
          "solution": true,
          "task": false
        },
        "id": "bwkcuPDcpVGc"
      },
      "source": [
        "# use Lp_distance_metric_general_formula class to calculate the Elastic Net distance of w\n",
        "\n",
        "# YOUR CODE HERE\n",
        "raise NotImplementedError()"
      ],
      "execution_count": null,
      "outputs": []
    },
    {
      "cell_type": "markdown",
      "metadata": {
        "id": "QVo2vFzVpVGc"
      },
      "source": [
        "-----\n",
        "\n",
        "## Use Custom Lp Space Class in Modeling\n",
        "\n",
        "Let's create a function that returns compiled keras models so that we can run an experiment in order to compare the modeling results from using a keras L2 and our custom L2 regularizer. "
      ]
    },
    {
      "cell_type": "markdown",
      "metadata": {
        "id": "aHfaf24qpVGc"
      },
      "source": [
        "-----\n",
        "### Load Data"
      ]
    },
    {
      "cell_type": "code",
      "metadata": {
        "id": "eXxiW2mopVGc"
      },
      "source": [
        "def load_data():\n",
        "    \"\"\"\n",
        "    Load in and normalize the image data set\n",
        "    \"\"\"\n",
        "    \n",
        "    # load in our dataset \n",
        "    (X_train, y_train), (X_test, y_test) = fashion_mnist.load_data()\n",
        "\n",
        "    # normalize pixel values between 0 and 1 \n",
        "    max_pixel_value = X_train.max()\n",
        "    X_train, X_test = X_train /max_pixel_value , X_test / max_pixel_value\n",
        "    \n",
        "    return X_train, y_train, X_test, y_test"
      ],
      "execution_count": 6,
      "outputs": []
    },
    {
      "cell_type": "code",
      "metadata": {
        "id": "kopv9HFcpVGc",
        "colab": {
          "base_uri": "https://localhost:8080/"
        },
        "outputId": "6909d3f5-f84e-467b-e537-45891a627a3e"
      },
      "source": [
        "X_train, y_train, X_test, y_test = load_data()"
      ],
      "execution_count": 7,
      "outputs": [
        {
          "output_type": "stream",
          "name": "stdout",
          "text": [
            "Downloading data from https://storage.googleapis.com/tensorflow/tf-keras-datasets/train-labels-idx1-ubyte.gz\n",
            "32768/29515 [=================================] - 0s 0us/step\n",
            "40960/29515 [=========================================] - 0s 0us/step\n",
            "Downloading data from https://storage.googleapis.com/tensorflow/tf-keras-datasets/train-images-idx3-ubyte.gz\n",
            "26427392/26421880 [==============================] - 0s 0us/step\n",
            "26435584/26421880 [==============================] - 0s 0us/step\n",
            "Downloading data from https://storage.googleapis.com/tensorflow/tf-keras-datasets/t10k-labels-idx1-ubyte.gz\n",
            "16384/5148 [===============================================================================================] - 0s 0us/step\n",
            "Downloading data from https://storage.googleapis.com/tensorflow/tf-keras-datasets/t10k-images-idx3-ubyte.gz\n",
            "4423680/4422102 [==============================] - 0s 0us/step\n",
            "4431872/4422102 [==============================] - 0s 0us/step\n"
          ]
        }
      ]
    },
    {
      "cell_type": "code",
      "metadata": {
        "id": "XrOV89eypVGd",
        "colab": {
          "base_uri": "https://localhost:8080/"
        },
        "outputId": "320f97eb-12fd-4c14-fb85-7e5232ffe2f6"
      },
      "source": [
        "# this is equal to the number of nodes in the output layer\n",
        "N_labels = len(np.unique(y_train))\n",
        "N_labels"
      ],
      "execution_count": 15,
      "outputs": [
        {
          "output_type": "execute_result",
          "data": {
            "text/plain": [
              "10"
            ]
          },
          "metadata": {},
          "execution_count": 15
        }
      ]
    },
    {
      "cell_type": "code",
      "metadata": {
        "id": "OeUVmADkpVGd"
      },
      "source": [
        "def create_model(reg=None):\n",
        "    # instantiate Sequential class\n",
        "    model = Sequential([\n",
        "\n",
        "    # flatten images \n",
        "        Flatten(input_shape=(28,28)), # images will be flattend out to 784 dims row vectors \n",
        "\n",
        "    # hidden layer 1\n",
        "        Dense(500, kernel_regularizer=reg),\n",
        "\n",
        "    # act func 1\n",
        "        ReLU(negative_slope=0.01),\n",
        "\n",
        "    # output layer \n",
        "        Dense(10, activation =\"softmax\")   \n",
        "    ])\n",
        "\n",
        "    # compile model \n",
        "    model.compile(loss=\"sparse_categorical_crossentropy\", \n",
        "                  optimizer= \"adam\", \n",
        "                  metrics=[\"accuracy\"])\n",
        "    \n",
        "    return model"
      ],
      "execution_count": null,
      "outputs": []
    },
    {
      "cell_type": "markdown",
      "metadata": {
        "id": "cu_L8DqwpVGd"
      },
      "source": [
        "----\n",
        "\n",
        "## Experiment 1: Calculate Vector Lengths Using Keras and Custom Regularizer"
      ]
    },
    {
      "cell_type": "markdown",
      "metadata": {
        "id": "lyImp6cgpVGd"
      },
      "source": [
        "\n",
        "\n",
        "If you read the [**Keras Documentation**](https://keras.io/api/layers/regularizers/) for their implementation of L2 regularization, you'll see this:\n",
        "\n",
        "    The L2 regularization penalty is computed as: loss = l2 * reduce_sum(square(x))\n",
        "    \n",
        "Notice that Keras isn't taking the square root for L2 whereas we are taking the square root.\n",
        "\n",
        "Why isn't Keras taking the square root? I don't know, but we will stay true to the math and take the square root for our implementation of L2 regularization. \n",
        " "
      ]
    },
    {
      "cell_type": "code",
      "metadata": {
        "id": "sD8SmKfgpVGd"
      },
      "source": [
        "custom_l2 = Lp_distance_metric_general_formula(p=2, reg_strength = 1.0)\n",
        "# the length of the W vector from above as calculated by the formula that we derived \n",
        "custom_l2(W).numpy()"
      ],
      "execution_count": null,
      "outputs": []
    },
    {
      "cell_type": "code",
      "metadata": {
        "id": "8I1aE-O9pVGd"
      },
      "source": [
        "from keras.regularizers import L2\n",
        "keras_l2 = L2(l2=1.0)\n",
        "# again Keras doesn't take the square root\n",
        "keras_l2(W).numpy()"
      ],
      "execution_count": null,
      "outputs": []
    },
    {
      "cell_type": "code",
      "metadata": {
        "id": "BGYuR3ikpVGe"
      },
      "source": [
        "# but if we take the square root, then we get the same answer that our custom regularizer class gives us \n",
        "np.sqrt(keras_l2(W).numpy())"
      ],
      "execution_count": null,
      "outputs": []
    },
    {
      "cell_type": "markdown",
      "metadata": {
        "id": "sTBbzHFXpVGe"
      },
      "source": [
        "----\n",
        "## Experiment 2: Compare Keras L2 and Custom L2 Regularization in a Model\n",
        "\n",
        "\n",
        "### Use Keras Built-in L2 Regularizer \n",
        "\n",
        "Make sure to use the same regularization strength in the Keras pre-built L2 regularizer and our custom L2 regularizer."
      ]
    },
    {
      "cell_type": "code",
      "metadata": {
        "id": "c18sXQmJpVGe"
      },
      "source": [
        "model_keras_l2 = create_model(reg=L2(l2=0.01))\n",
        "keras_l2_results = model_keras_l2.fit(X_train, y_train,\n",
        "                                      epochs=1,\n",
        "                                      validation_data=(X_test, y_test), \n",
        "                                      workers=10) # check! You might not be able to use 10 processors on your machine "
      ],
      "execution_count": null,
      "outputs": []
    },
    {
      "cell_type": "markdown",
      "metadata": {
        "id": "t6y0exm1pVGe"
      },
      "source": [
        "### Use Custom Regularization Class \n",
        "\n",
        "Make sure to use the same regularization strength in the Keras pre-built L2 regularizer and our custom L2 regularizer."
      ]
    },
    {
      "cell_type": "code",
      "metadata": {
        "id": "_N_n4ZdNpVGf"
      },
      "source": [
        "# set p= 2 so that we are using the same L2 regularizer as above\n",
        "lp = Lp_distance_metric_general_formula(p=2, reg_strength = 0.01)"
      ],
      "execution_count": null,
      "outputs": []
    },
    {
      "cell_type": "code",
      "metadata": {
        "id": "bGmzLHkepVGf"
      },
      "source": [
        "model_custom_l2 = create_model(reg=lp)\n",
        "custom_l2_results = model_custom_l2.fit(X_train, y_train,\n",
        "                                      epochs=1,\n",
        "                                      validation_data=(X_test, y_test), \n",
        "                                      workers=10) # check! You might not be able to use 10 processors on your machine "
      ],
      "execution_count": null,
      "outputs": []
    },
    {
      "cell_type": "markdown",
      "metadata": {
        "id": "m5cdq1n1pVGf"
      },
      "source": [
        "----\n",
        "### Compare Model Results\n",
        "\n",
        "Let's compare the modeling results between the two models. \n",
        "\n",
        "Whatever the specific test accuracies are, it should be the case that using our custom class leads to slightly better results than using the Keras version of $L_2$ regularization.\n",
        "\n",
        "There is a small difference between test accuracies, possiblly due to the random sampling for the initial weight values. But also possibly from the observation that we made above - Keras isn't taking the square root. "
      ]
    },
    {
      "cell_type": "code",
      "metadata": {
        "id": "WGzW7n7apVGf"
      },
      "source": [
        "_, keras_acc = model_keras_l2.evaluate(X_test, y_test)"
      ],
      "execution_count": null,
      "outputs": []
    },
    {
      "cell_type": "code",
      "metadata": {
        "id": "6PUfFGYBpVGf"
      },
      "source": [
        "_, custom_acc = model_custom_l2.evaluate(X_test, y_test)"
      ],
      "execution_count": null,
      "outputs": []
    },
    {
      "cell_type": "markdown",
      "metadata": {
        "id": "rhvfMYxdpVGf"
      },
      "source": [
        "\n",
        "### Conclusion \n",
        "\n",
        "In this experiment, we have bridged the gap between the theory of **$L_p$ Space Regularization** and the practice of using the general formula as a starting point to derive and build our very own regularizers. \n",
        "\n",
        "This experiment (and the perceptron that we built from scratch in Sprint 2 Module 1) are examples of **mathematical algorithms** - an algorithm in mathematics is a procedure, a description of a set of steps that can be used to solve a mathematical computation.\n",
        "\n",
        "It's one thing to use open-source pre-built mathematical algorithms like Keras regularizers and Sklearn ML models, but building them from scratch is quite another thing. \n",
        "\n",
        "You'll need to know when you should build something from scratch and when to use an open-source solution in the industry. The rule of thumb is don't build it if someone else already has because maintaining the code and fixing bugs is something that other developers (i.e., the open-source community) can spend their time on, and you don't have to. But if an open-source solution doesn't exist for a solution you need, you'll need to build it or try an alternative solution.\n",
        "\n",
        "It's a good thing you're taking the time to practice building some mathematical algorithms from scratch. It's a very valuable skill to have. "
      ]
    },
    {
      "cell_type": "markdown",
      "metadata": {
        "id": "M8_vE67ppVGg"
      },
      "source": [
        "-----\n",
        "# GridSearch Experiments \n",
        "\n",
        "The next set of experiments will all involve gridsearching regularization parameter values. \n",
        "\n",
        "The rest of the notebook will require very little coding on your part. Instead, the focus is to run those gridsearches and answer the questions at the end of each experiment. Those questions are designed to help you capture the insights that there are to learn from each experiment. \n",
        "\n",
        "The following experiments are designed to help you better understand the relationship between the various regularization techniques and how they affect model performance. \n",
        "\n",
        "\n",
        "### Build Model\n",
        "\n",
        "Let's build out the model that we'll be using throughout our experiments. \n",
        "\n",
        "Remember that **the whole point of regularization is to prevent overfitting.**\n",
        "\n",
        "\n",
        "![](https://hackernoon.com/hn-images/1*vuZxFMi5fODz2OEcpG-S1g.png)\n",
        "\n",
        "Overfitting happens when our models are too complex, so to benefit from regularization techniques, we need to build a relatively complex model. \n",
        "\n",
        "You might not have the computational resource to train a complex model in a reasonable amount of time. So if this describes you, then you might want to consider using `build_simple_model`. Otherwise, I recommend that you use `build_complex_model`. \n",
        "\n",
        "This notebook will be using  `build_complex_model` to run our experiments. \n",
        "\n",
        "**NOTE:** Whichever function you use to build a model, take time to read through the code and make sure you understand what is happening. "
      ]
    },
    {
      "cell_type": "code",
      "metadata": {
        "id": "pqm8Ix_hpVGg"
      },
      "source": [
        "def build_complex_model(Lp_reg=None, reg_penality=None, dropout_prob=0.0, maxnorm_wc=None):\n",
        "    \"\"\"\n",
        "    Build and return a regularized 3 hidden layer FCFF model \n",
        "    \n",
        "    Parameters\n",
        "    ----------\n",
        "    Lp_reg: None or object\n",
        "        If object, Lp_reg is either l1 or l2 regularization \n",
        "        If None, that means that l1 or l2 regularization will not be used.\n",
        "     \n",
        "    reg_penality: None or float\n",
        "        If float, reg_penality is a value typically between 1.0 and 0.0001\n",
        "        This is the regularization strength for l1 or l2 \n",
        "        \n",
        "        \n",
        "    dropout_prob: float\n",
        "        This is the probability that dropout regularization will exclude a node from a training iteration. \n",
        "        If this value is 0.0, that means that dropout will not be used. \n",
        "        \n",
        "    maxnorm_wc: None or float\n",
        "        If float, maxnorm_wc is the weight constraint that is used for Max Norm regularization\n",
        "        If None, that means that Max Norm regularization will not be used.\n",
        "        \n",
        "        \n",
        "    Return\n",
        "    ------\n",
        "    model: compiled Keras model\n",
        "    \"\"\"\n",
        "    \n",
        "    # if reg_type is not None, then pass in the penality strength to whatever form of Lp space regularization this is \n",
        "    if Lp_reg is not None:\n",
        "        Lp_regularizer = Lp_reg(reg_penality)\n",
        "    else:\n",
        "        Lp_regularizer = None\n",
        "                \n",
        "    if maxnorm_wc is not None:\n",
        "        wc = MaxNorm(max_value=maxnorm_wc)\n",
        "    else:\n",
        "        wc = None\n",
        "\n",
        "\n",
        "    # instantiate Sequential class\n",
        "    model = Sequential([\n",
        "\n",
        "    # flatten images \n",
        "    Flatten(input_shape=(28,28)),\n",
        "\n",
        "    # hidden layer 1\n",
        "    Dense(500, kernel_regularizer=Lp_regularizer , kernel_constraint=wc), # remember that Keras refers to weight matrix as a kernel, i.e. weights = kernel\n",
        "    # act func 1\n",
        "    ReLU(negative_slope=0.01),\n",
        "    Dropout(dropout_prob),\n",
        "\n",
        "    # hidden layer 2\n",
        "    Dense(250, kernel_regularizer=Lp_regularizer, kernel_constraint=wc),\n",
        "    # act func 2\n",
        "    ReLU(negative_slope=0.01),\n",
        "    Dropout(dropout_prob),\n",
        "\n",
        "    # hidden layer 3\n",
        "    Dense(100, kernel_regularizer=Lp_regularizer, kernel_constraint=wc),\n",
        "    # act func 2\n",
        "    ReLU(negative_slope=0.01),\n",
        "    Dropout(dropout_prob),\n",
        "\n",
        "    # output layer   \n",
        "    Dense(N_labels, activation=\"softmax\")  \n",
        "\n",
        "    ])\n",
        "    # compile model \n",
        "    model.compile(loss=\"sparse_categorical_crossentropy\", \n",
        "                 optimizer=\"adam\", \n",
        "                 metrics=[\"accuracy\"])\n",
        "    \n",
        "    return model"
      ],
      "execution_count": 2,
      "outputs": []
    },
    {
      "cell_type": "markdown",
      "metadata": {
        "id": "N0RsVlytpVGg"
      },
      "source": [
        "Again, only use `build_simple_model` instead of `build_complex_model` if you're working on a machine with a very limited computational resource. "
      ]
    },
    {
      "cell_type": "code",
      "metadata": {
        "id": "u2dSG5sbpVGg"
      },
      "source": [
        "# def build_simple_model(Lp_reg=None, reg_penality=None, dropout_prob=0, maxnorm_wc=None):\n",
        "#     \"\"\"\n",
        "#     Build and return a regularized 1 hidden layer FCFF model \n",
        "    \n",
        "#     Parameters\n",
        "#     ----------\n",
        "#     Lp_reg: None or object\n",
        "#         If object, Lp_reg is either l1 or l2 regularization \n",
        "#         If None, that means that l1 or l2 regularization will not be used.\n",
        "     \n",
        "#     reg_penality: None or float\n",
        "#         If float, reg_penality is a value typically between 1.0 and 0.0001\n",
        "#         This is the regularization strength for l1 or l2 \n",
        "        \n",
        "        \n",
        "#     dropout_prob: float\n",
        "#         This is the probability that dropout regularization will exclude a node from a training iteration. \n",
        "#         If this value is 0.0, that means that dropout will not be used. \n",
        "        \n",
        "#     maxnorm_wc: None or float\n",
        "#         If float, maxnorm_wc is the weight constraint that is used for Max Norm regularization\n",
        "#         If None, that means that Max Norm regularization will not be used.\n",
        "        \n",
        "        \n",
        "#     Return\n",
        "#     ------\n",
        "#     model: compiled Keras model\n",
        "#     \"\"\"\n",
        "    \n",
        "#     if Lp_reg is not None:\n",
        "#         Lp_regularizer = Lp_reg(reg_penality)\n",
        "#     else:\n",
        "#         Lp_regularizer = None\n",
        "\n",
        "#     # instantiate Sequential class\n",
        "#     model = Sequential([\n",
        "\n",
        "#     # flatten images \n",
        "#     Flatten(input_shape=(28,28)),\n",
        "\n",
        "#     # hidden layer 1\n",
        "#     Dense(128,  kernel_regularizer=Lp_regularizer, kernel_constraint=maxnorm_wc), # remember that Keras refers to weight matrix as a kernel, i.e. weights = kernel\n",
        "#     # act func 1\n",
        "#     ReLU(negative_slope=0.01),\n",
        "#     Dropout(p_dropout),\n",
        "\n",
        "#     # output layer   \n",
        "#     Dense(N_labels, activation=\"softmax\")  \n",
        "\n",
        "#     ])\n",
        "#     # compile model \n",
        "#     model.compile(loss=\"sparse_categorical_crossentropy\", \n",
        "#                  optimizer=\"adam\", \n",
        "#                  metrics=[\"accuracy\"])\n",
        "    \n",
        "#     return model"
      ],
      "execution_count": null,
      "outputs": []
    },
    {
      "cell_type": "markdown",
      "metadata": {
        "id": "_b61xjXBpVGg"
      },
      "source": [
        "Since we'll be using Sklearn's GridserchCV class, we need to wrap our Keras models in `KerasClassifier`"
      ]
    },
    {
      "cell_type": "code",
      "metadata": {
        "id": "-m7WfjA-pVGh"
      },
      "source": [
        "# remember to wrap KerasClassifier around build_model for sklearn's GridsearchCV compatibility \n",
        "model = KerasClassifier(build_fn = build_complex_model)"
      ],
      "execution_count": 3,
      "outputs": []
    },
    {
      "cell_type": "markdown",
      "metadata": {
        "id": "tkD-6BpCpVGh"
      },
      "source": [
        "-------\n",
        "\n",
        "# Experiment 1: Identify the Relationship Between Model Performance and L2 Penalty Strength\n",
        "\n",
        "![](https://www.researchgate.net/publication/334159821/figure/fig1/AS:776025558495234@1562030319993/Ridge-regression-variable-selection.png)\n",
        "\n",
        "We will run a gridsearch solely on the l2 regularization penalty value and see the effect on model performance.\n",
        "\n",
        "By running a gridseach on a single hyperparameter (while using the same data and model) we can isolate the effect of that hyperparameter. "
      ]
    },
    {
      "cell_type": "code",
      "metadata": {
        "id": "Bu6LRmoppVGh"
      },
      "source": [
        "# build out our hyperparameter dictionary \n",
        "hyper_parameters = {\n",
        "    # take note that Lp_reg penalty/strength values are in powers of 10 \n",
        "    \"reg_penality\": [1.0, 0.1, 0.01, 0.001, 0.0001, 0.00001], \n",
        "    # Since we only want to test l2, provide l2 as the sole option \n",
        "    \"Lp_reg\": [l2],\n",
        "    # default is 1, in order to change it we must provide value here because we can't provide a parameter value for model.fit() directly when using gridsearch\n",
        "    # protip: consider changing epochs to 1 if the gridsearch run-time is too long for you\n",
        "    \"epochs\": [1] \n",
        "}"
      ],
      "execution_count": 13,
      "outputs": []
    },
    {
      "cell_type": "code",
      "metadata": {
        "id": "5qPDMf_upVGh",
        "colab": {
          "base_uri": "https://localhost:8080/"
        },
        "outputId": "b85c21d2-e93c-477d-e3ab-c9b39553e088"
      },
      "source": [
        "start=time()\n",
        "# Create and run Grid Search\n",
        "grid = GridSearchCV(estimator=model, \n",
        "                    param_grid=hyper_parameters, \n",
        "                    n_jobs=-3, \n",
        "                    verbose=1, \n",
        "                    cv=2)\n",
        "\n",
        "grid_result = grid.fit(X_train, y_train)\n",
        "end=time()"
      ],
      "execution_count": 16,
      "outputs": [
        {
          "output_type": "stream",
          "name": "stdout",
          "text": [
            "Fitting 2 folds for each of 6 candidates, totalling 12 fits\n"
          ]
        },
        {
          "output_type": "stream",
          "name": "stderr",
          "text": [
            "[Parallel(n_jobs=-3)]: Using backend SequentialBackend with 1 concurrent workers.\n"
          ]
        },
        {
          "output_type": "stream",
          "name": "stdout",
          "text": [
            "938/938 [==============================] - 8s 8ms/step - loss: 29.5500 - accuracy: 0.1188\n",
            "938/938 [==============================] - 3s 3ms/step - loss: 2.3032 - accuracy: 0.0987\n",
            "938/938 [==============================] - 8s 8ms/step - loss: 29.7220 - accuracy: 0.1089\n",
            "938/938 [==============================] - 3s 3ms/step - loss: 2.3029 - accuracy: 0.1004\n",
            "938/938 [==============================] - 9s 9ms/step - loss: 4.5246 - accuracy: 0.5883\n",
            "938/938 [==============================] - 3s 3ms/step - loss: 1.4536 - accuracy: 0.6614\n",
            "938/938 [==============================] - 8s 8ms/step - loss: 4.5157 - accuracy: 0.5614\n",
            "938/938 [==============================] - 3s 3ms/step - loss: 1.4895 - accuracy: 0.6398\n",
            "938/938 [==============================] - 8s 8ms/step - loss: 1.7179 - accuracy: 0.7565\n",
            "938/938 [==============================] - 3s 3ms/step - loss: 0.8980 - accuracy: 0.7777\n",
            "938/938 [==============================] - 8s 8ms/step - loss: 1.6935 - accuracy: 0.7459\n",
            "938/938 [==============================] - 3s 3ms/step - loss: 0.9122 - accuracy: 0.7835\n",
            "938/938 [==============================] - 7s 7ms/step - loss: 1.0066 - accuracy: 0.7966\n",
            "938/938 [==============================] - 3s 3ms/step - loss: 0.7311 - accuracy: 0.8289\n",
            "938/938 [==============================] - 7s 7ms/step - loss: 1.0359 - accuracy: 0.7940\n",
            "938/938 [==============================] - 3s 3ms/step - loss: 0.7525 - accuracy: 0.8224\n",
            "938/938 [==============================] - 8s 8ms/step - loss: 0.6400 - accuracy: 0.8044\n",
            "938/938 [==============================] - 3s 3ms/step - loss: 0.5157 - accuracy: 0.8440\n",
            "938/938 [==============================] - 7s 8ms/step - loss: 0.6316 - accuracy: 0.8026\n",
            "938/938 [==============================] - 3s 3ms/step - loss: 0.5170 - accuracy: 0.8477\n",
            "938/938 [==============================] - 8s 8ms/step - loss: 0.5523 - accuracy: 0.8058\n",
            "938/938 [==============================] - 3s 3ms/step - loss: 0.4277 - accuracy: 0.8490\n",
            "938/938 [==============================] - 8s 8ms/step - loss: 0.5477 - accuracy: 0.8068\n",
            "938/938 [==============================] - 3s 3ms/step - loss: 0.4307 - accuracy: 0.8520\n"
          ]
        },
        {
          "output_type": "stream",
          "name": "stderr",
          "text": [
            "[Parallel(n_jobs=-3)]: Done  12 out of  12 | elapsed:  2.4min finished\n"
          ]
        },
        {
          "output_type": "stream",
          "name": "stdout",
          "text": [
            "1875/1875 [==============================] - 15s 8ms/step - loss: 0.4967 - accuracy: 0.8233\n"
          ]
        }
      ]
    },
    {
      "cell_type": "code",
      "metadata": {
        "id": "r_h1v4_GpVGh",
        "colab": {
          "base_uri": "https://localhost:8080/"
        },
        "outputId": "a979021c-666c-46f8-e4de-a393d90b2958"
      },
      "source": [
        "print(\"Gridsearch runtime {0:.3} mins\".format( (end-start)/60 ))"
      ],
      "execution_count": 17,
      "outputs": [
        {
          "output_type": "stream",
          "name": "stdout",
          "text": [
            "Gridsearch runtime 2.64 mins\n"
          ]
        }
      ]
    },
    {
      "cell_type": "code",
      "metadata": {
        "id": "SlBJNA3qpVGh",
        "colab": {
          "base_uri": "https://localhost:8080/",
          "height": 408
        },
        "outputId": "7ff7bff1-5269-46ef-a73b-6d6340a48833"
      },
      "source": [
        "# use the mean accuracy from the CV splits for determining best model score \n",
        "means = grid_result.cv_results_['mean_test_score']\n",
        "stds = grid_result.cv_results_['std_test_score']\n",
        "params = grid_result.cv_results_['params']\n",
        "\n",
        "# move l2 penalty values outside of dictionary and into a list\n",
        "param_values = [dic[\"reg_penality\"] for dic in params]\n",
        "\n",
        "# plot accuracy vs l2_reg_penalty\n",
        "plt.figure(figsize=(20,6))\n",
        "plt.grid()\n",
        "\n",
        "# this plot is using the std of the CV splits to plot error bars however those values are so small that they aren't visable\n",
        "plt.errorbar(param_values, means, yerr=stds, ecolor=\"orange\")\n",
        "plt.xscale(\"log\") # use a log scale for ease of reading, recall that l2_reg_penalty were in powers of 10 \n",
        "plt.title(\"L2 Regularization: Model Accuracy vs L2 Penalty Strength\")\n",
        "plt.ylabel(\"Validation Accuracy\", )\n",
        "plt.xlabel(\"L2 Penalty Strength using a Log Scale\");"
      ],
      "execution_count": 18,
      "outputs": [
        {
          "output_type": "display_data",
          "data": {
            "image/png": "[encoded data removed]",
            "text/plain": [
              "<Figure size 1440x432 with 1 Axes>"
            ]
          },
          "metadata": {
            "needs_background": "light"
          }
        }
      ]
    },
    {
      "cell_type": "markdown",
      "metadata": {
        "id": "ZyCsl3XcpVGh"
      },
      "source": [
        "### Observations\n",
        "\n",
        "Write down some observations. What do you notice from the plot?"
      ]
    },
    {
      "cell_type": "markdown",
      "metadata": {
        "deletable": false,
        "nbgrader": {
          "cell_type": "markdown",
          "checksum": "089b55b5a84d9c96c51fd341d9e6c74f",
          "grade": true,
          "grade_id": "cell-010212fc0915b976",
          "locked": false,
          "points": 0,
          "schema_version": 3,
          "solution": true,
          "task": false
        },
        "id": "ly8MMw5xpVGh"
      },
      "source": [
        "YOUR ANSWER HERE\n",
        "\n",
        "As the L2 Penalty Strength increases, the validation accuracy decreases."
      ]
    },
    {
      "cell_type": "markdown",
      "metadata": {
        "id": "Bo3bQsu_pVGi"
      },
      "source": [
        "\n",
        "## Compare Weights Between Best and Worst Model \n",
        "\n",
        "Next, we will compare the hidden layer weights between the best and worst-performing models while noting the respective l2 penalty strengths."
      ]
    },
    {
      "cell_type": "code",
      "metadata": {
        "id": "TQo_DOg7pVGi"
      },
      "source": [
        "# get the best l2 penalty term \n",
        "best_lr_penalty = grid_result.best_params_[\"reg_penality\"]\n",
        "\n",
        "# get the best trained model \n",
        "best_model = grid_result.best_estimator_.build_fn(Lp_reg=l2, reg_penality=best_lr_penalty)\n",
        "\n",
        "# get the weights from the best trained model \n",
        "best_weights = best_model.get_weights()"
      ],
      "execution_count": 21,
      "outputs": []
    },
    {
      "cell_type": "code",
      "metadata": {
        "id": "e_DXJH8lpVGi",
        "colab": {
          "base_uri": "https://localhost:8080/"
        },
        "outputId": "e62c5055-b113-41ed-f56e-453ff3018139"
      },
      "source": [
        "# train a model using the l2_reg_penalty value at scored the lowest \n",
        "worse_l2_reg_penalty = 1.0\n",
        "\n",
        "worse_model = build_complex_model(Lp_reg=l2, reg_penality=worse_l2_reg_penalty)\n",
        "\n",
        "# fit model \n",
        "worse_model.fit(X_train, y_train, epochs=1)\n",
        "\n",
        "# get weights from worse performing model \n",
        "worse_weights = worse_model.get_weights()"
      ],
      "execution_count": 23,
      "outputs": [
        {
          "output_type": "stream",
          "name": "stdout",
          "text": [
            "1875/1875 [==============================] - 15s 8ms/step - loss: 15.9565 - accuracy: 0.1041\n"
          ]
        }
      ]
    },
    {
      "cell_type": "markdown",
      "metadata": {
        "id": "OX1haiBdpVGi"
      },
      "source": [
        "-----\n",
        "## Understanding How Weights and Biases Are Stored"
      ]
    },
    {
      "cell_type": "markdown",
      "metadata": {
        "id": "i8EvxJiXpVGi"
      },
      "source": [
        "Let's take a minute to understand that`.get_weights()` returns a list with 8 elements (if you're using `build_complex_model`)."
      ]
    },
    {
      "cell_type": "code",
      "metadata": {
        "id": "fwmuBYI-pVGi",
        "colab": {
          "base_uri": "https://localhost:8080/"
        },
        "outputId": "76b61460-e7a2-4110-e628-babf6a507368"
      },
      "source": [
        "len(best_weights)"
      ],
      "execution_count": 24,
      "outputs": [
        {
          "output_type": "execute_result",
          "data": {
            "text/plain": [
              "8"
            ]
          },
          "metadata": {},
          "execution_count": 24
        }
      ]
    },
    {
      "cell_type": "markdown",
      "metadata": {
        "id": "9K0ODK_5pVGi"
      },
      "source": [
        "There are **weights matrices and bias vectors between each layer,** and we have five layers. \n",
        "\n",
        "- Input\n",
        "- Hidden 1\n",
        "- Hidden 2\n",
        "- Hidden 3\n",
        "- Output \n",
        "\n",
        "So that means we should have four weight matrices, but we see eight. **This is because there are also four weight vectors for the biases between each layer.** So that accounts for the eight. \n",
        "\n",
        "\n",
        "#### Index for Weight Matrices \n",
        "If you index for a weight matrix, you can see its shape and are indeed matrices. \n",
        "\n",
        "Notice how you can see the dims of the layers that the matrices are sandwiched between?\n",
        "\n",
        "The input layer has 784 dims, and hidden layer 1 has 500 dims. Given this understanding, the numbers you see in the shapes should make sense. "
      ]
    },
    {
      "cell_type": "code",
      "metadata": {
        "id": "3gN5ozNQpVGj",
        "colab": {
          "base_uri": "https://localhost:8080/"
        },
        "outputId": "2753faa5-514d-434d-f70d-da454be84c8b"
      },
      "source": [
        "# between input and 1st hidden layer\n",
        "best_weights[0].shape"
      ],
      "execution_count": 25,
      "outputs": [
        {
          "output_type": "execute_result",
          "data": {
            "text/plain": [
              "(784, 500)"
            ]
          },
          "metadata": {},
          "execution_count": 25
        }
      ]
    },
    {
      "cell_type": "code",
      "metadata": {
        "id": "acsqSY-jpVGj",
        "colab": {
          "base_uri": "https://localhost:8080/"
        },
        "outputId": "0f4ff411-efab-4447-9d4c-44f52cd8ae09"
      },
      "source": [
        "# between 1st and 2nd hidden layer\n",
        "best_weights[2].shape"
      ],
      "execution_count": 26,
      "outputs": [
        {
          "output_type": "execute_result",
          "data": {
            "text/plain": [
              "(500, 250)"
            ]
          },
          "metadata": {},
          "execution_count": 26
        }
      ]
    },
    {
      "cell_type": "code",
      "metadata": {
        "id": "ORHvjdW_pVGj",
        "colab": {
          "base_uri": "https://localhost:8080/"
        },
        "outputId": "6bf7bf0f-0f9c-4c0d-f308-50a71cb626c0"
      },
      "source": [
        "# between 2st and 3nd hidden layer\n",
        "best_weights[4].shape"
      ],
      "execution_count": 27,
      "outputs": [
        {
          "output_type": "execute_result",
          "data": {
            "text/plain": [
              "(250, 100)"
            ]
          },
          "metadata": {},
          "execution_count": 27
        }
      ]
    },
    {
      "cell_type": "code",
      "metadata": {
        "id": "yEn-PGeApVGj",
        "colab": {
          "base_uri": "https://localhost:8080/"
        },
        "outputId": "c09fc109-1944-49d4-a580-f7fa5f22ba26"
      },
      "source": [
        "# between 3rd hidden layer and output layer\n",
        "best_weights[6].shape"
      ],
      "execution_count": 28,
      "outputs": [
        {
          "output_type": "execute_result",
          "data": {
            "text/plain": [
              "(100, 10)"
            ]
          },
          "metadata": {},
          "execution_count": 28
        }
      ]
    },
    {
      "cell_type": "markdown",
      "metadata": {
        "id": "XZN_t4SupVGj"
      },
      "source": [
        "#### Index for the Bias Vectors\n",
        "\n",
        "The shapes of the bias vectors should exactly match up the dims/nodes of each layer (excluding the input layer). "
      ]
    },
    {
      "cell_type": "code",
      "metadata": {
        "id": "-ft41YyZpVGj",
        "colab": {
          "base_uri": "https://localhost:8080/"
        },
        "outputId": "b72c0886-9a6b-4d10-83d8-92ac1c7c63b0"
      },
      "source": [
        "# for hidden layer 1 \n",
        "best_weights[1].shape"
      ],
      "execution_count": 29,
      "outputs": [
        {
          "output_type": "execute_result",
          "data": {
            "text/plain": [
              "(500,)"
            ]
          },
          "metadata": {},
          "execution_count": 29
        }
      ]
    },
    {
      "cell_type": "code",
      "metadata": {
        "id": "bgaFYrrqpVGj",
        "colab": {
          "base_uri": "https://localhost:8080/"
        },
        "outputId": "9d1e6039-0fcd-48e4-f059-2987ae5f8f7f"
      },
      "source": [
        "# for hidden layer 2 \n",
        "best_weights[3].shape"
      ],
      "execution_count": 30,
      "outputs": [
        {
          "output_type": "execute_result",
          "data": {
            "text/plain": [
              "(250,)"
            ]
          },
          "metadata": {},
          "execution_count": 30
        }
      ]
    },
    {
      "cell_type": "code",
      "metadata": {
        "id": "cxDbEyqppVGj",
        "colab": {
          "base_uri": "https://localhost:8080/"
        },
        "outputId": "47bb9f2a-b34f-466a-f407-bca3681c4a36"
      },
      "source": [
        "# for hidden layer 3\n",
        "best_weights[5].shape"
      ],
      "execution_count": 31,
      "outputs": [
        {
          "output_type": "execute_result",
          "data": {
            "text/plain": [
              "(100,)"
            ]
          },
          "metadata": {},
          "execution_count": 31
        }
      ]
    },
    {
      "cell_type": "code",
      "metadata": {
        "id": "A-O-T-3QpVGk",
        "colab": {
          "base_uri": "https://localhost:8080/"
        },
        "outputId": "8fecad71-81cb-4542-f1f2-6141170bad91"
      },
      "source": [
        "# for output layer\n",
        "best_weights[7].shape"
      ],
      "execution_count": 32,
      "outputs": [
        {
          "output_type": "execute_result",
          "data": {
            "text/plain": [
              "(10,)"
            ]
          },
          "metadata": {},
          "execution_count": 32
        }
      ]
    },
    {
      "cell_type": "markdown",
      "metadata": {
        "id": "XM1DajHrpVGk"
      },
      "source": [
        "-----\n",
        "\n",
        "### Back to Our Analysis of L2 Space Regularization (also known as Ridge)\n",
        "\n",
        "Let's compare the first weight matrix (between the input and 1st hidden layer) for the best, and worst-performing model and the initial weight values randomly sampled from the GlorotUniform distribution.\n",
        "\n",
        "[**Check out the Keras docs for the Dense layer**](https://keras.io/api/layers/core_layers/dense/); you'll see that GlorotUniform is the default weight initializer. "
      ]
    },
    {
      "cell_type": "markdown",
      "metadata": {
        "id": "yEYGmSnlpVGk"
      },
      "source": [
        "Before we compare weights, let's take note of the following. \n",
        "\n",
        "Both `best_weights[0]` or `worst_weights[0]` are matrices with shape `(784, 500)`. \n",
        "\n",
        "If we flatten them, then we get `784 * 500 = 392000` weights. What does this mean exactly?\n",
        "\n",
        "Remember that we are working with the 'Fully Connected Forward Feeding' model which looks like this. \n",
        "\n",
        "![](https://pyimagesearch.com/wp-content/uploads/2016/08/simple_neural_network_header.jpg)\n",
        "\n",
        "The important thing to notice is that each component in the input vectors gets passed to all the nodes in the next layer is fully connected models. This means for our input vector with 784 dims, there are 784 **$w_1$** weights, each with a slightly different value, one for each of the 784 components in the input vector. \n",
        "\n",
        "So to keep our analysis simple, we are going to analyze one column of the weight matrix. You could index for whatever column you want, but this notebook will assume that you have indexed the weights in column one. This means we will compare the effect regularization had on all of the 784 **$w_1$** weights in the 500-dimensional space of hidden layer 1. \n",
        "\n",
        "In other words, by looking at just one column, we are narrowing our analysis to the distribution of values for w_1 instead of mixing the distributions of all the weights w_1, w_2, ..., w_500. But, again, this is done for simplicity of analysis, the goal being to observe the effect of regularization on the weights empirically."
      ]
    },
    {
      "cell_type": "code",
      "metadata": {
        "colab": {
          "base_uri": "https://localhost:8080/"
        },
        "id": "sS7H7ZWoi7ce",
        "outputId": "4fe473f5-89c0-45ba-82f1-65a59ee66c4e"
      },
      "source": [
        "best_weights"
      ],
      "execution_count": 65,
      "outputs": [
        {
          "output_type": "execute_result",
          "data": {
            "text/plain": [
              "[array([[-0.01900582,  0.02143985, -0.0650868 , ...,  0.05345884,\n",
              "          0.03191526,  0.04091575],\n",
              "        [ 0.00415344,  0.05241241, -0.00032528, ..., -0.00788001,\n",
              "          0.0361739 , -0.04203042],\n",
              "        [ 0.0545371 , -0.03557373,  0.00207898, ...,  0.012967  ,\n",
              "          0.02194703, -0.04835089],\n",
              "        ...,\n",
              "        [-0.05883503, -0.06810258, -0.04544621, ..., -0.00991638,\n",
              "         -0.05358896, -0.05487681],\n",
              "        [-0.02853262,  0.00855623, -0.00380337, ...,  0.02715322,\n",
              "         -0.01667695,  0.03898201],\n",
              "        [-0.03261026, -0.01970182, -0.03824031, ...,  0.03848378,\n",
              "          0.0044779 ,  0.04106139]], dtype=float32),\n",
              " array([0., 0., 0., 0., 0., 0., 0., 0., 0., 0., 0., 0., 0., 0., 0., 0., 0.,\n",
              "        0., 0., 0., 0., 0., 0., 0., 0., 0., 0., 0., 0., 0., 0., 0., 0., 0.,\n",
              "        0., 0., 0., 0., 0., 0., 0., 0., 0., 0., 0., 0., 0., 0., 0., 0., 0.,\n",
              "        0., 0., 0., 0., 0., 0., 0., 0., 0., 0., 0., 0., 0., 0., 0., 0., 0.,\n",
              "        0., 0., 0., 0., 0., 0., 0., 0., 0., 0., 0., 0., 0., 0., 0., 0., 0.,\n",
              "        0., 0., 0., 0., 0., 0., 0., 0., 0., 0., 0., 0., 0., 0., 0., 0., 0.,\n",
              "        0., 0., 0., 0., 0., 0., 0., 0., 0., 0., 0., 0., 0., 0., 0., 0., 0.,\n",
              "        0., 0., 0., 0., 0., 0., 0., 0., 0., 0., 0., 0., 0., 0., 0., 0., 0.,\n",
              "        0., 0., 0., 0., 0., 0., 0., 0., 0., 0., 0., 0., 0., 0., 0., 0., 0.,\n",
              "        0., 0., 0., 0., 0., 0., 0., 0., 0., 0., 0., 0., 0., 0., 0., 0., 0.,\n",
              "        0., 0., 0., 0., 0., 0., 0., 0., 0., 0., 0., 0., 0., 0., 0., 0., 0.,\n",
              "        0., 0., 0., 0., 0., 0., 0., 0., 0., 0., 0., 0., 0., 0., 0., 0., 0.,\n",
              "        0., 0., 0., 0., 0., 0., 0., 0., 0., 0., 0., 0., 0., 0., 0., 0., 0.,\n",
              "        0., 0., 0., 0., 0., 0., 0., 0., 0., 0., 0., 0., 0., 0., 0., 0., 0.,\n",
              "        0., 0., 0., 0., 0., 0., 0., 0., 0., 0., 0., 0., 0., 0., 0., 0., 0.,\n",
              "        0., 0., 0., 0., 0., 0., 0., 0., 0., 0., 0., 0., 0., 0., 0., 0., 0.,\n",
              "        0., 0., 0., 0., 0., 0., 0., 0., 0., 0., 0., 0., 0., 0., 0., 0., 0.,\n",
              "        0., 0., 0., 0., 0., 0., 0., 0., 0., 0., 0., 0., 0., 0., 0., 0., 0.,\n",
              "        0., 0., 0., 0., 0., 0., 0., 0., 0., 0., 0., 0., 0., 0., 0., 0., 0.,\n",
              "        0., 0., 0., 0., 0., 0., 0., 0., 0., 0., 0., 0., 0., 0., 0., 0., 0.,\n",
              "        0., 0., 0., 0., 0., 0., 0., 0., 0., 0., 0., 0., 0., 0., 0., 0., 0.,\n",
              "        0., 0., 0., 0., 0., 0., 0., 0., 0., 0., 0., 0., 0., 0., 0., 0., 0.,\n",
              "        0., 0., 0., 0., 0., 0., 0., 0., 0., 0., 0., 0., 0., 0., 0., 0., 0.,\n",
              "        0., 0., 0., 0., 0., 0., 0., 0., 0., 0., 0., 0., 0., 0., 0., 0., 0.,\n",
              "        0., 0., 0., 0., 0., 0., 0., 0., 0., 0., 0., 0., 0., 0., 0., 0., 0.,\n",
              "        0., 0., 0., 0., 0., 0., 0., 0., 0., 0., 0., 0., 0., 0., 0., 0., 0.,\n",
              "        0., 0., 0., 0., 0., 0., 0., 0., 0., 0., 0., 0., 0., 0., 0., 0., 0.,\n",
              "        0., 0., 0., 0., 0., 0., 0., 0., 0., 0., 0., 0., 0., 0., 0., 0., 0.,\n",
              "        0., 0., 0., 0., 0., 0., 0., 0., 0., 0., 0., 0., 0., 0., 0., 0., 0.,\n",
              "        0., 0., 0., 0., 0., 0., 0.], dtype=float32),\n",
              " array([[-0.07840648, -0.04303331,  0.04363171, ..., -0.02470767,\n",
              "          0.067862  ,  0.02348262],\n",
              "        [ 0.08718614, -0.0228439 ,  0.08098825, ..., -0.0500416 ,\n",
              "          0.02516893,  0.04833571],\n",
              "        [-0.01423007, -0.0377561 , -0.06829246, ..., -0.05797814,\n",
              "          0.02784461, -0.05539253],\n",
              "        ...,\n",
              "        [-0.03403128,  0.00605448, -0.04846721, ..., -0.03613446,\n",
              "         -0.08666935, -0.02549221],\n",
              "        [-0.04401476,  0.05369047,  0.0323006 , ..., -0.0689479 ,\n",
              "         -0.0032419 ,  0.0434887 ],\n",
              "        [-0.02850455,  0.07752966,  0.04133946, ..., -0.04408094,\n",
              "          0.06125333, -0.02316942]], dtype=float32),\n",
              " array([0., 0., 0., 0., 0., 0., 0., 0., 0., 0., 0., 0., 0., 0., 0., 0., 0.,\n",
              "        0., 0., 0., 0., 0., 0., 0., 0., 0., 0., 0., 0., 0., 0., 0., 0., 0.,\n",
              "        0., 0., 0., 0., 0., 0., 0., 0., 0., 0., 0., 0., 0., 0., 0., 0., 0.,\n",
              "        0., 0., 0., 0., 0., 0., 0., 0., 0., 0., 0., 0., 0., 0., 0., 0., 0.,\n",
              "        0., 0., 0., 0., 0., 0., 0., 0., 0., 0., 0., 0., 0., 0., 0., 0., 0.,\n",
              "        0., 0., 0., 0., 0., 0., 0., 0., 0., 0., 0., 0., 0., 0., 0., 0., 0.,\n",
              "        0., 0., 0., 0., 0., 0., 0., 0., 0., 0., 0., 0., 0., 0., 0., 0., 0.,\n",
              "        0., 0., 0., 0., 0., 0., 0., 0., 0., 0., 0., 0., 0., 0., 0., 0., 0.,\n",
              "        0., 0., 0., 0., 0., 0., 0., 0., 0., 0., 0., 0., 0., 0., 0., 0., 0.,\n",
              "        0., 0., 0., 0., 0., 0., 0., 0., 0., 0., 0., 0., 0., 0., 0., 0., 0.,\n",
              "        0., 0., 0., 0., 0., 0., 0., 0., 0., 0., 0., 0., 0., 0., 0., 0., 0.,\n",
              "        0., 0., 0., 0., 0., 0., 0., 0., 0., 0., 0., 0., 0., 0., 0., 0., 0.,\n",
              "        0., 0., 0., 0., 0., 0., 0., 0., 0., 0., 0., 0., 0., 0., 0., 0., 0.,\n",
              "        0., 0., 0., 0., 0., 0., 0., 0., 0., 0., 0., 0., 0., 0., 0., 0., 0.,\n",
              "        0., 0., 0., 0., 0., 0., 0., 0., 0., 0., 0., 0.], dtype=float32),\n",
              " array([[ 0.00727147, -0.06725297,  0.06965113, ...,  0.01490629,\n",
              "          0.13067694,  0.12119488],\n",
              "        [ 0.02660714, -0.11234014,  0.06464957, ..., -0.02543843,\n",
              "         -0.02204599,  0.11446007],\n",
              "        [-0.09121937, -0.04405041,  0.06683145, ...,  0.10888471,\n",
              "          0.0273492 , -0.04282018],\n",
              "        ...,\n",
              "        [-0.02205089,  0.01653899, -0.04392064, ..., -0.0793684 ,\n",
              "          0.0458549 ,  0.07996339],\n",
              "        [ 0.0180936 , -0.07316446, -0.06885459, ..., -0.01931141,\n",
              "         -0.08403976, -0.06264379],\n",
              "        [-0.09016522,  0.0348593 , -0.06529583, ...,  0.12420668,\n",
              "         -0.02468096,  0.09567022]], dtype=float32),\n",
              " array([0., 0., 0., 0., 0., 0., 0., 0., 0., 0., 0., 0., 0., 0., 0., 0., 0.,\n",
              "        0., 0., 0., 0., 0., 0., 0., 0., 0., 0., 0., 0., 0., 0., 0., 0., 0.,\n",
              "        0., 0., 0., 0., 0., 0., 0., 0., 0., 0., 0., 0., 0., 0., 0., 0., 0.,\n",
              "        0., 0., 0., 0., 0., 0., 0., 0., 0., 0., 0., 0., 0., 0., 0., 0., 0.,\n",
              "        0., 0., 0., 0., 0., 0., 0., 0., 0., 0., 0., 0., 0., 0., 0., 0., 0.,\n",
              "        0., 0., 0., 0., 0., 0., 0., 0., 0., 0., 0., 0., 0., 0., 0.],\n",
              "       dtype=float32),\n",
              " array([[-8.77426118e-02,  8.74851942e-02, -6.61328137e-02,\n",
              "          1.82491034e-01, -1.50124133e-02,  1.49566859e-01,\n",
              "         -3.50822061e-02,  2.33720541e-02,  2.03534663e-01,\n",
              "         -1.81937888e-01],\n",
              "        [ 1.78965002e-01,  1.67797744e-01, -2.18136862e-01,\n",
              "          1.50156945e-01,  1.72667801e-02,  9.44902301e-02,\n",
              "          8.14467669e-04,  1.57831848e-01,  7.18037486e-02,\n",
              "         -1.21930771e-01],\n",
              "        [ 1.57452077e-01,  1.61585301e-01,  1.09061748e-01,\n",
              "         -1.13438897e-01, -1.27823055e-01, -1.54753715e-01,\n",
              "          1.76599443e-01, -1.18274823e-01, -2.68033147e-03,\n",
              "          1.55943185e-01],\n",
              "        [-9.18181241e-02, -3.47395837e-02,  1.93310171e-01,\n",
              "          1.98053330e-01,  5.34775853e-03,  1.62788540e-01,\n",
              "         -2.48014182e-02,  4.72541749e-02,  3.92220318e-02,\n",
              "          6.71729743e-02],\n",
              "        [-1.39509887e-02,  1.44377410e-01,  1.63538307e-01,\n",
              "          1.22248769e-01, -9.88414884e-02,  1.93029344e-02,\n",
              "          1.88601822e-01, -1.75179526e-01,  2.15166956e-01,\n",
              "          4.62598205e-02],\n",
              "        [-1.66541159e-01, -1.20990850e-01,  2.45294571e-02,\n",
              "         -1.47371694e-01,  1.53318763e-01,  6.41358793e-02,\n",
              "          1.70584708e-01, -5.93428165e-02,  2.05747247e-01,\n",
              "          9.02847946e-02],\n",
              "        [-6.50507361e-02,  2.42874026e-02, -4.40095663e-02,\n",
              "          3.37904096e-02,  2.21262425e-01, -1.51500508e-01,\n",
              "          2.96918452e-02,  4.73299623e-02, -1.33584023e-01,\n",
              "          2.04070330e-01],\n",
              "        [-2.72531658e-02, -2.03035623e-01,  9.26774740e-02,\n",
              "         -1.08724587e-01, -1.82415202e-01,  2.11282998e-01,\n",
              "         -1.71858445e-01, -1.98477805e-02, -9.99413878e-02,\n",
              "         -8.44663531e-02],\n",
              "        [-3.46233249e-02, -2.21179858e-01, -1.01155266e-01,\n",
              "         -1.51520044e-01, -1.40485659e-01,  1.37586445e-01,\n",
              "         -8.34490955e-02, -1.54227942e-01,  1.39203399e-01,\n",
              "          6.18204474e-03],\n",
              "        [-7.07782507e-02,  8.34640265e-02,  8.09168816e-03,\n",
              "         -2.06649303e-03, -1.97890610e-01, -6.89028054e-02,\n",
              "          6.48278892e-02,  2.00406253e-01, -1.05709314e-01,\n",
              "         -1.54436231e-02],\n",
              "        [ 2.84991860e-02, -8.72105062e-02,  1.74392760e-03,\n",
              "         -1.22146040e-01,  1.33676499e-01, -3.91129553e-02,\n",
              "          1.77779347e-01, -2.25099966e-01, -4.90746200e-02,\n",
              "         -2.00377449e-01],\n",
              "        [-7.07315803e-02,  2.00825572e-01,  1.16081983e-02,\n",
              "          4.11365032e-02, -2.04917312e-01,  5.57118058e-02,\n",
              "          1.23059779e-01, -1.30743384e-01, -1.13529436e-01,\n",
              "         -5.81260473e-02],\n",
              "        [-4.94813323e-02,  1.74500644e-01,  9.83029902e-02,\n",
              "         -2.10062489e-01,  1.49638653e-01,  5.39532602e-02,\n",
              "         -2.39516348e-02,  1.18963569e-01, -4.60629165e-02,\n",
              "          1.49239957e-01],\n",
              "        [ 1.66485816e-01,  2.07176179e-01, -1.86538994e-01,\n",
              "          5.82584143e-02, -2.16383576e-01,  7.46099353e-02,\n",
              "          8.88845026e-02,  1.52188838e-02, -1.57444119e-01,\n",
              "         -2.33412981e-01],\n",
              "        [ 1.26494616e-01, -1.76029190e-01,  2.01733768e-01,\n",
              "         -4.27525938e-02, -2.30959654e-02,  6.02118671e-03,\n",
              "         -5.67916185e-02, -1.84733033e-01, -1.98134333e-01,\n",
              "          1.66583747e-01],\n",
              "        [-3.81848365e-02, -1.38857991e-01,  1.16680235e-01,\n",
              "          1.30941391e-01,  2.05072224e-01, -8.47606957e-02,\n",
              "          1.82630092e-01,  1.03451014e-02, -8.81916285e-02,\n",
              "          4.28193808e-03],\n",
              "        [ 5.83551228e-02, -1.46333277e-02, -1.31099641e-01,\n",
              "         -1.24024495e-01, -4.11490351e-02,  1.61929429e-02,\n",
              "         -1.28620595e-01,  1.33015603e-01,  1.76104128e-01,\n",
              "          4.54595387e-02],\n",
              "        [-1.45497859e-01, -6.01827949e-02,  2.02329755e-01,\n",
              "          2.04013258e-01, -1.74427539e-01,  1.20256722e-01,\n",
              "          1.83681697e-01, -1.74369738e-01,  1.78164393e-01,\n",
              "          7.43642449e-04],\n",
              "        [-1.58863127e-01, -1.82715550e-01, -2.07915992e-01,\n",
              "          4.61896360e-02, -5.52614629e-02, -6.00506663e-02,\n",
              "         -2.16873810e-01,  6.73620105e-02, -2.16257840e-01,\n",
              "          2.06488401e-01],\n",
              "        [ 4.80800867e-02,  2.68981457e-02,  1.84072971e-01,\n",
              "         -7.45875388e-02, -1.17038056e-01, -9.85585600e-02,\n",
              "         -1.59846097e-01,  1.57548189e-01,  1.33398145e-01,\n",
              "          1.46976858e-01],\n",
              "        [ 6.82708621e-02,  2.14354575e-01,  2.19570786e-01,\n",
              "         -2.32476398e-01,  8.44883621e-02, -2.23045275e-01,\n",
              "         -1.35715440e-01,  4.49046493e-03, -1.21106833e-01,\n",
              "          2.75365412e-02],\n",
              "        [ 3.78128290e-02, -6.98224455e-02,  1.07851267e-01,\n",
              "         -2.24931985e-02,  3.62417400e-02,  1.71443999e-01,\n",
              "         -2.15330228e-01, -1.17326826e-01,  9.88147557e-02,\n",
              "          2.19982803e-01],\n",
              "        [-4.35215086e-02, -1.46628439e-01,  1.54298931e-01,\n",
              "          1.78118855e-01,  9.21867490e-02, -1.14495479e-01,\n",
              "          1.21272504e-01,  8.03603828e-02,  6.11188114e-02,\n",
              "          1.99351490e-01],\n",
              "        [-1.56876549e-01,  2.30565310e-01, -1.89222455e-01,\n",
              "         -4.43139225e-02,  1.73540413e-03, -9.82027501e-02,\n",
              "          1.52206272e-01,  1.74389958e-01,  1.79660350e-01,\n",
              "         -8.44828486e-02],\n",
              "        [ 1.71374053e-01, -1.74056858e-01, -1.78337991e-02,\n",
              "         -5.91326803e-02,  1.16706192e-01, -4.03447002e-02,\n",
              "         -1.39644951e-01,  1.42619461e-01, -1.27376810e-01,\n",
              "          1.64610475e-01],\n",
              "        [-4.01934683e-02,  2.03845322e-01,  6.07411265e-02,\n",
              "          1.35141134e-01,  6.94263875e-02, -1.39396340e-02,\n",
              "         -4.54611033e-02,  7.26414323e-02,  2.75495052e-02,\n",
              "         -2.07231313e-01],\n",
              "        [ 5.77499568e-02,  1.81654453e-01, -7.11336583e-02,\n",
              "          5.87715209e-02, -1.46404445e-01,  1.75583452e-01,\n",
              "          6.57247007e-02, -8.63865018e-03, -1.45901144e-02,\n",
              "          9.68259871e-02],\n",
              "        [ 7.73060322e-02, -8.55446011e-02, -1.49570659e-01,\n",
              "          1.66206509e-01,  1.95101142e-01,  1.92186236e-02,\n",
              "          7.66542554e-02,  5.37134111e-02, -4.10535932e-03,\n",
              "          1.24661893e-01],\n",
              "        [ 7.38161206e-02,  1.63171589e-01, -2.15999871e-01,\n",
              "         -1.48963884e-01, -1.05147928e-01,  2.25194335e-01,\n",
              "         -2.27052584e-01, -2.79343426e-02, -1.53922737e-02,\n",
              "          1.53782874e-01],\n",
              "        [ 2.00321704e-01, -9.67348963e-02,  2.33097702e-01,\n",
              "         -4.36069816e-02,  1.65408731e-01,  6.32039011e-02,\n",
              "         -1.32767156e-01, -1.38265312e-01,  1.31148458e-01,\n",
              "          3.27063799e-02],\n",
              "        [-1.03985339e-01, -2.31373891e-01,  2.00785041e-01,\n",
              "          1.94246083e-01, -3.89076769e-03, -5.03195226e-02,\n",
              "         -1.97509974e-02, -1.13250017e-02, -9.72065926e-02,\n",
              "         -4.37831879e-03],\n",
              "        [-1.36049420e-01, -1.81139559e-01, -1.79696947e-01,\n",
              "          2.04471022e-01, -2.25525767e-01, -5.79989851e-02,\n",
              "         -1.07628807e-01, -2.10295185e-01,  5.01561463e-02,\n",
              "         -1.57859057e-01],\n",
              "        [-2.14597896e-01,  1.63025200e-01, -1.33248150e-01,\n",
              "          3.53485346e-02, -1.88586384e-01,  1.39331907e-01,\n",
              "          1.84599459e-01,  1.86214298e-01, -1.42914250e-01,\n",
              "          8.52498114e-02],\n",
              "        [-2.10668370e-01, -1.53931111e-01, -1.84484690e-01,\n",
              "         -1.92778334e-01, -1.49027854e-01,  2.17958570e-01,\n",
              "         -1.16952583e-01, -1.25100002e-01, -1.42533541e-01,\n",
              "          1.02794021e-02],\n",
              "        [ 1.76436394e-01,  2.28757590e-01, -6.82203025e-02,\n",
              "          1.99496567e-01,  2.59860456e-02, -1.38340428e-01,\n",
              "         -2.16564819e-01,  1.58001453e-01,  1.35226220e-01,\n",
              "          1.33556783e-01],\n",
              "        [ 1.12073570e-01, -8.40059817e-02, -3.97595763e-03,\n",
              "         -1.27058968e-01,  8.42441916e-02, -2.05197170e-01,\n",
              "          1.25250518e-01, -1.09850548e-01,  5.15066087e-02,\n",
              "         -1.09646358e-01],\n",
              "        [-8.60501975e-02,  1.92012489e-02, -1.87463820e-01,\n",
              "          1.52926087e-01, -1.98312521e-01,  8.76511335e-02,\n",
              "          2.14700073e-01,  1.93643600e-01,  1.95527375e-01,\n",
              "         -2.17863917e-03],\n",
              "        [-2.31467441e-01,  3.51238549e-02,  8.55286717e-02,\n",
              "         -1.67537421e-01,  1.41520292e-01,  1.25045717e-01,\n",
              "          1.47312105e-01,  7.27147162e-02, -2.05779999e-01,\n",
              "          1.25977159e-01],\n",
              "        [-6.28732145e-02,  1.79358780e-01, -2.22201288e-01,\n",
              "         -9.81611013e-03,  6.93852305e-02, -1.18317083e-01,\n",
              "         -2.32387260e-01,  5.96919954e-02,  1.57888621e-01,\n",
              "          1.99049354e-01],\n",
              "        [ 1.24203861e-02,  1.69737637e-03,  2.23210454e-02,\n",
              "         -1.10763684e-01,  1.11464888e-01,  1.63629949e-02,\n",
              "         -1.19447216e-01, -2.12104589e-01, -1.37248039e-01,\n",
              "          2.19206631e-01],\n",
              "        [-2.06027791e-01, -1.20193250e-01,  7.73808062e-02,\n",
              "          6.79160655e-03, -1.50359735e-01, -1.01670831e-01,\n",
              "         -1.47228926e-01, -1.55127943e-01,  1.11525744e-01,\n",
              "          1.15723491e-01],\n",
              "        [ 5.37791252e-02, -1.49767339e-01, -2.62761712e-02,\n",
              "          2.12834865e-01,  2.18306482e-02,  1.41008973e-01,\n",
              "         -9.40764993e-02,  1.33344233e-02, -6.67066723e-02,\n",
              "          8.77135992e-02],\n",
              "        [ 1.19897842e-01,  1.92661673e-01,  2.17722028e-01,\n",
              "         -2.22953841e-01,  2.25287050e-01, -2.15348601e-01,\n",
              "          3.54063213e-02,  2.13996619e-01, -2.18621910e-01,\n",
              "         -8.56760591e-02],\n",
              "        [ 1.14192903e-01,  2.16212690e-01,  1.29891038e-01,\n",
              "         -1.01506561e-02, -2.07573697e-01, -1.59925058e-01,\n",
              "         -6.91297650e-02,  1.74768537e-01,  3.21649313e-02,\n",
              "         -1.32155597e-01],\n",
              "        [-1.96532309e-02,  8.89748633e-02,  1.37746245e-01,\n",
              "         -2.03108177e-01, -2.03905672e-01, -9.92911756e-02,\n",
              "          1.67161226e-02, -1.43603712e-01, -1.46307215e-01,\n",
              "         -2.12942570e-01],\n",
              "        [-9.63878334e-02, -1.79785192e-02, -1.38063878e-02,\n",
              "          1.41618967e-01,  5.82675934e-02, -1.17813200e-02,\n",
              "          1.18498057e-01, -1.06445730e-01, -6.66086376e-03,\n",
              "         -1.78203478e-01],\n",
              "        [ 2.74912715e-02,  9.66905355e-02,  2.18546569e-01,\n",
              "         -1.81956545e-01, -6.55438602e-02, -3.22927237e-02,\n",
              "          1.10808164e-01, -4.68560606e-02,  2.30505288e-01,\n",
              "          2.17040420e-01],\n",
              "        [-2.07860917e-01, -1.86513215e-02, -1.52544722e-01,\n",
              "         -1.64471924e-01, -7.61557370e-02, -1.27735227e-01,\n",
              "         -1.32639915e-01, -6.43824339e-02,  9.60524082e-02,\n",
              "         -2.07991049e-01],\n",
              "        [ 1.85824811e-01,  2.26021618e-01, -2.09011480e-01,\n",
              "         -2.22053453e-01, -2.31796131e-01,  8.81290436e-02,\n",
              "         -1.99505016e-01,  2.47501433e-02, -8.78792554e-02,\n",
              "          8.56409967e-03],\n",
              "        [ 1.61077589e-01,  6.12159967e-02, -1.08251959e-01,\n",
              "         -5.40432334e-03,  6.24209642e-05, -8.93132389e-03,\n",
              "          1.72910452e-01, -8.91781151e-02,  1.43190980e-01,\n",
              "          7.11618960e-02],\n",
              "        [-8.46563429e-02,  1.23682648e-01,  8.15173984e-02,\n",
              "          3.70305479e-02,  8.95848870e-03,  1.90258265e-01,\n",
              "          4.48096097e-02,  9.38647985e-02,  2.33012408e-01,\n",
              "          1.95520163e-01],\n",
              "        [-1.21279560e-01,  8.37997198e-02,  1.15298629e-02,\n",
              "          3.33016813e-02, -2.20118657e-01,  8.49088728e-02,\n",
              "          1.65364414e-01,  2.01887190e-02,  1.18927598e-01,\n",
              "          1.40125394e-01],\n",
              "        [ 1.33656740e-01, -1.47966564e-01, -1.49039894e-01,\n",
              "         -1.36629254e-01, -1.20143190e-01, -7.00168908e-02,\n",
              "         -9.71354246e-02,  3.58205438e-02, -1.45452589e-01,\n",
              "          2.00985670e-02],\n",
              "        [-3.96461040e-02,  1.64649606e-01, -1.87051773e-01,\n",
              "          1.54227883e-01,  5.16236722e-02, -2.10496143e-01,\n",
              "          6.60591424e-02,  7.00648129e-03,  9.53625143e-03,\n",
              "          1.09985083e-01],\n",
              "        [ 1.84429795e-01,  2.04816192e-01,  1.45158261e-01,\n",
              "         -1.37740061e-01, -4.53002900e-02,  1.71487927e-01,\n",
              "         -4.03302908e-03,  1.17356896e-01, -1.99744552e-02,\n",
              "          2.12191224e-01],\n",
              "        [-1.57980949e-01,  1.01535916e-01,  1.68813467e-02,\n",
              "         -9.57834572e-02,  4.18855548e-02, -1.68651357e-01,\n",
              "         -2.27601826e-03, -1.39419839e-01,  1.93326652e-01,\n",
              "         -2.48604864e-02],\n",
              "        [ 1.69206172e-01, -9.41402614e-02, -1.14704289e-01,\n",
              "          1.49240494e-02,  2.19477981e-01,  3.68690491e-02,\n",
              "          1.00724608e-01, -2.47073621e-02,  4.72643375e-02,\n",
              "         -9.54275876e-02],\n",
              "        [-3.28240991e-02, -2.41542757e-02, -3.85473818e-02,\n",
              "          1.80053711e-01,  5.26714325e-02,  1.33463532e-01,\n",
              "         -2.59049237e-02, -1.76902682e-01,  6.10326827e-02,\n",
              "         -1.98783264e-01],\n",
              "        [ 2.17134446e-01, -2.26792768e-01, -3.29231620e-02,\n",
              "          2.02046871e-01,  1.02979362e-01,  1.69821531e-01,\n",
              "         -1.70979232e-01, -1.19061388e-01,  3.01664174e-02,\n",
              "          1.14963323e-01],\n",
              "        [-1.13379210e-01,  1.38592273e-02, -7.26528019e-02,\n",
              "         -1.34703845e-01,  1.39601976e-01, -2.33287811e-02,\n",
              "         -2.33242661e-02, -2.26680487e-02,  7.77116120e-02,\n",
              "         -1.67850018e-01],\n",
              "        [ 1.18627280e-01, -4.53629792e-02, -1.57080591e-02,\n",
              "         -1.74678162e-01, -1.34121925e-01, -2.03384086e-01,\n",
              "          2.08718717e-01, -3.36586684e-02,  2.09822655e-02,\n",
              "         -1.19837664e-01],\n",
              "        [-8.91562253e-02, -2.93820798e-02, -1.94576323e-01,\n",
              "          1.69671059e-01, -1.99698851e-01,  1.90260112e-02,\n",
              "         -1.88078508e-01,  1.08379573e-01, -1.26715064e-01,\n",
              "          1.76362514e-01],\n",
              "        [ 2.08589673e-01,  8.87158811e-02,  2.01883316e-02,\n",
              "         -1.39402360e-01, -1.91036642e-01, -1.45106420e-01,\n",
              "         -1.90403759e-02,  2.27542937e-01, -5.04955798e-02,\n",
              "          1.46219134e-02],\n",
              "        [ 4.64319289e-02, -1.36075914e-02,  1.16251588e-01,\n",
              "          6.50376379e-02,  6.24254048e-02, -5.36198765e-02,\n",
              "         -4.89070117e-02,  1.25616789e-01, -1.31409064e-01,\n",
              "         -8.30235630e-02],\n",
              "        [ 1.03286117e-01,  3.02409232e-02, -1.01178259e-01,\n",
              "          4.90961671e-02, -2.05368176e-01,  9.36930776e-02,\n",
              "         -8.95258486e-02, -1.88245952e-01, -9.19536054e-02,\n",
              "          1.39515221e-01],\n",
              "        [-1.44302368e-01,  1.28034413e-01, -1.83618397e-01,\n",
              "          1.03356242e-01,  8.79123807e-02,  4.19849455e-02,\n",
              "         -6.87530637e-02, -1.69142038e-01,  3.95273268e-02,\n",
              "          1.43408269e-01],\n",
              "        [-1.94414735e-01,  1.19972289e-01,  1.31506443e-01,\n",
              "         -7.87127316e-02,  1.01460308e-01,  4.46845591e-02,\n",
              "          1.44895017e-02,  1.18026376e-01, -1.63845718e-03,\n",
              "         -1.70120150e-01],\n",
              "        [ 2.20842630e-01,  1.56916827e-02, -2.65243500e-02,\n",
              "          1.26779616e-01,  2.65842080e-02,  1.55911237e-01,\n",
              "          1.01085663e-01,  8.37931633e-02,  2.67393291e-02,\n",
              "         -1.14168175e-01],\n",
              "        [ 1.05323106e-01, -1.37289315e-01,  1.64977759e-01,\n",
              "         -1.10436216e-01, -4.04723287e-02, -1.14946894e-01,\n",
              "          4.00167406e-02, -1.08787566e-01, -1.95850730e-01,\n",
              "         -2.12018177e-01],\n",
              "        [-1.41837180e-01, -2.06679851e-02,  4.81431186e-03,\n",
              "          1.01999789e-01, -2.27459624e-01, -2.22452760e-01,\n",
              "         -2.33509868e-01,  1.77627772e-01, -1.61169916e-02,\n",
              "         -1.55777872e-01],\n",
              "        [-1.46523371e-01, -2.30209291e-01, -6.75281584e-02,\n",
              "         -8.69381130e-02, -9.31732208e-02,  1.38119638e-01,\n",
              "          1.02119476e-01, -1.68330669e-02, -1.75599873e-01,\n",
              "          1.67556286e-01],\n",
              "        [-1.66215017e-01, -1.67773902e-01, -5.23699820e-03,\n",
              "         -2.32630149e-01,  5.35194874e-02, -1.57409877e-01,\n",
              "          1.99225217e-01, -1.66065902e-01,  1.31911874e-01,\n",
              "         -5.64035028e-02],\n",
              "        [-1.24523520e-01,  2.06876904e-01, -2.13889629e-02,\n",
              "          1.01593375e-01,  2.11601436e-01,  2.20809400e-01,\n",
              "         -1.16029806e-01,  2.28352785e-01, -1.42099172e-01,\n",
              "         -1.95775479e-02],\n",
              "        [ 1.15505546e-01, -1.89917982e-01, -1.01920560e-01,\n",
              "         -1.45633072e-01, -6.97559118e-02, -1.21126324e-01,\n",
              "         -3.33942324e-02, -3.89406085e-02, -1.98473558e-01,\n",
              "          2.13472426e-01],\n",
              "        [-1.26720428e-01,  1.98754966e-02, -1.26110017e-03,\n",
              "          2.03166485e-01,  3.42984200e-02,  1.59480989e-01,\n",
              "          2.29454070e-01, -1.21023357e-02, -1.04903653e-01,\n",
              "          1.18286729e-01],\n",
              "        [ 1.86825693e-01,  6.43333793e-03, -4.40302193e-02,\n",
              "         -9.26772505e-02,  8.90389085e-02, -1.86000496e-01,\n",
              "         -7.76124448e-02, -2.12109163e-01,  3.96578610e-02,\n",
              "          1.38985246e-01],\n",
              "        [ 3.48976254e-02,  6.11338019e-02, -2.24113435e-01,\n",
              "          1.59561574e-01, -2.24172354e-01, -2.18571573e-01,\n",
              "          1.71018630e-01, -1.70807496e-01,  9.48593318e-02,\n",
              "          2.06637025e-01],\n",
              "        [-7.15448260e-02,  2.67194510e-02, -1.29777730e-01,\n",
              "         -2.83079743e-02,  1.49150938e-01,  2.00408399e-02,\n",
              "         -9.26880538e-03,  1.95327312e-01, -2.36716121e-02,\n",
              "         -8.49491805e-02],\n",
              "        [ 9.75817144e-02, -3.22628170e-02, -1.45628840e-01,\n",
              "         -1.11749381e-01, -1.35825366e-01,  2.15720892e-01,\n",
              "         -1.90296292e-01, -2.15212852e-01,  4.14146483e-02,\n",
              "         -1.74750492e-01],\n",
              "        [-2.17459142e-01,  1.16467685e-01,  2.20137209e-01,\n",
              "          1.99110806e-02, -1.56438440e-01, -1.93390697e-02,\n",
              "         -2.26380780e-01,  2.15971738e-01, -1.09629318e-01,\n",
              "         -3.23226750e-02],\n",
              "        [ 1.41858667e-01, -2.84025669e-02,  1.42874926e-01,\n",
              "         -1.93652064e-01,  1.13876104e-01, -2.31631026e-01,\n",
              "         -1.55769348e-01,  5.75900376e-02, -1.12487115e-01,\n",
              "         -8.68570358e-02],\n",
              "        [-1.53883219e-01, -1.84403449e-01,  4.22625244e-02,\n",
              "          6.36447370e-02,  2.19166279e-04,  1.40038431e-02,\n",
              "          1.46058381e-01, -1.81269646e-02, -1.42947286e-02,\n",
              "          1.97005659e-01],\n",
              "        [ 1.31194472e-01, -7.02439696e-02,  6.62699640e-02,\n",
              "          4.75432277e-02, -8.09099078e-02, -1.75658792e-01,\n",
              "         -1.34772062e-01,  1.01702780e-01,  2.51824558e-02,\n",
              "         -2.86036432e-02],\n",
              "        [-1.93550438e-02, -2.01710433e-01,  5.33595681e-02,\n",
              "          8.49360526e-02, -1.85888290e-01, -1.72931671e-01,\n",
              "          2.43896842e-02, -1.89891875e-01,  1.42436504e-01,\n",
              "          4.10812795e-02],\n",
              "        [-2.33035177e-01,  5.87274134e-02, -8.92909765e-02,\n",
              "         -6.46511614e-02,  1.82096958e-01, -9.11843032e-02,\n",
              "          1.29649371e-01,  2.22158581e-01, -2.25961208e-04,\n",
              "         -8.25533271e-02],\n",
              "        [-8.68928432e-02,  9.74598825e-02,  2.12461174e-01,\n",
              "          1.84031039e-01,  1.72825873e-01,  9.82792079e-02,\n",
              "         -1.52688995e-01, -2.23121732e-01, -1.79698229e-01,\n",
              "         -2.35435963e-02],\n",
              "        [ 1.69584870e-01, -1.93491906e-01, -7.74534047e-03,\n",
              "          1.05955780e-01,  8.09212029e-03, -1.10902280e-01,\n",
              "         -3.92209142e-02,  2.01063842e-01, -6.23173267e-02,\n",
              "          5.02853096e-03],\n",
              "        [-2.13192463e-01,  1.58076227e-01, -1.72709614e-01,\n",
              "         -1.10572971e-01,  1.03827596e-01, -5.99412471e-02,\n",
              "         -2.08655953e-01,  1.45147175e-01, -1.25925541e-01,\n",
              "         -1.21348165e-01],\n",
              "        [ 1.51503175e-01, -1.16609022e-01, -4.74617183e-02,\n",
              "         -1.78234667e-01, -1.94169730e-01,  1.46251023e-01,\n",
              "          2.30162561e-01, -1.10932462e-01,  5.96128702e-02,\n",
              "         -1.42463386e-01],\n",
              "        [ 1.13107353e-01,  2.24497378e-01,  1.86324567e-01,\n",
              "         -6.23364896e-02,  8.64909291e-02,  1.26353204e-02,\n",
              "         -6.75078332e-02, -9.61813629e-02,  1.92086607e-01,\n",
              "          2.03035951e-01],\n",
              "        [-6.57324493e-02,  4.04252708e-02, -1.04443654e-01,\n",
              "         -1.20785438e-01, -2.45848596e-02,  1.54829502e-01,\n",
              "         -1.05559081e-02,  2.15570658e-01, -9.28084999e-02,\n",
              "          1.09019756e-01],\n",
              "        [-1.52813047e-01,  8.03939998e-02,  2.28352785e-01,\n",
              "         -2.11165786e-01, -7.37349391e-02,  1.61310613e-01,\n",
              "          4.71806228e-02,  4.66126204e-02, -2.16973543e-01,\n",
              "          1.91174448e-02],\n",
              "        [-1.32791877e-01, -2.10094512e-01, -6.09978735e-02,\n",
              "         -2.32405856e-01,  9.66218710e-02,  7.75847733e-02,\n",
              "         -2.13497832e-01,  2.08531052e-01, -5.89880198e-02,\n",
              "          1.76303804e-01],\n",
              "        [ 1.25968307e-01,  1.71831250e-03,  1.22356355e-01,\n",
              "         -1.29398316e-01,  2.16400057e-01,  1.66249752e-01,\n",
              "         -2.31838062e-01,  8.44837725e-03, -7.15101957e-02,\n",
              "          1.86868519e-01],\n",
              "        [ 1.81284785e-01, -2.09082872e-01,  2.68340111e-03,\n",
              "         -1.65522382e-01, -1.78821161e-01, -1.65430620e-01,\n",
              "         -2.28744105e-01, -1.20975703e-01, -2.10125640e-01,\n",
              "          1.71003491e-01],\n",
              "        [ 1.50667608e-01,  2.14994073e-01,  1.31232440e-01,\n",
              "          1.97439432e-01, -8.98024142e-02, -3.75411361e-02,\n",
              "          1.61434501e-01,  2.38240659e-02,  5.59875667e-02,\n",
              "         -6.07381165e-02],\n",
              "        [ 2.15293318e-01, -2.24614084e-01,  1.44095391e-01,\n",
              "         -1.49712875e-01, -1.74668312e-01,  1.69059515e-01,\n",
              "         -1.12337723e-01, -2.04627648e-01,  5.29216826e-02,\n",
              "         -1.64934218e-01],\n",
              "        [-2.21425191e-01, -2.19633833e-01, -2.26618871e-01,\n",
              "          2.44155228e-02,  7.05815852e-03, -1.36420727e-02,\n",
              "         -1.47526607e-01, -2.11081654e-01, -1.54234245e-01,\n",
              "         -9.12263393e-02],\n",
              "        [-5.26032299e-02,  1.38139307e-01,  1.49688810e-01,\n",
              "         -2.25637138e-01,  1.59425288e-02, -2.19454363e-01,\n",
              "         -4.40592319e-02,  1.20818853e-01,  1.86389089e-01,\n",
              "         -1.15010597e-01],\n",
              "        [ 1.13072604e-01,  1.47211283e-01,  2.33366817e-01,\n",
              "         -2.99149156e-02,  4.04489338e-02,  2.17414260e-01,\n",
              "         -1.03356838e-02, -2.22001612e-01, -6.83245361e-02,\n",
              "         -2.55929381e-02]], dtype=float32),\n",
              " array([0., 0., 0., 0., 0., 0., 0., 0., 0., 0.], dtype=float32)]"
            ]
          },
          "metadata": {},
          "execution_count": 65
        }
      ]
    },
    {
      "cell_type": "code",
      "metadata": {
        "deletable": false,
        "nbgrader": {
          "cell_type": "code",
          "checksum": "a3f75126a80a74dd71fb0a9ab2b8b89f",
          "grade": false,
          "grade_id": "cell-7882876b8973bc7b",
          "locked": false,
          "schema_version": 3,
          "solution": true,
          "task": false
        },
        "id": "4baJ3DRlpVGk"
      },
      "source": [
        "# index for the 1st column in the 1st hidden layer weights in best_weights and save to best_hidden_weights\n",
        "best_hidden_weights = best_weights[0][0]\n",
        "# index for the 1st column in the 1st hidden layer weights in worst_weights and save to worst_hidden_weights\n",
        "worst_hidden_weights = worse_weights[0][0]\n",
        "# Keras models samples from the GlorotUniform distribution for the initial values of model weights randomly \n",
        "# instantiate GlorotUniform and sample 500 weights and save to initial_weight_values\n",
        "# hint: use shape=(500,1)\n",
        "glorot = GlorotUniform(42)\n",
        "initial_weight_values = np.reshape(glorot(shape=(500,1)), (1, 500))[0]\n",
        "# lastly, flatten all of the above 3 variables so that you go from a matrix to a vector \n",
        "# otherwise, pandas will not like you and throw a fit "
      ],
      "execution_count": 70,
      "outputs": []
    },
    {
      "cell_type": "code",
      "metadata": {
        "id": "83166EmLpVGk"
      },
      "source": [
        "# move all weights to a dataframe for ease of analysis \n",
        "cols = [\"best_hidden_weights\", \"worst_hidden_weights\", \"initial_weight_values\"]\n",
        "data = [best_hidden_weights, worst_hidden_weights, initial_weight_values]\n",
        "df = pd.DataFrame(data=data).T\n",
        "df.columns = cols"
      ],
      "execution_count": 71,
      "outputs": []
    },
    {
      "cell_type": "code",
      "metadata": {
        "id": "mG-0V1-6pVGk",
        "colab": {
          "base_uri": "https://localhost:8080/",
          "height": 297
        },
        "outputId": "dafb27e5-bb15-4027-f6db-b5b17066c725"
      },
      "source": [
        "# check out the statistics for each weight column \n",
        "df.describe()"
      ],
      "execution_count": 72,
      "outputs": [
        {
          "output_type": "execute_result",
          "data": {
            "text/html": [
              "<div>\n",
              "<style scoped>\n",
              "    .dataframe tbody tr th:only-of-type {\n",
              "        vertical-align: middle;\n",
              "    }\n",
              "\n",
              "    .dataframe tbody tr th {\n",
              "        vertical-align: top;\n",
              "    }\n",
              "\n",
              "    .dataframe thead th {\n",
              "        text-align: right;\n",
              "    }\n",
              "</style>\n",
              "<table border=\"1\" class=\"dataframe\">\n",
              "  <thead>\n",
              "    <tr style=\"text-align: right;\">\n",
              "      <th></th>\n",
              "      <th>best_hidden_weights</th>\n",
              "      <th>worst_hidden_weights</th>\n",
              "      <th>initial_weight_values</th>\n",
              "    </tr>\n",
              "  </thead>\n",
              "  <tbody>\n",
              "    <tr>\n",
              "      <th>count</th>\n",
              "      <td>500.000000</td>\n",
              "      <td>5.000000e+02</td>\n",
              "      <td>500.000000</td>\n",
              "    </tr>\n",
              "    <tr>\n",
              "      <th>mean</th>\n",
              "      <td>-0.001227</td>\n",
              "      <td>9.438389e-08</td>\n",
              "      <td>-0.002952</td>\n",
              "    </tr>\n",
              "    <tr>\n",
              "      <th>std</th>\n",
              "      <td>0.039764</td>\n",
              "      <td>2.268165e-06</td>\n",
              "      <td>0.064663</td>\n",
              "    </tr>\n",
              "    <tr>\n",
              "      <th>min</th>\n",
              "      <td>-0.067976</td>\n",
              "      <td>-4.601385e-06</td>\n",
              "      <td>-0.109038</td>\n",
              "    </tr>\n",
              "    <tr>\n",
              "      <th>25%</th>\n",
              "      <td>-0.033721</td>\n",
              "      <td>-5.768017e-20</td>\n",
              "      <td>-0.062206</td>\n",
              "    </tr>\n",
              "    <tr>\n",
              "      <th>50%</th>\n",
              "      <td>-0.001162</td>\n",
              "      <td>-1.130922e-25</td>\n",
              "      <td>-0.003185</td>\n",
              "    </tr>\n",
              "    <tr>\n",
              "      <th>75%</th>\n",
              "      <td>0.033199</td>\n",
              "      <td>1.365138e-20</td>\n",
              "      <td>0.051861</td>\n",
              "    </tr>\n",
              "    <tr>\n",
              "      <th>max</th>\n",
              "      <td>0.067837</td>\n",
              "      <td>5.031615e-05</td>\n",
              "      <td>0.109292</td>\n",
              "    </tr>\n",
              "  </tbody>\n",
              "</table>\n",
              "</div>"
            ],
            "text/plain": [
              "       best_hidden_weights  worst_hidden_weights  initial_weight_values\n",
              "count           500.000000          5.000000e+02             500.000000\n",
              "mean             -0.001227          9.438389e-08              -0.002952\n",
              "std               0.039764          2.268165e-06               0.064663\n",
              "min              -0.067976         -4.601385e-06              -0.109038\n",
              "25%              -0.033721         -5.768017e-20              -0.062206\n",
              "50%              -0.001162         -1.130922e-25              -0.003185\n",
              "75%               0.033199          1.365138e-20               0.051861\n",
              "max               0.067837          5.031615e-05               0.109292"
            ]
          },
          "metadata": {},
          "execution_count": 72
        }
      ]
    },
    {
      "cell_type": "code",
      "metadata": {
        "id": "nUtNQVpqpVGk",
        "colab": {
          "base_uri": "https://localhost:8080/",
          "height": 716
        },
        "outputId": "329d8d4e-83a2-4277-828f-a5303fe117e8"
      },
      "source": [
        "# plot the distributions for each weight column \n",
        "df.hist(figsize=(20,12));"
      ],
      "execution_count": 73,
      "outputs": [
        {
          "output_type": "display_data",
          "data": {
            "image/png": "[encoded data removed]",
            "text/plain": [
              "<Figure size 1440x864 with 4 Axes>"
            ]
          },
          "metadata": {
            "needs_background": "light"
          }
        }
      ]
    },
    {
      "cell_type": "markdown",
      "metadata": {
        "id": "kn5DyFospVGk"
      },
      "source": [
        "## Observations \n",
        "\n",
        "Take a look at the statistical table and the plots. Then answer the following questions. \n",
        "\n",
        "**How do the hidden layer weights from the best performing model compare to the initial weight values?**"
      ]
    },
    {
      "cell_type": "markdown",
      "metadata": {
        "deletable": false,
        "nbgrader": {
          "cell_type": "markdown",
          "checksum": "5eacb66f89b216ae3b4bb3c4b7bd6d38",
          "grade": true,
          "grade_id": "cell-6add7cc400c4c716",
          "locked": false,
          "points": 0,
          "schema_version": 3,
          "solution": true,
          "task": false
        },
        "id": "ef7CKUNEpVGk"
      },
      "source": [
        "YOUR ANSWER HERE\n",
        "\n",
        "The best hidden weights are about .08 more precise than the initial having a smaller range"
      ]
    },
    {
      "cell_type": "markdown",
      "metadata": {
        "id": "DqdDDjRdpVGk"
      },
      "source": [
        "**What was the effect of using a small l2 penalty value?**"
      ]
    },
    {
      "cell_type": "markdown",
      "metadata": {
        "deletable": false,
        "nbgrader": {
          "cell_type": "markdown",
          "checksum": "92ac1689b72d727ab7f4d261c5e76daa",
          "grade": true,
          "grade_id": "cell-5b4f11bba2d49639",
          "locked": false,
          "points": 0,
          "schema_version": 3,
          "solution": true,
          "task": false
        },
        "id": "sQlxzMgZpVGl"
      },
      "source": [
        "YOUR ANSWER HERE\n",
        "\n",
        "Overfitting"
      ]
    },
    {
      "cell_type": "markdown",
      "metadata": {
        "id": "qrmN0mKgpVGl"
      },
      "source": [
        "**What was the effect of using a large l2 penalty value?**"
      ]
    },
    {
      "cell_type": "markdown",
      "metadata": {
        "deletable": false,
        "nbgrader": {
          "cell_type": "markdown",
          "checksum": "3048a6d2805f61d6fb58372c42c3ac54",
          "grade": true,
          "grade_id": "cell-0a30b62e5e119555",
          "locked": false,
          "points": 0,
          "schema_version": 3,
          "solution": true,
          "task": false
        },
        "id": "VkttESZSpVGl"
      },
      "source": [
        "YOUR ANSWER HERE\n",
        "\n",
        "underfitting"
      ]
    },
    {
      "cell_type": "markdown",
      "metadata": {
        "id": "5Eqj2BzLpVGl"
      },
      "source": [
        "**Given what you know about L2 regularization, are you surprised by these results?**"
      ]
    },
    {
      "cell_type": "markdown",
      "metadata": {
        "deletable": false,
        "nbgrader": {
          "cell_type": "markdown",
          "checksum": "d8a2034f67badfe53f601873f7026dc0",
          "grade": true,
          "grade_id": "cell-c04d067161064011",
          "locked": false,
          "points": 0,
          "schema_version": 3,
          "solution": true,
          "task": false
        },
        "id": "63jFQZnUpVGl"
      },
      "source": [
        "YOUR ANSWER HERE\n",
        "\n",
        "yes"
      ]
    },
    {
      "cell_type": "markdown",
      "metadata": {
        "id": "VxTesknfpVGl"
      },
      "source": [
        "----\n",
        "\n",
        "# Experiment 2: Identify the Relationship Between mMdel Performance and Max Norm Weight Constraint\n",
        "\n",
        "![](https://qph.fs.quoracdn.net/main-qimg-9d0dbf8074761b541ba80543ddfc9f73.webp)\n",
        "\n",
        "Recall from the lecture that the **norm** of a vector is just another word for the **length** of a vector.\n",
        "\n",
        "MaxNorm weight constraint puts a limit on the length of a weight vector.\n",
        "\n",
        "$$ \\text{Max_value_of_norm} >= {\\displaystyle \\left\\|x\\right\\|_{p}=\\left(|x_{1}|^{p}+|x_{2}|^{p}+\\dotsb +|x_{n}|^{p}\\right)^{1/p}.}$$  \n",
        "\n",
        "The effect that Lp regularization and 'Max Norm Weight Constraint' have on the weights should be the same, but they go about it differently. \n",
        "\n",
        "Lp regularization (l1/Lasso and l2/Ridge) shrink the value of the weights. At the same time, 'Max Norm Weight Constraint' limits how big the weight vector can be, which, in effect, keeps the individual weight values small enough to keep the norm below that limit. \n",
        "\n",
        "IIn this experiment, we are going to run another gridseach. Still, instead of using Lp space regularization as we did in the previous experiment, we will use MaxNorm and see what kind of effect this type of regularization has on model performance and the learned weights."
      ]
    },
    {
      "cell_type": "markdown",
      "metadata": {
        "id": "UiWKV_CkpVGl"
      },
      "source": [
        "Since we already built our model, we need to update the `hyper_parameters` dictionary. "
      ]
    },
    {
      "cell_type": "code",
      "metadata": {
        "id": "SXY7eUs5pVGl",
        "colab": {
          "base_uri": "https://localhost:8080/"
        },
        "outputId": "a964436f-88c0-4555-b0a0-ee7b60dd6ca8"
      },
      "source": [
        "# build out our hyperparameter dictionary \n",
        "hyper_parameters = {\n",
        "    \n",
        "    \"maxnorm_wc\": np.linspace(0.5, 10.0, num=20), \n",
        "    # default is 1, in order to change it we must provide value here because we can't provide a parameter value for model.fit() directly when using gridsearch\n",
        "    # protip: consider changing epochs to 1 if the gridsearch run-time is too long for you    \n",
        "    \"epochs\": [1] \n",
        "}\n",
        "\n",
        "hyper_parameters"
      ],
      "execution_count": 74,
      "outputs": [
        {
          "output_type": "execute_result",
          "data": {
            "text/plain": [
              "{'epochs': [1],\n",
              " 'maxnorm_wc': array([ 0.5,  1. ,  1.5,  2. ,  2.5,  3. ,  3.5,  4. ,  4.5,  5. ,  5.5,\n",
              "         6. ,  6.5,  7. ,  7.5,  8. ,  8.5,  9. ,  9.5, 10. ])}"
            ]
          },
          "metadata": {},
          "execution_count": 74
        }
      ]
    },
    {
      "cell_type": "code",
      "metadata": {
        "id": "jXF3p3WlpVGl",
        "colab": {
          "base_uri": "https://localhost:8080/"
        },
        "outputId": "2400bb02-fb0a-45ed-b7e9-cc16eb32cc75"
      },
      "source": [
        "start=time()\n",
        "# Create and run Gridsearch\n",
        "grid = GridSearchCV(estimator=model, \n",
        "                    param_grid=hyper_parameters, \n",
        "                    n_jobs=-2, \n",
        "                    verbose=1, \n",
        "                    cv=2)\n",
        "\n",
        "grid_result = grid.fit(X_train, y_train)\n",
        "end=time()"
      ],
      "execution_count": 75,
      "outputs": [
        {
          "output_type": "stream",
          "name": "stdout",
          "text": [
            "Fitting 2 folds for each of 20 candidates, totalling 40 fits\n"
          ]
        },
        {
          "output_type": "stream",
          "name": "stderr",
          "text": [
            "[Parallel(n_jobs=-2)]: Using backend SequentialBackend with 1 concurrent workers.\n"
          ]
        },
        {
          "output_type": "stream",
          "name": "stdout",
          "text": [
            "938/938 [==============================] - 7s 7ms/step - loss: 0.6199 - accuracy: 0.7718\n",
            "938/938 [==============================] - 3s 3ms/step - loss: 0.4814 - accuracy: 0.8230\n",
            "938/938 [==============================] - 7s 7ms/step - loss: 0.6225 - accuracy: 0.7695\n",
            "938/938 [==============================] - 3s 3ms/step - loss: 0.4934 - accuracy: 0.8225\n",
            "938/938 [==============================] - 7s 7ms/step - loss: 0.5581 - accuracy: 0.7983\n",
            "938/938 [==============================] - 3s 3ms/step - loss: 0.4159 - accuracy: 0.8518\n",
            "938/938 [==============================] - 7s 7ms/step - loss: 0.5578 - accuracy: 0.7981\n",
            "938/938 [==============================] - 3s 3ms/step - loss: 0.4470 - accuracy: 0.8413\n",
            "938/938 [==============================] - 7s 7ms/step - loss: 0.5390 - accuracy: 0.8059\n",
            "938/938 [==============================] - 3s 3ms/step - loss: 0.4247 - accuracy: 0.8461\n",
            "938/938 [==============================] - 8s 7ms/step - loss: 0.5336 - accuracy: 0.8055\n",
            "938/938 [==============================] - 3s 3ms/step - loss: 0.4355 - accuracy: 0.8417\n",
            "938/938 [==============================] - 7s 7ms/step - loss: 0.5437 - accuracy: 0.8043\n",
            "938/938 [==============================] - 3s 3ms/step - loss: 0.4121 - accuracy: 0.8500\n",
            "938/938 [==============================] - 7s 7ms/step - loss: 0.5362 - accuracy: 0.8051\n",
            "938/938 [==============================] - 3s 3ms/step - loss: 0.4420 - accuracy: 0.8376\n",
            "938/938 [==============================] - 7s 7ms/step - loss: 0.5411 - accuracy: 0.8055\n",
            "938/938 [==============================] - 3s 3ms/step - loss: 0.4481 - accuracy: 0.8362\n",
            "938/938 [==============================] - 7s 7ms/step - loss: 0.5381 - accuracy: 0.8047\n",
            "938/938 [==============================] - 2s 3ms/step - loss: 0.4352 - accuracy: 0.8386\n",
            "938/938 [==============================] - 7s 7ms/step - loss: 0.5430 - accuracy: 0.8057\n",
            "938/938 [==============================] - 3s 3ms/step - loss: 0.4357 - accuracy: 0.8412\n",
            "938/938 [==============================] - 8s 8ms/step - loss: 0.5326 - accuracy: 0.8060\n",
            "938/938 [==============================] - 3s 3ms/step - loss: 0.4431 - accuracy: 0.8379\n",
            "938/938 [==============================] - 7s 7ms/step - loss: 0.5374 - accuracy: 0.8069\n",
            "938/938 [==============================] - 3s 3ms/step - loss: 0.4731 - accuracy: 0.8244\n",
            "938/938 [==============================] - 9s 9ms/step - loss: 0.5442 - accuracy: 0.8019\n",
            "938/938 [==============================] - 3s 3ms/step - loss: 0.4398 - accuracy: 0.8466\n",
            "938/938 [==============================] - 9s 9ms/step - loss: 0.5412 - accuracy: 0.8051\n",
            "938/938 [==============================] - 3s 3ms/step - loss: 0.4203 - accuracy: 0.8454\n",
            "938/938 [==============================] - 7s 7ms/step - loss: 0.5473 - accuracy: 0.8020\n",
            "938/938 [==============================] - 3s 3ms/step - loss: 0.4437 - accuracy: 0.8425\n",
            "938/938 [==============================] - 7s 7ms/step - loss: 0.5415 - accuracy: 0.8056\n",
            "938/938 [==============================] - 3s 3ms/step - loss: 0.4736 - accuracy: 0.8258\n",
            "938/938 [==============================] - 8s 8ms/step - loss: 0.5434 - accuracy: 0.8007\n",
            "938/938 [==============================] - 3s 3ms/step - loss: 0.4199 - accuracy: 0.8482\n",
            "938/938 [==============================] - 7s 7ms/step - loss: 0.5347 - accuracy: 0.8077\n",
            "938/938 [==============================] - 3s 3ms/step - loss: 0.4413 - accuracy: 0.8407\n",
            "938/938 [==============================] - 7s 7ms/step - loss: 0.5398 - accuracy: 0.8036\n",
            "938/938 [==============================] - 3s 3ms/step - loss: 0.4370 - accuracy: 0.8423\n",
            "938/938 [==============================] - 7s 7ms/step - loss: 0.5444 - accuracy: 0.8046\n",
            "938/938 [==============================] - 3s 3ms/step - loss: 0.4606 - accuracy: 0.8377\n",
            "938/938 [==============================] - 7s 7ms/step - loss: 0.5354 - accuracy: 0.8055\n",
            "938/938 [==============================] - 3s 3ms/step - loss: 0.4609 - accuracy: 0.8336\n",
            "938/938 [==============================] - 7s 7ms/step - loss: 0.5399 - accuracy: 0.8034\n",
            "938/938 [==============================] - 3s 3ms/step - loss: 0.4538 - accuracy: 0.8335\n",
            "938/938 [==============================] - 9s 9ms/step - loss: 0.5454 - accuracy: 0.8011\n",
            "938/938 [==============================] - 3s 3ms/step - loss: 0.3926 - accuracy: 0.8567\n",
            "938/938 [==============================] - 7s 7ms/step - loss: 0.5347 - accuracy: 0.8069\n",
            "938/938 [==============================] - 3s 3ms/step - loss: 0.4131 - accuracy: 0.8516\n",
            "938/938 [==============================] - 7s 7ms/step - loss: 0.5435 - accuracy: 0.8007\n",
            "938/938 [==============================] - 3s 3ms/step - loss: 0.4326 - accuracy: 0.8458\n",
            "938/938 [==============================] - 7s 7ms/step - loss: 0.5356 - accuracy: 0.8078\n",
            "938/938 [==============================] - 3s 3ms/step - loss: 0.4366 - accuracy: 0.8431\n",
            "938/938 [==============================] - 7s 7ms/step - loss: 0.5396 - accuracy: 0.8052\n",
            "938/938 [==============================] - 3s 3ms/step - loss: 0.4279 - accuracy: 0.8390\n",
            "938/938 [==============================] - 7s 7ms/step - loss: 0.5327 - accuracy: 0.8071\n",
            "938/938 [==============================] - 3s 3ms/step - loss: 0.4478 - accuracy: 0.8376\n",
            "938/938 [==============================] - 7s 7ms/step - loss: 0.5426 - accuracy: 0.8057\n",
            "938/938 [==============================] - 3s 3ms/step - loss: 0.4632 - accuracy: 0.8303\n",
            "938/938 [==============================] - 7s 7ms/step - loss: 0.5406 - accuracy: 0.8073\n",
            "938/938 [==============================] - 2s 3ms/step - loss: 0.4223 - accuracy: 0.8481\n",
            "938/938 [==============================] - 7s 7ms/step - loss: 0.5368 - accuracy: 0.8046\n",
            "938/938 [==============================] - 3s 3ms/step - loss: 0.4073 - accuracy: 0.8575\n",
            "938/938 [==============================] - 7s 7ms/step - loss: 0.5459 - accuracy: 0.8015\n",
            "938/938 [==============================] - 3s 3ms/step - loss: 0.4743 - accuracy: 0.8261\n",
            "938/938 [==============================] - 8s 7ms/step - loss: 0.5402 - accuracy: 0.8008\n",
            "938/938 [==============================] - 3s 3ms/step - loss: 0.4295 - accuracy: 0.8441\n",
            "938/938 [==============================] - 7s 7ms/step - loss: 0.5426 - accuracy: 0.8049\n",
            "938/938 [==============================] - 3s 3ms/step - loss: 0.4720 - accuracy: 0.8262\n",
            "938/938 [==============================] - 7s 7ms/step - loss: 0.5440 - accuracy: 0.8009\n",
            "938/938 [==============================] - 3s 3ms/step - loss: 0.4477 - accuracy: 0.8392\n",
            "938/938 [==============================] - 7s 7ms/step - loss: 0.5414 - accuracy: 0.8027\n",
            "938/938 [==============================] - 3s 3ms/step - loss: 0.4150 - accuracy: 0.8461\n",
            "938/938 [==============================] - 7s 7ms/step - loss: 0.5450 - accuracy: 0.8035\n",
            "938/938 [==============================] - 3s 3ms/step - loss: 0.4292 - accuracy: 0.8423\n",
            "938/938 [==============================] - 7s 7ms/step - loss: 0.5425 - accuracy: 0.8047\n",
            "938/938 [==============================] - 3s 3ms/step - loss: 0.4469 - accuracy: 0.8367\n",
            "938/938 [==============================] - 7s 7ms/step - loss: 0.5434 - accuracy: 0.8021\n",
            "938/938 [==============================] - 3s 3ms/step - loss: 0.4382 - accuracy: 0.8443\n"
          ]
        },
        {
          "output_type": "stream",
          "name": "stderr",
          "text": [
            "[Parallel(n_jobs=-2)]: Done  40 out of  40 | elapsed:  7.1min finished\n"
          ]
        },
        {
          "output_type": "stream",
          "name": "stdout",
          "text": [
            "1875/1875 [==============================] - 14s 7ms/step - loss: 0.4792 - accuracy: 0.8262\n"
          ]
        }
      ]
    },
    {
      "cell_type": "code",
      "metadata": {
        "id": "Ll5oU05RpVGl",
        "colab": {
          "base_uri": "https://localhost:8080/"
        },
        "outputId": "0b0fb282-051d-4015-85f9-05a0fb9433de"
      },
      "source": [
        "print(\"Gridsearch runtime {0:.3} mins\".format( (end-start)/60 ))"
      ],
      "execution_count": 76,
      "outputs": [
        {
          "output_type": "stream",
          "name": "stdout",
          "text": [
            "Gridsearch runtime 7.37 mins\n"
          ]
        }
      ]
    },
    {
      "cell_type": "code",
      "metadata": {
        "id": "kL12Su73pVGl",
        "colab": {
          "base_uri": "https://localhost:8080/",
          "height": 404
        },
        "outputId": "4eb80e0a-9f7b-483b-81d9-c8bffbaa3af4"
      },
      "source": [
        "# use the mean accuracy from the CV splits for determining best model score \n",
        "means = grid.cv_results_['mean_test_score']\n",
        "stds = grid.cv_results_['std_test_score']\n",
        "params = grid.cv_results_['params']\n",
        "\n",
        "# move l2 penalty values outside of dictionary and into a list\n",
        "param_values = [dic[\"maxnorm_wc\"] for dic in params]\n",
        "\n",
        "# plot accuracy vs l2_reg_penalty\n",
        "plt.figure(figsize=(20,6))\n",
        "plt.grid()\n",
        "plt.errorbar(param_values, means, yerr=stds, ecolor=\"orange\")\n",
        "plt.title(\"L1 Regularization: Model Accuracy vs L1 Penalty Strength\")\n",
        "plt.ylabel(\"Validation Accuracy\", )\n",
        "plt.xlabel(\"Max Norm for Weight Vector \");"
      ],
      "execution_count": 77,
      "outputs": [
        {
          "output_type": "display_data",
          "data": {
            "image/png": "[encoded data removed]",
            "text/plain": [
              "<Figure size 1440x432 with 1 Axes>"
            ]
          },
          "metadata": {
            "needs_background": "light"
          }
        }
      ]
    },
    {
      "cell_type": "code",
      "metadata": {
        "colab": {
          "base_uri": "https://localhost:8080/"
        },
        "id": "VpWPb8Vqu332",
        "outputId": "c1efdf4c-d2b7-4f6f-c4aa-f4f957162e68"
      },
      "source": [
        "type(best_lr_penalty)"
      ],
      "execution_count": 120,
      "outputs": [
        {
          "output_type": "execute_result",
          "data": {
            "text/plain": [
              "float"
            ]
          },
          "metadata": {},
          "execution_count": 120
        }
      ]
    },
    {
      "cell_type": "code",
      "metadata": {
        "deletable": false,
        "nbgrader": {
          "cell_type": "code",
          "checksum": "cfe7bd54a7a14ba7ee63c88d6d1828b4",
          "grade": false,
          "grade_id": "cell-f67372e0b9b30614",
          "locked": false,
          "schema_version": 3,
          "solution": true,
          "task": false
        },
        "id": "yDjHSDCapVGo"
      },
      "source": [
        "# get the best l2 penalty term from grid and save to best_max_norm_val\n",
        "best_max_norm_val = grid.best_params_['maxnorm_wc']\n",
        "# get the best-trained model from grid and save to best_model\n",
        "best_model = grid.best_estimator_\n",
        "# get the weights from the best-trained model and save to best_weights\n",
        "best_weights = best_model.build_fn(Lp_reg=l2, reg_penality=best_max_norm_val).get_weights()"
      ],
      "execution_count": 124,
      "outputs": []
    },
    {
      "cell_type": "code",
      "metadata": {
        "id": "kJkiJWFwpVGo",
        "colab": {
          "base_uri": "https://localhost:8080/"
        },
        "outputId": "2a3f028a-eae1-4282-f2cc-6f53bc13ede2"
      },
      "source": [
        "best_max_norm_val"
      ],
      "execution_count": 125,
      "outputs": [
        {
          "output_type": "execute_result",
          "data": {
            "text/plain": [
              "8.0"
            ]
          },
          "metadata": {},
          "execution_count": 125
        }
      ]
    },
    {
      "cell_type": "code",
      "metadata": {
        "id": "2sDvprbjpVGo",
        "colab": {
          "base_uri": "https://localhost:8080/"
        },
        "outputId": "8a91d781-651f-4386-b7be-08306d44bafc"
      },
      "source": [
        "# we see that the norm of our weights are indeed below the maximum allowed value \n",
        "np.linalg.norm(best_weights[0][0])"
      ],
      "execution_count": 126,
      "outputs": [
        {
          "output_type": "execute_result",
          "data": {
            "text/plain": [
              "0.8880959"
            ]
          },
          "metadata": {},
          "execution_count": 126
        }
      ]
    },
    {
      "cell_type": "code",
      "metadata": {
        "deletable": false,
        "nbgrader": {
          "cell_type": "code",
          "checksum": "67f65bd636e3b3b3bc7d20c02ba6b666",
          "grade": false,
          "grade_id": "cell-e752c1a8c853985d",
          "locked": false,
          "schema_version": 3,
          "solution": true,
          "task": false
        },
        "id": "DzVWlPVXpVGp",
        "colab": {
          "base_uri": "https://localhost:8080/"
        },
        "outputId": "82d7aeb0-5f9e-46d8-c183-22b614c22f75"
      },
      "source": [
        "# train a model using the max_norm_val value that scored the lowest \n",
        "worse_max_norm_val = 0.0\n",
        "\n",
        "worse_model = build_complex_model(Lp_reg=l2, reg_penality=worse_max_norm_val)\n",
        "\n",
        "# fit model \n",
        "worse_model.fit(X_train, y_train, epochs=1)\n",
        "\n",
        "# get weights from worse performing model \n",
        "worse_weights = worse_model.get_weights()"
      ],
      "execution_count": 127,
      "outputs": [
        {
          "output_type": "stream",
          "name": "stdout",
          "text": [
            "1875/1875 [==============================] - 14s 7ms/step - loss: 0.4804 - accuracy: 0.8244\n"
          ]
        }
      ]
    },
    {
      "cell_type": "code",
      "metadata": {
        "deletable": false,
        "nbgrader": {
          "cell_type": "code",
          "checksum": "a38d5d4db707124b31a662fb4743b049",
          "grade": false,
          "grade_id": "cell-5c1aa4543e68487d",
          "locked": false,
          "schema_version": 3,
          "solution": true,
          "task": false
        },
        "id": "7nBulGQqpVGp",
        "colab": {
          "base_uri": "https://localhost:8080/"
        },
        "outputId": "8ac65750-11e3-4f93-9ca7-46221924da89"
      },
      "source": [
        "# YOUR CODE HERE\n",
        "worse_weights"
      ],
      "execution_count": 128,
      "outputs": [
        {
          "output_type": "execute_result",
          "data": {
            "text/plain": [
              "[array([[-0.09047015, -0.01021393, -0.06650774, ...,  0.0589902 ,\n",
              "         -0.05949889, -0.01256414],\n",
              "        [-0.01081362, -0.05569116,  0.01265185, ..., -0.07145918,\n",
              "         -0.06949645,  0.10601585],\n",
              "        [-0.08673295,  0.00773794, -0.04123576, ..., -0.04331323,\n",
              "         -0.03492763,  0.06726372],\n",
              "        ...,\n",
              "        [ 0.02565551,  0.07543401,  0.04341128, ...,  0.10387802,\n",
              "         -0.0558756 ,  0.12003121],\n",
              "        [ 0.0229075 ,  0.08584885,  0.04284662, ...,  0.03954495,\n",
              "          0.06123726, -0.0184919 ],\n",
              "        [-0.00512868,  0.06556427, -0.0976261 , ...,  0.0239271 ,\n",
              "         -0.07146149,  0.04065907]], dtype=float32),\n",
              " array([ 0.03570347,  0.07307438, -0.00388007,  0.01227095,  0.10797004,\n",
              "         0.04538116,  0.06883034,  0.01950618,  0.00344572,  0.01649454,\n",
              "         0.03161817,  0.01690489,  0.02035744,  0.094547  , -0.01061164,\n",
              "         0.04850526,  0.08663931, -0.13122782, -0.00201514,  0.14073758,\n",
              "         0.03315876,  0.00396281,  0.03335385, -0.08853576, -0.02630003,\n",
              "         0.07238511, -0.0895724 ,  0.04671188,  0.07163884,  0.04844515,\n",
              "        -0.01540187,  0.1145419 ,  0.10131118,  0.02653285, -0.05373825,\n",
              "        -0.01542206,  0.06440921, -0.03736604, -0.00861649,  0.0997759 ,\n",
              "         0.08126637,  0.16882874,  0.06563745, -0.08271231,  0.12267803,\n",
              "        -0.12563299, -0.04746106,  0.16818073,  0.0560696 ,  0.12824307,\n",
              "         0.08807342,  0.05519348,  0.11352034,  0.05150094,  0.04463978,\n",
              "         0.08278567, -0.08723249,  0.08611196, -0.00206251,  0.08753978,\n",
              "         0.09295534,  0.09608414,  0.05987631, -0.00442581,  0.11534426,\n",
              "         0.03379387, -0.0384802 ,  0.01797948,  0.04032157,  0.01838909,\n",
              "         0.01617857,  0.00796952,  0.08769447,  0.03007709,  0.06423669,\n",
              "         0.05679599, -0.02015267,  0.08926217,  0.02722189,  0.06744502,\n",
              "        -0.02641099, -0.00470014, -0.04651321,  0.0048759 ,  0.13074252,\n",
              "        -0.01919204,  0.03493449,  0.05807009, -0.00749797,  0.06218909,\n",
              "        -0.05881194,  0.04476806,  0.00591002,  0.00222671,  0.04373601,\n",
              "        -0.01267322, -0.01744819,  0.05831219,  0.04292006,  0.02012343,\n",
              "         0.12529998, -0.04611151,  0.04367852,  0.01204111,  0.05569329,\n",
              "         0.06827319,  0.05331827,  0.09495565,  0.114204  ,  0.02510046,\n",
              "         0.00302708, -0.04553419,  0.02653469, -0.03671927, -0.01343743,\n",
              "        -0.03298228,  0.07209902,  0.08815819, -0.08671142,  0.14892612,\n",
              "         0.01973102, -0.02280894,  0.07587369,  0.1803138 , -0.02625039,\n",
              "         0.15407231, -0.00609699, -0.00403778,  0.10482451,  0.02648015,\n",
              "         0.04207541,  0.03814467, -0.03596492,  0.01714577,  0.06240826,\n",
              "        -0.03860602, -0.00218645,  0.06797998, -0.0126888 , -0.03733499,\n",
              "         0.09690183,  0.01678723, -0.02148975,  0.06218293,  0.02209839,\n",
              "         0.05480566,  0.13216165,  0.04183006,  0.16639712,  0.00942168,\n",
              "         0.02314571,  0.06081641,  0.05190841, -0.00779025, -0.0417676 ,\n",
              "         0.0302925 ,  0.11073997,  0.09292919,  0.02646079,  0.01243606,\n",
              "        -0.00202485,  0.01644356, -0.11837274, -0.00507386,  0.02238681,\n",
              "         0.13424124,  0.00602109,  0.00560746, -0.02495986,  0.02577563,\n",
              "         0.12140848,  0.13447866, -0.006144  ,  0.00398219,  0.0104107 ,\n",
              "         0.04959856,  0.08640734, -0.02154961, -0.03459645,  0.01193746,\n",
              "         0.0270716 , -0.00897166, -0.00594335, -0.05193915,  0.07094746,\n",
              "        -0.04248568,  0.05597122, -0.1384362 , -0.01465405,  0.08361167,\n",
              "         0.13665581, -0.03446797,  0.06362429,  0.05239294,  0.02204212,\n",
              "        -0.04140761, -0.00437315, -0.00166188, -0.00889294,  0.12200478,\n",
              "         0.03936918, -0.02219903,  0.04189432,  0.02011339,  0.13995525,\n",
              "         0.09628123,  0.00271731,  0.10087213,  0.09471665,  0.104803  ,\n",
              "        -0.01294445, -0.05474841,  0.05037285,  0.14236024,  0.04800614,\n",
              "        -0.01927661, -0.04992275, -0.00346551,  0.04126756,  0.0551423 ,\n",
              "        -0.03373547,  0.00962568, -0.01308143, -0.09514001,  0.04322556,\n",
              "        -0.00170071,  0.08804061,  0.03544512, -0.04410088, -0.0034688 ,\n",
              "         0.11829389,  0.00176074,  0.01289794, -0.01188367,  0.05865671,\n",
              "         0.06739022,  0.07284486, -0.00534263, -0.00984499, -0.01838205,\n",
              "         0.01612798,  0.0406056 ,  0.08037428, -0.05363292,  0.03736521,\n",
              "         0.0315742 ,  0.05513366,  0.08576984, -0.03454264, -0.04032426,\n",
              "         0.01145952,  0.14945818, -0.01957409,  0.04679619,  0.01523542,\n",
              "         0.07927125,  0.13996929,  0.00670003,  0.0641017 ,  0.01648673,\n",
              "        -0.00800219,  0.0252775 ,  0.04222389,  0.01586389,  0.09081431,\n",
              "         0.06263744,  0.13811322,  0.19522268,  0.02647278,  0.11789855,\n",
              "         0.04711863, -0.02459687, -0.04278585, -0.01776029,  0.07745081,\n",
              "         0.10737508,  0.12978984,  0.11399252, -0.02010492,  0.03931961,\n",
              "         0.02312899, -0.03710783,  0.05905854,  0.02199625,  0.01485163,\n",
              "         0.11474673,  0.01908448, -0.00024865, -0.03515412, -0.04907315,\n",
              "         0.00600922,  0.12445364, -0.01673229, -0.03141116, -0.02027155,\n",
              "         0.03567315, -0.0149019 , -0.02847434,  0.12469673, -0.04223325,\n",
              "        -0.0576046 ,  0.00415462,  0.01767415,  0.0552166 ,  0.12195189,\n",
              "         0.01390932,  0.11055774,  0.11853981,  0.08185669,  0.06242464,\n",
              "        -0.08477663, -0.12753443,  0.04256145,  0.06056424,  0.05028343,\n",
              "        -0.01405471, -0.01984868,  0.03772036,  0.03459356, -0.13961402,\n",
              "         0.10762826, -0.11617197,  0.10037708,  0.1160659 ,  0.00214569,\n",
              "         0.08010656, -0.05725633,  0.11174307, -0.07316162,  0.04775143,\n",
              "         0.10409728,  0.05569887, -0.00647475,  0.07991828,  0.05097141,\n",
              "         0.07448307,  0.01778164,  0.03278765, -0.01818163, -0.00781172,\n",
              "         0.03275499,  0.0233581 , -0.00319736,  0.06060083,  0.00579791,\n",
              "         0.01175977, -0.06536376, -0.00172642,  0.13158117,  0.04563523,\n",
              "        -0.00171328,  0.00903406, -0.02610699, -0.03822605, -0.00601463,\n",
              "         0.10935702,  0.08723134,  0.05647128, -0.03578791,  0.12304737,\n",
              "        -0.00914821, -0.04719538,  0.06657977, -0.06976707,  0.11721251,\n",
              "         0.04521609,  0.08574101,  0.04574844,  0.19731037,  0.04285288,\n",
              "         0.03991039,  0.00352353,  0.11007656,  0.02775595,  0.11424946,\n",
              "         0.0265985 , -0.0427961 ,  0.19572341, -0.01323511, -0.00525077,\n",
              "         0.07021182, -0.08034301,  0.00460824,  0.15515788,  0.0757203 ,\n",
              "         0.07982896, -0.01378982, -0.10706382,  0.02480398,  0.01582882,\n",
              "         0.1198695 ,  0.08825066, -0.01008969, -0.0128602 ,  0.1167831 ,\n",
              "        -0.00456064,  0.04973727, -0.04389181, -0.0165099 ,  0.11514997,\n",
              "        -0.0078792 ,  0.08683483,  0.01324196,  0.0694999 , -0.04851727,\n",
              "         0.01245489,  0.08357494, -0.07387704,  0.03200144,  0.09470886,\n",
              "        -0.02946115,  0.0633161 , -0.01849231,  0.11496911, -0.04303029,\n",
              "        -0.04066164, -0.02424238, -0.03643035,  0.03587354, -0.07244876,\n",
              "         0.05314275, -0.02988384,  0.03482288, -0.00856772, -0.01726225,\n",
              "        -0.02173374,  0.02878986,  0.03271621,  0.03561692,  0.00137854,\n",
              "        -0.01382355, -0.034029  ,  0.04652005, -0.02116393, -0.01686567,\n",
              "         0.08855306,  0.09526447,  0.02355545,  0.0148443 , -0.00269436,\n",
              "         0.06109281,  0.09734257,  0.06064628, -0.14460893,  0.02742212,\n",
              "         0.06292167,  0.09270293, -0.05829253,  0.02166457, -0.09113051,\n",
              "         0.0639173 ,  0.02750134,  0.03162034,  0.08717234,  0.05755063,\n",
              "        -0.03600027,  0.02018985,  0.09108441,  0.04609186,  0.04267815,\n",
              "         0.13654006, -0.01671605,  0.00032525, -0.11981589,  0.02681646,\n",
              "         0.07809025,  0.04006584,  0.08488555,  0.0616842 ,  0.1107339 ,\n",
              "         0.03994984,  0.00173983,  0.02499054,  0.0617287 ,  0.08700452,\n",
              "         0.03697819,  0.02579611,  0.138868  ,  0.04544136,  0.04253796,\n",
              "         0.00198743,  0.08011398,  0.07091103,  0.10120267, -0.04119851,\n",
              "         0.10551703,  0.06435556, -0.05926231, -0.0094946 ,  0.07639129,\n",
              "        -0.02191325, -0.01836675,  0.02394081,  0.06347568,  0.03710091,\n",
              "        -0.0331766 ,  0.04128134,  0.02753545, -0.02033656,  0.04812542],\n",
              "       dtype=float32),\n",
              " array([[-0.04328731,  0.04907548, -0.03237168, ...,  0.03584141,\n",
              "         -0.01084305,  0.11219288],\n",
              "        [-0.00345168,  0.03709302, -0.07333191, ..., -0.09101027,\n",
              "          0.01436435, -0.11587174],\n",
              "        [ 0.08901516,  0.0641792 , -0.0182694 , ...,  0.1179967 ,\n",
              "          0.02490028,  0.02372042],\n",
              "        ...,\n",
              "        [ 0.08027542, -0.02084263,  0.02834851, ..., -0.03113357,\n",
              "          0.0210117 , -0.01962492],\n",
              "        [ 0.03174244,  0.01250197,  0.06848492, ..., -0.06747875,\n",
              "          0.01377724, -0.00883829],\n",
              "        [-0.00324571, -0.03054812,  0.03815756, ..., -0.03236853,\n",
              "         -0.02448605,  0.05012289]], dtype=float32),\n",
              " array([ 0.12452391, -0.03868651, -0.06371255,  0.11123792, -0.04630484,\n",
              "        -0.01228306, -0.00462948,  0.08231888, -0.03931593,  0.07667826,\n",
              "         0.00917189,  0.09381484, -0.02972221,  0.0099529 ,  0.01177691,\n",
              "         0.05149993,  0.01540985, -0.02029262,  0.01750652,  0.09933714,\n",
              "        -0.11093915, -0.0300878 ,  0.09823629, -0.02095282, -0.0222073 ,\n",
              "         0.08014516,  0.1422895 ,  0.02563589, -0.00802743,  0.04196716,\n",
              "         0.01796149,  0.01982025, -0.02754876,  0.1187565 ,  0.07926202,\n",
              "         0.02782456, -0.01931656, -0.07949018, -0.02890875,  0.01849642,\n",
              "        -0.04441328, -0.01507933, -0.02744744,  0.05280377,  0.07521762,\n",
              "        -0.0282014 ,  0.12052254,  0.09381224,  0.08209646, -0.02476489,\n",
              "        -0.01441923, -0.03576509,  0.13844012, -0.03197947,  0.01637845,\n",
              "         0.04519189, -0.039194  ,  0.01262932, -0.03454166,  0.094575  ,\n",
              "         0.05517953,  0.0619381 , -0.04791968, -0.05921742,  0.01003207,\n",
              "         0.08749864, -0.02009964, -0.00291298,  0.14695254, -0.02576058,\n",
              "         0.00044774,  0.09536804, -0.04589514, -0.02443892, -0.04124234,\n",
              "         0.10218108, -0.01278533, -0.0286709 , -0.0010792 , -0.03753391,\n",
              "         0.01401872,  0.00266455,  0.08147616, -0.01138137,  0.01277669,\n",
              "         0.12091862, -0.01446565, -0.02456179,  0.01782789, -0.01075922,\n",
              "        -0.09665333, -0.08236717,  0.09768226, -0.06903816, -0.02063714,\n",
              "         0.07587209,  0.09016646, -0.03028705, -0.02850594, -0.0230989 ,\n",
              "        -0.03677963, -0.04073795, -0.02407662,  0.0642077 , -0.01107151,\n",
              "         0.03505981, -0.03211353, -0.02147652,  0.05064806, -0.01716889,\n",
              "         0.05109794,  0.08730777,  0.03032918,  0.05333611,  0.03166259,\n",
              "         0.00888012,  0.08635902,  0.03965215,  0.00162581, -0.03231213,\n",
              "         0.04818611,  0.08709753, -0.03279532,  0.03811093, -0.0723189 ,\n",
              "         0.13149342,  0.07202899, -0.0024806 ,  0.05048591, -0.03730315,\n",
              "        -0.01764871, -0.07217314,  0.09380645,  0.01646889, -0.03873347,\n",
              "        -0.03213166,  0.05456725,  0.09443289, -0.02741196,  0.0078865 ,\n",
              "         0.00622427,  0.00554901, -0.03454205,  0.06814384, -0.02186949,\n",
              "        -0.02295895, -0.02100305, -0.01268404, -0.00370403,  0.03468723,\n",
              "         0.07425473, -0.01978935, -0.03872368,  0.05388991,  0.03905286,\n",
              "        -0.05522163,  0.10906041,  0.00029209, -0.0383558 ,  0.03494691,\n",
              "        -0.01365294,  0.00891002,  0.07959636,  0.05445444,  0.04708749,\n",
              "        -0.03983738,  0.10522744, -0.03461687, -0.0453047 ,  0.04832827,\n",
              "         0.14335172,  0.07894798,  0.19311844, -0.10775121,  0.11533532,\n",
              "        -0.02494432, -0.01300094,  0.18834339, -0.06618789,  0.0365937 ,\n",
              "        -0.0008732 ,  0.03224414, -0.01839806, -0.03746267,  0.08485269,\n",
              "         0.09638302,  0.11950383,  0.08988001,  0.02108689,  0.10774678,\n",
              "         0.09017769,  0.20290709,  0.02032351,  0.06737001,  0.07634044,\n",
              "        -0.04434075, -0.04164264, -0.04412252, -0.0257313 , -0.04653538,\n",
              "        -0.02978431, -0.0298146 ,  0.04429521, -0.01654673, -0.00270151,\n",
              "        -0.01143105,  0.03354503, -0.06866927, -0.00862707,  0.08495481,\n",
              "        -0.0476901 ,  0.07475146, -0.01390071, -0.01936608,  0.00447749,\n",
              "        -0.03423489,  0.03239753, -0.01614486, -0.01406724, -0.09861155,\n",
              "        -0.00289235,  0.05578334, -0.06335241,  0.04200689, -0.02938052,\n",
              "        -0.01898603, -0.02932926,  0.05796176,  0.02028107,  0.06424637,\n",
              "         0.09793445, -0.00490058,  0.07683918, -0.07049081, -0.01739657,\n",
              "         0.02363113,  0.05541299, -0.02869217,  0.050869  , -0.05092238,\n",
              "         0.04114637, -0.09993902,  0.12248024, -0.01525429, -0.03841744,\n",
              "         0.12687422, -0.03502889, -0.07229152, -0.00710512,  0.0847005 ],\n",
              "       dtype=float32),\n",
              " array([[ 0.12624642, -0.12475053,  0.0088658 , ...,  0.08982497,\n",
              "          0.04525786,  0.0501513 ],\n",
              "        [-0.08745068,  0.05064953, -0.06607579, ...,  0.05377819,\n",
              "          0.02370728, -0.02985855],\n",
              "        [-0.00345387, -0.07109013,  0.05064895, ...,  0.03251224,\n",
              "         -0.05186354, -0.00479507],\n",
              "        ...,\n",
              "        [-0.02458528,  0.04951256, -0.02987756, ..., -0.08332382,\n",
              "         -0.12428779, -0.08345611],\n",
              "        [ 0.1195539 , -0.05690923,  0.00323971, ..., -0.06075748,\n",
              "         -0.12614515,  0.06419843],\n",
              "        [ 0.04021165,  0.06423078,  0.0551951 , ..., -0.01699657,\n",
              "          0.06276664,  0.05034441]], dtype=float32),\n",
              " array([ 1.74945280e-01, -5.45241795e-02,  3.62280309e-02, -6.26399647e-03,\n",
              "         7.91303366e-02, -2.02509295e-02,  1.02402575e-01,  9.39966589e-02,\n",
              "         1.25387385e-01, -5.57492627e-03, -5.27811162e-02, -2.77508888e-02,\n",
              "         2.95048729e-02,  7.82698914e-02, -2.23746896e-02, -4.02808608e-03,\n",
              "         6.39096228e-03, -2.53013205e-02,  9.21480358e-02,  1.54289594e-02,\n",
              "        -2.97822524e-02,  6.58204630e-02,  9.28580165e-02,  7.88657069e-02,\n",
              "        -2.33842619e-03, -2.94991247e-02,  4.47667092e-02,  7.42614418e-02,\n",
              "         6.29268363e-02,  1.08196229e-01, -2.58682966e-02,  7.04808347e-03,\n",
              "         7.77083114e-02,  1.99483838e-02,  2.57556308e-02, -2.16628518e-02,\n",
              "         2.07758099e-02, -7.35887606e-03, -2.55463819e-05, -5.54320961e-03,\n",
              "        -5.09819612e-02,  6.60881102e-02,  1.35918409e-01,  1.97485834e-02,\n",
              "         8.84751901e-02,  1.25467703e-01,  5.59299663e-02, -4.25179526e-02,\n",
              "         1.42180264e-01, -3.23453099e-02,  4.51679155e-02,  1.68685541e-02,\n",
              "        -3.66796628e-02,  3.95629294e-02, -1.36308316e-02,  1.04475841e-01,\n",
              "        -5.52529581e-02,  7.09896758e-02,  3.92857343e-02,  7.05084056e-02,\n",
              "        -4.26291451e-02,  1.32804445e-03, -6.79601356e-02,  6.22554310e-02,\n",
              "        -9.28276181e-02,  6.26394153e-02,  2.86275148e-03,  3.11182048e-02,\n",
              "         1.30983323e-01, -3.45904753e-02,  4.78962213e-02,  4.77441922e-02,\n",
              "        -3.21232714e-02,  4.54759412e-02,  7.34321177e-02,  3.47416960e-02,\n",
              "        -4.33335528e-02,  7.19221830e-02,  3.47898006e-02,  1.97914783e-02,\n",
              "        -1.98635422e-02, -9.35941041e-02, -2.54194550e-02,  4.72471789e-02,\n",
              "        -9.47705656e-02, -1.94654409e-02, -2.49238405e-02, -4.30148356e-02,\n",
              "        -1.39249498e-02,  5.84307592e-03, -1.73139814e-02, -3.36494222e-02,\n",
              "        -1.25735002e-02,  6.02807067e-02,  5.37194759e-02,  2.32799016e-02,\n",
              "        -4.12738137e-03,  8.77540633e-02, -1.04456507e-02, -1.05017219e-02],\n",
              "       dtype=float32),\n",
              " array([[-1.56739935e-01, -2.41216078e-01, -2.99028248e-01,\n",
              "         -2.24724650e-01, -4.33683664e-01,  9.64332074e-02,\n",
              "         -3.59980911e-01,  1.35116488e-01, -1.59300640e-01,\n",
              "         -7.12373853e-02],\n",
              "        [-1.20451562e-01, -3.13358516e-01, -1.74559429e-01,\n",
              "         -1.04232617e-01, -9.14296731e-02, -6.40084641e-03,\n",
              "         -3.23903918e-01, -1.38897179e-02, -1.97674751e-01,\n",
              "          1.54995605e-01],\n",
              "        [-1.10031046e-01,  1.89534977e-01, -5.81418350e-02,\n",
              "         -1.97814312e-02, -5.96204251e-02,  2.29473487e-01,\n",
              "         -1.49939835e-01, -2.66786292e-03,  1.92035869e-01,\n",
              "          5.69505729e-02],\n",
              "        [-2.48997640e-02, -1.11741483e-01,  7.33300894e-02,\n",
              "         -1.24151550e-01, -1.16217658e-01,  7.15303048e-02,\n",
              "         -5.58633655e-02, -4.04371768e-02,  1.05303042e-01,\n",
              "          7.03243911e-02],\n",
              "        [ 2.34626103e-02,  1.92224398e-01, -9.84762385e-02,\n",
              "          2.21965760e-01, -1.09882675e-01,  3.18806693e-02,\n",
              "          8.64833370e-02,  1.68331787e-01,  9.54843834e-02,\n",
              "          3.38726379e-02],\n",
              "        [-4.56725340e-03, -1.49846777e-01,  9.88944322e-02,\n",
              "         -1.08627550e-01,  1.28844231e-01,  1.48863792e-01,\n",
              "         -9.85220447e-02, -1.69638358e-02,  6.54584840e-02,\n",
              "          8.99007693e-02],\n",
              "        [-1.24842905e-01, -2.48838171e-01,  1.36896700e-01,\n",
              "          5.13560362e-02,  1.97159916e-01,  1.68463826e-01,\n",
              "          1.41497508e-01,  3.38889174e-02, -3.06634903e-01,\n",
              "         -6.64571226e-02],\n",
              "        [-1.55272186e-01, -2.99082160e-01, -3.17393601e-01,\n",
              "         -2.77928442e-01, -3.07072163e-01, -5.96271046e-02,\n",
              "         -9.57083777e-02,  1.99750543e-01, -2.27709934e-01,\n",
              "         -1.04885772e-01],\n",
              "        [ 6.78298399e-02,  1.86868608e-01,  6.13841824e-02,\n",
              "          1.33147746e-01, -7.78229116e-03, -3.24169189e-01,\n",
              "          7.98558220e-02, -6.85074031e-01, -2.01830328e-01,\n",
              "         -4.40162361e-01],\n",
              "        [-1.03144921e-01, -7.61070661e-03,  2.26247206e-01,\n",
              "          1.66478395e-01, -1.93136841e-01,  2.08779629e-02,\n",
              "         -8.90283957e-02,  9.71018896e-02,  2.04288870e-01,\n",
              "         -1.64274454e-01],\n",
              "        [ 7.52872005e-02,  1.62332788e-01, -8.15151557e-02,\n",
              "          6.85919300e-02, -3.21364915e-03, -2.42505819e-01,\n",
              "          9.21737216e-03, -1.75334420e-02,  2.18262747e-02,\n",
              "         -1.46159634e-01],\n",
              "        [ 5.92721663e-02,  5.65192997e-02,  5.37613668e-02,\n",
              "         -8.49112496e-02,  1.32314369e-01,  6.28168061e-02,\n",
              "          1.63138181e-01, -1.61519498e-01, -2.10756198e-01,\n",
              "          1.45448118e-01],\n",
              "        [ 7.04372376e-02,  8.89220014e-02,  7.68457353e-02,\n",
              "         -1.89288437e-01, -1.03657112e-01,  8.52651596e-02,\n",
              "          1.54895447e-02,  1.17432654e-01,  5.22780046e-02,\n",
              "          1.09663382e-01],\n",
              "        [ 9.95546505e-02, -6.65855110e-02,  2.18697533e-01,\n",
              "         -3.03058829e-02, -1.04697913e-01, -2.72170305e-01,\n",
              "          4.93197106e-02, -1.11595474e-01,  1.43186197e-01,\n",
              "         -1.57757998e-01],\n",
              "        [ 7.07486495e-02,  1.57256782e-01,  1.77112757e-03,\n",
              "         -1.71112627e-01,  2.06173778e-01, -1.95419136e-02,\n",
              "         -5.93183562e-02, -2.11490795e-01, -3.05148903e-02,\n",
              "          2.14741956e-02],\n",
              "        [-7.72222653e-02,  6.50133342e-02, -2.26156756e-01,\n",
              "          1.65747821e-01, -1.78964976e-02,  1.47054330e-01,\n",
              "         -1.24470212e-01, -2.32671559e-01,  1.55183569e-01,\n",
              "         -1.05864584e-01],\n",
              "        [-8.89447331e-02, -4.03149128e-02,  3.55760232e-02,\n",
              "          1.83126390e-01, -2.07146525e-01,  5.73652238e-02,\n",
              "          1.49277672e-01,  9.76538658e-03,  3.54599021e-02,\n",
              "          7.64985830e-02],\n",
              "        [-3.13917920e-02,  3.43593024e-02,  7.94651285e-02,\n",
              "         -9.29928496e-02, -7.10895211e-02,  1.13124311e-01,\n",
              "         -2.26548448e-01, -9.45729017e-02,  1.52338907e-01,\n",
              "         -1.30432029e-03],\n",
              "        [ 1.85378432e-01, -4.29029912e-02, -5.96278869e-02,\n",
              "          1.39206111e-01,  4.56723645e-02,  4.68963087e-02,\n",
              "          1.15731083e-01,  9.10785049e-04,  1.49268925e-01,\n",
              "         -1.02312066e-01],\n",
              "        [-1.50688052e-01,  4.39025788e-03, -1.22943938e-01,\n",
              "          4.17852439e-02, -1.93267852e-01, -1.70673206e-01,\n",
              "          2.04885993e-02, -1.60361275e-01, -1.73039362e-01,\n",
              "         -4.44310419e-02],\n",
              "        [-2.11211741e-01,  7.37746432e-02,  4.35811095e-02,\n",
              "         -2.96955165e-02,  2.69625019e-02, -1.35067388e-01,\n",
              "         -9.69228707e-03, -1.98934868e-01, -4.68018949e-02,\n",
              "          3.06379329e-02],\n",
              "        [ 1.47094518e-01, -2.61043400e-01,  9.58671123e-02,\n",
              "         -8.88308883e-03,  1.89254299e-01,  1.28872603e-01,\n",
              "          1.82631269e-01, -1.98431030e-01,  1.87859133e-01,\n",
              "         -1.29496425e-01],\n",
              "        [ 1.67217180e-01,  1.18907139e-01, -1.20575232e-02,\n",
              "          2.27098674e-01, -5.22834733e-02,  4.97518033e-02,\n",
              "         -1.05501428e-01, -6.45548329e-02,  1.08073466e-01,\n",
              "         -2.85149634e-01],\n",
              "        [ 6.05600923e-02,  1.21770389e-01,  3.35261002e-02,\n",
              "         -2.01127693e-01, -5.13571054e-02, -3.67981464e-01,\n",
              "          1.74940392e-01, -3.94166887e-01, -7.64219016e-02,\n",
              "         -1.72207460e-01],\n",
              "        [ 4.39931341e-02,  2.08746284e-01, -2.26297498e-01,\n",
              "         -1.74288303e-01,  1.14873841e-01,  1.55233532e-01,\n",
              "          2.07160398e-01,  3.37573029e-02, -1.04547657e-01,\n",
              "         -2.35185459e-01],\n",
              "        [ 1.85543478e-01, -1.09519906e-01, -1.48265347e-01,\n",
              "         -9.26859155e-02,  3.50881331e-02,  3.01358849e-02,\n",
              "          6.06941478e-03, -2.05674499e-01, -1.86272115e-01,\n",
              "         -1.14714354e-01],\n",
              "        [-1.01767667e-01, -3.82872373e-02, -3.93706316e-04,\n",
              "          1.63609609e-01, -6.20448813e-02, -1.84437051e-01,\n",
              "         -1.48636743e-01, -1.00895084e-01, -5.00613339e-02,\n",
              "          6.10934682e-02],\n",
              "        [ 1.26250312e-01, -1.69649854e-01,  6.83607012e-02,\n",
              "         -1.11298762e-01, -1.78715527e-01, -1.40600465e-02,\n",
              "          7.71848559e-02,  1.09020181e-01, -2.20309887e-02,\n",
              "         -1.48540372e-02],\n",
              "        [-5.62247820e-02,  1.82135746e-01,  1.81895092e-01,\n",
              "         -5.88593259e-02,  1.16961926e-01,  1.35364726e-01,\n",
              "          2.21009538e-01,  1.19345963e-01,  1.16652988e-01,\n",
              "         -9.72962659e-03],\n",
              "        [ 1.91058248e-01, -2.45977074e-01,  7.65536726e-02,\n",
              "         -1.88270137e-01, -2.98833996e-01, -1.54256657e-01,\n",
              "          6.24849908e-02, -8.73505138e-03, -1.12051308e-01,\n",
              "         -2.96254963e-01],\n",
              "        [ 6.56582229e-03, -1.51454046e-01,  4.85996753e-02,\n",
              "         -2.63058513e-01, -1.74746126e-01,  1.51428580e-01,\n",
              "         -2.27738529e-01, -2.25533228e-02,  1.37491539e-01,\n",
              "          2.19987720e-01],\n",
              "        [-9.45826173e-02,  1.47525162e-01, -2.14721084e-01,\n",
              "          1.68972954e-01,  1.61553517e-01,  1.20831631e-01,\n",
              "         -1.13891914e-01,  1.52516261e-01, -1.15238138e-01,\n",
              "          2.90941428e-02],\n",
              "        [-9.83271450e-02,  5.33778630e-02,  7.43354559e-02,\n",
              "          2.24341508e-02,  7.28650540e-02,  2.18750477e-01,\n",
              "         -1.27682015e-01,  2.08213963e-02, -1.91442505e-01,\n",
              "         -1.46499351e-01],\n",
              "        [-5.16055524e-02, -8.52265432e-02, -9.99018773e-02,\n",
              "         -1.11324273e-01, -3.80736031e-02, -1.04405440e-01,\n",
              "          3.28351669e-02, -9.40959826e-02,  2.37713575e-01,\n",
              "         -2.90729761e-01],\n",
              "        [ 1.07530043e-01, -9.55115780e-02, -2.33155847e-01,\n",
              "          1.89151511e-01, -1.40339434e-01, -1.16059124e-01,\n",
              "          1.39183968e-01, -2.13759258e-01, -2.41931960e-01,\n",
              "          1.39062583e-01],\n",
              "        [-3.40142027e-02,  1.95964083e-01, -3.12030967e-02,\n",
              "         -1.55004829e-01,  3.96022983e-02, -1.75553128e-01,\n",
              "         -6.26736581e-02,  9.02871117e-02, -6.44295514e-02,\n",
              "         -1.16985388e-01],\n",
              "        [-1.18027098e-01, -1.82136223e-01,  1.11738518e-01,\n",
              "          1.55970573e-01,  7.94586837e-02,  2.42933944e-01,\n",
              "         -2.98629366e-02, -1.81454420e-01,  1.47081375e-01,\n",
              "          1.20101526e-01],\n",
              "        [ 8.14349800e-02, -2.10538909e-01,  9.06211659e-02,\n",
              "         -1.15523469e-02,  1.67662770e-01, -3.36825222e-01,\n",
              "          1.96528733e-01, -3.17739457e-01,  1.54771492e-01,\n",
              "          5.32799102e-02],\n",
              "        [ 1.23078652e-01, -4.60204780e-02,  1.53948992e-01,\n",
              "          1.78066000e-01,  1.81966722e-01, -1.29317999e-01,\n",
              "         -2.79765148e-02, -9.74770412e-02, -2.25870222e-01,\n",
              "          1.21884115e-01],\n",
              "        [-4.32117805e-02,  2.17696130e-01, -8.59985650e-02,\n",
              "         -2.66590342e-02, -1.26340166e-01,  1.25369225e-02,\n",
              "         -1.66587144e-01, -1.81907460e-01, -7.84690157e-02,\n",
              "         -2.55453121e-03],\n",
              "        [-7.54757598e-03, -3.63507308e-02,  9.13664990e-05,\n",
              "         -1.70557871e-01,  3.86652611e-02, -1.53033808e-01,\n",
              "         -2.31041417e-01, -6.59499541e-02, -1.68493152e-01,\n",
              "         -1.38058569e-02],\n",
              "        [-1.43657848e-01,  2.05013771e-02,  1.35696083e-01,\n",
              "         -1.23892995e-02,  2.48657111e-02, -1.44173145e-01,\n",
              "          1.62879080e-01, -1.87260583e-01,  1.00402102e-01,\n",
              "         -3.16047668e-01],\n",
              "        [-3.00535440e-01, -2.58210242e-01, -3.17986429e-01,\n",
              "         -5.67437150e-02, -1.79248258e-01,  1.30231678e-01,\n",
              "          4.24200110e-02,  1.41340509e-01, -2.74348527e-01,\n",
              "          4.49993163e-02],\n",
              "        [ 1.66036054e-01, -9.75905955e-02, -8.94924253e-02,\n",
              "          1.02002010e-01, -2.06541330e-01,  6.31645545e-02,\n",
              "          1.15685545e-01, -1.19305126e-01, -2.20777139e-01,\n",
              "          1.97076574e-01],\n",
              "        [-2.10236102e-01, -2.17690915e-01,  2.49564685e-02,\n",
              "         -1.97546929e-01, -7.64586106e-02, -2.58769316e-04,\n",
              "         -6.63675889e-02,  1.39278769e-01,  1.65704742e-01,\n",
              "         -1.91863090e-01],\n",
              "        [-1.25072384e-03,  3.12798284e-02,  2.30101749e-01,\n",
              "          1.03751391e-01, -1.02509588e-01, -4.10290360e-01,\n",
              "          1.00052044e-01, -4.42249954e-01, -2.24914938e-01,\n",
              "         -3.23073149e-01],\n",
              "        [ 9.40316170e-02,  1.65005118e-01,  1.12275802e-01,\n",
              "         -2.36063339e-02,  1.41800707e-02, -7.90230855e-02,\n",
              "         -1.85045376e-01,  2.24132299e-01, -1.64551154e-01,\n",
              "         -1.22404180e-01],\n",
              "        [-1.21938683e-01, -2.94195265e-01, -2.04602793e-01,\n",
              "         -2.16906339e-01, -8.73470306e-02, -1.50657594e-01,\n",
              "         -6.07868209e-02,  2.34309629e-01,  7.88691267e-02,\n",
              "          2.24566013e-01],\n",
              "        [ 9.83842611e-02,  5.91233671e-02, -1.89308412e-02,\n",
              "          1.43065661e-01, -6.64865002e-02,  9.06991288e-02,\n",
              "          1.82343811e-01,  1.83564141e-01, -1.62324622e-01,\n",
              "         -1.88524604e-01],\n",
              "        [ 1.85320177e-03,  2.29912087e-01, -4.34514806e-02,\n",
              "         -1.42782718e-01, -1.37636915e-01,  6.86931536e-02,\n",
              "          3.76811624e-03, -1.41315937e-01,  9.32708010e-02,\n",
              "          1.11001454e-01],\n",
              "        [ 2.16694057e-01, -7.99004510e-02,  4.35494967e-02,\n",
              "         -9.62330848e-02,  1.88356325e-01,  1.98356405e-01,\n",
              "          1.82247981e-01,  3.99174131e-02,  3.81178595e-02,\n",
              "         -1.09414928e-01],\n",
              "        [-7.55020306e-02, -1.87630206e-01, -9.69784856e-02,\n",
              "          2.22895786e-01,  9.36858132e-02,  1.07804537e-01,\n",
              "         -8.36793915e-04,  1.88313741e-02, -1.47586912e-01,\n",
              "          7.85511509e-02],\n",
              "        [-9.44906846e-02,  1.30702645e-01,  8.18568617e-02,\n",
              "         -1.38655707e-01,  5.98866679e-02, -2.32406050e-01,\n",
              "         -1.85527490e-03, -2.15894535e-01,  1.72280982e-01,\n",
              "          1.35455519e-01],\n",
              "        [ 3.54624763e-02, -2.41448596e-01,  4.54615876e-02,\n",
              "         -1.01078227e-01, -1.46100670e-01,  2.15964854e-01,\n",
              "          1.09840952e-01,  1.71702206e-01, -1.47349581e-01,\n",
              "          1.56958312e-01],\n",
              "        [ 8.97032097e-02,  2.12868787e-02,  1.44843683e-01,\n",
              "          9.33264270e-02, -9.79717076e-02, -1.88991681e-01,\n",
              "          2.87716538e-02, -3.96146141e-02,  4.80432697e-02,\n",
              "         -1.10645279e-01],\n",
              "        [ 2.43346065e-01, -2.32100159e-01,  2.66784132e-02,\n",
              "          1.77436858e-01, -1.38383852e-02, -5.18603809e-03,\n",
              "          9.20734033e-02, -2.79675931e-01,  1.12906508e-01,\n",
              "         -2.36602217e-01],\n",
              "        [ 8.04661065e-02,  1.98002949e-01,  9.75126550e-02,\n",
              "         -2.36634076e-01,  1.56991258e-01, -2.16511503e-01,\n",
              "         -2.08407938e-02, -1.74939558e-01,  6.35936633e-02,\n",
              "         -7.70608932e-02],\n",
              "        [-4.72776815e-02, -2.58762032e-01,  1.92462444e-01,\n",
              "         -5.52547239e-02,  1.28290519e-01,  5.39395474e-02,\n",
              "          4.51752730e-02,  8.32827464e-02,  1.89200565e-01,\n",
              "         -1.37527585e-01],\n",
              "        [ 1.63473189e-01,  1.78531468e-01, -1.80759564e-01,\n",
              "         -5.13220653e-02, -1.96471125e-01,  2.76340153e-02,\n",
              "          2.62428354e-02, -3.25051159e-01, -2.21094370e-01,\n",
              "          3.41928415e-02],\n",
              "        [ 1.58592820e-01,  7.03378096e-02,  5.28871231e-02,\n",
              "         -1.12434842e-01,  4.35710736e-02,  1.80622563e-01,\n",
              "          7.69740716e-02, -1.74810871e-01, -1.44906074e-01,\n",
              "         -3.73931378e-02],\n",
              "        [-1.35776788e-01, -1.99675530e-01,  1.07038885e-01,\n",
              "         -1.45968525e-02, -7.94871077e-02, -1.80157200e-01,\n",
              "         -2.12668583e-01,  1.34117514e-01,  6.03377968e-02,\n",
              "          9.64587554e-02],\n",
              "        [ 1.59766048e-01,  1.14646427e-01, -9.85114574e-02,\n",
              "          1.56338006e-01, -2.44559586e-01,  1.99062601e-01,\n",
              "         -1.09254912e-01, -1.31296098e-01,  2.46765673e-01,\n",
              "          6.87514767e-02],\n",
              "        [ 1.65168956e-01, -5.11119068e-02,  4.09635417e-02,\n",
              "         -5.57096340e-02,  2.03231394e-01,  9.11465660e-02,\n",
              "         -5.68447984e-04, -1.95609946e-02,  1.05776355e-01,\n",
              "          1.61778152e-01],\n",
              "        [ 7.05989264e-03, -2.24118680e-02, -1.37989894e-01,\n",
              "         -5.15786782e-02, -1.55186385e-01,  1.20571226e-01,\n",
              "         -2.02335134e-01,  4.23761569e-02,  1.99950323e-01,\n",
              "         -2.20783986e-03],\n",
              "        [-1.14864469e-01,  8.21776018e-02, -1.18905172e-01,\n",
              "         -1.91509351e-01,  1.64649129e-01,  2.89869942e-02,\n",
              "          7.43297786e-02, -2.62215789e-02, -1.03632428e-01,\n",
              "          2.11465850e-01],\n",
              "        [-1.05423011e-01,  2.16415867e-01,  4.96185459e-02,\n",
              "          1.65541738e-01, -3.70261744e-02,  6.38998449e-02,\n",
              "         -6.18226565e-02, -3.39728110e-02,  1.54560879e-01,\n",
              "         -2.94720113e-01],\n",
              "        [ 1.23730876e-01,  1.33624777e-01,  8.42863768e-02,\n",
              "          5.48913144e-02, -1.67251393e-01,  1.11441590e-01,\n",
              "          1.30057886e-01,  1.56820297e-01,  8.82536396e-02,\n",
              "         -2.03401148e-01],\n",
              "        [-2.12323889e-01,  5.37668867e-03, -3.09780598e-01,\n",
              "          1.89466268e-01, -2.25179508e-01,  8.46399888e-02,\n",
              "         -8.73986557e-02,  3.98730487e-02, -1.41182750e-01,\n",
              "          1.41857162e-01],\n",
              "        [ 3.07006873e-02, -6.95168898e-02,  2.56313290e-02,\n",
              "          6.02578670e-02,  7.64316246e-02,  2.32886568e-01,\n",
              "          7.22522214e-02,  1.83008164e-01, -3.17905620e-02,\n",
              "         -7.68663809e-02],\n",
              "        [-2.00710252e-01,  1.94931135e-01,  1.35816827e-01,\n",
              "         -2.50192173e-02,  2.61993501e-02, -5.45896403e-03,\n",
              "          4.07016687e-02, -2.09124759e-01,  5.75224776e-03,\n",
              "          1.62134185e-01],\n",
              "        [ 3.82520668e-02,  1.98462382e-01,  8.83245096e-02,\n",
              "          6.22828666e-04, -3.56261395e-02, -2.28953570e-01,\n",
              "         -2.39141565e-02,  2.68858648e-03, -1.69325203e-01,\n",
              "         -2.66389608e-01],\n",
              "        [ 1.86462745e-01,  1.34658083e-01,  8.55245888e-02,\n",
              "          1.57157257e-01, -1.94878086e-01,  4.70179273e-03,\n",
              "         -8.73502269e-02, -2.00245887e-01,  1.49409726e-01,\n",
              "          1.06463164e-01],\n",
              "        [ 7.81536251e-02,  1.33364066e-01, -2.39801645e-01,\n",
              "         -1.26754537e-01, -1.99000344e-01, -1.61338434e-01,\n",
              "          6.56745061e-02,  2.50796765e-01,  2.28698581e-01,\n",
              "          2.26144344e-01],\n",
              "        [-1.46365380e-02,  1.52681917e-01, -3.05672213e-02,\n",
              "          1.40111223e-01, -1.15191422e-01, -5.35878949e-02,\n",
              "         -1.10044703e-03, -7.06653371e-02,  2.46933680e-02,\n",
              "         -9.38226879e-02],\n",
              "        [ 3.89383547e-02, -1.95810825e-01,  1.49326235e-01,\n",
              "          3.41845304e-02, -9.87062901e-02,  6.92308843e-02,\n",
              "         -1.99186862e-01, -1.57899648e-01,  6.47089556e-02,\n",
              "         -2.54122049e-01],\n",
              "        [-2.18324915e-01, -2.87607521e-01, -8.72805864e-02,\n",
              "         -4.31716032e-02, -1.06085218e-01,  7.91426674e-02,\n",
              "         -8.30076337e-02, -4.69185412e-03, -1.79496840e-01,\n",
              "          1.45242497e-01],\n",
              "        [ 2.09900498e-01, -1.43467277e-01, -5.87167516e-02,\n",
              "         -1.01854712e-01,  8.77255574e-02, -2.01808214e-01,\n",
              "          1.06395427e-02, -2.20988274e-01, -1.81502268e-01,\n",
              "         -4.50339988e-02],\n",
              "        [ 1.04157224e-01,  7.77488798e-02, -1.70813277e-01,\n",
              "         -1.47251561e-01, -2.53645927e-01,  2.20488787e-01,\n",
              "         -2.34905556e-01, -1.05222531e-01, -8.39516073e-02,\n",
              "         -6.09663129e-02],\n",
              "        [-1.28038511e-01,  6.83699921e-02,  5.13790734e-02,\n",
              "          2.79972330e-02, -1.80141836e-01,  1.97308227e-01,\n",
              "         -5.44842752e-03, -7.66971260e-02,  1.53420761e-01,\n",
              "          4.94873486e-02],\n",
              "        [-2.12148264e-01,  1.16228089e-01,  2.48207264e-02,\n",
              "         -4.55274761e-01,  1.20964803e-01, -3.25322933e-02,\n",
              "          1.46804303e-01,  1.06005348e-01, -3.32164675e-01,\n",
              "         -1.57208294e-01],\n",
              "        [ 3.91885526e-02, -1.90963581e-01, -1.30869612e-01,\n",
              "          7.71926120e-02, -1.68276563e-01,  9.40872580e-02,\n",
              "         -1.60233025e-02,  4.49089042e-04, -2.74322256e-02,\n",
              "         -1.26833230e-01],\n",
              "        [ 1.74846649e-01, -1.50925428e-01, -9.83322486e-02,\n",
              "         -1.82365060e-01, -3.43880467e-02, -8.06321502e-02,\n",
              "         -1.51153237e-01, -7.66308531e-02,  1.20795527e-02,\n",
              "          2.08821818e-02],\n",
              "        [-1.60646811e-01,  2.24277526e-02, -1.88512862e-01,\n",
              "         -3.21097523e-01, -1.10613629e-01,  3.26024517e-02,\n",
              "          2.11182944e-02, -2.48038284e-02,  2.80746035e-02,\n",
              "          2.31368586e-01],\n",
              "        [ 1.79337800e-01, -1.58201739e-01, -1.90587208e-01,\n",
              "         -2.10200131e-01, -1.27044439e-01, -6.66283593e-02,\n",
              "          1.97137058e-01, -1.98556006e-01, -5.18959165e-02,\n",
              "          3.48707438e-02],\n",
              "        [-7.45340362e-02,  1.11304954e-01, -8.13044608e-02,\n",
              "         -4.53923736e-03,  2.08852112e-01, -2.80437887e-01,\n",
              "         -1.99655935e-01, -2.89605767e-01,  1.24979369e-01,\n",
              "          5.71589582e-02],\n",
              "        [-6.70265704e-02,  1.76957935e-01, -2.14599743e-01,\n",
              "         -1.61455244e-01, -2.05756590e-01,  5.44118732e-02,\n",
              "          5.63056150e-04, -1.87568009e-01, -2.14100197e-01,\n",
              "         -3.03120792e-01],\n",
              "        [ 1.27762213e-01,  2.20319673e-01,  1.44417033e-01,\n",
              "          3.87031846e-02, -8.39524157e-03, -1.47720456e-01,\n",
              "         -6.55267611e-02,  3.10323853e-03,  2.71632476e-03,\n",
              "          1.56233355e-01],\n",
              "        [-1.58143312e-01,  7.75372311e-02,  1.62684351e-01,\n",
              "         -1.97539330e-01,  2.24586964e-01,  1.35529965e-01,\n",
              "          4.90888469e-02, -1.60504624e-01,  1.58000305e-01,\n",
              "         -1.68106675e-01],\n",
              "        [ 1.65063143e-01,  1.57971084e-01,  1.07413359e-01,\n",
              "         -1.70321614e-01,  5.16194589e-02, -1.48809016e-01,\n",
              "         -1.64143071e-02,  8.46865475e-02, -2.14568838e-01,\n",
              "         -2.09430888e-01],\n",
              "        [-9.65435207e-02, -1.15314061e-02, -4.26873611e-03,\n",
              "          1.98371768e-01,  1.93420470e-01, -4.24915612e-01,\n",
              "          8.74734744e-02, -1.50019497e-01, -6.79513663e-02,\n",
              "         -3.12734157e-01],\n",
              "        [ 5.70369773e-02, -1.27034366e-01, -2.41054982e-01,\n",
              "         -6.33355007e-02, -7.93997385e-03, -7.39751337e-03,\n",
              "         -2.28540152e-01,  5.26490025e-02, -1.29373029e-01,\n",
              "         -8.88830274e-02],\n",
              "        [-5.12669384e-02,  7.73429051e-02,  3.84709463e-02,\n",
              "         -1.68827072e-01,  9.23609287e-02,  1.20420173e-01,\n",
              "         -3.54030281e-02,  6.71668947e-02,  5.94492536e-03,\n",
              "          1.23050392e-01],\n",
              "        [ 9.59158167e-02,  7.06753060e-02, -3.73489745e-02,\n",
              "         -6.86661154e-02,  1.54187068e-01,  1.94755733e-01,\n",
              "          1.51519805e-01, -1.23559520e-01, -1.02856651e-01,\n",
              "          5.62188067e-02],\n",
              "        [-2.26099402e-01,  1.06279500e-01,  2.87596546e-02,\n",
              "         -2.21862774e-02, -2.96278417e-01,  2.22949848e-01,\n",
              "         -2.83571094e-01, -1.65480319e-02,  1.52700648e-01,\n",
              "          8.26944187e-02],\n",
              "        [-2.36204326e-01,  2.72666141e-02,  2.40429305e-02,\n",
              "         -2.54220307e-01, -1.37695417e-01,  7.69482227e-03,\n",
              "         -2.42529005e-01,  2.06978217e-01, -6.43069595e-02,\n",
              "          4.98550646e-02],\n",
              "        [-1.56736031e-01,  1.58008397e-01, -1.62605479e-01,\n",
              "          8.91900584e-02, -1.21304154e-01, -1.40767351e-01,\n",
              "          1.65566251e-01, -2.85720915e-01,  1.91802338e-01,\n",
              "         -1.65481806e-01],\n",
              "        [ 1.60336971e-01,  6.09655119e-02,  5.49076386e-02,\n",
              "          2.85019614e-02,  5.66854067e-02, -6.25141757e-03,\n",
              "          6.32524565e-02, -1.54884923e-02,  2.21606940e-01,\n",
              "         -5.78992479e-02],\n",
              "        [-1.21080121e-02, -1.37381077e-01, -1.91303492e-01,\n",
              "         -2.98136584e-02, -6.77850321e-02,  6.36447296e-02,\n",
              "          8.34889635e-02, -5.93859740e-02,  1.51441813e-01,\n",
              "         -2.43644640e-01],\n",
              "        [ 4.92118001e-02, -2.09801197e-01,  1.89606979e-01,\n",
              "         -1.17781147e-01,  1.25681102e-01, -8.21865723e-02,\n",
              "          9.34013873e-02,  6.51501641e-02,  6.35924656e-03,\n",
              "          1.10790737e-01],\n",
              "        [-3.32886167e-02,  7.55160376e-02,  1.40173286e-01,\n",
              "         -1.33530483e-01,  5.44018745e-02, -1.16914976e-02,\n",
              "          9.85723287e-02, -2.63280701e-02, -1.16182715e-01,\n",
              "          4.93320115e-02]], dtype=float32),\n",
              " array([ 0.00975624, -0.06241738,  0.04367274,  0.03414525, -0.08707026,\n",
              "         0.08212616,  0.04646504,  0.05694755, -0.04164533, -0.13631757],\n",
              "       dtype=float32)]"
            ]
          },
          "metadata": {},
          "execution_count": 128
        }
      ]
    },
    {
      "cell_type": "code",
      "metadata": {
        "id": "O2H1Jop8pVGp"
      },
      "source": [
        "# move all weights to a dataframe for ease of analysis \n",
        "cols = [\"best_hidden_weights\", \"worst_hidden_weights\", \"initial_weight_values\"]\n",
        "data = [best_hidden_weights, worst_hidden_weights, initial_weight_values]\n",
        "df_maxnorm= pd.DataFrame(data=data).T\n",
        "df_maxnorm.columns = cols"
      ],
      "execution_count": 129,
      "outputs": []
    },
    {
      "cell_type": "code",
      "metadata": {
        "id": "p0e15SNHpVGp",
        "colab": {
          "base_uri": "https://localhost:8080/",
          "height": 297
        },
        "outputId": "7c2bf86c-9df6-4d2f-fbab-1828775a7543"
      },
      "source": [
        "df_maxnorm.describe()"
      ],
      "execution_count": 130,
      "outputs": [
        {
          "output_type": "execute_result",
          "data": {
            "text/html": [
              "<div>\n",
              "<style scoped>\n",
              "    .dataframe tbody tr th:only-of-type {\n",
              "        vertical-align: middle;\n",
              "    }\n",
              "\n",
              "    .dataframe tbody tr th {\n",
              "        vertical-align: top;\n",
              "    }\n",
              "\n",
              "    .dataframe thead th {\n",
              "        text-align: right;\n",
              "    }\n",
              "</style>\n",
              "<table border=\"1\" class=\"dataframe\">\n",
              "  <thead>\n",
              "    <tr style=\"text-align: right;\">\n",
              "      <th></th>\n",
              "      <th>best_hidden_weights</th>\n",
              "      <th>worst_hidden_weights</th>\n",
              "      <th>initial_weight_values</th>\n",
              "    </tr>\n",
              "  </thead>\n",
              "  <tbody>\n",
              "    <tr>\n",
              "      <th>count</th>\n",
              "      <td>500.000000</td>\n",
              "      <td>5.000000e+02</td>\n",
              "      <td>500.000000</td>\n",
              "    </tr>\n",
              "    <tr>\n",
              "      <th>mean</th>\n",
              "      <td>-0.001227</td>\n",
              "      <td>9.438389e-08</td>\n",
              "      <td>-0.002952</td>\n",
              "    </tr>\n",
              "    <tr>\n",
              "      <th>std</th>\n",
              "      <td>0.039764</td>\n",
              "      <td>2.268165e-06</td>\n",
              "      <td>0.064663</td>\n",
              "    </tr>\n",
              "    <tr>\n",
              "      <th>min</th>\n",
              "      <td>-0.067976</td>\n",
              "      <td>-4.601385e-06</td>\n",
              "      <td>-0.109038</td>\n",
              "    </tr>\n",
              "    <tr>\n",
              "      <th>25%</th>\n",
              "      <td>-0.033721</td>\n",
              "      <td>-5.768017e-20</td>\n",
              "      <td>-0.062206</td>\n",
              "    </tr>\n",
              "    <tr>\n",
              "      <th>50%</th>\n",
              "      <td>-0.001162</td>\n",
              "      <td>-1.130922e-25</td>\n",
              "      <td>-0.003185</td>\n",
              "    </tr>\n",
              "    <tr>\n",
              "      <th>75%</th>\n",
              "      <td>0.033199</td>\n",
              "      <td>1.365138e-20</td>\n",
              "      <td>0.051861</td>\n",
              "    </tr>\n",
              "    <tr>\n",
              "      <th>max</th>\n",
              "      <td>0.067837</td>\n",
              "      <td>5.031615e-05</td>\n",
              "      <td>0.109292</td>\n",
              "    </tr>\n",
              "  </tbody>\n",
              "</table>\n",
              "</div>"
            ],
            "text/plain": [
              "       best_hidden_weights  worst_hidden_weights  initial_weight_values\n",
              "count           500.000000          5.000000e+02             500.000000\n",
              "mean             -0.001227          9.438389e-08              -0.002952\n",
              "std               0.039764          2.268165e-06               0.064663\n",
              "min              -0.067976         -4.601385e-06              -0.109038\n",
              "25%              -0.033721         -5.768017e-20              -0.062206\n",
              "50%              -0.001162         -1.130922e-25              -0.003185\n",
              "75%               0.033199          1.365138e-20               0.051861\n",
              "max               0.067837          5.031615e-05               0.109292"
            ]
          },
          "metadata": {},
          "execution_count": 130
        }
      ]
    },
    {
      "cell_type": "code",
      "metadata": {
        "id": "2dWttFtopVGp",
        "colab": {
          "base_uri": "https://localhost:8080/",
          "height": 716
        },
        "outputId": "972560ec-0edf-4807-9c91-c3ee7248de39"
      },
      "source": [
        "# plot the distributions for each weight column \n",
        "df_maxnorm.hist(figsize=(20,12));"
      ],
      "execution_count": 131,
      "outputs": [
        {
          "output_type": "display_data",
          "data": {
            "image/png": "[encoded data removed]",
            "text/plain": [
              "<Figure size 1440x864 with 4 Axes>"
            ]
          },
          "metadata": {
            "needs_background": "light"
          }
        }
      ]
    },
    {
      "cell_type": "markdown",
      "metadata": {
        "id": "LSckJcg4pVGp"
      },
      "source": [
        "## Observations \n",
        "\n",
        "Take a look at the statistical table and the plots. Then answer the following questions. \n",
        "\n",
        "**How do the hidden layer weights from the best performing model compare to the initial weight values?**"
      ]
    },
    {
      "cell_type": "markdown",
      "metadata": {
        "deletable": false,
        "nbgrader": {
          "cell_type": "markdown",
          "checksum": "f43fe1110cdcea8d1e4b432fe78d4e49",
          "grade": true,
          "grade_id": "cell-40a44d19694941b8",
          "locked": false,
          "points": 0,
          "schema_version": 3,
          "solution": true,
          "task": false
        },
        "id": "2diA2N6upVGp"
      },
      "source": [
        "YOUR ANSWER HERE\n",
        "\n",
        "smaller range"
      ]
    },
    {
      "cell_type": "markdown",
      "metadata": {
        "id": "HqW6nm7lpVGp"
      },
      "source": [
        "**What was the effect of using the weight constraint value in MaxNorm in the best-performing model?**"
      ]
    },
    {
      "cell_type": "markdown",
      "metadata": {
        "deletable": false,
        "nbgrader": {
          "cell_type": "markdown",
          "checksum": "b1c59c58a5abdbc0b509983821198dba",
          "grade": true,
          "grade_id": "cell-4f9e1e134124e512",
          "locked": false,
          "points": 0,
          "schema_version": 3,
          "solution": true,
          "task": false
        },
        "id": "upVYTz8vpVGp"
      },
      "source": [
        "YOUR ANSWER HERE\n",
        "\n",
        "worse results"
      ]
    },
    {
      "cell_type": "markdown",
      "metadata": {
        "id": "SnkgBUdapVGq"
      },
      "source": [
        "**What was the effect of using the weight constraint value in MaxNorm in the worst performing model?**"
      ]
    },
    {
      "cell_type": "markdown",
      "metadata": {
        "deletable": false,
        "nbgrader": {
          "cell_type": "markdown",
          "checksum": "0062b4ddfad487c39633c37f4710b752",
          "grade": true,
          "grade_id": "cell-4c289ce70c34048a",
          "locked": false,
          "points": 0,
          "schema_version": 3,
          "solution": true,
          "task": false
        },
        "id": "psau0IuBpVGq"
      },
      "source": [
        "YOUR ANSWER HERE\n",
        "\n",
        "kind of better results"
      ]
    },
    {
      "cell_type": "markdown",
      "metadata": {
        "id": "A4qoyDvXpVGq"
      },
      "source": [
        "**Given what you know about MaxNorm regularization, are you surprised by these results?**"
      ]
    },
    {
      "cell_type": "markdown",
      "metadata": {
        "deletable": false,
        "nbgrader": {
          "cell_type": "markdown",
          "checksum": "3c36931d3532a8cbcb4ea0c956378728",
          "grade": true,
          "grade_id": "cell-77366a912217da5d",
          "locked": false,
          "points": 0,
          "schema_version": 3,
          "solution": true,
          "task": false
        },
        "id": "lY99-fdEpVGq"
      },
      "source": [
        "YOUR ANSWER HERE\n",
        "\n",
        "yes"
      ]
    },
    {
      "cell_type": "markdown",
      "metadata": {
        "id": "DJBs5R24pVGq"
      },
      "source": [
        "-----\n",
        "# Experiment 3: Identify the Relationship Between Model Performance and Dropout\n",
        "\n",
        "\n",
        "![](https://miro.medium.com/max/981/1*EinUlWw1n8vbcLyT0zx4gw.png)\n",
        "\n",
        "In the 3rd and final experiment, we will use gridsearch to see how model performance is affected by varying the value of the dropout probability. \n",
        "\n",
        "Recall from the lecture that dropout tends to perform best when used with the weight constraint. Since this is the case, we will gridsearch both dropout probability and the weight constraint for MaxNorm.\n",
        "\n",
        "If interested, feel free to read through the original publication on [**Drop Out**](https://jmlr.org/papers/volume15/srivastava14a.old/srivastava14a.pdf). \n",
        "\n",
        "**Key Takeaways:** \n",
        "\n",
        "1. During training, dropout will probabilistically \"turn off\" some neurons in the layer that dropout is implemented in. \n",
        "2. All neurons are used during inference (i.e., making predictions on the test set) (i.e., no dropout is applied).\n",
        "3. Dropout works best when used with MaxNorm\n"
      ]
    },
    {
      "cell_type": "code",
      "metadata": {
        "id": "y_lTEUmvpVGq",
        "colab": {
          "base_uri": "https://localhost:8080/"
        },
        "outputId": "d7a6eb0f-aead-4278-8feb-6fc369c2af36"
      },
      "source": [
        "# build out our hyperparameter dictionary \n",
        "hyper_parameters = {\n",
        "    # for the sake of runtime, let's vary maxnorm_wc between 0.5 and 5.0\n",
        "    \"maxnorm_wc\": np.linspace(0.5, 5, num=10),\n",
        "    # take note that l1_reg_penalty values are in powers of 10 \n",
        "    \"dropout_prob\": np.linspace(0.0, 0.6, num=7), \n",
        "    \"epochs\": [1] # default is 1, in order to change it we must provide value here because we can provide a parameter value for model.fit() directly when using gridsearch\n",
        "}\n",
        "\n",
        "hyper_parameters"
      ],
      "execution_count": 132,
      "outputs": [
        {
          "output_type": "execute_result",
          "data": {
            "text/plain": [
              "{'dropout_prob': array([0. , 0.1, 0.2, 0.3, 0.4, 0.5, 0.6]),\n",
              " 'epochs': [1],\n",
              " 'maxnorm_wc': array([0.5, 1. , 1.5, 2. , 2.5, 3. , 3.5, 4. , 4.5, 5. ])}"
            ]
          },
          "metadata": {},
          "execution_count": 132
        }
      ]
    },
    {
      "cell_type": "code",
      "metadata": {
        "id": "mplKg5iipVGq",
        "colab": {
          "base_uri": "https://localhost:8080/"
        },
        "outputId": "246d9104-5702-47b4-bddf-b3c7bca56fcb"
      },
      "source": [
        "start=time()\n",
        "# Create and run GridSearch\n",
        "grid = GridSearchCV(estimator=model, \n",
        "                    param_grid=hyper_parameters, \n",
        "                    n_jobs=-2, \n",
        "                    verbose=1, \n",
        "                    cv=3)\n",
        "\n",
        "grid_result = grid.fit(X_train, y_train)\n",
        "end=time()"
      ],
      "execution_count": 133,
      "outputs": [
        {
          "output_type": "stream",
          "name": "stdout",
          "text": [
            "Fitting 3 folds for each of 70 candidates, totalling 210 fits\n"
          ]
        },
        {
          "output_type": "stream",
          "name": "stderr",
          "text": [
            "[Parallel(n_jobs=-2)]: Using backend SequentialBackend with 1 concurrent workers.\n"
          ]
        },
        {
          "output_type": "stream",
          "name": "stdout",
          "text": [
            "1250/1250 [==============================] - 10s 7ms/step - loss: 0.5975 - accuracy: 0.7824\n",
            "625/625 [==============================] - 2s 3ms/step - loss: 0.6000 - accuracy: 0.7651\n",
            "1250/1250 [==============================] - 10s 7ms/step - loss: 0.5920 - accuracy: 0.7815\n",
            "625/625 [==============================] - 2s 3ms/step - loss: 0.4948 - accuracy: 0.8224\n",
            "1250/1250 [==============================] - 10s 7ms/step - loss: 0.5837 - accuracy: 0.7872\n",
            "625/625 [==============================] - 2s 3ms/step - loss: 0.5458 - accuracy: 0.8036\n",
            "1250/1250 [==============================] - 9s 7ms/step - loss: 0.5345 - accuracy: 0.8056\n",
            "625/625 [==============================] - 2s 3ms/step - loss: 0.4196 - accuracy: 0.8442\n",
            "1250/1250 [==============================] - 10s 7ms/step - loss: 0.5311 - accuracy: 0.8053\n",
            "625/625 [==============================] - 2s 3ms/step - loss: 0.4625 - accuracy: 0.8196\n",
            "1250/1250 [==============================] - 10s 7ms/step - loss: 0.5312 - accuracy: 0.8073\n",
            "625/625 [==============================] - 2s 3ms/step - loss: 0.4909 - accuracy: 0.8195\n",
            "1250/1250 [==============================] - 9s 7ms/step - loss: 0.5109 - accuracy: 0.8132\n",
            "625/625 [==============================] - 2s 3ms/step - loss: 0.4208 - accuracy: 0.8457\n",
            "1250/1250 [==============================] - 10s 7ms/step - loss: 0.5101 - accuracy: 0.8152\n",
            "625/625 [==============================] - 2s 3ms/step - loss: 0.4630 - accuracy: 0.8356\n",
            "1250/1250 [==============================] - 10s 7ms/step - loss: 0.5090 - accuracy: 0.8142\n",
            "625/625 [==============================] - 2s 3ms/step - loss: 0.4335 - accuracy: 0.8443\n",
            "1250/1250 [==============================] - 10s 7ms/step - loss: 0.5096 - accuracy: 0.8173\n",
            "625/625 [==============================] - 2s 3ms/step - loss: 0.3976 - accuracy: 0.8528\n",
            "1250/1250 [==============================] - 10s 7ms/step - loss: 0.5195 - accuracy: 0.8120\n",
            "625/625 [==============================] - 2s 3ms/step - loss: 0.4107 - accuracy: 0.8501\n",
            "1250/1250 [==============================] - 10s 7ms/step - loss: 0.5059 - accuracy: 0.8174\n",
            "625/625 [==============================] - 2s 3ms/step - loss: 0.4216 - accuracy: 0.8474\n",
            "1250/1250 [==============================] - 10s 7ms/step - loss: 0.5158 - accuracy: 0.8138\n",
            "625/625 [==============================] - 2s 3ms/step - loss: 0.4034 - accuracy: 0.8538\n",
            "1250/1250 [==============================] - 10s 7ms/step - loss: 0.5147 - accuracy: 0.8095\n",
            "625/625 [==============================] - 2s 3ms/step - loss: 0.4186 - accuracy: 0.8488\n",
            "1250/1250 [==============================] - 10s 7ms/step - loss: 0.5052 - accuracy: 0.8162\n",
            "625/625 [==============================] - 2s 3ms/step - loss: 0.4179 - accuracy: 0.8497\n",
            "1250/1250 [==============================] - 13s 10ms/step - loss: 0.5174 - accuracy: 0.8122\n",
            "625/625 [==============================] - 2s 3ms/step - loss: 0.4113 - accuracy: 0.8479\n",
            "1250/1250 [==============================] - 10s 7ms/step - loss: 0.5155 - accuracy: 0.8131\n",
            "625/625 [==============================] - 2s 3ms/step - loss: 0.4781 - accuracy: 0.8245\n",
            "1250/1250 [==============================] - 10s 7ms/step - loss: 0.5113 - accuracy: 0.8148\n",
            "625/625 [==============================] - 2s 3ms/step - loss: 0.4258 - accuracy: 0.8447\n",
            "1250/1250 [==============================] - 10s 7ms/step - loss: 0.5119 - accuracy: 0.8128\n",
            "625/625 [==============================] - 2s 3ms/step - loss: 0.4117 - accuracy: 0.8503\n",
            "1250/1250 [==============================] - 10s 8ms/step - loss: 0.5142 - accuracy: 0.8128\n",
            "625/625 [==============================] - 2s 3ms/step - loss: 0.4130 - accuracy: 0.8573\n",
            "1250/1250 [==============================] - 10s 8ms/step - loss: 0.5126 - accuracy: 0.8124\n",
            "625/625 [==============================] - 2s 3ms/step - loss: 0.4019 - accuracy: 0.8537\n",
            "1250/1250 [==============================] - 10s 7ms/step - loss: 0.5111 - accuracy: 0.8166\n",
            "625/625 [==============================] - 2s 3ms/step - loss: 0.3810 - accuracy: 0.8612\n",
            "1250/1250 [==============================] - 10s 7ms/step - loss: 0.5148 - accuracy: 0.8128\n",
            "625/625 [==============================] - 2s 3ms/step - loss: 0.3813 - accuracy: 0.8592\n",
            "1250/1250 [==============================] - 10s 7ms/step - loss: 0.5112 - accuracy: 0.8136\n",
            "625/625 [==============================] - 2s 3ms/step - loss: 0.4077 - accuracy: 0.8523\n",
            "1250/1250 [==============================] - 10s 7ms/step - loss: 0.5121 - accuracy: 0.8174\n",
            "625/625 [==============================] - 2s 3ms/step - loss: 0.4149 - accuracy: 0.8492\n",
            "1250/1250 [==============================] - 10s 7ms/step - loss: 0.5144 - accuracy: 0.8116\n",
            "625/625 [==============================] - 2s 3ms/step - loss: 0.4651 - accuracy: 0.8411\n",
            "1250/1250 [==============================] - 10s 7ms/step - loss: 0.5137 - accuracy: 0.8130\n",
            "625/625 [==============================] - 2s 3ms/step - loss: 0.4055 - accuracy: 0.8510\n",
            "1250/1250 [==============================] - 10s 7ms/step - loss: 0.5097 - accuracy: 0.8156\n",
            "625/625 [==============================] - 2s 3ms/step - loss: 0.4598 - accuracy: 0.8245\n",
            "1250/1250 [==============================] - 10s 7ms/step - loss: 0.5139 - accuracy: 0.8133\n",
            "625/625 [==============================] - 2s 3ms/step - loss: 0.4084 - accuracy: 0.8527\n",
            "1250/1250 [==============================] - 10s 7ms/step - loss: 0.5073 - accuracy: 0.8173\n",
            "625/625 [==============================] - 2s 3ms/step - loss: 0.4226 - accuracy: 0.8464\n",
            "1250/1250 [==============================] - 10s 8ms/step - loss: 0.6128 - accuracy: 0.7795\n",
            "625/625 [==============================] - 2s 3ms/step - loss: 0.5479 - accuracy: 0.7876\n",
            "1250/1250 [==============================] - 10s 8ms/step - loss: 0.6204 - accuracy: 0.7697\n",
            "625/625 [==============================] - 2s 3ms/step - loss: 0.4847 - accuracy: 0.8199\n",
            "1250/1250 [==============================] - 10s 8ms/step - loss: 0.6175 - accuracy: 0.7742\n",
            "625/625 [==============================] - 2s 3ms/step - loss: 0.5068 - accuracy: 0.8168\n",
            "1250/1250 [==============================] - 10s 8ms/step - loss: 0.5575 - accuracy: 0.8002\n",
            "625/625 [==============================] - 2s 3ms/step - loss: 0.4472 - accuracy: 0.8309\n",
            "1250/1250 [==============================] - 11s 8ms/step - loss: 0.5670 - accuracy: 0.7940\n",
            "625/625 [==============================] - 2s 3ms/step - loss: 0.4129 - accuracy: 0.8468\n",
            "1250/1250 [==============================] - 10s 8ms/step - loss: 0.5582 - accuracy: 0.7966\n",
            "625/625 [==============================] - 2s 3ms/step - loss: 0.4251 - accuracy: 0.8417\n",
            "1250/1250 [==============================] - 10s 8ms/step - loss: 0.5592 - accuracy: 0.7995\n",
            "625/625 [==============================] - 2s 3ms/step - loss: 0.4400 - accuracy: 0.8371\n",
            "1250/1250 [==============================] - 10s 8ms/step - loss: 0.5518 - accuracy: 0.8018\n",
            "625/625 [==============================] - 2s 3ms/step - loss: 0.4347 - accuracy: 0.8436\n",
            "1250/1250 [==============================] - 10s 8ms/step - loss: 0.5493 - accuracy: 0.8006\n",
            "625/625 [==============================] - 2s 3ms/step - loss: 0.4160 - accuracy: 0.8390\n",
            "1250/1250 [==============================] - 10s 8ms/step - loss: 0.5489 - accuracy: 0.8002\n",
            "625/625 [==============================] - 2s 3ms/step - loss: 0.4428 - accuracy: 0.8372\n",
            "1250/1250 [==============================] - 10s 8ms/step - loss: 0.5546 - accuracy: 0.7972\n",
            "625/625 [==============================] - 2s 3ms/step - loss: 0.4038 - accuracy: 0.8546\n",
            "1250/1250 [==============================] - 10s 8ms/step - loss: 0.5559 - accuracy: 0.7984\n",
            "625/625 [==============================] - 2s 3ms/step - loss: 0.4412 - accuracy: 0.8344\n",
            "1250/1250 [==============================] - 10s 8ms/step - loss: 0.5529 - accuracy: 0.7995\n",
            "625/625 [==============================] - 2s 3ms/step - loss: 0.4225 - accuracy: 0.8409\n",
            "1250/1250 [==============================] - 11s 8ms/step - loss: 0.5616 - accuracy: 0.7962\n",
            "625/625 [==============================] - 2s 3ms/step - loss: 0.4552 - accuracy: 0.8200\n",
            "1250/1250 [==============================] - 10s 8ms/step - loss: 0.5507 - accuracy: 0.7989\n",
            "625/625 [==============================] - 2s 3ms/step - loss: 0.4292 - accuracy: 0.8452\n",
            "1250/1250 [==============================] - 10s 8ms/step - loss: 0.5566 - accuracy: 0.7979\n",
            "625/625 [==============================] - 2s 3ms/step - loss: 0.4268 - accuracy: 0.8397\n",
            "1250/1250 [==============================] - 10s 8ms/step - loss: 0.5482 - accuracy: 0.7990\n",
            "625/625 [==============================] - 2s 3ms/step - loss: 0.4057 - accuracy: 0.8507\n",
            "1250/1250 [==============================] - 10s 8ms/step - loss: 0.5481 - accuracy: 0.8008\n",
            "625/625 [==============================] - 2s 3ms/step - loss: 0.4060 - accuracy: 0.8563\n",
            "1250/1250 [==============================] - 11s 8ms/step - loss: 0.5561 - accuracy: 0.7999\n",
            "625/625 [==============================] - 2s 3ms/step - loss: 0.4316 - accuracy: 0.8373\n",
            "1250/1250 [==============================] - 10s 8ms/step - loss: 0.5581 - accuracy: 0.7982\n",
            "625/625 [==============================] - 2s 3ms/step - loss: 0.4063 - accuracy: 0.8497\n",
            "1250/1250 [==============================] - 10s 8ms/step - loss: 0.5523 - accuracy: 0.8016\n",
            "625/625 [==============================] - 2s 3ms/step - loss: 0.4203 - accuracy: 0.8512\n",
            "1250/1250 [==============================] - 10s 8ms/step - loss: 0.5499 - accuracy: 0.8023\n",
            "625/625 [==============================] - 2s 3ms/step - loss: 0.4449 - accuracy: 0.8353\n",
            "1250/1250 [==============================] - 11s 8ms/step - loss: 0.5527 - accuracy: 0.7989\n",
            "625/625 [==============================] - 2s 3ms/step - loss: 0.4635 - accuracy: 0.8257\n",
            "1250/1250 [==============================] - 10s 8ms/step - loss: 0.5483 - accuracy: 0.8031\n",
            "625/625 [==============================] - 2s 3ms/step - loss: 0.4265 - accuracy: 0.8420\n",
            "1250/1250 [==============================] - 10s 8ms/step - loss: 0.5581 - accuracy: 0.8013\n",
            "625/625 [==============================] - 2s 3ms/step - loss: 0.4544 - accuracy: 0.8344\n",
            "1250/1250 [==============================] - 10s 8ms/step - loss: 0.5544 - accuracy: 0.7976\n",
            "625/625 [==============================] - 2s 3ms/step - loss: 0.4153 - accuracy: 0.8492\n",
            "1250/1250 [==============================] - 10s 8ms/step - loss: 0.5535 - accuracy: 0.8002\n",
            "625/625 [==============================] - 2s 3ms/step - loss: 0.4280 - accuracy: 0.8438\n",
            "1250/1250 [==============================] - 10s 8ms/step - loss: 0.5492 - accuracy: 0.8039\n",
            "625/625 [==============================] - 2s 3ms/step - loss: 0.4085 - accuracy: 0.8539\n",
            "1250/1250 [==============================] - 10s 8ms/step - loss: 0.5518 - accuracy: 0.7987\n",
            "625/625 [==============================] - 2s 3ms/step - loss: 0.4280 - accuracy: 0.8464\n",
            "1250/1250 [==============================] - 10s 8ms/step - loss: 0.5507 - accuracy: 0.7988\n",
            "625/625 [==============================] - 2s 3ms/step - loss: 0.4328 - accuracy: 0.8436\n",
            "1250/1250 [==============================] - 11s 8ms/step - loss: 0.6502 - accuracy: 0.7634\n",
            "625/625 [==============================] - 2s 3ms/step - loss: 0.4738 - accuracy: 0.8275\n",
            "1250/1250 [==============================] - 10s 8ms/step - loss: 0.6559 - accuracy: 0.7597\n",
            "625/625 [==============================] - 2s 3ms/step - loss: 0.5171 - accuracy: 0.8146\n",
            "1250/1250 [==============================] - 10s 8ms/step - loss: 0.6589 - accuracy: 0.7612\n",
            "625/625 [==============================] - 2s 3ms/step - loss: 0.4959 - accuracy: 0.8138\n",
            "1250/1250 [==============================] - 10s 8ms/step - loss: 0.5973 - accuracy: 0.7869\n",
            "625/625 [==============================] - 2s 3ms/step - loss: 0.4629 - accuracy: 0.8282\n",
            "1250/1250 [==============================] - 10s 8ms/step - loss: 0.6050 - accuracy: 0.7837\n",
            "625/625 [==============================] - 2s 3ms/step - loss: 0.4250 - accuracy: 0.8492\n",
            "1250/1250 [==============================] - 10s 8ms/step - loss: 0.5981 - accuracy: 0.7849\n",
            "625/625 [==============================] - 2s 3ms/step - loss: 0.4912 - accuracy: 0.8253\n",
            "1250/1250 [==============================] - 10s 8ms/step - loss: 0.5976 - accuracy: 0.7863\n",
            "625/625 [==============================] - 2s 3ms/step - loss: 0.4421 - accuracy: 0.8314\n",
            "1250/1250 [==============================] - 10s 8ms/step - loss: 0.5926 - accuracy: 0.7855\n",
            "625/625 [==============================] - 2s 3ms/step - loss: 0.4124 - accuracy: 0.8487\n",
            "1250/1250 [==============================] - 11s 8ms/step - loss: 0.5945 - accuracy: 0.7869\n",
            "625/625 [==============================] - 2s 3ms/step - loss: 0.4136 - accuracy: 0.8436\n",
            "1250/1250 [==============================] - 10s 8ms/step - loss: 0.5968 - accuracy: 0.7831\n",
            "625/625 [==============================] - 2s 3ms/step - loss: 0.4627 - accuracy: 0.8327\n",
            "1250/1250 [==============================] - 10s 8ms/step - loss: 0.6015 - accuracy: 0.7822\n",
            "625/625 [==============================] - 2s 3ms/step - loss: 0.4135 - accuracy: 0.8541\n",
            "1250/1250 [==============================] - 10s 8ms/step - loss: 0.5959 - accuracy: 0.7848\n",
            "625/625 [==============================] - 2s 3ms/step - loss: 0.4088 - accuracy: 0.8490\n",
            "1250/1250 [==============================] - 10s 8ms/step - loss: 0.5956 - accuracy: 0.7829\n",
            "625/625 [==============================] - 2s 3ms/step - loss: 0.4373 - accuracy: 0.8403\n",
            "1250/1250 [==============================] - 10s 8ms/step - loss: 0.5914 - accuracy: 0.7847\n",
            "625/625 [==============================] - 2s 3ms/step - loss: 0.4298 - accuracy: 0.8404\n",
            "1250/1250 [==============================] - 10s 8ms/step - loss: 0.5964 - accuracy: 0.7826\n",
            "625/625 [==============================] - 2s 3ms/step - loss: 0.4367 - accuracy: 0.8393\n",
            "1250/1250 [==============================] - 10s 8ms/step - loss: 0.5942 - accuracy: 0.7882\n",
            "625/625 [==============================] - 2s 3ms/step - loss: 0.4282 - accuracy: 0.8395\n",
            "1250/1250 [==============================] - 10s 8ms/step - loss: 0.6000 - accuracy: 0.7818\n",
            "625/625 [==============================] - 2s 3ms/step - loss: 0.4283 - accuracy: 0.8445\n",
            "1250/1250 [==============================] - 11s 8ms/step - loss: 0.5917 - accuracy: 0.7879\n",
            "625/625 [==============================] - 2s 3ms/step - loss: 0.4159 - accuracy: 0.8490\n",
            "1250/1250 [==============================] - 11s 8ms/step - loss: 0.6033 - accuracy: 0.7839\n",
            "625/625 [==============================] - 2s 3ms/step - loss: 0.4451 - accuracy: 0.8345\n",
            "1250/1250 [==============================] - 11s 8ms/step - loss: 0.6037 - accuracy: 0.7826\n",
            "625/625 [==============================] - 2s 3ms/step - loss: 0.4469 - accuracy: 0.8371\n",
            "1250/1250 [==============================] - 10s 8ms/step - loss: 0.6024 - accuracy: 0.7842\n",
            "625/625 [==============================] - 2s 3ms/step - loss: 0.4639 - accuracy: 0.8215\n",
            "1250/1250 [==============================] - 10s 8ms/step - loss: 0.6022 - accuracy: 0.7839\n",
            "625/625 [==============================] - 2s 3ms/step - loss: 0.4464 - accuracy: 0.8298\n",
            "1250/1250 [==============================] - 10s 8ms/step - loss: 0.6048 - accuracy: 0.7805\n",
            "625/625 [==============================] - 2s 3ms/step - loss: 0.4363 - accuracy: 0.8419\n",
            "1250/1250 [==============================] - 10s 8ms/step - loss: 0.5977 - accuracy: 0.7851\n",
            "625/625 [==============================] - 2s 3ms/step - loss: 0.4518 - accuracy: 0.8335\n",
            "1250/1250 [==============================] - 10s 8ms/step - loss: 0.5977 - accuracy: 0.7825\n",
            "625/625 [==============================] - 2s 3ms/step - loss: 0.4156 - accuracy: 0.8460\n",
            "1250/1250 [==============================] - 10s 8ms/step - loss: 0.6001 - accuracy: 0.7807\n",
            "625/625 [==============================] - 2s 3ms/step - loss: 0.4446 - accuracy: 0.8414\n",
            "1250/1250 [==============================] - 11s 8ms/step - loss: 0.6012 - accuracy: 0.7846\n",
            "625/625 [==============================] - 2s 3ms/step - loss: 0.4272 - accuracy: 0.8461\n",
            "1250/1250 [==============================] - 11s 8ms/step - loss: 0.5996 - accuracy: 0.7855\n",
            "625/625 [==============================] - 2s 3ms/step - loss: 0.4817 - accuracy: 0.8228\n",
            "1250/1250 [==============================] - 11s 8ms/step - loss: 0.6031 - accuracy: 0.7832\n",
            "625/625 [==============================] - 2s 3ms/step - loss: 0.4314 - accuracy: 0.8428\n",
            "1250/1250 [==============================] - 10s 8ms/step - loss: 0.6000 - accuracy: 0.7828\n",
            "625/625 [==============================] - 2s 3ms/step - loss: 0.4403 - accuracy: 0.8402\n",
            "1250/1250 [==============================] - 10s 8ms/step - loss: 0.6957 - accuracy: 0.7447\n",
            "625/625 [==============================] - 2s 3ms/step - loss: 0.5607 - accuracy: 0.7847\n",
            "1250/1250 [==============================] - 10s 8ms/step - loss: 0.6966 - accuracy: 0.7436\n",
            "625/625 [==============================] - 2s 3ms/step - loss: 0.5012 - accuracy: 0.8186\n",
            "1250/1250 [==============================] - 10s 8ms/step - loss: 0.6989 - accuracy: 0.7447\n",
            "625/625 [==============================] - 2s 3ms/step - loss: 0.4766 - accuracy: 0.8299\n",
            "1250/1250 [==============================] - 11s 8ms/step - loss: 0.6604 - accuracy: 0.7621\n",
            "625/625 [==============================] - 2s 3ms/step - loss: 0.4838 - accuracy: 0.8255\n",
            "1250/1250 [==============================] - 11s 8ms/step - loss: 0.6552 - accuracy: 0.7615\n",
            "625/625 [==============================] - 2s 3ms/step - loss: 0.4888 - accuracy: 0.8177\n",
            "1250/1250 [==============================] - 10s 8ms/step - loss: 0.6522 - accuracy: 0.7621\n",
            "625/625 [==============================] - 2s 3ms/step - loss: 0.4711 - accuracy: 0.8263\n",
            "1250/1250 [==============================] - 10s 8ms/step - loss: 0.6476 - accuracy: 0.7698\n",
            "625/625 [==============================] - 2s 3ms/step - loss: 0.4373 - accuracy: 0.8383\n",
            "1250/1250 [==============================] - 11s 8ms/step - loss: 0.6530 - accuracy: 0.7656\n",
            "625/625 [==============================] - 2s 3ms/step - loss: 0.4597 - accuracy: 0.8335\n",
            "1250/1250 [==============================] - 11s 8ms/step - loss: 0.6478 - accuracy: 0.7648\n",
            "625/625 [==============================] - 2s 3ms/step - loss: 0.4589 - accuracy: 0.8262\n",
            "1250/1250 [==============================] - 10s 8ms/step - loss: 0.6493 - accuracy: 0.7677\n",
            "625/625 [==============================] - 2s 3ms/step - loss: 0.4623 - accuracy: 0.8292\n",
            "1250/1250 [==============================] - 10s 8ms/step - loss: 0.6596 - accuracy: 0.7615\n",
            "625/625 [==============================] - 2s 3ms/step - loss: 0.4488 - accuracy: 0.8371\n",
            "1250/1250 [==============================] - 11s 8ms/step - loss: 0.6521 - accuracy: 0.7637\n",
            "625/625 [==============================] - 2s 3ms/step - loss: 0.4692 - accuracy: 0.8342\n",
            "1250/1250 [==============================] - 11s 8ms/step - loss: 0.6549 - accuracy: 0.7653\n",
            "625/625 [==============================] - 2s 3ms/step - loss: 0.4380 - accuracy: 0.8359\n",
            "1250/1250 [==============================] - 11s 8ms/step - loss: 0.6543 - accuracy: 0.7634\n",
            "625/625 [==============================] - 2s 3ms/step - loss: 0.4318 - accuracy: 0.8447\n",
            "1250/1250 [==============================] - 10s 8ms/step - loss: 0.6553 - accuracy: 0.7657\n",
            "625/625 [==============================] - 2s 3ms/step - loss: 0.4367 - accuracy: 0.8426\n",
            "1250/1250 [==============================] - 11s 8ms/step - loss: 0.6489 - accuracy: 0.7664\n",
            "625/625 [==============================] - 2s 3ms/step - loss: 0.4392 - accuracy: 0.8353\n",
            "1250/1250 [==============================] - 11s 8ms/step - loss: 0.6507 - accuracy: 0.7630\n",
            "625/625 [==============================] - 2s 3ms/step - loss: 0.4380 - accuracy: 0.8435\n",
            "1250/1250 [==============================] - 11s 8ms/step - loss: 0.6571 - accuracy: 0.7664\n",
            "625/625 [==============================] - 2s 3ms/step - loss: 0.4464 - accuracy: 0.8363\n",
            "1250/1250 [==============================] - 11s 8ms/step - loss: 0.6496 - accuracy: 0.7678\n",
            "625/625 [==============================] - 2s 3ms/step - loss: 0.4364 - accuracy: 0.8367\n",
            "1250/1250 [==============================] - 11s 8ms/step - loss: 0.6560 - accuracy: 0.7611\n",
            "625/625 [==============================] - 2s 3ms/step - loss: 0.4860 - accuracy: 0.8180\n",
            "1250/1250 [==============================] - 11s 8ms/step - loss: 0.6566 - accuracy: 0.7613\n",
            "625/625 [==============================] - 2s 3ms/step - loss: 0.4329 - accuracy: 0.8428\n",
            "1250/1250 [==============================] - 11s 8ms/step - loss: 0.6497 - accuracy: 0.7664\n",
            "625/625 [==============================] - 2s 3ms/step - loss: 0.4709 - accuracy: 0.8278\n",
            "1250/1250 [==============================] - 11s 8ms/step - loss: 0.6499 - accuracy: 0.7642\n",
            "625/625 [==============================] - 2s 3ms/step - loss: 0.4583 - accuracy: 0.8300\n",
            "1250/1250 [==============================] - 11s 8ms/step - loss: 0.6471 - accuracy: 0.7681\n",
            "625/625 [==============================] - 2s 3ms/step - loss: 0.5130 - accuracy: 0.7935\n",
            "1250/1250 [==============================] - 11s 8ms/step - loss: 0.6531 - accuracy: 0.7668\n",
            "625/625 [==============================] - 2s 3ms/step - loss: 0.5016 - accuracy: 0.8239\n",
            "1250/1250 [==============================] - 11s 8ms/step - loss: 0.6548 - accuracy: 0.7621\n",
            "625/625 [==============================] - 2s 3ms/step - loss: 0.4423 - accuracy: 0.8460\n",
            "1250/1250 [==============================] - 11s 8ms/step - loss: 0.6487 - accuracy: 0.7685\n",
            "625/625 [==============================] - 2s 3ms/step - loss: 0.4663 - accuracy: 0.8293\n",
            "1250/1250 [==============================] - 11s 8ms/step - loss: 0.6464 - accuracy: 0.7672\n",
            "625/625 [==============================] - 2s 3ms/step - loss: 0.4834 - accuracy: 0.8296\n",
            "1250/1250 [==============================] - 11s 8ms/step - loss: 0.6573 - accuracy: 0.7635\n",
            "625/625 [==============================] - 2s 3ms/step - loss: 0.4320 - accuracy: 0.8455\n",
            "1250/1250 [==============================] - 11s 8ms/step - loss: 0.6610 - accuracy: 0.7625\n",
            "625/625 [==============================] - 3s 4ms/step - loss: 0.4533 - accuracy: 0.8295\n",
            "1250/1250 [==============================] - 13s 10ms/step - loss: 0.7585 - accuracy: 0.7229\n",
            "625/625 [==============================] - 2s 3ms/step - loss: 0.5143 - accuracy: 0.8122\n",
            "1250/1250 [==============================] - 11s 8ms/step - loss: 0.7586 - accuracy: 0.7233\n",
            "625/625 [==============================] - 2s 3ms/step - loss: 0.5392 - accuracy: 0.8115\n",
            "1250/1250 [==============================] - 11s 8ms/step - loss: 0.7461 - accuracy: 0.7268\n",
            "625/625 [==============================] - 2s 3ms/step - loss: 0.5872 - accuracy: 0.7556\n",
            "1250/1250 [==============================] - 11s 9ms/step - loss: 0.7147 - accuracy: 0.7416\n",
            "625/625 [==============================] - 2s 3ms/step - loss: 0.4571 - accuracy: 0.8338\n",
            "1250/1250 [==============================] - 11s 8ms/step - loss: 0.7226 - accuracy: 0.7356\n",
            "625/625 [==============================] - 2s 3ms/step - loss: 0.4510 - accuracy: 0.8377\n",
            "1250/1250 [==============================] - 11s 8ms/step - loss: 0.7277 - accuracy: 0.7381\n",
            "625/625 [==============================] - 2s 3ms/step - loss: 0.4791 - accuracy: 0.8181\n",
            "1250/1250 [==============================] - 11s 8ms/step - loss: 0.7198 - accuracy: 0.7434\n",
            "625/625 [==============================] - 2s 3ms/step - loss: 0.4619 - accuracy: 0.8264\n",
            "1250/1250 [==============================] - 11s 8ms/step - loss: 0.7321 - accuracy: 0.7346\n",
            "625/625 [==============================] - 2s 3ms/step - loss: 0.4586 - accuracy: 0.8368\n",
            "1250/1250 [==============================] - 11s 8ms/step - loss: 0.7199 - accuracy: 0.7372\n",
            "625/625 [==============================] - 2s 3ms/step - loss: 0.4595 - accuracy: 0.8310\n",
            "1250/1250 [==============================] - 11s 8ms/step - loss: 0.7278 - accuracy: 0.7351\n",
            "625/625 [==============================] - 2s 3ms/step - loss: 0.4589 - accuracy: 0.8299\n",
            "1250/1250 [==============================] - 11s 8ms/step - loss: 0.7351 - accuracy: 0.7349\n",
            "625/625 [==============================] - 2s 3ms/step - loss: 0.4584 - accuracy: 0.8293\n",
            "1250/1250 [==============================] - 11s 8ms/step - loss: 0.7288 - accuracy: 0.7355\n",
            "625/625 [==============================] - 2s 3ms/step - loss: 0.4590 - accuracy: 0.8420\n",
            "1250/1250 [==============================] - 11s 8ms/step - loss: 0.7287 - accuracy: 0.7361\n",
            "625/625 [==============================] - 2s 3ms/step - loss: 0.4740 - accuracy: 0.8241\n",
            "1250/1250 [==============================] - 11s 8ms/step - loss: 0.7341 - accuracy: 0.7302\n",
            "625/625 [==============================] - 2s 3ms/step - loss: 0.4825 - accuracy: 0.8181\n",
            "1250/1250 [==============================] - 11s 8ms/step - loss: 0.7337 - accuracy: 0.7327\n",
            "625/625 [==============================] - 2s 3ms/step - loss: 0.4501 - accuracy: 0.8403\n",
            "1250/1250 [==============================] - 11s 8ms/step - loss: 0.7287 - accuracy: 0.7392\n",
            "625/625 [==============================] - 2s 3ms/step - loss: 0.4565 - accuracy: 0.8345\n",
            "1250/1250 [==============================] - 11s 8ms/step - loss: 0.7318 - accuracy: 0.7337\n",
            "625/625 [==============================] - 2s 3ms/step - loss: 0.4727 - accuracy: 0.8329\n",
            "1250/1250 [==============================] - 11s 8ms/step - loss: 0.7412 - accuracy: 0.7339\n",
            "625/625 [==============================] - 2s 3ms/step - loss: 0.4774 - accuracy: 0.8256\n",
            "1250/1250 [==============================] - 11s 8ms/step - loss: 0.7289 - accuracy: 0.7372\n",
            "625/625 [==============================] - 2s 3ms/step - loss: 0.4768 - accuracy: 0.8188\n",
            "1250/1250 [==============================] - 11s 8ms/step - loss: 0.7333 - accuracy: 0.7334\n",
            "625/625 [==============================] - 2s 3ms/step - loss: 0.4741 - accuracy: 0.8309\n",
            "1250/1250 [==============================] - 11s 8ms/step - loss: 0.7406 - accuracy: 0.7333\n",
            "625/625 [==============================] - 2s 3ms/step - loss: 0.4488 - accuracy: 0.8348\n",
            "1250/1250 [==============================] - 11s 8ms/step - loss: 0.7364 - accuracy: 0.7340\n",
            "625/625 [==============================] - 2s 3ms/step - loss: 0.5000 - accuracy: 0.8154\n",
            "1250/1250 [==============================] - 11s 8ms/step - loss: 0.7296 - accuracy: 0.7358\n",
            "625/625 [==============================] - 2s 3ms/step - loss: 0.4740 - accuracy: 0.8231\n",
            "1250/1250 [==============================] - 11s 8ms/step - loss: 0.7312 - accuracy: 0.7385\n",
            "625/625 [==============================] - 2s 3ms/step - loss: 0.4544 - accuracy: 0.8358\n",
            "1250/1250 [==============================] - 11s 8ms/step - loss: 0.7184 - accuracy: 0.7416\n",
            "625/625 [==============================] - 2s 3ms/step - loss: 0.4453 - accuracy: 0.8342\n",
            "1250/1250 [==============================] - 11s 9ms/step - loss: 0.7271 - accuracy: 0.7347\n",
            "625/625 [==============================] - 2s 3ms/step - loss: 0.4764 - accuracy: 0.8306\n",
            "1250/1250 [==============================] - 11s 8ms/step - loss: 0.7265 - accuracy: 0.7408\n",
            "625/625 [==============================] - 2s 3ms/step - loss: 0.4515 - accuracy: 0.8357\n",
            "1250/1250 [==============================] - 11s 8ms/step - loss: 0.7262 - accuracy: 0.7416\n",
            "625/625 [==============================] - 2s 3ms/step - loss: 0.4763 - accuracy: 0.8118\n",
            "1250/1250 [==============================] - 11s 8ms/step - loss: 0.7264 - accuracy: 0.7376\n",
            "625/625 [==============================] - 2s 3ms/step - loss: 0.4612 - accuracy: 0.8356\n",
            "1250/1250 [==============================] - 11s 8ms/step - loss: 0.7412 - accuracy: 0.7341\n",
            "625/625 [==============================] - 2s 3ms/step - loss: 0.4543 - accuracy: 0.8367\n",
            "1250/1250 [==============================] - 11s 8ms/step - loss: 0.8394 - accuracy: 0.6909\n",
            "625/625 [==============================] - 2s 3ms/step - loss: 0.5785 - accuracy: 0.7734\n",
            "1250/1250 [==============================] - 11s 8ms/step - loss: 0.8409 - accuracy: 0.6891\n",
            "625/625 [==============================] - 2s 3ms/step - loss: 0.5872 - accuracy: 0.7842\n",
            "1250/1250 [==============================] - 11s 8ms/step - loss: 0.8370 - accuracy: 0.6925\n",
            "625/625 [==============================] - 2s 3ms/step - loss: 0.5660 - accuracy: 0.7842\n",
            "1250/1250 [==============================] - 11s 8ms/step - loss: 0.8189 - accuracy: 0.7011\n",
            "625/625 [==============================] - 2s 3ms/step - loss: 0.5073 - accuracy: 0.8084\n",
            "1250/1250 [==============================] - 11s 8ms/step - loss: 0.8187 - accuracy: 0.7017\n",
            "625/625 [==============================] - 2s 3ms/step - loss: 0.5263 - accuracy: 0.7930\n",
            "1250/1250 [==============================] - 11s 8ms/step - loss: 0.8260 - accuracy: 0.7018\n",
            "625/625 [==============================] - 2s 3ms/step - loss: 0.5091 - accuracy: 0.8030\n",
            "1250/1250 [==============================] - 11s 8ms/step - loss: 0.8333 - accuracy: 0.6959\n",
            "625/625 [==============================] - 2s 3ms/step - loss: 0.5053 - accuracy: 0.8046\n",
            "1250/1250 [==============================] - 11s 8ms/step - loss: 0.8460 - accuracy: 0.6879\n",
            "625/625 [==============================] - 2s 3ms/step - loss: 0.5305 - accuracy: 0.7857\n",
            "1250/1250 [==============================] - 11s 8ms/step - loss: 0.8388 - accuracy: 0.6918\n",
            "625/625 [==============================] - 2s 3ms/step - loss: 0.4863 - accuracy: 0.8291\n",
            "1250/1250 [==============================] - 11s 8ms/step - loss: 0.8356 - accuracy: 0.7014\n",
            "625/625 [==============================] - 2s 3ms/step - loss: 0.5082 - accuracy: 0.8189\n",
            "1250/1250 [==============================] - 11s 8ms/step - loss: 0.8496 - accuracy: 0.6879\n",
            "625/625 [==============================] - 2s 3ms/step - loss: 0.5056 - accuracy: 0.8149\n",
            "1250/1250 [==============================] - 11s 8ms/step - loss: 0.8315 - accuracy: 0.6963\n",
            "625/625 [==============================] - 2s 3ms/step - loss: 0.5192 - accuracy: 0.8142\n",
            "1250/1250 [==============================] - 11s 8ms/step - loss: 0.8399 - accuracy: 0.6966\n",
            "625/625 [==============================] - 2s 3ms/step - loss: 0.5104 - accuracy: 0.8177\n",
            "1250/1250 [==============================] - 11s 9ms/step - loss: 0.8295 - accuracy: 0.6956\n",
            "625/625 [==============================] - 2s 3ms/step - loss: 0.5122 - accuracy: 0.8115\n",
            "1250/1250 [==============================] - 11s 8ms/step - loss: 0.8437 - accuracy: 0.6921\n",
            "625/625 [==============================] - 2s 3ms/step - loss: 0.5017 - accuracy: 0.8141\n",
            "1250/1250 [==============================] - 11s 8ms/step - loss: 0.8410 - accuracy: 0.6950\n",
            "625/625 [==============================] - 2s 3ms/step - loss: 0.5032 - accuracy: 0.8141\n",
            "1250/1250 [==============================] - 11s 8ms/step - loss: 0.8497 - accuracy: 0.6887\n",
            "625/625 [==============================] - 2s 3ms/step - loss: 0.5194 - accuracy: 0.8041\n",
            "1250/1250 [==============================] - 11s 8ms/step - loss: 0.8405 - accuracy: 0.6894\n",
            "625/625 [==============================] - 2s 3ms/step - loss: 0.5103 - accuracy: 0.8010\n",
            "1250/1250 [==============================] - 11s 8ms/step - loss: 0.8396 - accuracy: 0.6981\n",
            "625/625 [==============================] - 2s 3ms/step - loss: 0.4822 - accuracy: 0.8275\n",
            "1250/1250 [==============================] - 11s 8ms/step - loss: 0.8540 - accuracy: 0.6914\n",
            "625/625 [==============================] - 2s 3ms/step - loss: 0.4961 - accuracy: 0.8288\n",
            "1250/1250 [==============================] - 11s 8ms/step - loss: 0.8371 - accuracy: 0.6941\n",
            "625/625 [==============================] - 2s 3ms/step - loss: 0.5251 - accuracy: 0.8127\n",
            "1250/1250 [==============================] - 11s 8ms/step - loss: 0.8364 - accuracy: 0.6942\n",
            "625/625 [==============================] - 2s 3ms/step - loss: 0.5292 - accuracy: 0.8145\n",
            "1250/1250 [==============================] - 11s 8ms/step - loss: 0.8343 - accuracy: 0.6998\n",
            "625/625 [==============================] - 2s 3ms/step - loss: 0.4735 - accuracy: 0.8327\n",
            "1250/1250 [==============================] - 11s 8ms/step - loss: 0.8451 - accuracy: 0.6883\n",
            "625/625 [==============================] - 2s 3ms/step - loss: 0.5069 - accuracy: 0.8145\n",
            "1250/1250 [==============================] - 11s 9ms/step - loss: 0.8484 - accuracy: 0.6920\n",
            "625/625 [==============================] - 2s 3ms/step - loss: 0.4971 - accuracy: 0.8062\n",
            "1250/1250 [==============================] - 11s 8ms/step - loss: 0.8343 - accuracy: 0.6982\n",
            "625/625 [==============================] - 2s 3ms/step - loss: 0.4960 - accuracy: 0.8163\n",
            "1250/1250 [==============================] - 11s 8ms/step - loss: 0.8424 - accuracy: 0.6916\n",
            "625/625 [==============================] - 2s 3ms/step - loss: 0.5087 - accuracy: 0.8189\n",
            "1250/1250 [==============================] - 11s 8ms/step - loss: 0.8488 - accuracy: 0.6946\n",
            "625/625 [==============================] - 2s 3ms/step - loss: 0.5119 - accuracy: 0.8077\n",
            "1250/1250 [==============================] - 11s 8ms/step - loss: 0.8429 - accuracy: 0.6942\n",
            "625/625 [==============================] - 2s 3ms/step - loss: 0.5094 - accuracy: 0.8238\n",
            "1250/1250 [==============================] - 11s 9ms/step - loss: 0.8280 - accuracy: 0.6966\n",
            "625/625 [==============================] - 2s 3ms/step - loss: 0.4924 - accuracy: 0.8056\n",
            "1250/1250 [==============================] - 11s 8ms/step - loss: 0.9665 - accuracy: 0.6425\n",
            "625/625 [==============================] - 2s 3ms/step - loss: 0.5828 - accuracy: 0.7736\n",
            "1250/1250 [==============================] - 11s 8ms/step - loss: 0.9522 - accuracy: 0.6403\n",
            "625/625 [==============================] - 2s 3ms/step - loss: 0.6230 - accuracy: 0.7732\n",
            "1250/1250 [==============================] - 11s 8ms/step - loss: 0.9544 - accuracy: 0.6465\n",
            "625/625 [==============================] - 2s 3ms/step - loss: 0.5892 - accuracy: 0.7848\n",
            "1250/1250 [==============================] - 11s 8ms/step - loss: 0.9821 - accuracy: 0.6389\n",
            "625/625 [==============================] - 2s 3ms/step - loss: 0.5652 - accuracy: 0.7899\n",
            "1250/1250 [==============================] - 11s 8ms/step - loss: 0.9765 - accuracy: 0.6309\n",
            "625/625 [==============================] - 2s 3ms/step - loss: 0.5881 - accuracy: 0.7732\n",
            "1250/1250 [==============================] - 11s 8ms/step - loss: 0.9924 - accuracy: 0.6343\n",
            "625/625 [==============================] - 2s 3ms/step - loss: 0.5620 - accuracy: 0.7833\n",
            "1250/1250 [==============================] - 11s 8ms/step - loss: 1.0104 - accuracy: 0.6268\n",
            "625/625 [==============================] - 2s 3ms/step - loss: 0.5714 - accuracy: 0.7864\n",
            "1250/1250 [==============================] - 11s 8ms/step - loss: 1.0293 - accuracy: 0.6231\n",
            "625/625 [==============================] - 2s 3ms/step - loss: 0.5669 - accuracy: 0.7944\n",
            "1250/1250 [==============================] - 11s 8ms/step - loss: 1.0086 - accuracy: 0.6280\n",
            "625/625 [==============================] - 2s 3ms/step - loss: 0.5822 - accuracy: 0.7958\n",
            "1250/1250 [==============================] - 11s 8ms/step - loss: 1.0122 - accuracy: 0.6262\n",
            "625/625 [==============================] - 2s 3ms/step - loss: 0.5715 - accuracy: 0.7760\n",
            "1250/1250 [==============================] - 11s 8ms/step - loss: 0.9812 - accuracy: 0.6323\n",
            "625/625 [==============================] - 2s 3ms/step - loss: 0.6074 - accuracy: 0.7682\n",
            "1250/1250 [==============================] - 11s 8ms/step - loss: 1.0229 - accuracy: 0.6183\n",
            "625/625 [==============================] - 2s 3ms/step - loss: 0.5733 - accuracy: 0.7994\n",
            "1250/1250 [==============================] - 11s 8ms/step - loss: 1.0005 - accuracy: 0.6232\n",
            "625/625 [==============================] - 2s 3ms/step - loss: 0.5746 - accuracy: 0.7816\n",
            "1250/1250 [==============================] - 11s 8ms/step - loss: 1.0062 - accuracy: 0.6324\n",
            "625/625 [==============================] - 2s 3ms/step - loss: 0.5496 - accuracy: 0.7955\n",
            "1250/1250 [==============================] - 11s 8ms/step - loss: 1.0096 - accuracy: 0.6309\n",
            "625/625 [==============================] - 2s 3ms/step - loss: 0.5560 - accuracy: 0.7826\n",
            "1250/1250 [==============================] - 11s 8ms/step - loss: 1.0116 - accuracy: 0.6253\n",
            "625/625 [==============================] - 2s 3ms/step - loss: 0.5484 - accuracy: 0.7766\n",
            "1250/1250 [==============================] - 11s 8ms/step - loss: 1.0039 - accuracy: 0.6244\n",
            "625/625 [==============================] - 2s 3ms/step - loss: 0.5837 - accuracy: 0.7970\n",
            "1250/1250 [==============================] - 11s 8ms/step - loss: 1.0171 - accuracy: 0.6248\n",
            "625/625 [==============================] - 2s 3ms/step - loss: 0.5695 - accuracy: 0.7933\n",
            "1250/1250 [==============================] - 12s 9ms/step - loss: 1.0125 - accuracy: 0.6237\n",
            "625/625 [==============================] - 2s 3ms/step - loss: 0.5836 - accuracy: 0.7872\n",
            "1250/1250 [==============================] - 11s 8ms/step - loss: 1.0147 - accuracy: 0.6252\n",
            "625/625 [==============================] - 2s 3ms/step - loss: 0.5630 - accuracy: 0.7864\n",
            "1250/1250 [==============================] - 11s 9ms/step - loss: 1.0062 - accuracy: 0.6332\n",
            "625/625 [==============================] - 2s 3ms/step - loss: 0.5608 - accuracy: 0.7929\n",
            "1250/1250 [==============================] - 11s 8ms/step - loss: 1.0099 - accuracy: 0.6305\n",
            "625/625 [==============================] - 2s 3ms/step - loss: 0.5671 - accuracy: 0.7815\n",
            "1250/1250 [==============================] - 11s 8ms/step - loss: 1.0031 - accuracy: 0.6315\n",
            "625/625 [==============================] - 2s 3ms/step - loss: 0.5702 - accuracy: 0.7614\n",
            "1250/1250 [==============================] - 11s 8ms/step - loss: 1.0010 - accuracy: 0.6258\n",
            "625/625 [==============================] - 2s 3ms/step - loss: 0.5683 - accuracy: 0.7782\n",
            "1250/1250 [==============================] - 11s 8ms/step - loss: 1.0124 - accuracy: 0.6242\n",
            "625/625 [==============================] - 2s 3ms/step - loss: 0.5553 - accuracy: 0.7869\n",
            "1250/1250 [==============================] - 11s 8ms/step - loss: 0.9966 - accuracy: 0.6368\n",
            "625/625 [==============================] - 2s 3ms/step - loss: 0.5618 - accuracy: 0.7940\n",
            "1250/1250 [==============================] - 12s 9ms/step - loss: 1.0046 - accuracy: 0.6313\n",
            "625/625 [==============================] - 2s 3ms/step - loss: 0.5482 - accuracy: 0.7928\n",
            "1250/1250 [==============================] - 11s 9ms/step - loss: 0.9895 - accuracy: 0.6356\n",
            "625/625 [==============================] - 2s 3ms/step - loss: 0.5412 - accuracy: 0.7903\n",
            "1250/1250 [==============================] - 11s 9ms/step - loss: 0.9943 - accuracy: 0.6320\n",
            "625/625 [==============================] - 2s 3ms/step - loss: 0.5781 - accuracy: 0.7937\n",
            "1250/1250 [==============================] - 11s 9ms/step - loss: 1.0039 - accuracy: 0.6248\n",
            "625/625 [==============================] - 2s 3ms/step - loss: 0.5664 - accuracy: 0.7752\n"
          ]
        },
        {
          "output_type": "stream",
          "name": "stderr",
          "text": [
            "[Parallel(n_jobs=-2)]: Done 210 out of 210 | elapsed: 47.6min finished\n"
          ]
        },
        {
          "output_type": "stream",
          "name": "stdout",
          "text": [
            "1875/1875 [==============================] - 14s 7ms/step - loss: 0.4766 - accuracy: 0.8272\n"
          ]
        }
      ]
    },
    {
      "cell_type": "code",
      "metadata": {
        "id": "N6xErt5EpVGq",
        "colab": {
          "base_uri": "https://localhost:8080/"
        },
        "outputId": "af41d79a-9315-412d-a76d-7ef1067c28a4"
      },
      "source": [
        "print(\"Gridsearch runtime {0:.3} mins\".format( (end-start)/60 ))"
      ],
      "execution_count": 134,
      "outputs": [
        {
          "output_type": "stream",
          "name": "stdout",
          "text": [
            "Gridsearch runtime 47.8 mins\n"
          ]
        }
      ]
    },
    {
      "cell_type": "code",
      "metadata": {
        "id": "eh-GjpDvpVGr"
      },
      "source": [
        "# use the mean accuracy from the CV splits for determining best model score \n",
        "means = grid.cv_results_['mean_test_score']\n",
        "stds = grid.cv_results_['std_test_score']\n",
        "params = grid.cv_results_['params']\n",
        "\n",
        "# move l2 penalty values outside of dictionary and into a list\n",
        "param_values = [dic[\"dropout_prob\"] for dic in params]"
      ],
      "execution_count": 135,
      "outputs": []
    },
    {
      "cell_type": "markdown",
      "metadata": {
        "id": "dRf0Cpp4pVGr"
      },
      "source": [
        "Since there are two independdent variables this time around (dropout_prob and maxnorm_wc) that affect the validation accuracy, it's best to use a different plot. A heat map will work. "
      ]
    },
    {
      "cell_type": "code",
      "metadata": {
        "id": "xX5-DeKKpVGr"
      },
      "source": [
        "dropout_prob_list = [  dic[\"dropout_prob\"]  for dic in params]\n",
        "maxnorm_wc_list = [  dic[\"maxnorm_wc\"]  for dic in params]\n",
        "data = [means, dropout_prob_list, maxnorm_wc_list ]\n",
        "\n",
        "cols = [\"val_acc\", \"dropout_prob\", \"maxnorm_wc\"]\n",
        "df_exp3 =pd.DataFrame(data=data).T\n",
        "df_exp3.columns = cols\n",
        "df_exp3.dropout_prob = df_exp3.dropout_prob.round(2)\n",
        "\n",
        "# pivot dataframe in preparation for heat map\n",
        "df_exp3 = df_exp3.pivot(\"maxnorm_wc\", \"dropout_prob\", \"val_acc\")"
      ],
      "execution_count": 136,
      "outputs": []
    },
    {
      "cell_type": "code",
      "metadata": {
        "id": "6ea72fzvpVGr",
        "colab": {
          "base_uri": "https://localhost:8080/",
          "height": 498
        },
        "outputId": "8eb718cb-a173-408d-b433-2ce2d515539f"
      },
      "source": [
        "# Draw a heatmap with the val_acc values in each cell\n",
        "f, ax = plt.subplots(figsize=(18, 8))\n",
        "sns.heatmap(df_exp3, annot=True,  linewidths=.5, ax=ax);"
      ],
      "execution_count": 137,
      "outputs": [
        {
          "output_type": "display_data",
          "data": {
            "image/png": "[encoded data removed]",
            "text/plain": [
              "<Figure size 1296x576 with 2 Axes>"
            ]
          },
          "metadata": {
            "needs_background": "light"
          }
        }
      ]
    },
    {
      "cell_type": "markdown",
      "metadata": {
        "id": "B_E1Q529pVGr"
      },
      "source": [
        "### Observations \n",
        "\n",
        "We can see the dropout probabilities in the horizontal axis and the maxnorm weight constraint values in the vertical axis. The values in the cells are the validation accuracy that corresponds to a pair of regularization values.\n",
        "\n",
        "Take a look at the heat map and answer the following questions. Note that your answers might differ from others depending on which model you used (the simple or complex one). "
      ]
    },
    {
      "cell_type": "markdown",
      "metadata": {
        "id": "zf-NEuacpVGr"
      },
      "source": [
        "**What range of dropout probability values tend to produce the highest validation accuracy?**"
      ]
    },
    {
      "cell_type": "markdown",
      "metadata": {
        "deletable": false,
        "nbgrader": {
          "cell_type": "markdown",
          "checksum": "0f0013d4e07104a03b4d51664a308f53",
          "grade": true,
          "grade_id": "cell-4e0cb7a9240b1531",
          "locked": false,
          "points": 0,
          "schema_version": 3,
          "solution": true,
          "task": false
        },
        "id": "oSN1IABcpVGr"
      },
      "source": [
        "YOUR ANSWER HERE\n",
        "\n",
        "0.0 - 0.2"
      ]
    },
    {
      "cell_type": "markdown",
      "metadata": {
        "id": "35-eE2uspVGr"
      },
      "source": [
        "**What range of maxnorm weight constraints tend to produce the highest validation accuracy?**"
      ]
    },
    {
      "cell_type": "markdown",
      "metadata": {
        "deletable": false,
        "nbgrader": {
          "cell_type": "markdown",
          "checksum": "9fd88f0bb870a910b925d60b38d17694",
          "grade": true,
          "grade_id": "cell-99539755d7d328f7",
          "locked": false,
          "points": 0,
          "schema_version": 3,
          "solution": true,
          "task": false
        },
        "id": "E5SxnVunpVGr"
      },
      "source": [
        "YOUR ANSWER HERE\n",
        "\n",
        "2.0 - 4.5"
      ]
    },
    {
      "cell_type": "markdown",
      "metadata": {
        "id": "jdxUQWVBpVGr"
      },
      "source": [
        "**What pair of dropout probability and maxnorm weight constraints tend to produce the highest validation accuracy when taken together?**"
      ]
    },
    {
      "cell_type": "markdown",
      "metadata": {
        "deletable": false,
        "nbgrader": {
          "cell_type": "markdown",
          "checksum": "fee1e09ed8f6d354bd7b6e2986c2b811",
          "grade": true,
          "grade_id": "cell-5e19a56b4a2d975d",
          "locked": false,
          "points": 0,
          "schema_version": 3,
          "solution": true,
          "task": false
        },
        "id": "DA5d3AL-pVGr"
      },
      "source": [
        "YOUR ANSWER HERE\n",
        "\n",
        "(0.0, 4.0)"
      ]
    },
    {
      "cell_type": "markdown",
      "metadata": {
        "id": "7nVpSppEpVGs"
      },
      "source": [
        "**Do you think that using dropout helped increase model performance?**"
      ]
    },
    {
      "cell_type": "markdown",
      "metadata": {
        "deletable": false,
        "nbgrader": {
          "cell_type": "markdown",
          "checksum": "de9c1bcff3c5eb6266cc80632d0956f0",
          "grade": true,
          "grade_id": "cell-d2a2f7b284c801dc",
          "locked": false,
          "points": 0,
          "schema_version": 3,
          "solution": true,
          "task": false
        },
        "id": "5IUb_6dGpVGs"
      },
      "source": [
        "YOUR ANSWER HERE\n",
        "\n",
        "yes"
      ]
    },
    {
      "cell_type": "markdown",
      "metadata": {
        "id": "bKWWbpRJpVGs"
      },
      "source": [
        "-----\n",
        "# Stretch Goals for $L_p$ Space Section\n",
        "\n",
        "Here are some ideas that you can explore using the custom distance metric class that you have built. Though if you think of something else, go for it!\n",
        "\n",
        "- Run a similar experiment but instead of comparing L2 between Keras and our custom class, compare L1 (Lasso) \n",
        "- Run a similar experiment but instead of comparing L2 between Keras and our custom class, compare L1_L2 (Elastic Net) \n",
        "- Run a gridsearch across several different Lp distance metrics and strengths and see which Lp distance leads to the best performing model\n",
        "    - Consider selecting a p range between **[1, 1.5, 2, 2.5, 3, 3.5, 4, 4.5, 5, ..., 10]** step size of 0.5\n",
        "    - Consider selecting a p range between **[1, 10, 100, 1000, 10000]** step size in powers of 10"
      ]
    },
    {
      "cell_type": "code",
      "metadata": {
        "id": "UHpO9kwkpVGs"
      },
      "source": [
        ""
      ],
      "execution_count": null,
      "outputs": []
    },
    {
      "cell_type": "code",
      "metadata": {
        "id": "cXsECVaopVGs"
      },
      "source": [
        ""
      ],
      "execution_count": null,
      "outputs": []
    },
    {
      "cell_type": "markdown",
      "metadata": {
        "id": "FeMGvgTKpVGs"
      },
      "source": [
        "_____\n",
        "\n",
        "### Experiment 4: Train, Save, and Load a Keras Model\n",
        "\n",
        "Let's get some practice with how to save and load trained Keras models. \n",
        "\n",
        "For this experiment, review the section on saving and loading models from the guided project to help you to: \n",
        "\n",
        "- Build a model of your choosing\n",
        "- Gridsearch, the model with a method of your choosing\n",
        "- Save the trained model to file\n",
        "- Load the trained model from the file\n",
        "- Just as we did in the guided project, evaluate the loaded model using a test set and make sure the results of the loaded model match that of the saved model "
      ]
    },
    {
      "cell_type": "code",
      "metadata": {
        "id": "h-ZNRxrnpVGs"
      },
      "source": [
        ""
      ],
      "execution_count": null,
      "outputs": []
    },
    {
      "cell_type": "code",
      "metadata": {
        "id": "HhdS3gLQpVGs"
      },
      "source": [
        ""
      ],
      "execution_count": null,
      "outputs": []
    },
    {
      "cell_type": "code",
      "metadata": {
        "id": "9Ek-sHt3pVGs"
      },
      "source": [
        ""
      ],
      "execution_count": null,
      "outputs": []
    }
  ]
}