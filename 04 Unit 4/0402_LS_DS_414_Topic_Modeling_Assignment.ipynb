{
  "nbformat": 4,
  "nbformat_minor": 0,
  "metadata": {
    "kernelspec": {
      "display_name": "py37  (Python3)",
      "language": "python",
      "name": "py37"
    },
    "language_info": {
      "codemirror_mode": {
        "name": "ipython",
        "version": 3
      },
      "file_extension": ".py",
      "mimetype": "text/x-python",
      "name": "python",
      "nbconvert_exporter": "python",
      "pygments_lexer": "ipython3",
      "version": "3.7.0"
    },
    "colab": {
      "name": "0402 LS_DS_414_Topic_Modeling_Assignment.ipynb",
      "provenance": []
    },
    "widgets": {
      "application/vnd.jupyter.widget-state+json": {
        "5f3376066b1c4c3ba26e38757485af0f": {
          "model_module": "@jupyter-widgets/controls",
          "model_name": "VBoxModel",
          "model_module_version": "1.5.0",
          "state": {
            "_view_name": "VBoxView",
            "_dom_classes": [],
            "_model_name": "VBoxModel",
            "_view_module": "@jupyter-widgets/controls",
            "_model_module_version": "1.5.0",
            "_view_count": null,
            "_view_module_version": "1.5.0",
            "box_style": "",
            "layout": "IPY_MODEL_2c7939a8ae2f43e3bdabb0534eab9207",
            "_model_module": "@jupyter-widgets/controls",
            "children": [
              "IPY_MODEL_16c5bc9aafee40169c6a3a13c4ae2459",
              "IPY_MODEL_57da1fde61a84d38af06e66ce80bc6c0"
            ]
          }
        },
        "2c7939a8ae2f43e3bdabb0534eab9207": {
          "model_module": "@jupyter-widgets/base",
          "model_name": "LayoutModel",
          "model_module_version": "1.2.0",
          "state": {
            "_view_name": "LayoutView",
            "grid_template_rows": null,
            "right": null,
            "justify_content": null,
            "_view_module": "@jupyter-widgets/base",
            "overflow": null,
            "_model_module_version": "1.2.0",
            "_view_count": null,
            "flex_flow": null,
            "width": null,
            "min_width": null,
            "border": null,
            "align_items": null,
            "bottom": null,
            "_model_module": "@jupyter-widgets/base",
            "top": null,
            "grid_column": null,
            "overflow_y": null,
            "overflow_x": null,
            "grid_auto_flow": null,
            "grid_area": null,
            "grid_template_columns": null,
            "flex": null,
            "_model_name": "LayoutModel",
            "justify_items": null,
            "grid_row": null,
            "max_height": null,
            "align_content": null,
            "visibility": null,
            "align_self": null,
            "height": null,
            "min_height": null,
            "padding": null,
            "grid_auto_rows": null,
            "grid_gap": null,
            "max_width": null,
            "order": null,
            "_view_module_version": "1.2.0",
            "grid_template_areas": null,
            "object_position": null,
            "object_fit": null,
            "grid_auto_columns": null,
            "margin": null,
            "display": null,
            "left": null
          }
        },
        "16c5bc9aafee40169c6a3a13c4ae2459": {
          "model_module": "@jupyter-widgets/controls",
          "model_name": "HBoxModel",
          "model_module_version": "1.5.0",
          "state": {
            "_view_name": "HBoxView",
            "_dom_classes": [],
            "_model_name": "HBoxModel",
            "_view_module": "@jupyter-widgets/controls",
            "_model_module_version": "1.5.0",
            "_view_count": null,
            "_view_module_version": "1.5.0",
            "box_style": "",
            "layout": "IPY_MODEL_f793171149274a55b9fd3661f95814b8",
            "_model_module": "@jupyter-widgets/controls",
            "children": [
              "IPY_MODEL_dfa9a32f9e464edfbae5ffcc20597b0c",
              "IPY_MODEL_13dd6fa18f9b4ed49038541cd8e1ddad"
            ]
          }
        },
        "57da1fde61a84d38af06e66ce80bc6c0": {
          "model_module": "@jupyter-widgets/controls",
          "model_name": "HBoxModel",
          "model_module_version": "1.5.0",
          "state": {
            "_view_name": "HBoxView",
            "_dom_classes": [],
            "_model_name": "HBoxModel",
            "_view_module": "@jupyter-widgets/controls",
            "_model_module_version": "1.5.0",
            "_view_count": null,
            "_view_module_version": "1.5.0",
            "box_style": "",
            "layout": "IPY_MODEL_59c90d6307e9425481744e8da2ef19f0",
            "_model_module": "@jupyter-widgets/controls",
            "children": [
              "IPY_MODEL_b476c4012637415fbf586c8c5790940d",
              "IPY_MODEL_e4ac8dcc242747d0820f9f6c24b62de9"
            ]
          }
        },
        "f793171149274a55b9fd3661f95814b8": {
          "model_module": "@jupyter-widgets/base",
          "model_name": "LayoutModel",
          "model_module_version": "1.2.0",
          "state": {
            "_view_name": "LayoutView",
            "grid_template_rows": null,
            "right": null,
            "justify_content": null,
            "_view_module": "@jupyter-widgets/base",
            "overflow": null,
            "_model_module_version": "1.2.0",
            "_view_count": null,
            "flex_flow": null,
            "width": null,
            "min_width": null,
            "border": null,
            "align_items": null,
            "bottom": null,
            "_model_module": "@jupyter-widgets/base",
            "top": null,
            "grid_column": null,
            "overflow_y": null,
            "overflow_x": null,
            "grid_auto_flow": null,
            "grid_area": null,
            "grid_template_columns": null,
            "flex": null,
            "_model_name": "LayoutModel",
            "justify_items": null,
            "grid_row": null,
            "max_height": null,
            "align_content": null,
            "visibility": null,
            "align_self": null,
            "height": null,
            "min_height": null,
            "padding": null,
            "grid_auto_rows": null,
            "grid_gap": null,
            "max_width": null,
            "order": null,
            "_view_module_version": "1.2.0",
            "grid_template_areas": null,
            "object_position": null,
            "object_fit": null,
            "grid_auto_columns": null,
            "margin": null,
            "display": null,
            "left": null
          }
        },
        "dfa9a32f9e464edfbae5ffcc20597b0c": {
          "model_module": "@jupyter-widgets/controls",
          "model_name": "IntProgressModel",
          "model_module_version": "1.5.0",
          "state": {
            "_view_name": "ProgressView",
            "style": "IPY_MODEL_d197a20aafc64f5dbac6ca4187376127",
            "_dom_classes": [],
            "description": "100.00%",
            "_model_name": "IntProgressModel",
            "bar_style": "success",
            "max": 6998,
            "_view_module": "@jupyter-widgets/controls",
            "_model_module_version": "1.5.0",
            "value": 6998,
            "_view_count": null,
            "_view_module_version": "1.5.0",
            "orientation": "horizontal",
            "min": 0,
            "description_tooltip": null,
            "_model_module": "@jupyter-widgets/controls",
            "layout": "IPY_MODEL_3394c11346fd436fba86e788cf6bbd7b"
          }
        },
        "13dd6fa18f9b4ed49038541cd8e1ddad": {
          "model_module": "@jupyter-widgets/controls",
          "model_name": "LabelModel",
          "model_module_version": "1.5.0",
          "state": {
            "_view_name": "LabelView",
            "style": "IPY_MODEL_3d24f7f476524c1589519e760fd06dc3",
            "_dom_classes": [],
            "description": "",
            "_model_name": "LabelModel",
            "placeholder": "​",
            "_view_module": "@jupyter-widgets/controls",
            "_model_module_version": "1.5.0",
            "value": "6998 / 6998",
            "_view_count": null,
            "_view_module_version": "1.5.0",
            "description_tooltip": null,
            "_model_module": "@jupyter-widgets/controls",
            "layout": "IPY_MODEL_fd35e555e52b4b4ca3f6b60b1a954493"
          }
        },
        "59c90d6307e9425481744e8da2ef19f0": {
          "model_module": "@jupyter-widgets/base",
          "model_name": "LayoutModel",
          "model_module_version": "1.2.0",
          "state": {
            "_view_name": "LayoutView",
            "grid_template_rows": null,
            "right": null,
            "justify_content": null,
            "_view_module": "@jupyter-widgets/base",
            "overflow": null,
            "_model_module_version": "1.2.0",
            "_view_count": null,
            "flex_flow": null,
            "width": null,
            "min_width": null,
            "border": null,
            "align_items": null,
            "bottom": null,
            "_model_module": "@jupyter-widgets/base",
            "top": null,
            "grid_column": null,
            "overflow_y": null,
            "overflow_x": null,
            "grid_auto_flow": null,
            "grid_area": null,
            "grid_template_columns": null,
            "flex": null,
            "_model_name": "LayoutModel",
            "justify_items": null,
            "grid_row": null,
            "max_height": null,
            "align_content": null,
            "visibility": null,
            "align_self": null,
            "height": null,
            "min_height": null,
            "padding": null,
            "grid_auto_rows": null,
            "grid_gap": null,
            "max_width": null,
            "order": null,
            "_view_module_version": "1.2.0",
            "grid_template_areas": null,
            "object_position": null,
            "object_fit": null,
            "grid_auto_columns": null,
            "margin": null,
            "display": null,
            "left": null
          }
        },
        "b476c4012637415fbf586c8c5790940d": {
          "model_module": "@jupyter-widgets/controls",
          "model_name": "IntProgressModel",
          "model_module_version": "1.5.0",
          "state": {
            "_view_name": "ProgressView",
            "style": "IPY_MODEL_6d40cb53786649b8ae9ea01a41e45ab1",
            "_dom_classes": [],
            "description": "100.00%",
            "_model_name": "IntProgressModel",
            "bar_style": "success",
            "max": 6997,
            "_view_module": "@jupyter-widgets/controls",
            "_model_module_version": "1.5.0",
            "value": 6997,
            "_view_count": null,
            "_view_module_version": "1.5.0",
            "orientation": "horizontal",
            "min": 0,
            "description_tooltip": null,
            "_model_module": "@jupyter-widgets/controls",
            "layout": "IPY_MODEL_4f1aa9cefe9d4158b96bc31a395d69e8"
          }
        },
        "e4ac8dcc242747d0820f9f6c24b62de9": {
          "model_module": "@jupyter-widgets/controls",
          "model_name": "LabelModel",
          "model_module_version": "1.5.0",
          "state": {
            "_view_name": "LabelView",
            "style": "IPY_MODEL_a35b7ca90caa457a9f2de13a3999ea79",
            "_dom_classes": [],
            "description": "",
            "_model_name": "LabelModel",
            "placeholder": "​",
            "_view_module": "@jupyter-widgets/controls",
            "_model_module_version": "1.5.0",
            "value": "6997 / 6997",
            "_view_count": null,
            "_view_module_version": "1.5.0",
            "description_tooltip": null,
            "_model_module": "@jupyter-widgets/controls",
            "layout": "IPY_MODEL_a449d6c73e3a42c8878ce88ef9e43e2a"
          }
        },
        "d197a20aafc64f5dbac6ca4187376127": {
          "model_module": "@jupyter-widgets/controls",
          "model_name": "ProgressStyleModel",
          "model_module_version": "1.5.0",
          "state": {
            "_view_name": "StyleView",
            "_model_name": "ProgressStyleModel",
            "description_width": "",
            "_view_module": "@jupyter-widgets/base",
            "_model_module_version": "1.5.0",
            "_view_count": null,
            "_view_module_version": "1.2.0",
            "bar_color": null,
            "_model_module": "@jupyter-widgets/controls"
          }
        },
        "3394c11346fd436fba86e788cf6bbd7b": {
          "model_module": "@jupyter-widgets/base",
          "model_name": "LayoutModel",
          "model_module_version": "1.2.0",
          "state": {
            "_view_name": "LayoutView",
            "grid_template_rows": null,
            "right": null,
            "justify_content": null,
            "_view_module": "@jupyter-widgets/base",
            "overflow": null,
            "_model_module_version": "1.2.0",
            "_view_count": null,
            "flex_flow": null,
            "width": null,
            "min_width": null,
            "border": null,
            "align_items": null,
            "bottom": null,
            "_model_module": "@jupyter-widgets/base",
            "top": null,
            "grid_column": null,
            "overflow_y": null,
            "overflow_x": null,
            "grid_auto_flow": null,
            "grid_area": null,
            "grid_template_columns": null,
            "flex": null,
            "_model_name": "LayoutModel",
            "justify_items": null,
            "grid_row": null,
            "max_height": null,
            "align_content": null,
            "visibility": null,
            "align_self": null,
            "height": null,
            "min_height": null,
            "padding": null,
            "grid_auto_rows": null,
            "grid_gap": null,
            "max_width": null,
            "order": null,
            "_view_module_version": "1.2.0",
            "grid_template_areas": null,
            "object_position": null,
            "object_fit": null,
            "grid_auto_columns": null,
            "margin": null,
            "display": null,
            "left": null
          }
        },
        "3d24f7f476524c1589519e760fd06dc3": {
          "model_module": "@jupyter-widgets/controls",
          "model_name": "DescriptionStyleModel",
          "model_module_version": "1.5.0",
          "state": {
            "_view_name": "StyleView",
            "_model_name": "DescriptionStyleModel",
            "description_width": "",
            "_view_module": "@jupyter-widgets/base",
            "_model_module_version": "1.5.0",
            "_view_count": null,
            "_view_module_version": "1.2.0",
            "_model_module": "@jupyter-widgets/controls"
          }
        },
        "fd35e555e52b4b4ca3f6b60b1a954493": {
          "model_module": "@jupyter-widgets/base",
          "model_name": "LayoutModel",
          "model_module_version": "1.2.0",
          "state": {
            "_view_name": "LayoutView",
            "grid_template_rows": null,
            "right": null,
            "justify_content": null,
            "_view_module": "@jupyter-widgets/base",
            "overflow": null,
            "_model_module_version": "1.2.0",
            "_view_count": null,
            "flex_flow": null,
            "width": null,
            "min_width": null,
            "border": null,
            "align_items": null,
            "bottom": null,
            "_model_module": "@jupyter-widgets/base",
            "top": null,
            "grid_column": null,
            "overflow_y": null,
            "overflow_x": null,
            "grid_auto_flow": null,
            "grid_area": null,
            "grid_template_columns": null,
            "flex": null,
            "_model_name": "LayoutModel",
            "justify_items": null,
            "grid_row": null,
            "max_height": null,
            "align_content": null,
            "visibility": null,
            "align_self": null,
            "height": null,
            "min_height": null,
            "padding": null,
            "grid_auto_rows": null,
            "grid_gap": null,
            "max_width": null,
            "order": null,
            "_view_module_version": "1.2.0",
            "grid_template_areas": null,
            "object_position": null,
            "object_fit": null,
            "grid_auto_columns": null,
            "margin": null,
            "display": null,
            "left": null
          }
        },
        "6d40cb53786649b8ae9ea01a41e45ab1": {
          "model_module": "@jupyter-widgets/controls",
          "model_name": "ProgressStyleModel",
          "model_module_version": "1.5.0",
          "state": {
            "_view_name": "StyleView",
            "_model_name": "ProgressStyleModel",
            "description_width": "",
            "_view_module": "@jupyter-widgets/base",
            "_model_module_version": "1.5.0",
            "_view_count": null,
            "_view_module_version": "1.2.0",
            "bar_color": null,
            "_model_module": "@jupyter-widgets/controls"
          }
        },
        "4f1aa9cefe9d4158b96bc31a395d69e8": {
          "model_module": "@jupyter-widgets/base",
          "model_name": "LayoutModel",
          "model_module_version": "1.2.0",
          "state": {
            "_view_name": "LayoutView",
            "grid_template_rows": null,
            "right": null,
            "justify_content": null,
            "_view_module": "@jupyter-widgets/base",
            "overflow": null,
            "_model_module_version": "1.2.0",
            "_view_count": null,
            "flex_flow": null,
            "width": null,
            "min_width": null,
            "border": null,
            "align_items": null,
            "bottom": null,
            "_model_module": "@jupyter-widgets/base",
            "top": null,
            "grid_column": null,
            "overflow_y": null,
            "overflow_x": null,
            "grid_auto_flow": null,
            "grid_area": null,
            "grid_template_columns": null,
            "flex": null,
            "_model_name": "LayoutModel",
            "justify_items": null,
            "grid_row": null,
            "max_height": null,
            "align_content": null,
            "visibility": null,
            "align_self": null,
            "height": null,
            "min_height": null,
            "padding": null,
            "grid_auto_rows": null,
            "grid_gap": null,
            "max_width": null,
            "order": null,
            "_view_module_version": "1.2.0",
            "grid_template_areas": null,
            "object_position": null,
            "object_fit": null,
            "grid_auto_columns": null,
            "margin": null,
            "display": null,
            "left": null
          }
        },
        "a35b7ca90caa457a9f2de13a3999ea79": {
          "model_module": "@jupyter-widgets/controls",
          "model_name": "DescriptionStyleModel",
          "model_module_version": "1.5.0",
          "state": {
            "_view_name": "StyleView",
            "_model_name": "DescriptionStyleModel",
            "description_width": "",
            "_view_module": "@jupyter-widgets/base",
            "_model_module_version": "1.5.0",
            "_view_count": null,
            "_view_module_version": "1.2.0",
            "_model_module": "@jupyter-widgets/controls"
          }
        },
        "a449d6c73e3a42c8878ce88ef9e43e2a": {
          "model_module": "@jupyter-widgets/base",
          "model_name": "LayoutModel",
          "model_module_version": "1.2.0",
          "state": {
            "_view_name": "LayoutView",
            "grid_template_rows": null,
            "right": null,
            "justify_content": null,
            "_view_module": "@jupyter-widgets/base",
            "overflow": null,
            "_model_module_version": "1.2.0",
            "_view_count": null,
            "flex_flow": null,
            "width": null,
            "min_width": null,
            "border": null,
            "align_items": null,
            "bottom": null,
            "_model_module": "@jupyter-widgets/base",
            "top": null,
            "grid_column": null,
            "overflow_y": null,
            "overflow_x": null,
            "grid_auto_flow": null,
            "grid_area": null,
            "grid_template_columns": null,
            "flex": null,
            "_model_name": "LayoutModel",
            "justify_items": null,
            "grid_row": null,
            "max_height": null,
            "align_content": null,
            "visibility": null,
            "align_self": null,
            "height": null,
            "min_height": null,
            "padding": null,
            "grid_auto_rows": null,
            "grid_gap": null,
            "max_width": null,
            "order": null,
            "_view_module_version": "1.2.0",
            "grid_template_areas": null,
            "object_position": null,
            "object_fit": null,
            "grid_auto_columns": null,
            "margin": null,
            "display": null,
            "left": null
          }
        },
        "b8e8317be7b44cef8c69d9d2a80d5583": {
          "model_module": "@jupyter-widgets/controls",
          "model_name": "VBoxModel",
          "model_module_version": "1.5.0",
          "state": {
            "_view_name": "VBoxView",
            "_dom_classes": [],
            "_model_name": "VBoxModel",
            "_view_module": "@jupyter-widgets/controls",
            "_model_module_version": "1.5.0",
            "_view_count": null,
            "_view_module_version": "1.5.0",
            "box_style": "",
            "layout": "IPY_MODEL_89585cc7480a48d487b438d48989163f",
            "_model_module": "@jupyter-widgets/controls",
            "children": [
              "IPY_MODEL_e8f30dafee9249799b4120a2ec839fee",
              "IPY_MODEL_6f9632175edf405ea9e1ff161bf47f49"
            ]
          }
        },
        "89585cc7480a48d487b438d48989163f": {
          "model_module": "@jupyter-widgets/base",
          "model_name": "LayoutModel",
          "model_module_version": "1.2.0",
          "state": {
            "_view_name": "LayoutView",
            "grid_template_rows": null,
            "right": null,
            "justify_content": null,
            "_view_module": "@jupyter-widgets/base",
            "overflow": null,
            "_model_module_version": "1.2.0",
            "_view_count": null,
            "flex_flow": null,
            "width": null,
            "min_width": null,
            "border": null,
            "align_items": null,
            "bottom": null,
            "_model_module": "@jupyter-widgets/base",
            "top": null,
            "grid_column": null,
            "overflow_y": null,
            "overflow_x": null,
            "grid_auto_flow": null,
            "grid_area": null,
            "grid_template_columns": null,
            "flex": null,
            "_model_name": "LayoutModel",
            "justify_items": null,
            "grid_row": null,
            "max_height": null,
            "align_content": null,
            "visibility": null,
            "align_self": null,
            "height": null,
            "min_height": null,
            "padding": null,
            "grid_auto_rows": null,
            "grid_gap": null,
            "max_width": null,
            "order": null,
            "_view_module_version": "1.2.0",
            "grid_template_areas": null,
            "object_position": null,
            "object_fit": null,
            "grid_auto_columns": null,
            "margin": null,
            "display": null,
            "left": null
          }
        },
        "e8f30dafee9249799b4120a2ec839fee": {
          "model_module": "@jupyter-widgets/controls",
          "model_name": "HBoxModel",
          "model_module_version": "1.5.0",
          "state": {
            "_view_name": "HBoxView",
            "_dom_classes": [],
            "_model_name": "HBoxModel",
            "_view_module": "@jupyter-widgets/controls",
            "_model_module_version": "1.5.0",
            "_view_count": null,
            "_view_module_version": "1.5.0",
            "box_style": "",
            "layout": "IPY_MODEL_ead73b4b207b4f0daa01abde474c1296",
            "_model_module": "@jupyter-widgets/controls",
            "children": [
              "IPY_MODEL_ba1b0da83433428fb0af6fe09d809089",
              "IPY_MODEL_e2f126712b534a8084b1f74e68829aea"
            ]
          }
        },
        "6f9632175edf405ea9e1ff161bf47f49": {
          "model_module": "@jupyter-widgets/controls",
          "model_name": "HBoxModel",
          "model_module_version": "1.5.0",
          "state": {
            "_view_name": "HBoxView",
            "_dom_classes": [],
            "_model_name": "HBoxModel",
            "_view_module": "@jupyter-widgets/controls",
            "_model_module_version": "1.5.0",
            "_view_count": null,
            "_view_module_version": "1.5.0",
            "box_style": "",
            "layout": "IPY_MODEL_91a0d8bab368469792a4a2b3c102a46c",
            "_model_module": "@jupyter-widgets/controls",
            "children": [
              "IPY_MODEL_24749bd664cf4525817e74f8172ef4db",
              "IPY_MODEL_2fda9e50f1f1470bae60ee73fed9c9d2"
            ]
          }
        },
        "ead73b4b207b4f0daa01abde474c1296": {
          "model_module": "@jupyter-widgets/base",
          "model_name": "LayoutModel",
          "model_module_version": "1.2.0",
          "state": {
            "_view_name": "LayoutView",
            "grid_template_rows": null,
            "right": null,
            "justify_content": null,
            "_view_module": "@jupyter-widgets/base",
            "overflow": null,
            "_model_module_version": "1.2.0",
            "_view_count": null,
            "flex_flow": null,
            "width": null,
            "min_width": null,
            "border": null,
            "align_items": null,
            "bottom": null,
            "_model_module": "@jupyter-widgets/base",
            "top": null,
            "grid_column": null,
            "overflow_y": null,
            "overflow_x": null,
            "grid_auto_flow": null,
            "grid_area": null,
            "grid_template_columns": null,
            "flex": null,
            "_model_name": "LayoutModel",
            "justify_items": null,
            "grid_row": null,
            "max_height": null,
            "align_content": null,
            "visibility": null,
            "align_self": null,
            "height": null,
            "min_height": null,
            "padding": null,
            "grid_auto_rows": null,
            "grid_gap": null,
            "max_width": null,
            "order": null,
            "_view_module_version": "1.2.0",
            "grid_template_areas": null,
            "object_position": null,
            "object_fit": null,
            "grid_auto_columns": null,
            "margin": null,
            "display": null,
            "left": null
          }
        },
        "ba1b0da83433428fb0af6fe09d809089": {
          "model_module": "@jupyter-widgets/controls",
          "model_name": "IntProgressModel",
          "model_module_version": "1.5.0",
          "state": {
            "_view_name": "ProgressView",
            "style": "IPY_MODEL_64319236c8bf49aead0bca9ece3f3add",
            "_dom_classes": [],
            "description": "100.00%",
            "_model_name": "IntProgressModel",
            "bar_style": "success",
            "max": 6998,
            "_view_module": "@jupyter-widgets/controls",
            "_model_module_version": "1.5.0",
            "value": 6998,
            "_view_count": null,
            "_view_module_version": "1.5.0",
            "orientation": "horizontal",
            "min": 0,
            "description_tooltip": null,
            "_model_module": "@jupyter-widgets/controls",
            "layout": "IPY_MODEL_57b2b9179cdd44fdbe9620baf5938c08"
          }
        },
        "e2f126712b534a8084b1f74e68829aea": {
          "model_module": "@jupyter-widgets/controls",
          "model_name": "LabelModel",
          "model_module_version": "1.5.0",
          "state": {
            "_view_name": "LabelView",
            "style": "IPY_MODEL_680601536ea847e3978e6a1e7f98ac71",
            "_dom_classes": [],
            "description": "",
            "_model_name": "LabelModel",
            "placeholder": "​",
            "_view_module": "@jupyter-widgets/controls",
            "_model_module_version": "1.5.0",
            "value": "6998 / 6998",
            "_view_count": null,
            "_view_module_version": "1.5.0",
            "description_tooltip": null,
            "_model_module": "@jupyter-widgets/controls",
            "layout": "IPY_MODEL_446b9a825ea048eab589bb7f0f41e389"
          }
        },
        "91a0d8bab368469792a4a2b3c102a46c": {
          "model_module": "@jupyter-widgets/base",
          "model_name": "LayoutModel",
          "model_module_version": "1.2.0",
          "state": {
            "_view_name": "LayoutView",
            "grid_template_rows": null,
            "right": null,
            "justify_content": null,
            "_view_module": "@jupyter-widgets/base",
            "overflow": null,
            "_model_module_version": "1.2.0",
            "_view_count": null,
            "flex_flow": null,
            "width": null,
            "min_width": null,
            "border": null,
            "align_items": null,
            "bottom": null,
            "_model_module": "@jupyter-widgets/base",
            "top": null,
            "grid_column": null,
            "overflow_y": null,
            "overflow_x": null,
            "grid_auto_flow": null,
            "grid_area": null,
            "grid_template_columns": null,
            "flex": null,
            "_model_name": "LayoutModel",
            "justify_items": null,
            "grid_row": null,
            "max_height": null,
            "align_content": null,
            "visibility": null,
            "align_self": null,
            "height": null,
            "min_height": null,
            "padding": null,
            "grid_auto_rows": null,
            "grid_gap": null,
            "max_width": null,
            "order": null,
            "_view_module_version": "1.2.0",
            "grid_template_areas": null,
            "object_position": null,
            "object_fit": null,
            "grid_auto_columns": null,
            "margin": null,
            "display": null,
            "left": null
          }
        },
        "24749bd664cf4525817e74f8172ef4db": {
          "model_module": "@jupyter-widgets/controls",
          "model_name": "IntProgressModel",
          "model_module_version": "1.5.0",
          "state": {
            "_view_name": "ProgressView",
            "style": "IPY_MODEL_2f7a389f732a4a928026110af8850856",
            "_dom_classes": [],
            "description": "100.00%",
            "_model_name": "IntProgressModel",
            "bar_style": "success",
            "max": 6997,
            "_view_module": "@jupyter-widgets/controls",
            "_model_module_version": "1.5.0",
            "value": 6997,
            "_view_count": null,
            "_view_module_version": "1.5.0",
            "orientation": "horizontal",
            "min": 0,
            "description_tooltip": null,
            "_model_module": "@jupyter-widgets/controls",
            "layout": "IPY_MODEL_876bb797dd2b483e9a0ed81baebdd570"
          }
        },
        "2fda9e50f1f1470bae60ee73fed9c9d2": {
          "model_module": "@jupyter-widgets/controls",
          "model_name": "LabelModel",
          "model_module_version": "1.5.0",
          "state": {
            "_view_name": "LabelView",
            "style": "IPY_MODEL_13e393d0242f419fa16e691bd7715a7a",
            "_dom_classes": [],
            "description": "",
            "_model_name": "LabelModel",
            "placeholder": "​",
            "_view_module": "@jupyter-widgets/controls",
            "_model_module_version": "1.5.0",
            "value": "6997 / 6997",
            "_view_count": null,
            "_view_module_version": "1.5.0",
            "description_tooltip": null,
            "_model_module": "@jupyter-widgets/controls",
            "layout": "IPY_MODEL_0465669286ab400789be9e06c23709c1"
          }
        },
        "64319236c8bf49aead0bca9ece3f3add": {
          "model_module": "@jupyter-widgets/controls",
          "model_name": "ProgressStyleModel",
          "model_module_version": "1.5.0",
          "state": {
            "_view_name": "StyleView",
            "_model_name": "ProgressStyleModel",
            "description_width": "",
            "_view_module": "@jupyter-widgets/base",
            "_model_module_version": "1.5.0",
            "_view_count": null,
            "_view_module_version": "1.2.0",
            "bar_color": null,
            "_model_module": "@jupyter-widgets/controls"
          }
        },
        "57b2b9179cdd44fdbe9620baf5938c08": {
          "model_module": "@jupyter-widgets/base",
          "model_name": "LayoutModel",
          "model_module_version": "1.2.0",
          "state": {
            "_view_name": "LayoutView",
            "grid_template_rows": null,
            "right": null,
            "justify_content": null,
            "_view_module": "@jupyter-widgets/base",
            "overflow": null,
            "_model_module_version": "1.2.0",
            "_view_count": null,
            "flex_flow": null,
            "width": null,
            "min_width": null,
            "border": null,
            "align_items": null,
            "bottom": null,
            "_model_module": "@jupyter-widgets/base",
            "top": null,
            "grid_column": null,
            "overflow_y": null,
            "overflow_x": null,
            "grid_auto_flow": null,
            "grid_area": null,
            "grid_template_columns": null,
            "flex": null,
            "_model_name": "LayoutModel",
            "justify_items": null,
            "grid_row": null,
            "max_height": null,
            "align_content": null,
            "visibility": null,
            "align_self": null,
            "height": null,
            "min_height": null,
            "padding": null,
            "grid_auto_rows": null,
            "grid_gap": null,
            "max_width": null,
            "order": null,
            "_view_module_version": "1.2.0",
            "grid_template_areas": null,
            "object_position": null,
            "object_fit": null,
            "grid_auto_columns": null,
            "margin": null,
            "display": null,
            "left": null
          }
        },
        "680601536ea847e3978e6a1e7f98ac71": {
          "model_module": "@jupyter-widgets/controls",
          "model_name": "DescriptionStyleModel",
          "model_module_version": "1.5.0",
          "state": {
            "_view_name": "StyleView",
            "_model_name": "DescriptionStyleModel",
            "description_width": "",
            "_view_module": "@jupyter-widgets/base",
            "_model_module_version": "1.5.0",
            "_view_count": null,
            "_view_module_version": "1.2.0",
            "_model_module": "@jupyter-widgets/controls"
          }
        },
        "446b9a825ea048eab589bb7f0f41e389": {
          "model_module": "@jupyter-widgets/base",
          "model_name": "LayoutModel",
          "model_module_version": "1.2.0",
          "state": {
            "_view_name": "LayoutView",
            "grid_template_rows": null,
            "right": null,
            "justify_content": null,
            "_view_module": "@jupyter-widgets/base",
            "overflow": null,
            "_model_module_version": "1.2.0",
            "_view_count": null,
            "flex_flow": null,
            "width": null,
            "min_width": null,
            "border": null,
            "align_items": null,
            "bottom": null,
            "_model_module": "@jupyter-widgets/base",
            "top": null,
            "grid_column": null,
            "overflow_y": null,
            "overflow_x": null,
            "grid_auto_flow": null,
            "grid_area": null,
            "grid_template_columns": null,
            "flex": null,
            "_model_name": "LayoutModel",
            "justify_items": null,
            "grid_row": null,
            "max_height": null,
            "align_content": null,
            "visibility": null,
            "align_self": null,
            "height": null,
            "min_height": null,
            "padding": null,
            "grid_auto_rows": null,
            "grid_gap": null,
            "max_width": null,
            "order": null,
            "_view_module_version": "1.2.0",
            "grid_template_areas": null,
            "object_position": null,
            "object_fit": null,
            "grid_auto_columns": null,
            "margin": null,
            "display": null,
            "left": null
          }
        },
        "2f7a389f732a4a928026110af8850856": {
          "model_module": "@jupyter-widgets/controls",
          "model_name": "ProgressStyleModel",
          "model_module_version": "1.5.0",
          "state": {
            "_view_name": "StyleView",
            "_model_name": "ProgressStyleModel",
            "description_width": "",
            "_view_module": "@jupyter-widgets/base",
            "_model_module_version": "1.5.0",
            "_view_count": null,
            "_view_module_version": "1.2.0",
            "bar_color": null,
            "_model_module": "@jupyter-widgets/controls"
          }
        },
        "876bb797dd2b483e9a0ed81baebdd570": {
          "model_module": "@jupyter-widgets/base",
          "model_name": "LayoutModel",
          "model_module_version": "1.2.0",
          "state": {
            "_view_name": "LayoutView",
            "grid_template_rows": null,
            "right": null,
            "justify_content": null,
            "_view_module": "@jupyter-widgets/base",
            "overflow": null,
            "_model_module_version": "1.2.0",
            "_view_count": null,
            "flex_flow": null,
            "width": null,
            "min_width": null,
            "border": null,
            "align_items": null,
            "bottom": null,
            "_model_module": "@jupyter-widgets/base",
            "top": null,
            "grid_column": null,
            "overflow_y": null,
            "overflow_x": null,
            "grid_auto_flow": null,
            "grid_area": null,
            "grid_template_columns": null,
            "flex": null,
            "_model_name": "LayoutModel",
            "justify_items": null,
            "grid_row": null,
            "max_height": null,
            "align_content": null,
            "visibility": null,
            "align_self": null,
            "height": null,
            "min_height": null,
            "padding": null,
            "grid_auto_rows": null,
            "grid_gap": null,
            "max_width": null,
            "order": null,
            "_view_module_version": "1.2.0",
            "grid_template_areas": null,
            "object_position": null,
            "object_fit": null,
            "grid_auto_columns": null,
            "margin": null,
            "display": null,
            "left": null
          }
        },
        "13e393d0242f419fa16e691bd7715a7a": {
          "model_module": "@jupyter-widgets/controls",
          "model_name": "DescriptionStyleModel",
          "model_module_version": "1.5.0",
          "state": {
            "_view_name": "StyleView",
            "_model_name": "DescriptionStyleModel",
            "description_width": "",
            "_view_module": "@jupyter-widgets/base",
            "_model_module_version": "1.5.0",
            "_view_count": null,
            "_view_module_version": "1.2.0",
            "_model_module": "@jupyter-widgets/controls"
          }
        },
        "0465669286ab400789be9e06c23709c1": {
          "model_module": "@jupyter-widgets/base",
          "model_name": "LayoutModel",
          "model_module_version": "1.2.0",
          "state": {
            "_view_name": "LayoutView",
            "grid_template_rows": null,
            "right": null,
            "justify_content": null,
            "_view_module": "@jupyter-widgets/base",
            "overflow": null,
            "_model_module_version": "1.2.0",
            "_view_count": null,
            "flex_flow": null,
            "width": null,
            "min_width": null,
            "border": null,
            "align_items": null,
            "bottom": null,
            "_model_module": "@jupyter-widgets/base",
            "top": null,
            "grid_column": null,
            "overflow_y": null,
            "overflow_x": null,
            "grid_auto_flow": null,
            "grid_area": null,
            "grid_template_columns": null,
            "flex": null,
            "_model_name": "LayoutModel",
            "justify_items": null,
            "grid_row": null,
            "max_height": null,
            "align_content": null,
            "visibility": null,
            "align_self": null,
            "height": null,
            "min_height": null,
            "padding": null,
            "grid_auto_rows": null,
            "grid_gap": null,
            "max_width": null,
            "order": null,
            "_view_module_version": "1.2.0",
            "grid_template_areas": null,
            "object_position": null,
            "object_fit": null,
            "grid_auto_columns": null,
            "margin": null,
            "display": null,
            "left": null
          }
        }
      }
    }
  },
  "cells": [
    {
      "cell_type": "markdown",
      "metadata": {
        "id": "uh6VNEZ3gjIf"
      },
      "source": [
        "<img align=\"left\" src=\"https://lever-client-logos.s3.amazonaws.com/864372b1-534c-480e-acd5-9711f850815c-1524247202159.png\" width=200>\n",
        "<br></br>\n",
        "<br></br>\n",
        "\n",
        "# Topic Modeling\n",
        "## *Data Science Unit 4 Sprint 1 Assignment 4*\n",
        "\n",
        "**Analyze a corpus of Amazon reviews from Unit 4 Sprint 1 Module 1 using topic modeling:** \n",
        "\n",
        "- Load in the Amazon Review dataset\n",
        "- Clean the dataset \n",
        "- Vectorize the dataset \n",
        "- Fit a Gensim LDA topic model on Amazon Reviews\n",
        "- Select the appropriate number of topics\n",
        "- Create some dope visualization of the topics\n",
        "- Write a few bullets on your findings in markdown at the end\n",
        "- **Note**: You don't *have* to use generators for this assignment"
      ]
    },
    {
      "cell_type": "code",
      "metadata": {
        "colab": {
          "base_uri": "https://localhost:8080/"
        },
        "id": "BkpzY4am939A",
        "outputId": "dfdea253-d47a-45e5-a3b5-ae05950a75ab"
      },
      "source": [
        "!python -m spacy download en_core_web_md"
      ],
      "execution_count": 1,
      "outputs": [
        {
          "output_type": "stream",
          "name": "stdout",
          "text": [
            "Collecting en_core_web_md==2.2.5\n",
            "  Downloading https://github.com/explosion/spacy-models/releases/download/en_core_web_md-2.2.5/en_core_web_md-2.2.5.tar.gz (96.4 MB)\n",
            "\u001b[K     |████████████████████████████████| 96.4 MB 1.1 MB/s \n",
            "\u001b[?25hRequirement already satisfied: spacy>=2.2.2 in /usr/local/lib/python3.7/dist-packages (from en_core_web_md==2.2.5) (2.2.4)\n",
            "Requirement already satisfied: cymem<2.1.0,>=2.0.2 in /usr/local/lib/python3.7/dist-packages (from spacy>=2.2.2->en_core_web_md==2.2.5) (2.0.5)\n",
            "Requirement already satisfied: plac<1.2.0,>=0.9.6 in /usr/local/lib/python3.7/dist-packages (from spacy>=2.2.2->en_core_web_md==2.2.5) (1.1.3)\n",
            "Requirement already satisfied: murmurhash<1.1.0,>=0.28.0 in /usr/local/lib/python3.7/dist-packages (from spacy>=2.2.2->en_core_web_md==2.2.5) (1.0.5)\n",
            "Requirement already satisfied: srsly<1.1.0,>=1.0.2 in /usr/local/lib/python3.7/dist-packages (from spacy>=2.2.2->en_core_web_md==2.2.5) (1.0.5)\n",
            "Requirement already satisfied: setuptools in /usr/local/lib/python3.7/dist-packages (from spacy>=2.2.2->en_core_web_md==2.2.5) (57.4.0)\n",
            "Requirement already satisfied: blis<0.5.0,>=0.4.0 in /usr/local/lib/python3.7/dist-packages (from spacy>=2.2.2->en_core_web_md==2.2.5) (0.4.1)\n",
            "Requirement already satisfied: thinc==7.4.0 in /usr/local/lib/python3.7/dist-packages (from spacy>=2.2.2->en_core_web_md==2.2.5) (7.4.0)\n",
            "Requirement already satisfied: requests<3.0.0,>=2.13.0 in /usr/local/lib/python3.7/dist-packages (from spacy>=2.2.2->en_core_web_md==2.2.5) (2.23.0)\n",
            "Requirement already satisfied: catalogue<1.1.0,>=0.0.7 in /usr/local/lib/python3.7/dist-packages (from spacy>=2.2.2->en_core_web_md==2.2.5) (1.0.0)\n",
            "Requirement already satisfied: wasabi<1.1.0,>=0.4.0 in /usr/local/lib/python3.7/dist-packages (from spacy>=2.2.2->en_core_web_md==2.2.5) (0.8.2)\n",
            "Requirement already satisfied: numpy>=1.15.0 in /usr/local/lib/python3.7/dist-packages (from spacy>=2.2.2->en_core_web_md==2.2.5) (1.19.5)\n",
            "Requirement already satisfied: tqdm<5.0.0,>=4.38.0 in /usr/local/lib/python3.7/dist-packages (from spacy>=2.2.2->en_core_web_md==2.2.5) (4.62.3)\n",
            "Requirement already satisfied: preshed<3.1.0,>=3.0.2 in /usr/local/lib/python3.7/dist-packages (from spacy>=2.2.2->en_core_web_md==2.2.5) (3.0.5)\n",
            "Requirement already satisfied: importlib-metadata>=0.20 in /usr/local/lib/python3.7/dist-packages (from catalogue<1.1.0,>=0.0.7->spacy>=2.2.2->en_core_web_md==2.2.5) (4.8.1)\n",
            "Requirement already satisfied: zipp>=0.5 in /usr/local/lib/python3.7/dist-packages (from importlib-metadata>=0.20->catalogue<1.1.0,>=0.0.7->spacy>=2.2.2->en_core_web_md==2.2.5) (3.5.0)\n",
            "Requirement already satisfied: typing-extensions>=3.6.4 in /usr/local/lib/python3.7/dist-packages (from importlib-metadata>=0.20->catalogue<1.1.0,>=0.0.7->spacy>=2.2.2->en_core_web_md==2.2.5) (3.7.4.3)\n",
            "Requirement already satisfied: idna<3,>=2.5 in /usr/local/lib/python3.7/dist-packages (from requests<3.0.0,>=2.13.0->spacy>=2.2.2->en_core_web_md==2.2.5) (2.10)\n",
            "Requirement already satisfied: chardet<4,>=3.0.2 in /usr/local/lib/python3.7/dist-packages (from requests<3.0.0,>=2.13.0->spacy>=2.2.2->en_core_web_md==2.2.5) (3.0.4)\n",
            "Requirement already satisfied: urllib3!=1.25.0,!=1.25.1,<1.26,>=1.21.1 in /usr/local/lib/python3.7/dist-packages (from requests<3.0.0,>=2.13.0->spacy>=2.2.2->en_core_web_md==2.2.5) (1.24.3)\n",
            "Requirement already satisfied: certifi>=2017.4.17 in /usr/local/lib/python3.7/dist-packages (from requests<3.0.0,>=2.13.0->spacy>=2.2.2->en_core_web_md==2.2.5) (2021.5.30)\n",
            "Building wheels for collected packages: en-core-web-md\n",
            "  Building wheel for en-core-web-md (setup.py) ... \u001b[?25l\u001b[?25hdone\n",
            "  Created wheel for en-core-web-md: filename=en_core_web_md-2.2.5-py3-none-any.whl size=98051302 sha256=4d755081200b983124dffa2dae5866f88dbca65cbd165519026e09f1c26ead40\n",
            "  Stored in directory: /tmp/pip-ephem-wheel-cache-z4q5wfmf/wheels/69/c5/b8/4f1c029d89238734311b3269762ab2ee325a42da2ce8edb997\n",
            "Successfully built en-core-web-md\n",
            "Installing collected packages: en-core-web-md\n",
            "Successfully installed en-core-web-md-2.2.5\n",
            "\u001b[38;5;2m✔ Download and installation successful\u001b[0m\n",
            "You can now load the model via spacy.load('en_core_web_md')\n"
          ]
        }
      ]
    },
    {
      "cell_type": "code",
      "metadata": {
        "colab": {
          "base_uri": "https://localhost:8080/",
          "height": 1000
        },
        "id": "QeKEyi41-Rev",
        "outputId": "1288bcce-e4e6-45d2-bb52-0a67f3ed1451"
      },
      "source": [
        "!wget https://raw.githubusercontent.com/LambdaSchool/DS-Unit-4-Sprint-1-NLP/main/requirements.txt\n",
        "!pip install -r requirements.txt"
      ],
      "execution_count": 2,
      "outputs": [
        {
          "output_type": "stream",
          "name": "stdout",
          "text": [
            "--2021-09-30 18:34:13--  https://raw.githubusercontent.com/LambdaSchool/DS-Unit-4-Sprint-1-NLP/main/requirements.txt\n",
            "Resolving raw.githubusercontent.com (raw.githubusercontent.com)... 185.199.108.133, 185.199.109.133, 185.199.110.133, ...\n",
            "Connecting to raw.githubusercontent.com (raw.githubusercontent.com)|185.199.108.133|:443... connected.\n",
            "HTTP request sent, awaiting response... 200 OK\n",
            "Length: 149 [text/plain]\n",
            "Saving to: ‘requirements.txt’\n",
            "\n",
            "\rrequirements.txt      0%[                    ]       0  --.-KB/s               \rrequirements.txt    100%[===================>]     149  --.-KB/s    in 0s      \n",
            "\n",
            "2021-09-30 18:34:13 (6.35 MB/s) - ‘requirements.txt’ saved [149/149]\n",
            "\n",
            "Collecting gensim==3.8.1\n",
            "  Downloading gensim-3.8.1-cp37-cp37m-manylinux1_x86_64.whl (24.2 MB)\n",
            "\u001b[K     |████████████████████████████████| 24.2 MB 1.5 MB/s \n",
            "\u001b[?25hCollecting pyLDAvis==2.1.2\n",
            "  Downloading pyLDAvis-2.1.2.tar.gz (1.6 MB)\n",
            "\u001b[K     |████████████████████████████████| 1.6 MB 38.2 MB/s \n",
            "\u001b[?25hCollecting spacy==2.2.3\n",
            "  Downloading spacy-2.2.3-cp37-cp37m-manylinux1_x86_64.whl (10.4 MB)\n",
            "\u001b[K     |████████████████████████████████| 10.4 MB 33.3 MB/s \n",
            "\u001b[?25hCollecting scikit-learn==0.22.2\n",
            "  Downloading scikit_learn-0.22.2-cp37-cp37m-manylinux1_x86_64.whl (7.1 MB)\n",
            "\u001b[K     |████████████████████████████████| 7.1 MB 19.8 MB/s \n",
            "\u001b[?25hCollecting seaborn==0.9.0\n",
            "  Downloading seaborn-0.9.0-py3-none-any.whl (208 kB)\n",
            "\u001b[K     |████████████████████████████████| 208 kB 64.4 MB/s \n",
            "\u001b[?25hCollecting squarify==0.4.3\n",
            "  Downloading squarify-0.4.3-py3-none-any.whl (4.3 kB)\n",
            "Requirement already satisfied: ipykernel in /usr/local/lib/python3.7/dist-packages (from -r requirements.txt (line 7)) (4.10.1)\n",
            "Requirement already satisfied: nltk in /usr/local/lib/python3.7/dist-packages (from -r requirements.txt (line 8)) (3.2.5)\n",
            "Requirement already satisfied: pandas in /usr/local/lib/python3.7/dist-packages (from -r requirements.txt (line 9)) (1.3.3)\n",
            "Requirement already satisfied: scipy in /usr/local/lib/python3.7/dist-packages (from -r requirements.txt (line 10)) (1.4.1)\n",
            "Requirement already satisfied: beautifulsoup4 in /usr/local/lib/python3.7/dist-packages (from -r requirements.txt (line 11)) (4.6.3)\n",
            "Collecting pandarallel\n",
            "  Downloading pandarallel-1.5.2.tar.gz (16 kB)\n",
            "Requirement already satisfied: six>=1.5.0 in /usr/local/lib/python3.7/dist-packages (from gensim==3.8.1->-r requirements.txt (line 1)) (1.15.0)\n",
            "Requirement already satisfied: numpy>=1.11.3 in /usr/local/lib/python3.7/dist-packages (from gensim==3.8.1->-r requirements.txt (line 1)) (1.21.2)\n",
            "Requirement already satisfied: smart-open>=1.8.1 in /usr/local/lib/python3.7/dist-packages (from gensim==3.8.1->-r requirements.txt (line 1)) (5.2.1)\n",
            "Requirement already satisfied: wheel>=0.23.0 in /usr/local/lib/python3.7/dist-packages (from pyLDAvis==2.1.2->-r requirements.txt (line 2)) (0.37.0)\n",
            "Requirement already satisfied: joblib>=0.8.4 in /usr/local/lib/python3.7/dist-packages (from pyLDAvis==2.1.2->-r requirements.txt (line 2)) (1.0.1)\n",
            "Requirement already satisfied: jinja2>=2.7.2 in /usr/local/lib/python3.7/dist-packages (from pyLDAvis==2.1.2->-r requirements.txt (line 2)) (2.11.3)\n",
            "Requirement already satisfied: numexpr in /usr/local/lib/python3.7/dist-packages (from pyLDAvis==2.1.2->-r requirements.txt (line 2)) (2.7.3)\n",
            "Requirement already satisfied: pytest in /usr/local/lib/python3.7/dist-packages (from pyLDAvis==2.1.2->-r requirements.txt (line 2)) (3.6.4)\n",
            "Requirement already satisfied: future in /usr/local/lib/python3.7/dist-packages (from pyLDAvis==2.1.2->-r requirements.txt (line 2)) (0.16.0)\n",
            "Requirement already satisfied: funcy in /usr/local/lib/python3.7/dist-packages (from pyLDAvis==2.1.2->-r requirements.txt (line 2)) (1.16)\n",
            "Requirement already satisfied: blis<0.5.0,>=0.4.0 in /usr/local/lib/python3.7/dist-packages (from spacy==2.2.3->-r requirements.txt (line 3)) (0.4.1)\n",
            "Requirement already satisfied: srsly<1.1.0,>=0.1.0 in /usr/local/lib/python3.7/dist-packages (from spacy==2.2.3->-r requirements.txt (line 3)) (1.0.5)\n",
            "Requirement already satisfied: setuptools in /usr/local/lib/python3.7/dist-packages (from spacy==2.2.3->-r requirements.txt (line 3)) (57.4.0)\n",
            "Requirement already satisfied: requests<3.0.0,>=2.13.0 in /usr/local/lib/python3.7/dist-packages (from spacy==2.2.3->-r requirements.txt (line 3)) (2.23.0)\n",
            "Requirement already satisfied: cymem<2.1.0,>=2.0.2 in /usr/local/lib/python3.7/dist-packages (from spacy==2.2.3->-r requirements.txt (line 3)) (2.0.5)\n",
            "Requirement already satisfied: murmurhash<1.1.0,>=0.28.0 in /usr/local/lib/python3.7/dist-packages (from spacy==2.2.3->-r requirements.txt (line 3)) (1.0.5)\n",
            "Requirement already satisfied: catalogue<1.1.0,>=0.0.7 in /usr/local/lib/python3.7/dist-packages (from spacy==2.2.3->-r requirements.txt (line 3)) (1.0.0)\n",
            "Requirement already satisfied: plac<1.2.0,>=0.9.6 in /usr/local/lib/python3.7/dist-packages (from spacy==2.2.3->-r requirements.txt (line 3)) (1.1.3)\n",
            "Collecting thinc<7.4.0,>=7.3.0\n",
            "  Downloading thinc-7.3.1-cp37-cp37m-manylinux1_x86_64.whl (2.2 MB)\n",
            "\u001b[K     |████████████████████████████████| 2.2 MB 32.3 MB/s \n",
            "\u001b[?25hRequirement already satisfied: preshed<3.1.0,>=3.0.2 in /usr/local/lib/python3.7/dist-packages (from spacy==2.2.3->-r requirements.txt (line 3)) (3.0.5)\n",
            "Requirement already satisfied: wasabi<1.1.0,>=0.4.0 in /usr/local/lib/python3.7/dist-packages (from spacy==2.2.3->-r requirements.txt (line 3)) (0.8.2)\n",
            "Requirement already satisfied: matplotlib>=1.4.3 in /usr/local/lib/python3.7/dist-packages (from seaborn==0.9.0->-r requirements.txt (line 5)) (3.2.2)\n",
            "Requirement already satisfied: python-dateutil>=2.7.3 in /usr/local/lib/python3.7/dist-packages (from pandas->-r requirements.txt (line 9)) (2.8.2)\n",
            "Requirement already satisfied: pytz>=2017.3 in /usr/local/lib/python3.7/dist-packages (from pandas->-r requirements.txt (line 9)) (2018.9)\n",
            "Requirement already satisfied: importlib-metadata>=0.20 in /usr/local/lib/python3.7/dist-packages (from catalogue<1.1.0,>=0.0.7->spacy==2.2.3->-r requirements.txt (line 3)) (4.8.1)\n",
            "Requirement already satisfied: zipp>=0.5 in /usr/local/lib/python3.7/dist-packages (from importlib-metadata>=0.20->catalogue<1.1.0,>=0.0.7->spacy==2.2.3->-r requirements.txt (line 3)) (3.5.0)\n",
            "Requirement already satisfied: typing-extensions>=3.6.4 in /usr/local/lib/python3.7/dist-packages (from importlib-metadata>=0.20->catalogue<1.1.0,>=0.0.7->spacy==2.2.3->-r requirements.txt (line 3)) (3.7.4.3)\n",
            "Requirement already satisfied: MarkupSafe>=0.23 in /usr/local/lib/python3.7/dist-packages (from jinja2>=2.7.2->pyLDAvis==2.1.2->-r requirements.txt (line 2)) (2.0.1)\n",
            "Requirement already satisfied: kiwisolver>=1.0.1 in /usr/local/lib/python3.7/dist-packages (from matplotlib>=1.4.3->seaborn==0.9.0->-r requirements.txt (line 5)) (1.3.2)\n",
            "Requirement already satisfied: cycler>=0.10 in /usr/local/lib/python3.7/dist-packages (from matplotlib>=1.4.3->seaborn==0.9.0->-r requirements.txt (line 5)) (0.10.0)\n",
            "Requirement already satisfied: pyparsing!=2.0.4,!=2.1.2,!=2.1.6,>=2.0.1 in /usr/local/lib/python3.7/dist-packages (from matplotlib>=1.4.3->seaborn==0.9.0->-r requirements.txt (line 5)) (2.4.7)\n",
            "Requirement already satisfied: idna<3,>=2.5 in /usr/local/lib/python3.7/dist-packages (from requests<3.0.0,>=2.13.0->spacy==2.2.3->-r requirements.txt (line 3)) (2.10)\n",
            "Requirement already satisfied: chardet<4,>=3.0.2 in /usr/local/lib/python3.7/dist-packages (from requests<3.0.0,>=2.13.0->spacy==2.2.3->-r requirements.txt (line 3)) (3.0.4)\n",
            "Requirement already satisfied: certifi>=2017.4.17 in /usr/local/lib/python3.7/dist-packages (from requests<3.0.0,>=2.13.0->spacy==2.2.3->-r requirements.txt (line 3)) (2021.5.30)\n",
            "Requirement already satisfied: urllib3!=1.25.0,!=1.25.1,<1.26,>=1.21.1 in /usr/local/lib/python3.7/dist-packages (from requests<3.0.0,>=2.13.0->spacy==2.2.3->-r requirements.txt (line 3)) (1.24.3)\n",
            "Requirement already satisfied: tqdm<5.0.0,>=4.10.0 in /usr/local/lib/python3.7/dist-packages (from thinc<7.4.0,>=7.3.0->spacy==2.2.3->-r requirements.txt (line 3)) (4.62.3)\n",
            "Requirement already satisfied: traitlets>=4.1.0 in /usr/local/lib/python3.7/dist-packages (from ipykernel->-r requirements.txt (line 7)) (5.1.0)\n",
            "Requirement already satisfied: ipython>=4.0.0 in /usr/local/lib/python3.7/dist-packages (from ipykernel->-r requirements.txt (line 7)) (5.5.0)\n",
            "Requirement already satisfied: jupyter-client in /usr/local/lib/python3.7/dist-packages (from ipykernel->-r requirements.txt (line 7)) (5.3.5)\n",
            "Requirement already satisfied: tornado>=4.0 in /usr/local/lib/python3.7/dist-packages (from ipykernel->-r requirements.txt (line 7)) (5.1.1)\n",
            "Requirement already satisfied: prompt-toolkit<2.0.0,>=1.0.4 in /usr/local/lib/python3.7/dist-packages (from ipython>=4.0.0->ipykernel->-r requirements.txt (line 7)) (1.0.18)\n",
            "Requirement already satisfied: decorator in /usr/local/lib/python3.7/dist-packages (from ipython>=4.0.0->ipykernel->-r requirements.txt (line 7)) (4.4.2)\n",
            "Requirement already satisfied: simplegeneric>0.8 in /usr/local/lib/python3.7/dist-packages (from ipython>=4.0.0->ipykernel->-r requirements.txt (line 7)) (0.8.1)\n",
            "Requirement already satisfied: pickleshare in /usr/local/lib/python3.7/dist-packages (from ipython>=4.0.0->ipykernel->-r requirements.txt (line 7)) (0.7.5)\n",
            "Requirement already satisfied: pygments in /usr/local/lib/python3.7/dist-packages (from ipython>=4.0.0->ipykernel->-r requirements.txt (line 7)) (2.6.1)\n",
            "Requirement already satisfied: pexpect in /usr/local/lib/python3.7/dist-packages (from ipython>=4.0.0->ipykernel->-r requirements.txt (line 7)) (4.8.0)\n",
            "Requirement already satisfied: wcwidth in /usr/local/lib/python3.7/dist-packages (from prompt-toolkit<2.0.0,>=1.0.4->ipython>=4.0.0->ipykernel->-r requirements.txt (line 7)) (0.2.5)\n",
            "Requirement already satisfied: dill in /usr/local/lib/python3.7/dist-packages (from pandarallel->-r requirements.txt (line 12)) (0.3.4)\n",
            "Requirement already satisfied: pyzmq>=13 in /usr/local/lib/python3.7/dist-packages (from jupyter-client->ipykernel->-r requirements.txt (line 7)) (22.3.0)\n",
            "Requirement already satisfied: jupyter-core>=4.6.0 in /usr/local/lib/python3.7/dist-packages (from jupyter-client->ipykernel->-r requirements.txt (line 7)) (4.8.1)\n",
            "Requirement already satisfied: ptyprocess>=0.5 in /usr/local/lib/python3.7/dist-packages (from pexpect->ipython>=4.0.0->ipykernel->-r requirements.txt (line 7)) (0.7.0)\n",
            "Requirement already satisfied: py>=1.5.0 in /usr/local/lib/python3.7/dist-packages (from pytest->pyLDAvis==2.1.2->-r requirements.txt (line 2)) (1.10.0)\n",
            "Requirement already satisfied: atomicwrites>=1.0 in /usr/local/lib/python3.7/dist-packages (from pytest->pyLDAvis==2.1.2->-r requirements.txt (line 2)) (1.4.0)\n",
            "Requirement already satisfied: pluggy<0.8,>=0.5 in /usr/local/lib/python3.7/dist-packages (from pytest->pyLDAvis==2.1.2->-r requirements.txt (line 2)) (0.7.1)\n",
            "Requirement already satisfied: attrs>=17.4.0 in /usr/local/lib/python3.7/dist-packages (from pytest->pyLDAvis==2.1.2->-r requirements.txt (line 2)) (21.2.0)\n",
            "Requirement already satisfied: more-itertools>=4.0.0 in /usr/local/lib/python3.7/dist-packages (from pytest->pyLDAvis==2.1.2->-r requirements.txt (line 2)) (8.10.0)\n",
            "Building wheels for collected packages: pyLDAvis, pandarallel\n",
            "  Building wheel for pyLDAvis (setup.py) ... \u001b[?25l\u001b[?25hdone\n",
            "  Created wheel for pyLDAvis: filename=pyLDAvis-2.1.2-py2.py3-none-any.whl size=97738 sha256=90cf5669a65d09be6f1ee4289d6978e329239b7efe3ffaf6cca4edf8925f70bf\n",
            "  Stored in directory: /root/.cache/pip/wheels/3b/fb/41/e32e5312da9f440d34c4eff0d2207b46dc9332a7b931ef1e89\n",
            "  Building wheel for pandarallel (setup.py) ... \u001b[?25l\u001b[?25hdone\n",
            "  Created wheel for pandarallel: filename=pandarallel-1.5.2-py3-none-any.whl size=18398 sha256=1d766db52d6ab7af107adbe331acd67c363416c0008b1d879663c7e61a28545c\n",
            "  Stored in directory: /root/.cache/pip/wheels/b5/6d/51/9ece2eaf007ea3f7fb0ce053c5773b2eb0d308887da3af12c1\n",
            "Successfully built pyLDAvis pandarallel\n",
            "Installing collected packages: thinc, squarify, spacy, seaborn, scikit-learn, pyLDAvis, pandarallel, gensim\n",
            "  Attempting uninstall: thinc\n",
            "    Found existing installation: thinc 7.4.0\n",
            "    Uninstalling thinc-7.4.0:\n",
            "      Successfully uninstalled thinc-7.4.0\n",
            "  Attempting uninstall: spacy\n",
            "    Found existing installation: spacy 2.2.4\n",
            "    Uninstalling spacy-2.2.4:\n",
            "      Successfully uninstalled spacy-2.2.4\n",
            "  Attempting uninstall: seaborn\n",
            "    Found existing installation: seaborn 0.11.2\n",
            "    Uninstalling seaborn-0.11.2:\n",
            "      Successfully uninstalled seaborn-0.11.2\n",
            "  Attempting uninstall: scikit-learn\n",
            "    Found existing installation: scikit-learn 0.22.2.post1\n",
            "    Uninstalling scikit-learn-0.22.2.post1:\n",
            "      Successfully uninstalled scikit-learn-0.22.2.post1\n",
            "  Attempting uninstall: pyLDAvis\n",
            "    Found existing installation: pyLDAvis 3.3.1\n",
            "    Uninstalling pyLDAvis-3.3.1:\n",
            "      Successfully uninstalled pyLDAvis-3.3.1\n",
            "  Attempting uninstall: gensim\n",
            "    Found existing installation: gensim 3.6.0\n",
            "    Uninstalling gensim-3.6.0:\n",
            "      Successfully uninstalled gensim-3.6.0\n",
            "Successfully installed gensim-3.8.1 pandarallel-1.5.2 pyLDAvis-2.1.2 scikit-learn-0.22.2 seaborn-0.9.0 spacy-2.2.3 squarify-0.4.3 thinc-7.3.1\n"
          ]
        },
        {
          "output_type": "display_data",
          "data": {
            "application/vnd.colab-display-data+json": {
              "pip_warning": {
                "packages": [
                  "pyLDAvis",
                  "sklearn",
                  "spacy",
                  "thinc"
                ]
              }
            }
          },
          "metadata": {}
        }
      ]
    },
    {
      "cell_type": "code",
      "metadata": {
        "id": "n-fwRb0HgjIh"
      },
      "source": [
        "import re\n",
        "import pandas as pd\n",
        "import numpy as np\n",
        "import matplotlib.pyplot as plt\n",
        "from sklearn.feature_extraction.text import CountVectorizer\n",
        "\n",
        "import spacy\n",
        "\n",
        "import pyLDAvis\n",
        "import pyLDAvis.gensim\n",
        "\n",
        "import gensim\n",
        "import gensim.corpora as corpora\n",
        "from gensim.utils import simple_preprocess\n",
        "from gensim.models import CoherenceModel\n",
        "\n",
        "from pandarallel import pandarallel\n",
        "\n",
        "import warnings\n",
        "warnings.filterwarnings(\"ignore\")\n",
        "\n",
        "%matplotlib inline "
      ],
      "execution_count": 2,
      "outputs": []
    },
    {
      "cell_type": "markdown",
      "metadata": {
        "id": "5YwFVIzpgjIj"
      },
      "source": [
        "----\n",
        "### Load the Amazon Review Corpus \n",
        "This dataset is located in the Sprint 1 Module 1 directory. \n",
        "\n",
        "If the provided relative path doesn't work for you, then you'll have to provide the file path so pandas can read in the file."
      ]
    },
    {
      "cell_type": "code",
      "metadata": {
        "colab": {
          "base_uri": "https://localhost:8080/"
        },
        "id": "krNeHlx5AySU",
        "outputId": "d9cf35ba-a367-4ce8-98d1-77e08df39365"
      },
      "source": [
        "# clone the Unit-4-Sprint-1 repo\n",
        "!git clone https://github.com/LambdaSchool/DS-Unit-4-Sprint-1-NLP.git\n",
        "# Find the path to the reviews data zip file, using the file icon on the left sidebar\n",
        "!unzip /content/DS-Unit-4-Sprint-1-NLP/module1-text-data/data/Datafiniti_Amazon_Consumer_Reviews_of_Amazon_Products_May19.csv.zip"
      ],
      "execution_count": 5,
      "outputs": [
        {
          "output_type": "stream",
          "name": "stdout",
          "text": [
            "Cloning into 'DS-Unit-4-Sprint-1-NLP'...\n",
            "remote: Enumerating objects: 1604, done.\u001b[K\n",
            "remote: Counting objects: 100% (73/73), done.\u001b[K\n",
            "remote: Compressing objects: 100% (66/66), done.\u001b[K\n",
            "remote: Total 1604 (delta 32), reused 26 (delta 7), pack-reused 1531\u001b[K\n",
            "Receiving objects: 100% (1604/1604), 58.12 MiB | 21.71 MiB/s, done.\n",
            "Resolving deltas: 100% (201/201), done.\n",
            "Archive:  /content/DS-Unit-4-Sprint-1-NLP/module1-text-data/data/Datafiniti_Amazon_Consumer_Reviews_of_Amazon_Products_May19.csv.zip\n",
            "  inflating: Datafiniti_Amazon_Consumer_Reviews_of_Amazon_Products_May19.csv  \n",
            "   creating: __MACOSX/\n",
            "  inflating: __MACOSX/._Datafiniti_Amazon_Consumer_Reviews_of_Amazon_Products_May19.csv  \n"
          ]
        }
      ]
    },
    {
      "cell_type": "code",
      "metadata": {
        "id": "ZHj8L6FOgjIj"
      },
      "source": [
        "df = pd.read_csv('Datafiniti_Amazon_Consumer_Reviews_of_Amazon_Products_May19.csv')"
      ],
      "execution_count": 6,
      "outputs": []
    },
    {
      "cell_type": "code",
      "metadata": {
        "id": "L6RSf0bUgjIk",
        "colab": {
          "base_uri": "https://localhost:8080/",
          "height": 267
        },
        "outputId": "2a4a4ef5-4b7d-4fd5-84f6-17ad4edf7e72"
      },
      "source": [
        "df.head(2)"
      ],
      "execution_count": 7,
      "outputs": [
        {
          "output_type": "execute_result",
          "data": {
            "text/html": [
              "<div>\n",
              "<style scoped>\n",
              "    .dataframe tbody tr th:only-of-type {\n",
              "        vertical-align: middle;\n",
              "    }\n",
              "\n",
              "    .dataframe tbody tr th {\n",
              "        vertical-align: top;\n",
              "    }\n",
              "\n",
              "    .dataframe thead th {\n",
              "        text-align: right;\n",
              "    }\n",
              "</style>\n",
              "<table border=\"1\" class=\"dataframe\">\n",
              "  <thead>\n",
              "    <tr style=\"text-align: right;\">\n",
              "      <th></th>\n",
              "      <th>id</th>\n",
              "      <th>dateAdded</th>\n",
              "      <th>dateUpdated</th>\n",
              "      <th>name</th>\n",
              "      <th>asins</th>\n",
              "      <th>brand</th>\n",
              "      <th>categories</th>\n",
              "      <th>primaryCategories</th>\n",
              "      <th>imageURLs</th>\n",
              "      <th>keys</th>\n",
              "      <th>manufacturer</th>\n",
              "      <th>manufacturerNumber</th>\n",
              "      <th>reviews.date</th>\n",
              "      <th>reviews.dateSeen</th>\n",
              "      <th>reviews.didPurchase</th>\n",
              "      <th>reviews.doRecommend</th>\n",
              "      <th>reviews.id</th>\n",
              "      <th>reviews.numHelpful</th>\n",
              "      <th>reviews.rating</th>\n",
              "      <th>reviews.sourceURLs</th>\n",
              "      <th>reviews.text</th>\n",
              "      <th>reviews.title</th>\n",
              "      <th>reviews.username</th>\n",
              "      <th>sourceURLs</th>\n",
              "    </tr>\n",
              "  </thead>\n",
              "  <tbody>\n",
              "    <tr>\n",
              "      <th>0</th>\n",
              "      <td>AVpgNzjwLJeJML43Kpxn</td>\n",
              "      <td>2015-10-30T08:59:32Z</td>\n",
              "      <td>2019-04-25T09:08:16Z</td>\n",
              "      <td>AmazonBasics AAA Performance Alkaline Batterie...</td>\n",
              "      <td>B00QWO9P0O,B00LH3DMUO</td>\n",
              "      <td>Amazonbasics</td>\n",
              "      <td>AA,AAA,Health,Electronics,Health &amp; Household,C...</td>\n",
              "      <td>Health &amp; Beauty</td>\n",
              "      <td>https://images-na.ssl-images-amazon.com/images...</td>\n",
              "      <td>amazonbasics/hl002619,amazonbasicsaaaperforman...</td>\n",
              "      <td>AmazonBasics</td>\n",
              "      <td>HL-002619</td>\n",
              "      <td>2017-03-02T00:00:00.000Z</td>\n",
              "      <td>2017-08-28T00:00:00Z</td>\n",
              "      <td>NaN</td>\n",
              "      <td>NaN</td>\n",
              "      <td>NaN</td>\n",
              "      <td>NaN</td>\n",
              "      <td>3</td>\n",
              "      <td>https://www.amazon.com/product-reviews/B00QWO9...</td>\n",
              "      <td>I order 3 of them and one of the item is bad q...</td>\n",
              "      <td>... 3 of them and one of the item is bad quali...</td>\n",
              "      <td>Byger yang</td>\n",
              "      <td>https://www.barcodable.com/upc/841710106442,ht...</td>\n",
              "    </tr>\n",
              "    <tr>\n",
              "      <th>1</th>\n",
              "      <td>AVpgNzjwLJeJML43Kpxn</td>\n",
              "      <td>2015-10-30T08:59:32Z</td>\n",
              "      <td>2019-04-25T09:08:16Z</td>\n",
              "      <td>AmazonBasics AAA Performance Alkaline Batterie...</td>\n",
              "      <td>B00QWO9P0O,B00LH3DMUO</td>\n",
              "      <td>Amazonbasics</td>\n",
              "      <td>AA,AAA,Health,Electronics,Health &amp; Household,C...</td>\n",
              "      <td>Health &amp; Beauty</td>\n",
              "      <td>https://images-na.ssl-images-amazon.com/images...</td>\n",
              "      <td>amazonbasics/hl002619,amazonbasicsaaaperforman...</td>\n",
              "      <td>AmazonBasics</td>\n",
              "      <td>HL-002619</td>\n",
              "      <td>2016-08-31T00:00:00.000Z</td>\n",
              "      <td>2017-08-28T00:00:00Z</td>\n",
              "      <td>NaN</td>\n",
              "      <td>NaN</td>\n",
              "      <td>NaN</td>\n",
              "      <td>NaN</td>\n",
              "      <td>4</td>\n",
              "      <td>https://www.amazon.com/product-reviews/B00QWO9...</td>\n",
              "      <td>Bulk is always the less expensive way to go fo...</td>\n",
              "      <td>... always the less expensive way to go for pr...</td>\n",
              "      <td>ByMG</td>\n",
              "      <td>https://www.barcodable.com/upc/841710106442,ht...</td>\n",
              "    </tr>\n",
              "  </tbody>\n",
              "</table>\n",
              "</div>"
            ],
            "text/plain": [
              "                     id  ...                                         sourceURLs\n",
              "0  AVpgNzjwLJeJML43Kpxn  ...  https://www.barcodable.com/upc/841710106442,ht...\n",
              "1  AVpgNzjwLJeJML43Kpxn  ...  https://www.barcodable.com/upc/841710106442,ht...\n",
              "\n",
              "[2 rows x 24 columns]"
            ]
          },
          "metadata": {},
          "execution_count": 7
        }
      ]
    },
    {
      "cell_type": "markdown",
      "metadata": {
        "id": "sJNVNJOwgjIk"
      },
      "source": [
        "----\n",
        "\n",
        "### Clean Data\n",
        "\n",
        "- Create a function called `clean_data` that uses regex expressions to clean your data in preparation for the vectorizer. \n",
        "\n",
        "- Save the clean text data to a column in your dataframe named `clean_text`\n",
        "\n",
        "- Feel free to re-use old code that you have written in previous modules  "
      ]
    },
    {
      "cell_type": "code",
      "metadata": {
        "deletable": false,
        "nbgrader": {
          "cell_type": "code",
          "checksum": "a2513c0ebd04cf8645fe0a1feb1e1a36",
          "grade": false,
          "grade_id": "cell-fa0950cfe5ef7725",
          "locked": false,
          "schema_version": 3,
          "solution": true,
          "task": false
        },
        "id": "whdzDRZVgjIl"
      },
      "source": [
        "# YOUR CODE HERE\n",
        "def clean_data(text):\n",
        "  text = re.sub('[^A-Z a-z]', '', text)\n",
        "  return text.lower().strip()"
      ],
      "execution_count": 8,
      "outputs": []
    },
    {
      "cell_type": "code",
      "metadata": {
        "deletable": false,
        "nbgrader": {
          "cell_type": "code",
          "checksum": "a6ceefe5476e71efcb3d36c3e203616f",
          "grade": false,
          "grade_id": "cell-5b8e2bc0f9a745f3",
          "locked": false,
          "schema_version": 3,
          "solution": true,
          "task": false
        },
        "id": "DQg9jNOmgjIm",
        "colab": {
          "base_uri": "https://localhost:8080/",
          "height": 581
        },
        "outputId": "97e4662e-1cd0-4fe0-839a-80e9c4f6d6e3"
      },
      "source": [
        "# save to cleaned review articles to a feature named `clean_text`\n",
        "# YOUR CODE HERE\n",
        "df['clean_text'] = df['reviews.text'].apply(clean_data)\n",
        "df.head()"
      ],
      "execution_count": 10,
      "outputs": [
        {
          "output_type": "execute_result",
          "data": {
            "text/html": [
              "<div>\n",
              "<style scoped>\n",
              "    .dataframe tbody tr th:only-of-type {\n",
              "        vertical-align: middle;\n",
              "    }\n",
              "\n",
              "    .dataframe tbody tr th {\n",
              "        vertical-align: top;\n",
              "    }\n",
              "\n",
              "    .dataframe thead th {\n",
              "        text-align: right;\n",
              "    }\n",
              "</style>\n",
              "<table border=\"1\" class=\"dataframe\">\n",
              "  <thead>\n",
              "    <tr style=\"text-align: right;\">\n",
              "      <th></th>\n",
              "      <th>id</th>\n",
              "      <th>dateAdded</th>\n",
              "      <th>dateUpdated</th>\n",
              "      <th>name</th>\n",
              "      <th>asins</th>\n",
              "      <th>brand</th>\n",
              "      <th>categories</th>\n",
              "      <th>primaryCategories</th>\n",
              "      <th>imageURLs</th>\n",
              "      <th>keys</th>\n",
              "      <th>manufacturer</th>\n",
              "      <th>manufacturerNumber</th>\n",
              "      <th>reviews.date</th>\n",
              "      <th>reviews.dateSeen</th>\n",
              "      <th>reviews.didPurchase</th>\n",
              "      <th>reviews.doRecommend</th>\n",
              "      <th>reviews.id</th>\n",
              "      <th>reviews.numHelpful</th>\n",
              "      <th>reviews.rating</th>\n",
              "      <th>reviews.sourceURLs</th>\n",
              "      <th>reviews.text</th>\n",
              "      <th>reviews.title</th>\n",
              "      <th>reviews.username</th>\n",
              "      <th>sourceURLs</th>\n",
              "      <th>clean_text</th>\n",
              "    </tr>\n",
              "  </thead>\n",
              "  <tbody>\n",
              "    <tr>\n",
              "      <th>0</th>\n",
              "      <td>AVpgNzjwLJeJML43Kpxn</td>\n",
              "      <td>2015-10-30T08:59:32Z</td>\n",
              "      <td>2019-04-25T09:08:16Z</td>\n",
              "      <td>AmazonBasics AAA Performance Alkaline Batterie...</td>\n",
              "      <td>B00QWO9P0O,B00LH3DMUO</td>\n",
              "      <td>Amazonbasics</td>\n",
              "      <td>AA,AAA,Health,Electronics,Health &amp; Household,C...</td>\n",
              "      <td>Health &amp; Beauty</td>\n",
              "      <td>https://images-na.ssl-images-amazon.com/images...</td>\n",
              "      <td>amazonbasics/hl002619,amazonbasicsaaaperforman...</td>\n",
              "      <td>AmazonBasics</td>\n",
              "      <td>HL-002619</td>\n",
              "      <td>2017-03-02T00:00:00.000Z</td>\n",
              "      <td>2017-08-28T00:00:00Z</td>\n",
              "      <td>NaN</td>\n",
              "      <td>NaN</td>\n",
              "      <td>NaN</td>\n",
              "      <td>NaN</td>\n",
              "      <td>3</td>\n",
              "      <td>https://www.amazon.com/product-reviews/B00QWO9...</td>\n",
              "      <td>I order 3 of them and one of the item is bad q...</td>\n",
              "      <td>... 3 of them and one of the item is bad quali...</td>\n",
              "      <td>Byger yang</td>\n",
              "      <td>https://www.barcodable.com/upc/841710106442,ht...</td>\n",
              "      <td>i order  of them and one of the item is bad qu...</td>\n",
              "    </tr>\n",
              "    <tr>\n",
              "      <th>1</th>\n",
              "      <td>AVpgNzjwLJeJML43Kpxn</td>\n",
              "      <td>2015-10-30T08:59:32Z</td>\n",
              "      <td>2019-04-25T09:08:16Z</td>\n",
              "      <td>AmazonBasics AAA Performance Alkaline Batterie...</td>\n",
              "      <td>B00QWO9P0O,B00LH3DMUO</td>\n",
              "      <td>Amazonbasics</td>\n",
              "      <td>AA,AAA,Health,Electronics,Health &amp; Household,C...</td>\n",
              "      <td>Health &amp; Beauty</td>\n",
              "      <td>https://images-na.ssl-images-amazon.com/images...</td>\n",
              "      <td>amazonbasics/hl002619,amazonbasicsaaaperforman...</td>\n",
              "      <td>AmazonBasics</td>\n",
              "      <td>HL-002619</td>\n",
              "      <td>2016-08-31T00:00:00.000Z</td>\n",
              "      <td>2017-08-28T00:00:00Z</td>\n",
              "      <td>NaN</td>\n",
              "      <td>NaN</td>\n",
              "      <td>NaN</td>\n",
              "      <td>NaN</td>\n",
              "      <td>4</td>\n",
              "      <td>https://www.amazon.com/product-reviews/B00QWO9...</td>\n",
              "      <td>Bulk is always the less expensive way to go fo...</td>\n",
              "      <td>... always the less expensive way to go for pr...</td>\n",
              "      <td>ByMG</td>\n",
              "      <td>https://www.barcodable.com/upc/841710106442,ht...</td>\n",
              "      <td>bulk is always the less expensive way to go fo...</td>\n",
              "    </tr>\n",
              "    <tr>\n",
              "      <th>2</th>\n",
              "      <td>AVpgNzjwLJeJML43Kpxn</td>\n",
              "      <td>2015-10-30T08:59:32Z</td>\n",
              "      <td>2019-04-25T09:08:16Z</td>\n",
              "      <td>AmazonBasics AAA Performance Alkaline Batterie...</td>\n",
              "      <td>B00QWO9P0O,B00LH3DMUO</td>\n",
              "      <td>Amazonbasics</td>\n",
              "      <td>AA,AAA,Health,Electronics,Health &amp; Household,C...</td>\n",
              "      <td>Health &amp; Beauty</td>\n",
              "      <td>https://images-na.ssl-images-amazon.com/images...</td>\n",
              "      <td>amazonbasics/hl002619,amazonbasicsaaaperforman...</td>\n",
              "      <td>AmazonBasics</td>\n",
              "      <td>HL-002619</td>\n",
              "      <td>2016-12-06T00:00:00.000Z</td>\n",
              "      <td>2017-08-28T00:00:00Z</td>\n",
              "      <td>NaN</td>\n",
              "      <td>NaN</td>\n",
              "      <td>NaN</td>\n",
              "      <td>NaN</td>\n",
              "      <td>5</td>\n",
              "      <td>https://www.amazon.com/product-reviews/B00QWO9...</td>\n",
              "      <td>Well they are not Duracell but for the price i...</td>\n",
              "      <td>... are not Duracell but for the price i am ha...</td>\n",
              "      <td>BySharon Lambert</td>\n",
              "      <td>https://www.barcodable.com/upc/841710106442,ht...</td>\n",
              "      <td>well they are not duracell but for the price i...</td>\n",
              "    </tr>\n",
              "    <tr>\n",
              "      <th>3</th>\n",
              "      <td>AVpgNzjwLJeJML43Kpxn</td>\n",
              "      <td>2015-10-30T08:59:32Z</td>\n",
              "      <td>2019-04-25T09:08:16Z</td>\n",
              "      <td>AmazonBasics AAA Performance Alkaline Batterie...</td>\n",
              "      <td>B00QWO9P0O,B00LH3DMUO</td>\n",
              "      <td>Amazonbasics</td>\n",
              "      <td>AA,AAA,Health,Electronics,Health &amp; Household,C...</td>\n",
              "      <td>Health &amp; Beauty</td>\n",
              "      <td>https://images-na.ssl-images-amazon.com/images...</td>\n",
              "      <td>amazonbasics/hl002619,amazonbasicsaaaperforman...</td>\n",
              "      <td>AmazonBasics</td>\n",
              "      <td>HL-002619</td>\n",
              "      <td>2016-03-28T00:00:00.000Z</td>\n",
              "      <td>2017-08-28T00:00:00Z</td>\n",
              "      <td>NaN</td>\n",
              "      <td>NaN</td>\n",
              "      <td>NaN</td>\n",
              "      <td>NaN</td>\n",
              "      <td>5</td>\n",
              "      <td>https://www.amazon.com/product-reviews/B00QWO9...</td>\n",
              "      <td>Seem to work as well as name brand batteries a...</td>\n",
              "      <td>... as well as name brand batteries at a much ...</td>\n",
              "      <td>Bymark sexson</td>\n",
              "      <td>https://www.barcodable.com/upc/841710106442,ht...</td>\n",
              "      <td>seem to work as well as name brand batteries a...</td>\n",
              "    </tr>\n",
              "    <tr>\n",
              "      <th>4</th>\n",
              "      <td>AVpgNzjwLJeJML43Kpxn</td>\n",
              "      <td>2015-10-30T08:59:32Z</td>\n",
              "      <td>2019-04-25T09:08:16Z</td>\n",
              "      <td>AmazonBasics AAA Performance Alkaline Batterie...</td>\n",
              "      <td>B00QWO9P0O,B00LH3DMUO</td>\n",
              "      <td>Amazonbasics</td>\n",
              "      <td>AA,AAA,Health,Electronics,Health &amp; Household,C...</td>\n",
              "      <td>Health &amp; Beauty</td>\n",
              "      <td>https://images-na.ssl-images-amazon.com/images...</td>\n",
              "      <td>amazonbasics/hl002619,amazonbasicsaaaperforman...</td>\n",
              "      <td>AmazonBasics</td>\n",
              "      <td>HL-002619</td>\n",
              "      <td>2017-04-22T00:00:00.000Z</td>\n",
              "      <td>2017-08-28T00:00:00Z</td>\n",
              "      <td>NaN</td>\n",
              "      <td>NaN</td>\n",
              "      <td>NaN</td>\n",
              "      <td>NaN</td>\n",
              "      <td>5</td>\n",
              "      <td>https://www.amazon.com/product-reviews/B00QWO9...</td>\n",
              "      <td>These batteries are very long lasting the pric...</td>\n",
              "      <td>... batteries are very long lasting the price ...</td>\n",
              "      <td>Bylinda</td>\n",
              "      <td>https://www.barcodable.com/upc/841710106442,ht...</td>\n",
              "      <td>these batteries are very long lasting the pric...</td>\n",
              "    </tr>\n",
              "  </tbody>\n",
              "</table>\n",
              "</div>"
            ],
            "text/plain": [
              "                     id  ...                                         clean_text\n",
              "0  AVpgNzjwLJeJML43Kpxn  ...  i order  of them and one of the item is bad qu...\n",
              "1  AVpgNzjwLJeJML43Kpxn  ...  bulk is always the less expensive way to go fo...\n",
              "2  AVpgNzjwLJeJML43Kpxn  ...  well they are not duracell but for the price i...\n",
              "3  AVpgNzjwLJeJML43Kpxn  ...  seem to work as well as name brand batteries a...\n",
              "4  AVpgNzjwLJeJML43Kpxn  ...  these batteries are very long lasting the pric...\n",
              "\n",
              "[5 rows x 25 columns]"
            ]
          },
          "metadata": {},
          "execution_count": 10
        }
      ]
    },
    {
      "cell_type": "code",
      "metadata": {
        "id": "K5EoMqI8gjIm"
      },
      "source": [
        "alphebetical_chars = [\"ABCDEFGHIJKLMNOP\"]\n",
        "# check if any of these alphabetical chars exist in your clean chars\n",
        "assert df.clean_text.isin(alphebetical_chars).sum() == 0, \"Did you case normalize your text inside of your clean_data function?\""
      ],
      "execution_count": 11,
      "outputs": []
    },
    {
      "cell_type": "markdown",
      "metadata": {
        "id": "g9yE_EcNgjIn"
      },
      "source": [
        "------\n",
        "\n",
        "## Determine Number of Topics\n",
        "\n",
        "We will run an experiment to determine how many topics exist within the `primaryCategories` of `Electronics`. This is the largest primary category containing nearly 14K documents, so we should have plenty of data. \n",
        "\n",
        "Just as we did in the guided project, we'll be running a gridsearch over the number of topics and scoring each model using the Coherence metric to determine which number of topics we should use. \n"
      ]
    },
    {
      "cell_type": "code",
      "metadata": {
        "id": "P5gLzO75gjIn"
      },
      "source": [
        "# create a mask for docs that are in the Electronics primaryCategories - save result to `electronics_mask`\n",
        "electronics_mask = df.primaryCategories.isin([\"Electronics\"])\n",
        "\n",
        "# use mask to isolate all the documents in the Electronics primaryCategories - save result to `df_electronics`\n",
        "df_electronics = df[electronics_mask]"
      ],
      "execution_count": 12,
      "outputs": []
    },
    {
      "cell_type": "code",
      "metadata": {
        "id": "Ye6NahShgjIo",
        "colab": {
          "base_uri": "https://localhost:8080/",
          "height": 366
        },
        "outputId": "7c1a764d-ff4f-44ad-cb33-91cdd761e2f3"
      },
      "source": [
        "df_electronics.head(3)"
      ],
      "execution_count": 13,
      "outputs": [
        {
          "output_type": "execute_result",
          "data": {
            "text/html": [
              "<div>\n",
              "<style scoped>\n",
              "    .dataframe tbody tr th:only-of-type {\n",
              "        vertical-align: middle;\n",
              "    }\n",
              "\n",
              "    .dataframe tbody tr th {\n",
              "        vertical-align: top;\n",
              "    }\n",
              "\n",
              "    .dataframe thead th {\n",
              "        text-align: right;\n",
              "    }\n",
              "</style>\n",
              "<table border=\"1\" class=\"dataframe\">\n",
              "  <thead>\n",
              "    <tr style=\"text-align: right;\">\n",
              "      <th></th>\n",
              "      <th>id</th>\n",
              "      <th>dateAdded</th>\n",
              "      <th>dateUpdated</th>\n",
              "      <th>name</th>\n",
              "      <th>asins</th>\n",
              "      <th>brand</th>\n",
              "      <th>categories</th>\n",
              "      <th>primaryCategories</th>\n",
              "      <th>imageURLs</th>\n",
              "      <th>keys</th>\n",
              "      <th>manufacturer</th>\n",
              "      <th>manufacturerNumber</th>\n",
              "      <th>reviews.date</th>\n",
              "      <th>reviews.dateSeen</th>\n",
              "      <th>reviews.didPurchase</th>\n",
              "      <th>reviews.doRecommend</th>\n",
              "      <th>reviews.id</th>\n",
              "      <th>reviews.numHelpful</th>\n",
              "      <th>reviews.rating</th>\n",
              "      <th>reviews.sourceURLs</th>\n",
              "      <th>reviews.text</th>\n",
              "      <th>reviews.title</th>\n",
              "      <th>reviews.username</th>\n",
              "      <th>sourceURLs</th>\n",
              "      <th>clean_text</th>\n",
              "    </tr>\n",
              "  </thead>\n",
              "  <tbody>\n",
              "    <tr>\n",
              "      <th>8343</th>\n",
              "      <td>AVpe7nGV1cnluZ0-aG2o</td>\n",
              "      <td>2014-10-28T11:14:38Z</td>\n",
              "      <td>2019-04-25T09:05:28Z</td>\n",
              "      <td>AmazonBasics Nylon CD/DVD Binder (400 Capacity)</td>\n",
              "      <td>B00DIHVMEA,B00EZ1ZTV0</td>\n",
              "      <td>Amazonbasics</td>\n",
              "      <td>Audio &amp; Video Accessories,TV, Video &amp; Home Aud...</td>\n",
              "      <td>Electronics</td>\n",
              "      <td>http://ecx.images-amazon.com/images/I/41jQha7Z...</td>\n",
              "      <td>amazonbasicsnyloncddvdbinder400capacity/b00ez1...</td>\n",
              "      <td>AmazonBasics</td>\n",
              "      <td>YBB12400R2</td>\n",
              "      <td>2017-11-12T00:00:00.000Z</td>\n",
              "      <td>2019-03-25T00:00:00Z</td>\n",
              "      <td>NaN</td>\n",
              "      <td>NaN</td>\n",
              "      <td>NaN</td>\n",
              "      <td>NaN</td>\n",
              "      <td>5</td>\n",
              "      <td>https://www.ebay.com/itm/Amazonbasics-Nylon-Cd...</td>\n",
              "      <td>Great case to keep everything in its place! My...</td>\n",
              "      <td>Excellent product</td>\n",
              "      <td>qs341_5</td>\n",
              "      <td>https://www.ebay.com/itm/AmazonBasics-Nylon-CD...</td>\n",
              "      <td>great case to keep everything in its place my ...</td>\n",
              "    </tr>\n",
              "    <tr>\n",
              "      <th>8344</th>\n",
              "      <td>AVpe7nGV1cnluZ0-aG2o</td>\n",
              "      <td>2014-10-28T11:14:38Z</td>\n",
              "      <td>2019-04-25T09:05:28Z</td>\n",
              "      <td>AmazonBasics Nylon CD/DVD Binder (400 Capacity)</td>\n",
              "      <td>B00DIHVMEA,B00EZ1ZTV0</td>\n",
              "      <td>Amazonbasics</td>\n",
              "      <td>Audio &amp; Video Accessories,TV, Video &amp; Home Aud...</td>\n",
              "      <td>Electronics</td>\n",
              "      <td>http://ecx.images-amazon.com/images/I/41jQha7Z...</td>\n",
              "      <td>amazonbasicsnyloncddvdbinder400capacity/b00ez1...</td>\n",
              "      <td>AmazonBasics</td>\n",
              "      <td>YBB12400R2</td>\n",
              "      <td>2014-06-14T05:00:00Z</td>\n",
              "      <td>2014-08-28T00:00:00Z</td>\n",
              "      <td>NaN</td>\n",
              "      <td>NaN</td>\n",
              "      <td>NaN</td>\n",
              "      <td>NaN</td>\n",
              "      <td>5</td>\n",
              "      <td>http://www.amazon.co.uk/gp/product-reviews/B00...</td>\n",
              "      <td>After discarding and getting rid of broken cd ...</td>\n",
              "      <td>It was a much needed storage</td>\n",
              "      <td>Diablita</td>\n",
              "      <td>https://www.ebay.com/itm/AmazonBasics-Nylon-CD...</td>\n",
              "      <td>after discarding and getting rid of broken cd ...</td>\n",
              "    </tr>\n",
              "    <tr>\n",
              "      <th>8345</th>\n",
              "      <td>AVpe7nGV1cnluZ0-aG2o</td>\n",
              "      <td>2014-10-28T11:14:38Z</td>\n",
              "      <td>2019-04-25T09:05:28Z</td>\n",
              "      <td>AmazonBasics Nylon CD/DVD Binder (400 Capacity)</td>\n",
              "      <td>B00DIHVMEA,B00EZ1ZTV0</td>\n",
              "      <td>Amazonbasics</td>\n",
              "      <td>Audio &amp; Video Accessories,TV, Video &amp; Home Aud...</td>\n",
              "      <td>Electronics</td>\n",
              "      <td>http://ecx.images-amazon.com/images/I/41jQha7Z...</td>\n",
              "      <td>amazonbasicsnyloncddvdbinder400capacity/b00ez1...</td>\n",
              "      <td>AmazonBasics</td>\n",
              "      <td>YBB12400R2</td>\n",
              "      <td>2019-02-15T00:00:00.000Z</td>\n",
              "      <td>2019-03-25T00:00:00Z</td>\n",
              "      <td>NaN</td>\n",
              "      <td>NaN</td>\n",
              "      <td>NaN</td>\n",
              "      <td>NaN</td>\n",
              "      <td>5</td>\n",
              "      <td>https://www.ebay.com/itm/Amazonbasics-Nylon-Cd...</td>\n",
              "      <td>A few dollars more, but I am boycotting amazon</td>\n",
              "      <td>it was worth it</td>\n",
              "      <td>coldbloodblazing</td>\n",
              "      <td>https://www.ebay.com/itm/AmazonBasics-Nylon-CD...</td>\n",
              "      <td>a few dollars more but i am boycotting amazon</td>\n",
              "    </tr>\n",
              "  </tbody>\n",
              "</table>\n",
              "</div>"
            ],
            "text/plain": [
              "                        id  ...                                         clean_text\n",
              "8343  AVpe7nGV1cnluZ0-aG2o  ...  great case to keep everything in its place my ...\n",
              "8344  AVpe7nGV1cnluZ0-aG2o  ...  after discarding and getting rid of broken cd ...\n",
              "8345  AVpe7nGV1cnluZ0-aG2o  ...      a few dollars more but i am boycotting amazon\n",
              "\n",
              "[3 rows x 25 columns]"
            ]
          },
          "metadata": {},
          "execution_count": 13
        }
      ]
    },
    {
      "cell_type": "markdown",
      "metadata": {
        "id": "nMpgj9KPgjIo"
      },
      "source": [
        "------\n",
        "### Tokenize your documents \n",
        "\n",
        "Remember that you'll need to use the [**corpora**](https://radimrehurek.com/gensim/corpora/dictionary.html) class from the Gensim library. So definitely check out the docs to learn more about this tool. There is an example of how to do this in the guided project.\n",
        "\n",
        "But before we can use the [**corpora**](https://radimrehurek.com/gensim/corpora/dictionary.html) class, we must first tokenize our articles. \n",
        "\n"
      ]
    },
    {
      "cell_type": "code",
      "metadata": {
        "id": "1F0FeHb_D7t0"
      },
      "source": [
        "import os\n",
        "from pandarallel.utils import progress_bars"
      ],
      "execution_count": 18,
      "outputs": []
    },
    {
      "cell_type": "code",
      "metadata": {
        "colab": {
          "base_uri": "https://localhost:8080/"
        },
        "id": "BDQwgX2ZEC5P",
        "outputId": "0f716328-ac15-498d-cebb-851ff61a1af3"
      },
      "source": [
        "os.cpu_count()"
      ],
      "execution_count": 17,
      "outputs": [
        {
          "output_type": "execute_result",
          "data": {
            "text/plain": [
              "2"
            ]
          },
          "metadata": {},
          "execution_count": 17
        }
      ]
    },
    {
      "cell_type": "code",
      "metadata": {
        "deletable": false,
        "nbgrader": {
          "cell_type": "code",
          "checksum": "2f9f136b6fa56339c87e209fe6f2f12d",
          "grade": false,
          "grade_id": "cell-d7d585b64d6f0119",
          "locked": false,
          "schema_version": 3,
          "solution": true,
          "task": false
        },
        "id": "LgEy8mjQgjIo",
        "colab": {
          "base_uri": "https://localhost:8080/"
        },
        "outputId": "9298cb20-bc76-4de0-ab15-e7e156efacd1"
      },
      "source": [
        "# identify how many processors your machine has - save the result to `n_processors`\n",
        "n_processors = 3\n",
        "# subtract 1 from n_processors - save the result to `nb_workers`\n",
        "nb_workers = n_processors - 1\n",
        "# initialize just like we did in the guided project\n",
        "# COLAB only has 2 processors, set nb_workers=2 and hope that it doesn't crash your notebook (otherwise, don't use this tool)\n",
        "pandarallel.initialize(progress_bar=True, nb_workers=nb_workers)\n",
        "\n",
        "# YOUR CODE HERE\n",
        "progress_bars.is_notebook_lab = lambda : True"
      ],
      "execution_count": 22,
      "outputs": [
        {
          "output_type": "stream",
          "name": "stdout",
          "text": [
            "INFO: Pandarallel will run on 2 workers.\n",
            "INFO: Pandarallel will use Memory file system to transfer data between the main process and workers.\n"
          ]
        }
      ]
    },
    {
      "cell_type": "code",
      "metadata": {
        "id": "a6s6SKu3gjIp"
      },
      "source": [
        "# load in the spaCy language model\n",
        "nlp = spacy.load(\"en_core_web_md\")"
      ],
      "execution_count": 21,
      "outputs": []
    },
    {
      "cell_type": "code",
      "metadata": {
        "id": "nyvVZiqPgjIp",
        "colab": {
          "base_uri": "https://localhost:8080/",
          "height": 115,
          "referenced_widgets": [
            "5f3376066b1c4c3ba26e38757485af0f",
            "2c7939a8ae2f43e3bdabb0534eab9207",
            "16c5bc9aafee40169c6a3a13c4ae2459",
            "57da1fde61a84d38af06e66ce80bc6c0",
            "f793171149274a55b9fd3661f95814b8",
            "dfa9a32f9e464edfbae5ffcc20597b0c",
            "13dd6fa18f9b4ed49038541cd8e1ddad",
            "59c90d6307e9425481744e8da2ef19f0",
            "b476c4012637415fbf586c8c5790940d",
            "e4ac8dcc242747d0820f9f6c24b62de9",
            "d197a20aafc64f5dbac6ca4187376127",
            "3394c11346fd436fba86e788cf6bbd7b",
            "3d24f7f476524c1589519e760fd06dc3",
            "fd35e555e52b4b4ca3f6b60b1a954493",
            "6d40cb53786649b8ae9ea01a41e45ab1",
            "4f1aa9cefe9d4158b96bc31a395d69e8",
            "a35b7ca90caa457a9f2de13a3999ea79",
            "a449d6c73e3a42c8878ce88ef9e43e2a"
          ]
        },
        "outputId": "4f70a4d2-caea-41e1-b3a1-53f4d703ace1"
      },
      "source": [
        "%%time\n",
        "# create our tokens in the form of lemmas \n",
        "df_electronics['lemmas'] = df_electronics['clean_text'].parallel_apply(lambda x: [token.lemma_ for token in nlp(x) if (token.is_stop != True) and (token.is_punct != True)])"
      ],
      "execution_count": 23,
      "outputs": [
        {
          "output_type": "display_data",
          "data": {
            "application/vnd.jupyter.widget-view+json": {
              "model_id": "5f3376066b1c4c3ba26e38757485af0f",
              "version_minor": 0,
              "version_major": 2
            },
            "text/plain": [
              "VBox(children=(HBox(children=(IntProgress(value=0, description='0.00%', max=6998), Label(value='0 / 6998'))), …"
            ]
          },
          "metadata": {}
        },
        {
          "output_type": "stream",
          "name": "stdout",
          "text": [
            "CPU times: user 4.63 s, sys: 525 ms, total: 5.16 s\n",
            "Wall time: 2min 20s\n"
          ]
        }
      ]
    },
    {
      "cell_type": "code",
      "metadata": {
        "colab": {
          "base_uri": "https://localhost:8080/"
        },
        "id": "1hIgHnreFwkg",
        "outputId": "eb4203b2-2e8b-4541-c889-c51df402ad4b"
      },
      "source": [
        "df_electronics['lemmas']"
      ],
      "execution_count": 24,
      "outputs": [
        {
          "output_type": "execute_result",
          "data": {
            "text/plain": [
              "8343     [great, case, place, husband, love, hold, lot,...\n",
              "8344     [discard, get, rid, broken, cd, case, break, c...\n",
              "8345                             [dollar, boycott, amazon]\n",
              "8346     [initial, impression, good, material, nice, sh...\n",
              "8347     [pro, standard, echo, con, old, generation, ec...\n",
              "                               ...                        \n",
              "28327    [get,  ,  , yr, old, twin,  , yr, old, better,...\n",
              "28328    [buy, niece, christmas, giftshe,  , year, old,...\n",
              "28329    [nice, light, internet, browsing, keep, email,...\n",
              "28330    [tablet, absolutely, want, watch, tv, show, mo...\n",
              "28331    [ninety, dollar, expectionations, low, good, t...\n",
              "Name: lemmas, Length: 13995, dtype: object"
            ]
          },
          "metadata": {},
          "execution_count": 24
        }
      ]
    },
    {
      "cell_type": "code",
      "metadata": {
        "id": "P5F6BSGcF5sX"
      },
      "source": [
        "def lemFilter(lemmas):\n",
        "  return [lemma for lemma in lemmas if len(lemma) > 2]"
      ],
      "execution_count": 25,
      "outputs": []
    },
    {
      "cell_type": "code",
      "metadata": {
        "colab": {
          "base_uri": "https://localhost:8080/",
          "height": 81,
          "referenced_widgets": [
            "b8e8317be7b44cef8c69d9d2a80d5583",
            "89585cc7480a48d487b438d48989163f",
            "e8f30dafee9249799b4120a2ec839fee",
            "6f9632175edf405ea9e1ff161bf47f49",
            "ead73b4b207b4f0daa01abde474c1296",
            "ba1b0da83433428fb0af6fe09d809089",
            "e2f126712b534a8084b1f74e68829aea",
            "91a0d8bab368469792a4a2b3c102a46c",
            "24749bd664cf4525817e74f8172ef4db",
            "2fda9e50f1f1470bae60ee73fed9c9d2",
            "64319236c8bf49aead0bca9ece3f3add",
            "57b2b9179cdd44fdbe9620baf5938c08",
            "680601536ea847e3978e6a1e7f98ac71",
            "446b9a825ea048eab589bb7f0f41e389",
            "2f7a389f732a4a928026110af8850856",
            "876bb797dd2b483e9a0ed81baebdd570",
            "13e393d0242f419fa16e691bd7715a7a",
            "0465669286ab400789be9e06c23709c1"
          ]
        },
        "id": "-g-kI9iZGEQq",
        "outputId": "0922a9c6-03e5-45c7-e19c-6d09867192dc"
      },
      "source": [
        "df_electronics['filtered_lemmas'] = df_electronics['lemmas'].parallel_apply(lemFilter)"
      ],
      "execution_count": 27,
      "outputs": [
        {
          "output_type": "display_data",
          "data": {
            "application/vnd.jupyter.widget-view+json": {
              "model_id": "b8e8317be7b44cef8c69d9d2a80d5583",
              "version_minor": 0,
              "version_major": 2
            },
            "text/plain": [
              "VBox(children=(HBox(children=(IntProgress(value=0, description='0.00%', max=6998), Label(value='0 / 6998'))), …"
            ]
          },
          "metadata": {}
        }
      ]
    },
    {
      "cell_type": "code",
      "metadata": {
        "colab": {
          "base_uri": "https://localhost:8080/"
        },
        "id": "f3vAI5coGS9O",
        "outputId": "4c516df9-e7a7-470a-9f9a-9486d39f065e"
      },
      "source": [
        "df_electronics['filtered_lemmas']"
      ],
      "execution_count": 30,
      "outputs": [
        {
          "output_type": "execute_result",
          "data": {
            "text/plain": [
              "8343        [great, case, place, husband, love, hold, lot]\n",
              "8344     [discard, get, rid, broken, case, break, selec...\n",
              "8345                             [dollar, boycott, amazon]\n",
              "8346     [initial, impression, good, material, nice, sh...\n",
              "8347     [pro, standard, echo, con, old, generation, ec...\n",
              "                               ...                        \n",
              "28327    [get, old, twin, old, better, perfect, way, read]\n",
              "28328    [buy, niece, christmas, giftshe, year, old, love]\n",
              "28329    [nice, light, internet, browsing, keep, email,...\n",
              "28330    [tablet, absolutely, want, watch, show, movie,...\n",
              "28331    [ninety, dollar, expectionations, low, good, t...\n",
              "Name: filtered_lemmas, Length: 13995, dtype: object"
            ]
          },
          "metadata": {},
          "execution_count": 30
        }
      ]
    },
    {
      "cell_type": "markdown",
      "metadata": {
        "id": "6ctnqmIngjIq"
      },
      "source": [
        "### Use the Corpora Class to Prep Your Data for LDA\n",
        "\n",
        "You'll need to create the same `id2word` and `corpus` objects that we created in the guided projects. So be sure to reference the guided project notebook if you need to. "
      ]
    },
    {
      "cell_type": "code",
      "metadata": {
        "deletable": false,
        "nbgrader": {
          "cell_type": "code",
          "checksum": "53bf811aebb39e7ed6fc592851f82f8b",
          "grade": false,
          "grade_id": "cell-9d92f28649aa999e",
          "locked": false,
          "schema_version": 3,
          "solution": true,
          "task": false
        },
        "id": "K7C1AG7KgjIq"
      },
      "source": [
        "# Create lemma dictionary using Dictionary - save the result to `id2word`\n",
        "id2word = corpora.Dictionary(df_electronics['filtered_lemmas'])\n",
        "# Create Term Document Frequency list - save the result to `corpus`\n",
        "corpus = [id2word.doc2bow(text) for text in df_electronics['filtered_lemmas']]\n",
        "# YOUR CODE HERE"
      ],
      "execution_count": 31,
      "outputs": []
    },
    {
      "cell_type": "markdown",
      "metadata": {
        "id": "cPecYho8gjIq"
      },
      "source": [
        "## Gridsearch the Number of Topics \n",
        "\n",
        "Just as we did in the guided project, we're going to run a loop over a range of a possible number of topics and then plot the coherence values to determine which number of topics leads to the most sensible grouping of documents. "
      ]
    },
    {
      "cell_type": "code",
      "metadata": {
        "id": "vsWq9j6QgjIq"
      },
      "source": [
        "def compute_coherence_values(dictionary, corpus, texts, limit, start=2, step=3):\n",
        "    \"\"\"\n",
        "    Compute c_v coherence for various number of topics\n",
        "\n",
        "    Parameters:\n",
        "    ----------\n",
        "    dictionary: Gensim dictionary\n",
        "    corpus: Gensim corpus\n",
        "    texts: List of input texts\n",
        "    limit: Max num of topics\n",
        "\n",
        "    Returns:\n",
        "    -------\n",
        "    model_list: List of LDA topic models\n",
        "    coherence_values: Coherence values corresponding to the LDA model with the respective number of topics\n",
        "    \"\"\"\n",
        "    coherence_values = []\n",
        "    model_list = []\n",
        "    for num_topics in range(start, limit, step):\n",
        "        model = gensim.models.ldamulticore.LdaMulticore(corpus=corpus,\n",
        "                                                        id2word=id2word,\n",
        "                                                        num_topics=num_topics, \n",
        "                                                        chunksize=100,\n",
        "                                                        passes=10,\n",
        "                                                        random_state=1234,\n",
        "                                                        per_word_topics=True,\n",
        "                                                        workers=10)\n",
        "        model_list.append(model)\n",
        "        coherencemodel = CoherenceModel(model=model, texts=texts, dictionary=dictionary, coherence='c_v')\n",
        "        coherence_values.append(coherencemodel.get_coherence())\n",
        "\n",
        "    return model_list, coherence_values"
      ],
      "execution_count": 32,
      "outputs": []
    },
    {
      "cell_type": "code",
      "metadata": {
        "id": "IbbdtTkkgjIr",
        "colab": {
          "base_uri": "https://localhost:8080/"
        },
        "outputId": "f0df7419-582c-4f55-cbfd-61f5e4568445"
      },
      "source": [
        "%%time\n",
        "model_list, coherence_values = compute_coherence_values(dictionary=id2word, corpus=corpus, texts=df_electronics['lemmas'], start=2, limit=22, step=2)"
      ],
      "execution_count": 33,
      "outputs": [
        {
          "output_type": "stream",
          "name": "stdout",
          "text": [
            "CPU times: user 4min 44s, sys: 35.8 s, total: 5min 20s\n",
            "Wall time: 10min 51s\n"
          ]
        }
      ]
    },
    {
      "cell_type": "code",
      "metadata": {
        "id": "Utb8SV6qgjIr",
        "colab": {
          "base_uri": "https://localhost:8080/",
          "height": 350
        },
        "outputId": "85fc441f-6705-4151-e922-78abd0968623"
      },
      "source": [
        "start=2; limit=22;  step=2;\n",
        "x = range(start, limit, step)\n",
        "\n",
        "plt.figure(figsize=(20,5))\n",
        "plt.grid()\n",
        "plt.title(\"Coherence Score vs. Number of Topics\")\n",
        "plt.xticks(x)\n",
        "plt.plot(x, coherence_values, \"-o\")\n",
        "\n",
        "plt.xlabel(\"Num Topics\")\n",
        "plt.ylabel(\"Coherence score\")\n",
        "\n",
        "plt.show();"
      ],
      "execution_count": 34,
      "outputs": [
        {
          "output_type": "display_data",
          "data": {
            "image/png": "[encoded data removed]",
            "text/plain": [
              "<Figure size 1440x360 with 1 Axes>"
            ]
          },
          "metadata": {
            "needs_background": "light"
          }
        }
      ]
    },
    {
      "cell_type": "code",
      "metadata": {
        "deletable": false,
        "nbgrader": {
          "cell_type": "code",
          "checksum": "45f72ff929ab8b765d0f0b5f35137f0d",
          "grade": false,
          "grade_id": "cell-e97661faebf1ac3c",
          "locked": false,
          "schema_version": 3,
          "solution": true,
          "task": false
        },
        "id": "J7wmWeeogjIr",
        "colab": {
          "base_uri": "https://localhost:8080/"
        },
        "outputId": "aa8daa81-512d-433d-c82b-884b88c7fc07"
      },
      "source": [
        "# use np.argmax() to get index of largest coherence value from coherence_values - save result to `max_cohereance_val_index`\n",
        "max_cohereance_val_index = np.argmax(coherence_values)\n",
        "# use `max_cohereance_val_index` to index model_list for the corresponding model - save result to `lda_trained_model`\n",
        "lda_trained_model = model_list[max_cohereance_val_index]\n",
        "\n",
        "# YOUR CODE HERE\n",
        "print(max_cohereance_val_index)\n",
        "print(lda_trained_model)"
      ],
      "execution_count": 37,
      "outputs": [
        {
          "output_type": "stream",
          "name": "stdout",
          "text": [
            "1\n",
            "LdaModel(num_terms=6676, num_topics=4, decay=0.5, chunksize=100)\n"
          ]
        }
      ]
    },
    {
      "cell_type": "markdown",
      "metadata": {
        "id": "Xdkd8qnBgjIs"
      },
      "source": [
        "## Use pyLDAvis to Visualize Your Topics \n",
        "\n",
        "Take a look at the topic bubbles and bar chart for the terms on the right-hand side.  \n",
        "\n",
        "- Describe the topic bubbles. \n",
        "- Do they overlap or not? \n",
        "- What does it mean when they overlap? \n",
        "- What does it mean when they don't overlap?\n",
        "- Are the terms in each topic distinct from the topics in the other topic bubbles?\n"
      ]
    },
    {
      "cell_type": "code",
      "metadata": {
        "id": "kVwXCD7jKRsa"
      },
      "source": [
        "pyLDAvis.enable_notebook()"
      ],
      "execution_count": 38,
      "outputs": []
    },
    {
      "cell_type": "code",
      "metadata": {
        "deletable": false,
        "nbgrader": {
          "cell_type": "code",
          "checksum": "7ad72f47a2b4930f8503c7733e5257cc",
          "grade": false,
          "grade_id": "cell-5213c8c2af79e714",
          "locked": false,
          "schema_version": 3,
          "solution": true,
          "task": false
        },
        "id": "LACY7Y0HgjIs",
        "colab": {
          "base_uri": "https://localhost:8080/",
          "height": 861
        },
        "outputId": "80622584-63ef-41c1-a666-ca2ce7d57817"
      },
      "source": [
        "# plot your topics here\n",
        "# YOUR CODE HERE\n",
        "vis = pyLDAvis.gensim.prepare(lda_trained_model, corpus, id2word)\n",
        "vis"
      ],
      "execution_count": 40,
      "outputs": [
        {
          "output_type": "execute_result",
          "data": {
            "text/html": [
              "\n",
              "<link rel=\"stylesheet\" type=\"text/css\" href=\"https://cdn.rawgit.com/bmabey/pyLDAvis/files/ldavis.v1.0.0.css\">\n",
              "\n",
              "\n",
              "<div id=\"ldavis_el2871397006867129128212306622\"></div>\n",
              "<script type=\"text/javascript\">\n",
              "\n",
              "var ldavis_el2871397006867129128212306622_data = {\"mdsDat\": {\"x\": [0.14719525785838225, 0.09255621037837895, -0.15394048583382428, -0.08581098240293698], \"y\": [-0.034457561912404566, -0.0033544645007216383, -0.12662874278558311, 0.1644407691987093], \"topics\": [1, 2, 3, 4], \"cluster\": [1, 1, 1, 1], \"Freq\": [32.09863358803335, 27.437477102616274, 22.330871353112087, 18.133017956238287]}, \"tinfo\": {\"Term\": [\"love\", \"kid\", \"tablet\", \"great\", \"price\", \"year\", \"old\", \"app\", \"kindle\", \"screen\", \"play\", \"store\", \"google\", \"daughter\", \"amazon\", \"son\", \"christmas\", \"charge\", \"child\", \"fire\", \"not\", \"game\", \"gift\", \"good\", \"music\", \"use\", \"speaker\", \"light\", \"new\", \"easy\", \"parental\", \"daughter\", \"educational\", \"granddaughter\", \"kid\", \"young\", \"birthday\", \"adult\", \"niece\", \"present\", \"nephew\", \"toddler\", \"entertain\", \"learning\", \"child\", \"grandson\", \"son\", \"grand\", \"appropriate\", \"christmas\", \"safe\", \"kids\", \"bumper\", \"busy\", \"freetime\", \"mother\", \"activity\", \"year\", \"pink\", \"starter\", \"grandchild\", \"age\", \"old\", \"love\", \"control\", \"durable\", \"learn\", \"wife\", \"absolutely\", \"game\", \"gift\", \"buy\", \"enjoy\", \"time\", \"tablet\", \"play\", \"get\", \"easy\", \"case\", \"use\", \"purchase\", \"set\", \"great\", \"app\", \"like\", \"fire\", \"kindle\", \"not\", \"good\", \"read\", \"book\", \"perfect\", \"card\", \"expandable\", \"reasonable\", \"savvy\", \"social\", \"email\", \"medium\", \"surfing\", \"expand\", \"microsd\", \"exactly\", \"gig\", \"underground\", \"childs\", \"browse\", \"expansion\", \"friday\", \"bill\", \"terrific\", \"fingertip\", \"avoid\", \"xmas\", \"individual\", \"surf\", \"aspect\", \"value\", \"loading\", \"motherinlaw\", \"confusing\", \"beat\", \"serve\", \"price\", \"memory\", \"web\", \"basic\", \"check\", \"graphic\", \"ease\", \"browsing\", \"family\", \"user\", \"inexpensive\", \"micro\", \"great\", \"highly\", \"storage\", \"picture\", \"recommend\", \"quality\", \"fast\", \"product\", \"good\", \"tablet\", \"nice\", \"money\", \"size\", \"ipad\", \"use\", \"movie\", \"need\", \"work\", \"easy\", \"amazon\", \"read\", \"want\", \"book\", \"screen\", \"fire\", \"perfect\", \"buy\", \"purchase\", \"love\", \"not\", \"watch\", \"look\", \"app\", \"voyage\", \"paperwhite\", \"inch\", \"port\", \"perform\", \"page\", \"buck\", \"white\", \"drive\", \"purse\", \"pocket\", \"cord\", \"usb\", \"short\", \"note\", \"paper\", \"key\", \"stock\", \"thin\", \"oasis\", \"keyboard\", \"forward\", \"backpack\", \"notice\", \"quit\", \"pop\", \"adapter\", \"eventually\", \"backlight\", \"chance\", \"gen\", \"adjust\", \"previous\", \"text\", \"exchange\", \"model\", \"feel\", \"nook\", \"upgrade\", \"charge\", \"turn\", \"original\", \"eye\", \"kindle\", \"light\", \"bright\", \"probably\", \"screen\", \"weight\", \"new\", \"power\", \"return\", \"fire\", \"fit\", \"well\", \"replace\", \"battery\", \"version\", \"laptop\", \"not\", \"like\", \"have\", \"read\", \"hold\", \"buy\", \"small\", \"good\", \"time\", \"device\", \"life\", \"size\", \"book\", \"get\", \"work\", \"purchase\", \"little\", \"old\", \"echo\", \"tap\", \"bluetooth\", \"voice\", \"office\", \"associate\", \"require\", \"flight\", \"format\", \"dot\", \"loud\", \"college\", \"weather\", \"ecosystem\", \"exceed\", \"advertising\", \"activate\", \"google\", \"frustrating\", \"backup\", \"block\", \"steal\", \"penny\", \"claim\", \"grandma\", \"root\", \"transfer\", \"message\", \"example\", \"silk\", \"alexa\", \"speaker\", \"install\", \"wifi\", \"magazine\", \"connect\", \"store\", \"account\", \"home\", \"customer\", \"bring\", \"music\", \"app\", \"service\", \"sound\", \"amazon\", \"android\", \"find\", \"not\", \"ask\", \"available\", \"play\", \"device\", \"download\", \"load\", \"listen\", \"thing\", \"know\", \"like\", \"work\", \"try\", \"use\", \"good\", \"tablet\", \"book\", \"buy\", \"need\", \"great\", \"want\"], \"Freq\": [4170.0, 1874.0, 6247.0, 4492.0, 1927.0, 1473.0, 1804.0, 2015.0, 2438.0, 1392.0, 1355.0, 633.0, 485.0, 710.0, 2084.0, 713.0, 611.0, 614.0, 568.0, 2112.0, 2570.0, 1404.0, 859.0, 3169.0, 411.0, 3144.0, 273.0, 534.0, 749.0, 2336.0, 300.374451519033, 707.117090719657, 165.56568658869244, 299.2438051981033, 1865.202253834034, 165.138118792147, 157.176113445499, 145.18912978238228, 139.31710448463338, 141.64192916145765, 124.1812128832286, 104.69504215372662, 95.11918318056817, 93.46229149821312, 562.6925423897802, 352.642452598388, 706.372226588135, 101.61479499287358, 78.45382780658585, 603.2779258325571, 60.415158927020606, 55.239719011756485, 52.90881401132158, 47.277969052693976, 58.98563216495004, 135.64142641590868, 43.73224828038116, 1446.1792081268698, 39.88779750071071, 41.166663079644614, 70.7369805481646, 215.10943680752226, 1597.0641527699354, 3569.6508829435534, 348.16540327100745, 204.31528809163126, 345.5482752579836, 311.9624707951788, 173.97497705286946, 1046.3866097115538, 668.5961905487513, 1858.9323416750174, 418.37319975128355, 688.6653166774969, 2617.6873188329723, 784.0828205455939, 726.9945572116451, 1142.5445556576378, 379.436346671282, 1356.799318668799, 782.2328908332119, 387.04997536364584, 1311.497003488208, 632.6164598257177, 569.9805903937096, 633.2050407487623, 640.5585239499374, 561.4593492071275, 552.7816568859844, 471.08539330946115, 420.834324432636, 384.06534111664683, 274.9859742150206, 59.690740794225256, 48.4903159194847, 49.418666956182754, 46.60852408575519, 272.00462886794384, 81.18338906661813, 38.73895777841141, 37.433769905163714, 27.439971114537585, 75.13954989375114, 26.06559052679717, 26.418369303527722, 26.7878078007371, 102.71103142428173, 20.22822602642346, 181.21017498758025, 31.33214653218682, 20.28675035951101, 18.985746106609728, 21.51634299420475, 24.04672457038809, 17.87182354696908, 167.96233894698338, 20.088004469566187, 259.0347000511017, 17.77484070818814, 14.447923535799635, 14.427735100518264, 209.94455943347265, 42.089933010619, 1752.0209186314642, 255.1422525037516, 250.68544982289532, 183.71583761752808, 158.48647175715595, 81.25623011336434, 129.89180049395435, 58.9049199311875, 164.65505996960192, 273.1101572729652, 111.18866706257549, 64.5757560068073, 2896.7895891967937, 163.75429271708924, 220.53044068273144, 258.53888571698064, 538.2336008880145, 370.72440873040404, 364.93992411465194, 812.9316798221273, 1768.1003748558037, 3163.740907079564, 518.5454775569203, 243.27577074828457, 447.4448647218056, 444.4172034977272, 1285.6501808228957, 353.71009428003555, 540.9994912824691, 747.9461981606361, 959.609277588186, 791.8217834692327, 592.7293976542879, 422.06208948061067, 473.07242511459157, 457.8856500030815, 551.9876460192186, 336.43130564565223, 569.1920804461014, 416.0877241232461, 449.7430987300889, 401.45090220414977, 304.0460052093354, 292.41885404969696, 296.8432643248404, 116.58851894258983, 102.95185972405585, 157.60533342824382, 95.15273218845431, 65.99978065361137, 174.8945388376776, 58.13076718903873, 50.12350546447389, 53.813022027355, 66.79170111139845, 44.28873864938681, 53.41784550219931, 43.46100147046236, 62.72204442613324, 47.602505777905826, 41.89014277767611, 37.846611172914336, 38.53980686449488, 37.90752831842585, 35.37514545675861, 112.6787134812211, 40.926153106042186, 29.17688127133537, 37.4454984570238, 27.34943262027868, 41.03685977753272, 26.014809493341566, 26.34041649165635, 26.39109437746244, 26.189704421597252, 30.261768196914435, 51.50152436049766, 158.11820667810466, 53.337630260608826, 52.4802291650479, 211.13231819445795, 179.1044006084171, 93.61681889401615, 270.38501326307073, 519.8370563018518, 232.62332442189904, 121.66568276170263, 83.26942754367441, 1530.4342609719097, 390.29524832923494, 84.52017003203594, 79.38778187189249, 823.3720367236643, 123.24584367711643, 464.3154335651267, 82.32198326958684, 179.3356954333102, 912.6466598729208, 150.03038410346866, 328.58920034948846, 213.89216254751793, 343.0058833057144, 195.26616300576143, 128.67932497207264, 734.4574694631127, 552.5612143415107, 291.75531937943236, 469.9028420625572, 174.56935533144477, 537.2125762124011, 193.41220229005745, 478.1586206233476, 296.28880698437916, 262.62850752826813, 192.28534340497757, 223.2106433768361, 262.0440689842836, 248.64164469659102, 255.94301813642966, 234.45049317876365, 192.86723126102024, 197.1913872166341, 169.75098145887844, 186.04258721757276, 98.33753875078351, 56.84248126220107, 48.666428605852914, 42.558803762760874, 63.43787733634694, 40.972894083258936, 39.66628791119788, 43.43064399706269, 43.57032341946717, 36.021428919060284, 36.168274530632786, 32.40091243987979, 32.412774399997396, 30.63375509286281, 30.755463704979164, 473.05816324668615, 28.53448262589869, 27.43711297160017, 25.702490044352597, 25.232148107913407, 23.171716544346697, 23.13977897761886, 22.875313790165148, 23.14963891081225, 51.038812724035246, 19.904546947449802, 17.511723577095488, 36.72994881677454, 240.61062359777742, 261.2795100366705, 87.87144793264424, 251.0191872691151, 80.04060954180461, 141.65468185321873, 534.491179595039, 201.1581632295592, 175.08163012725632, 68.88651713150607, 87.37077123681733, 281.2934075761408, 1076.635359090544, 118.77985028868983, 208.67213985069955, 846.5943150945776, 180.12471420967086, 258.7010416543723, 873.2848874439146, 97.49109046309799, 161.69743387748028, 503.7506708137869, 350.24743629672, 303.2152268927141, 140.5606146539946, 114.20293610042718, 236.77990219689275, 159.49810552000068, 334.97884455661875, 324.7102211838494, 146.7185727860362, 384.387430274648, 370.94161981816984, 431.19557076990804, 246.81795847283436, 312.4838882133702, 205.37608810032737, 197.95803485410673, 167.37071571841204], \"Total\": [4170.0, 1874.0, 6247.0, 4492.0, 1927.0, 1473.0, 1804.0, 2015.0, 2438.0, 1392.0, 1355.0, 633.0, 485.0, 710.0, 2084.0, 713.0, 611.0, 614.0, 568.0, 2112.0, 2570.0, 1404.0, 859.0, 3169.0, 411.0, 3144.0, 273.0, 534.0, 749.0, 2336.0, 301.3230593106163, 710.4330163481216, 166.3695378413321, 300.73523317709083, 1874.5192070268788, 165.96926910689191, 158.00043326098626, 146.01141170186932, 140.1213367553394, 142.58886275485764, 125.02552347959457, 105.54714401934568, 95.92038111476656, 94.29534030980062, 568.2726052223114, 356.3074598611409, 713.9355881283898, 102.82841454309926, 79.4514121949178, 611.2288808087391, 61.236842087507114, 56.04732114677541, 53.7457897425232, 48.07382204998451, 60.01822877615525, 138.08557125524322, 44.54320423808419, 1473.791082146651, 40.68691255436058, 41.99884528780068, 72.56215909281737, 224.6496358915419, 1804.0397503783536, 4170.719888972172, 383.51758589535075, 220.7852055078284, 385.85007755313524, 366.1900516918412, 195.03474472679054, 1404.102251972708, 859.658333155343, 3277.82088654689, 591.4266934403587, 1117.1276008028506, 6247.605929317845, 1355.2516401104335, 1231.3860201403013, 2336.4803515787926, 542.8672075146735, 3144.5696756370976, 1559.1850250391517, 600.1735151617145, 4492.897678933922, 2015.0492945571932, 1693.9280099309885, 2112.5582367297147, 2438.1997963203285, 2570.6526083183044, 3169.982272183305, 1583.502576090073, 1402.7687770043456, 765.0891277884872, 278.16022329221937, 60.553902345135974, 49.275977404776306, 50.24861971613497, 47.39855862642987, 276.8778528120079, 82.75693716547188, 39.538506162082925, 38.237220365587866, 28.24070062500364, 77.40036264118851, 26.86868414232351, 27.31413323292756, 27.70837356826531, 106.8217443633116, 21.04075579867717, 188.620780886277, 32.64969088114925, 21.153625072686715, 19.799921028626976, 22.44673249225192, 25.10757384338357, 18.68166192283892, 175.8744700303191, 21.038726837415318, 272.22234227069794, 18.70781824118428, 15.240190857424803, 15.232044549119635, 221.69588929049758, 44.5798903641887, 1927.8904861430626, 278.8893734529845, 274.8604488804974, 200.2663569151404, 172.74129378581137, 87.34812133591704, 143.6830538498833, 63.41449839675562, 186.06600944948286, 316.51392402732847, 123.77987564806837, 71.42330509799088, 4492.897678933922, 198.84490578054925, 276.058042247767, 332.1585735754722, 764.0009348441907, 503.45955824683995, 500.1947721005932, 1253.8815745840743, 3169.982272183305, 6247.605929317845, 772.5340980986439, 333.61442489220343, 746.3038515274745, 756.5519219753937, 3144.5696756370976, 568.3951951288273, 1017.902191253654, 1608.410164579617, 2336.4803515787926, 2084.02760085644, 1583.502576090073, 964.1931296221995, 1402.7687770043456, 1392.5895063398614, 2112.5582367297147, 765.0891277884872, 3277.82088654689, 1559.1850250391517, 4170.719888972172, 2570.6526083183044, 718.4901971236259, 609.3944901379749, 2015.0492945571932, 117.38714021270563, 103.73356885765308, 159.0530445039818, 96.08905246922991, 66.82917885711768, 177.1159980432282, 58.89716756152622, 50.86697844652476, 54.64350323500034, 67.87679772904887, 45.027317885119366, 54.32388784320861, 44.20278904924203, 63.79904974664513, 48.42832904923907, 42.650403982647994, 38.614862096959754, 39.32785240917361, 38.68629136143759, 36.10910596549906, 115.06402862931019, 41.961502481940734, 29.925277835628265, 38.44010648984578, 28.0922286465538, 42.1605437683785, 26.7515960676759, 27.12476191756073, 27.18004611612544, 26.974777721056675, 31.19506507830678, 53.51750096019304, 168.34854027498997, 55.56535346646046, 55.00588315679468, 231.48329345144919, 195.2732233266642, 99.96779152413622, 306.06350696149826, 614.3495044313383, 263.390709880987, 139.49563255207576, 92.12513645660273, 2438.1997963203285, 534.9804363483497, 94.15454800366085, 88.2810194296271, 1392.5895063398614, 151.1547854078558, 749.059608068011, 94.23628116063017, 251.4006266502888, 2112.5582367297147, 210.4974594919279, 610.706741488016, 342.487408646646, 667.4772715499923, 319.0534632676346, 182.3397839099134, 2570.6526083183044, 1693.9280099309885, 645.6526607620989, 1583.502576090073, 304.5010775070856, 3277.82088654689, 410.79106675163604, 3169.982272183305, 1117.1276008028506, 873.9783149205382, 421.41227922559716, 746.3038515274745, 1402.7687770043456, 1231.3860201403013, 1608.410164579617, 1559.1850250391517, 662.9725785475057, 1804.0397503783536, 170.61639116591235, 187.12757577055214, 99.84903388228759, 57.75189816990238, 49.52396035487849, 43.3377314597806, 64.60489438937005, 41.740604647322485, 40.44513085062661, 44.32451319737059, 44.46748002881827, 36.790953991225145, 37.00111632731618, 33.163268469059595, 33.18243435687769, 31.404629670732298, 31.557285670567303, 485.8664479856032, 29.36752663646117, 28.260252003356467, 26.476987474148892, 26.030353163525085, 23.934875578855586, 23.91954648815995, 23.64646197680927, 23.967552883124142, 52.97593183185598, 20.712155540531604, 18.260381781749597, 38.311785891820335, 251.31360184070266, 273.2158732891432, 92.2095334331685, 272.7985895071434, 85.64284798128696, 157.74809143131029, 633.6035487932629, 230.07729862512522, 204.97400952483764, 77.44791755919763, 100.9360036006175, 411.78290900512854, 2015.0492945571932, 155.3766048108379, 319.8296790159417, 2084.02760085644, 295.73322827460146, 482.48269482202977, 2570.6526083183044, 134.77540187017422, 271.10813059055135, 1355.2516401104335, 873.9783149205382, 710.3459530503177, 242.48872405349368, 176.629028585441, 635.6937660668178, 323.0892354769759, 1693.9280099309885, 1608.410164579617, 310.4335860630333, 3144.5696756370976, 3169.982272183305, 6247.605929317845, 1402.7687770043456, 3277.82088654689, 1017.902191253654, 4492.897678933922, 964.1931296221995], \"Category\": [\"Default\", \"Default\", \"Default\", \"Default\", \"Default\", \"Default\", \"Default\", \"Default\", \"Default\", \"Default\", \"Default\", \"Default\", \"Default\", \"Default\", \"Default\", \"Default\", \"Default\", \"Default\", \"Default\", \"Default\", \"Default\", \"Default\", \"Default\", \"Default\", \"Default\", \"Default\", \"Default\", \"Default\", \"Default\", \"Default\", \"Topic1\", \"Topic1\", \"Topic1\", \"Topic1\", \"Topic1\", \"Topic1\", \"Topic1\", \"Topic1\", \"Topic1\", \"Topic1\", \"Topic1\", \"Topic1\", \"Topic1\", \"Topic1\", \"Topic1\", \"Topic1\", \"Topic1\", \"Topic1\", \"Topic1\", \"Topic1\", \"Topic1\", \"Topic1\", \"Topic1\", \"Topic1\", \"Topic1\", \"Topic1\", \"Topic1\", \"Topic1\", \"Topic1\", \"Topic1\", \"Topic1\", \"Topic1\", \"Topic1\", \"Topic1\", \"Topic1\", \"Topic1\", \"Topic1\", \"Topic1\", \"Topic1\", \"Topic1\", \"Topic1\", \"Topic1\", \"Topic1\", \"Topic1\", \"Topic1\", \"Topic1\", \"Topic1\", \"Topic1\", \"Topic1\", \"Topic1\", \"Topic1\", \"Topic1\", \"Topic1\", \"Topic1\", \"Topic1\", \"Topic1\", \"Topic1\", \"Topic1\", \"Topic1\", \"Topic1\", \"Topic1\", \"Topic1\", \"Topic2\", \"Topic2\", \"Topic2\", \"Topic2\", \"Topic2\", \"Topic2\", \"Topic2\", \"Topic2\", \"Topic2\", \"Topic2\", \"Topic2\", \"Topic2\", \"Topic2\", \"Topic2\", \"Topic2\", \"Topic2\", \"Topic2\", \"Topic2\", \"Topic2\", \"Topic2\", \"Topic2\", \"Topic2\", \"Topic2\", \"Topic2\", \"Topic2\", \"Topic2\", \"Topic2\", \"Topic2\", \"Topic2\", \"Topic2\", \"Topic2\", \"Topic2\", \"Topic2\", \"Topic2\", \"Topic2\", \"Topic2\", \"Topic2\", \"Topic2\", \"Topic2\", \"Topic2\", \"Topic2\", \"Topic2\", \"Topic2\", \"Topic2\", \"Topic2\", \"Topic2\", \"Topic2\", \"Topic2\", \"Topic2\", \"Topic2\", \"Topic2\", \"Topic2\", \"Topic2\", \"Topic2\", \"Topic2\", \"Topic2\", \"Topic2\", \"Topic2\", \"Topic2\", \"Topic2\", \"Topic2\", \"Topic2\", \"Topic2\", \"Topic2\", \"Topic2\", \"Topic2\", \"Topic2\", \"Topic2\", \"Topic2\", \"Topic2\", \"Topic2\", \"Topic2\", \"Topic2\", \"Topic2\", \"Topic2\", \"Topic2\", \"Topic3\", \"Topic3\", \"Topic3\", \"Topic3\", \"Topic3\", \"Topic3\", \"Topic3\", \"Topic3\", \"Topic3\", \"Topic3\", \"Topic3\", \"Topic3\", \"Topic3\", \"Topic3\", \"Topic3\", \"Topic3\", \"Topic3\", \"Topic3\", \"Topic3\", \"Topic3\", \"Topic3\", \"Topic3\", \"Topic3\", \"Topic3\", \"Topic3\", \"Topic3\", \"Topic3\", \"Topic3\", \"Topic3\", \"Topic3\", \"Topic3\", \"Topic3\", \"Topic3\", \"Topic3\", \"Topic3\", \"Topic3\", \"Topic3\", \"Topic3\", \"Topic3\", \"Topic3\", \"Topic3\", \"Topic3\", \"Topic3\", \"Topic3\", \"Topic3\", \"Topic3\", \"Topic3\", \"Topic3\", \"Topic3\", \"Topic3\", \"Topic3\", \"Topic3\", \"Topic3\", \"Topic3\", \"Topic3\", \"Topic3\", \"Topic3\", \"Topic3\", \"Topic3\", \"Topic3\", \"Topic3\", \"Topic3\", \"Topic3\", \"Topic3\", \"Topic3\", \"Topic3\", \"Topic3\", \"Topic3\", \"Topic3\", \"Topic3\", \"Topic3\", \"Topic3\", \"Topic3\", \"Topic3\", \"Topic3\", \"Topic3\", \"Topic3\", \"Topic4\", \"Topic4\", \"Topic4\", \"Topic4\", \"Topic4\", \"Topic4\", \"Topic4\", \"Topic4\", \"Topic4\", \"Topic4\", \"Topic4\", \"Topic4\", \"Topic4\", \"Topic4\", \"Topic4\", \"Topic4\", \"Topic4\", \"Topic4\", \"Topic4\", \"Topic4\", \"Topic4\", \"Topic4\", \"Topic4\", \"Topic4\", \"Topic4\", \"Topic4\", \"Topic4\", \"Topic4\", \"Topic4\", \"Topic4\", \"Topic4\", \"Topic4\", \"Topic4\", \"Topic4\", \"Topic4\", \"Topic4\", \"Topic4\", \"Topic4\", \"Topic4\", \"Topic4\", \"Topic4\", \"Topic4\", \"Topic4\", \"Topic4\", \"Topic4\", \"Topic4\", \"Topic4\", \"Topic4\", \"Topic4\", \"Topic4\", \"Topic4\", \"Topic4\", \"Topic4\", \"Topic4\", \"Topic4\", \"Topic4\", \"Topic4\", \"Topic4\", \"Topic4\", \"Topic4\", \"Topic4\", \"Topic4\", \"Topic4\", \"Topic4\", \"Topic4\", \"Topic4\", \"Topic4\", \"Topic4\", \"Topic4\"], \"logprob\": [30.0, 29.0, 28.0, 27.0, 26.0, 25.0, 24.0, 23.0, 22.0, 21.0, 20.0, 19.0, 18.0, 17.0, 16.0, 15.0, 14.0, 13.0, 12.0, 11.0, 10.0, 9.0, 8.0, 7.0, 6.0, 5.0, 4.0, 3.0, 2.0, 1.0, -5.298799991607666, -4.442599773406982, -5.894400119781494, -5.302599906921387, -3.4727001190185547, -5.896999835968018, -5.946400165557861, -6.0258002281188965, -6.0671000480651855, -6.05049991607666, -6.18209981918335, -6.352799892425537, -6.448699951171875, -6.466300010681152, -4.67110013961792, -5.138400077819824, -4.443699836730957, -6.382599830627441, -6.641300201416016, -4.601399898529053, -6.902599811553955, -6.992099761962891, -7.035200119018555, -7.147799968719482, -6.926499843597412, -6.093800067901611, -7.2256999015808105, -3.727099895477295, -7.317699909210205, -7.286200046539307, -6.744800090789795, -5.632699966430664, -3.6278998851776123, -2.8236000537872314, -5.151100158691406, -5.684199810028076, -5.158699989318848, -5.260900020599365, -5.844900131225586, -4.0507001876831055, -4.498600006103516, -3.476099967956543, -4.967400074005127, -4.469099998474121, -3.1338000297546387, -4.339300155639648, -4.414899826049805, -3.9628000259399414, -5.065100193023682, -3.7908999919891357, -4.341700077056885, -5.045300006866455, -3.824899911880493, -4.553999900817871, -4.658199787139893, -4.552999973297119, -4.541500091552734, -4.673299789428711, -4.688899993896484, -4.848800182342529, -4.961599826812744, -5.052999973297119, -5.230199813842773, -6.757699966430664, -6.9654998779296875, -6.946599960327148, -7.005099773406982, -5.241099834442139, -6.450200080871582, -7.190100193023682, -7.224299907684326, -7.534900188446045, -6.527599811553955, -7.586299896240234, -7.57289981842041, -7.559000015258789, -6.215000152587891, -7.839799880981445, -5.647299766540527, -7.402299880981445, -7.836900234222412, -7.903200149536133, -7.77810001373291, -7.666900157928467, -7.963699817657471, -5.723199844360352, -7.846799850463867, -5.289999961853027, -7.969099998474121, -8.176400184631348, -8.177800178527832, -5.500100135803223, -7.107100009918213, -3.3784000873565674, -5.305099964141846, -5.322700023651123, -5.633500099182129, -5.781199932098389, -6.4492998123168945, -5.980199813842773, -6.770999908447266, -5.743100166320801, -5.236999988555908, -6.135700225830078, -6.679100036621094, -2.8756000995635986, -5.748499870300293, -5.450900077819824, -5.291900157928467, -4.558599948883057, -4.93149995803833, -4.947199821472168, -4.146299839019775, -3.36929988861084, -2.787400007247925, -4.595900058746338, -5.352700233459473, -4.7434000968933105, -4.750100135803223, -3.6879000663757324, -4.978400230407715, -4.553500175476074, -4.229599952697754, -3.9804000854492188, -4.172599792480469, -4.462200164794922, -4.801799774169922, -4.687699794769287, -4.720300197601318, -4.533400058746338, -5.028500080108643, -4.502699851989746, -4.815999984741211, -4.7382001876831055, -4.851799964904785, -5.129700183868408, -5.168700218200684, -5.15369987487793, -5.882299900054932, -6.006700038909912, -5.580900192260742, -6.0854997634887695, -6.451300144195557, -5.476799964904785, -6.5782999992370605, -6.726500034332275, -6.6554999351501465, -6.4394001960754395, -6.850200176239014, -6.662799835205078, -6.869100093841553, -6.502299785614014, -6.77810001373291, -6.905900001525879, -7.007400035858154, -6.989299774169922, -7.005799770355225, -7.074999809265137, -5.916399955749512, -6.929200172424316, -7.267600059509277, -7.018099784851074, -7.332300186157227, -6.926499843597412, -7.382299900054932, -7.369900226593018, -7.3678998947143555, -7.3755998611450195, -7.231100082397461, -6.699399948120117, -5.577600002288818, -6.664299964904785, -6.680500030517578, -5.28849983215332, -5.453000068664551, -6.101799964904785, -5.041100025177002, -4.387499809265137, -5.1915998458862305, -5.839700222015381, -6.218900203704834, -3.3076999187469482, -4.674099922180176, -6.203999996185303, -6.266600131988525, -3.9275999069213867, -5.8267998695373535, -4.500400066375732, -6.230299949645996, -5.451700210571289, -3.8245999813079834, -5.630099773406982, -4.846199989318848, -5.2754998207092285, -4.803199768066406, -5.366600036621094, -5.783599853515625, -4.041800022125244, -4.326399803161621, -4.965099811553955, -4.488399982452393, -5.478700160980225, -4.354599952697754, -5.376100063323975, -4.4710001945495605, -4.9496002197265625, -5.070199966430664, -5.381999969482422, -5.232900142669678, -5.072500228881836, -5.125, -5.0960001945495605, -5.183700084686279, -5.379000186920166, -5.356800079345703, -5.298399925231934, -5.2067999839782715, -5.844299793243408, -6.392499923706055, -6.547699928283691, -6.6819000244140625, -6.282700061798096, -6.719799995422363, -6.752200126647949, -6.661600112915039, -6.658400058746338, -6.848599910736084, -6.844600200653076, -6.954599857330322, -6.95419979095459, -7.0106000900268555, -7.006700038909912, -4.273499965667725, -7.081600189208984, -7.120800018310547, -7.186100006103516, -7.204599857330322, -7.28980016708374, -7.291200160980225, -7.302700042724609, -7.290800094604492, -6.500199794769287, -7.441800117492676, -7.569900035858154, -6.829100131988525, -4.9496002197265625, -4.867099761962891, -5.956900119781494, -4.907199859619141, -6.05019998550415, -5.479300022125244, -4.151400089263916, -5.128600120544434, -5.267499923706055, -6.200300216674805, -5.962600231170654, -4.793300151824951, -3.4511001110076904, -5.6554999351501465, -5.0920000076293945, -3.691499948501587, -5.239099979400635, -4.877099990844727, -3.6605000495910645, -5.853000164031982, -5.3470001220703125, -4.210700035095215, -4.574100017547607, -4.718299865722656, -5.487100124359131, -5.694799900054932, -4.96560001373291, -5.3607001304626465, -4.61870002746582, -4.649799823760986, -5.444200038909912, -4.481100082397461, -4.51669979095459, -4.366199970245361, -4.924099922180176, -4.688199996948242, -5.107900142669678, -5.144700050354004, -5.3125], \"loglift\": [30.0, 29.0, 28.0, 27.0, 26.0, 25.0, 24.0, 23.0, 22.0, 21.0, 20.0, 19.0, 18.0, 17.0, 16.0, 15.0, 14.0, 13.0, 12.0, 11.0, 10.0, 9.0, 8.0, 7.0, 6.0, 5.0, 4.0, 3.0, 2.0, 1.0, 1.1332, 1.1317, 1.1315, 1.1314, 1.1314, 1.1313, 1.1311, 1.1307, 1.1306, 1.1297, 1.1296, 1.1283, 1.128, 1.1275, 1.1265, 1.126, 1.1257, 1.1245, 1.1237, 1.1233, 1.1228, 1.1218, 1.1207, 1.1197, 1.119, 1.1185, 1.118, 1.1174, 1.1165, 1.1163, 1.1109, 1.093, 1.0145, 0.9807, 1.0396, 1.0588, 1.026, 0.9761, 1.0221, 0.8423, 0.885, 0.5692, 0.7902, 0.6526, 0.2664, 0.5891, 0.6094, 0.421, 0.7782, 0.2958, 0.4466, 0.6977, -0.095, -0.0222, 0.0472, -0.0685, -0.2003, -0.385, -0.6102, -0.076, -0.0676, 0.4472, 1.2818, 1.2789, 1.2772, 1.2766, 1.2765, 1.2755, 1.2741, 1.2728, 1.272, 1.2645, 1.2636, 1.2629, 1.2599, 1.2595, 1.254, 1.2539, 1.2532, 1.2521, 1.2514, 1.2513, 1.2509, 1.2501, 1.2489, 1.2472, 1.247, 1.2436, 1.2421, 1.2399, 1.239, 1.2388, 1.2358, 1.1976, 1.2043, 1.2012, 1.207, 1.2071, 1.221, 1.1924, 1.2195, 1.171, 1.1458, 1.186, 1.1925, 0.8544, 1.0991, 1.0687, 1.0427, 0.943, 0.9872, 0.978, 0.8599, 0.7094, 0.6128, 0.8946, 0.9775, 0.7817, 0.7613, 0.3988, 0.8189, 0.6612, 0.5276, 0.4034, 0.3255, 0.3106, 0.4671, 0.2063, 0.181, -0.0489, 0.4717, -0.4575, -0.0278, -0.9339, -0.5636, 0.4333, 0.559, -0.6219, 1.4924, 1.4916, 1.4901, 1.4894, 1.4867, 1.4866, 1.4861, 1.4845, 1.4839, 1.4831, 1.4827, 1.4824, 1.4823, 1.4822, 1.482, 1.4812, 1.4791, 1.479, 1.4789, 1.4787, 1.4783, 1.4742, 1.4739, 1.473, 1.4724, 1.4722, 1.4713, 1.4699, 1.4697, 1.4697, 1.4688, 1.4608, 1.4365, 1.4583, 1.4522, 1.4072, 1.4128, 1.4336, 1.3753, 1.3322, 1.375, 1.3624, 1.3981, 1.0335, 1.1839, 1.3913, 1.393, 0.9737, 1.2951, 1.0209, 1.364, 1.1614, 0.6599, 1.1606, 0.8794, 1.0284, 0.8334, 1.0082, 1.1507, 0.2464, 0.379, 0.7049, 0.2843, 0.9428, -0.3093, 0.7459, -0.3923, 0.172, 0.2969, 0.7146, 0.2922, -0.1785, -0.1007, -0.3388, -0.3955, 0.2645, -0.7144, 1.7024, 1.7016, 1.6922, 1.6916, 1.69, 1.6893, 1.6892, 1.6889, 1.688, 1.6871, 1.6871, 1.6863, 1.6847, 1.6842, 1.684, 1.6826, 1.6817, 1.6807, 1.6787, 1.6779, 1.6777, 1.6763, 1.675, 1.6743, 1.6743, 1.6727, 1.6702, 1.6677, 1.6656, 1.6653, 1.6639, 1.6628, 1.6592, 1.6242, 1.6398, 1.5998, 1.5373, 1.5731, 1.5498, 1.5903, 1.5631, 1.3263, 1.0806, 1.4389, 1.2804, 0.8066, 1.2116, 1.0842, 0.6278, 1.3836, 1.1906, 0.7178, 0.793, 0.8561, 1.1621, 1.2714, 0.7198, 1.0015, 0.0867, 0.1074, 0.958, -0.3943, -0.438, -0.966, -0.0301, -0.6429, 0.1068, -1.4148, -0.0436]}, \"token.table\": {\"Topic\": [1, 3, 4, 1, 2, 4, 4, 1, 3, 1, 3, 1, 4, 1, 2, 2, 4, 1, 2, 3, 4, 1, 2, 3, 4, 1, 2, 3, 4, 1, 1, 2, 3, 4, 2, 4, 1, 2, 3, 4, 2, 3, 3, 4, 1, 2, 3, 4, 1, 2, 3, 4, 1, 2, 3, 4, 1, 2, 1, 4, 3, 4, 1, 2, 3, 4, 1, 2, 3, 1, 2, 3, 4, 1, 2, 2, 3, 4, 3, 1, 1, 1, 2, 3, 4, 2, 4, 1, 3, 4, 3, 1, 2, 3, 4, 1, 2, 3, 4, 1, 2, 2, 1, 2, 4, 4, 4, 2, 3, 4, 1, 2, 3, 4, 3, 3, 4, 1, 2, 4, 1, 2, 3, 4, 4, 1, 2, 3, 4, 3, 1, 2, 3, 2, 3, 4, 1, 2, 3, 4, 4, 4, 1, 1, 2, 3, 1, 2, 3, 4, 1, 3, 2, 3, 4, 4, 3, 4, 2, 2, 2, 1, 2, 3, 1, 2, 4, 1, 2, 3, 4, 1, 3, 4, 1, 2, 3, 4, 2, 1, 2, 3, 4, 1, 2, 3, 4, 4, 4, 3, 1, 1, 2, 3, 4, 4, 1, 2, 4, 3, 1, 2, 3, 4, 1, 2, 2, 1, 2, 3, 4, 1, 2, 4, 1, 3, 1, 2, 1, 4, 4, 1, 4, 1, 2, 3, 1, 2, 3, 4, 1, 2, 3, 4, 1, 2, 3, 1, 2, 3, 4, 2, 3, 4, 2, 3, 2, 1, 2, 3, 4, 1, 2, 3, 4, 1, 2, 3, 4, 3, 3, 4, 1, 2, 1, 1, 2, 3, 4, 1, 2, 3, 4, 2, 3, 1, 3, 4, 1, 1, 2, 3, 4, 1, 2, 3, 4, 1, 2, 3, 4, 2, 4, 1, 2, 3, 4, 1, 2, 3, 4, 2, 1, 2, 3, 4, 4, 1, 2, 3, 4, 2, 3, 4, 1, 2, 3, 1, 2, 3, 4, 4, 2, 4, 2, 1, 2, 3, 4, 1, 2, 3, 4, 1, 2, 2, 1, 2, 4, 2, 4, 1, 2, 3, 4, 1, 1, 2, 3, 4, 1, 2, 3, 4, 1, 1, 3, 4, 1, 2, 3, 4, 3, 3, 3, 4, 1, 2, 3, 4, 1, 3, 4, 3, 4, 3, 3, 1, 4, 1, 2, 3, 4, 3, 1, 2, 3, 4, 1, 1, 2, 4, 3, 1, 3, 3, 2, 3, 4, 1, 1, 2, 3, 1, 2, 3, 4, 1, 2, 3, 4, 1, 2, 3, 4, 1, 2, 3, 4, 1, 3, 1, 2, 3, 4, 3, 1, 2, 3, 4, 2, 1, 2, 3, 4, 1, 3, 4, 3, 4, 1, 2, 3, 4, 4, 1, 2, 1, 2, 3, 4, 1, 2, 3, 2, 3, 4, 1, 2, 3, 4, 3, 1, 4, 1, 2, 3, 4, 1, 2, 3, 4, 2, 1, 2, 4, 2, 3, 4, 2, 3, 4, 1, 4, 3, 1, 2, 3, 4, 1, 2, 3, 4, 1, 2, 2, 1, 2, 3, 4, 2, 4, 2, 3, 4, 3, 1, 2, 3, 4, 1, 2, 3, 4, 1, 1, 4, 1, 2, 3, 4, 1, 3, 4, 2, 1, 2, 3, 4, 3, 1, 2, 3, 4, 1, 2, 3, 4, 2, 3, 4, 1, 2, 3, 4, 4, 3, 1, 2, 3, 4, 1, 2, 4, 4, 1, 2, 4, 1, 2, 3, 1, 2, 3, 4, 3, 1, 2, 3, 4, 1, 2, 3, 4, 1, 2, 3, 4, 2, 1, 3, 4, 1], \"Freq\": [0.8921487309542896, 0.0922912480297541, 0.015381874671625682, 0.11735186461830054, 0.008692730712466706, 0.873619436602904, 0.9823405068362052, 0.9878050030891187, 0.9719046270818936, 0.018685476377976094, 0.9716447716547569, 0.9930730640154726, 0.9871156044514865, 0.9570458422812641, 0.04006238409549478, 0.039790922284972816, 0.9589612270678448, 0.13051650558189365, 0.38003335448845504, 0.08349217636488784, 0.4064245596612644, 0.040577110898263574, 0.24346266538958145, 0.1082056290620362, 0.6086566634739536, 0.3141362356294622, 0.14739093520055335, 0.004466391975774344, 0.5344782397676632, 0.981732078073615, 0.23743205032936798, 0.0074197515727927495, 0.029679006291170998, 0.7197159025608967, 0.9506278661516702, 0.9922069880354945, 0.23606816903864014, 0.022131390847372513, 0.14385404050792133, 0.5975475528790578, 0.9800981059311809, 0.9565841017677545, 0.9690803928133742, 0.9554054930859504, 0.03994679946861903, 0.9187763877782378, 0.034953449535041654, 0.009986699867154758, 0.14382512198066635, 0.21873403967893007, 0.5138751754100891, 0.1228506250251525, 0.022553417729132032, 0.9472435446235453, 0.004510683545826406, 0.027064101274958438, 0.03062816133972539, 0.9494730015314871, 0.9936681612807116, 0.9819848283489727, 0.010015119436998298, 0.9814817048258332, 0.3001207375737704, 0.3371902823572289, 0.18677347563973357, 0.17608033772142823, 0.010620835861918414, 0.08496668689534731, 0.9027710482630652, 0.019814535236738505, 0.009907267618369252, 0.10897994380206177, 0.861932282798125, 0.02808416973417599, 0.9642231608733756, 0.9303866070321, 0.015769264525967795, 0.047307793577903386, 0.9847672205868134, 0.9861237550681455, 0.9776630605973453, 0.5671450833783704, 0.17359093730085678, 0.1638283538322673, 0.09518518881874748, 0.9886388382392854, 0.010785150962610388, 0.6981449510187181, 0.29657344884964015, 0.00368414222173466, 0.9638633640975007, 0.02441606917854436, 0.0016277379452362905, 0.8464237315228711, 0.12859129767366695, 0.005789003764438275, 0.9146625947812475, 0.0463120301155062, 0.028945018822191377, 0.9907216973440964, 0.00879859411495645, 0.9744346752608888, 0.9865371531563575, 0.011452338428017418, 0.001636048346859631, 0.9615566921966886, 0.9785014003329788, 0.9191149589179186, 0.09508831367719964, 0.9001693694774898, 0.9073899419437774, 0.0026074423619074066, 0.04432652015242591, 0.04432652015242591, 0.9756297294657986, 0.10329522409540795, 0.8909213078228936, 0.9951677128327052, 0.0028151844776031264, 0.0014075922388015632, 0.07894932725679064, 0.21968508454063482, 0.3009227980947237, 0.4004676020271989, 0.9701178173920889, 0.3871353089563111, 0.1844171835391882, 0.0028155295196822627, 0.4265527222318628, 0.9882236094521085, 0.9239749535335906, 0.04076360089118782, 0.0317050229153683, 0.9047691882706013, 0.0626378668802724, 0.02783905194678773, 0.48919735157526956, 0.41087441602122377, 0.04493938925232135, 0.05521124965285194, 0.9963872687629821, 0.9649229848938173, 0.9977788130800452, 0.01444680374170586, 0.9823826544359984, 0.003611700935426465, 0.7067655292466984, 0.12850282349939973, 0.03550735912483413, 0.12850282349939973, 0.9904047387628148, 0.9585337588960532, 0.9689877080768203, 0.025839672215381877, 0.9857406167701358, 0.964365653702179, 0.9453534243196061, 0.03635974708921562, 0.9676435589784314, 0.9908527390690871, 0.9505361970532159, 0.04341920298684469, 0.04341920298684469, 0.9009484619770273, 0.06986767781210203, 0.8867820645382181, 0.04299549403821663, 0.03398676065446994, 0.7297157434636193, 0.20791900635675728, 0.029988318224532302, 0.07169441750126693, 0.9166643380519128, 0.005121029821519066, 0.13679247091824712, 0.01865351876157915, 0.30881936616392147, 0.5368068176943334, 0.9595997869147842, 0.29963671012444965, 0.26129457186207933, 0.4321774349820261, 0.007100395974513025, 0.07601041855145792, 0.19952734869757704, 0.712597673919918, 0.01425195347839836, 0.9822569736691633, 0.9889942042153211, 0.9770860806913542, 0.983034674682706, 0.021206571095746203, 0.9595973420825158, 0.005301642773936551, 0.010603285547873102, 0.987485271027051, 0.7449599902930227, 0.15597154672482982, 0.09828344040194756, 0.9616905726817081, 0.5903916303330837, 0.1404920936005825, 0.20221116362164768, 0.0674037212072159, 0.7782161519268488, 0.2210180401585968, 0.967669271121649, 0.17444892510995802, 0.5577318256680033, 0.15078948680390586, 0.11703535482060476, 0.004116357505837206, 0.022639966282104632, 0.9735185501304991, 0.9919437195761485, 0.009724938427217143, 0.9784714359061568, 0.01378128782966418, 0.994230030320162, 0.0033251840478935183, 0.9726613656857727, 0.9907173993426075, 0.008419694611976834, 0.05724221567137505, 0.9273238938762758, 0.01144844313427501, 0.2917938697217505, 0.644795454297415, 0.019363895244692824, 0.04406955469481815, 0.27259238704639993, 0.10531978590429088, 0.4522555512360726, 0.17037024190399994, 0.08549376677902762, 0.8247633971623841, 0.09052281188367631, 0.269292971543235, 0.06896527320009677, 0.5747106100008065, 0.08538557634297696, 0.06830134236264504, 0.07318000967426254, 0.8537667795330629, 0.006287210679421893, 0.9933792873486591, 0.9635117086662635, 0.04039428844003712, 0.896753203368824, 0.008078857688007424, 0.056552003816051966, 0.03253459689365347, 0.010844865631217825, 0.010844865631217825, 0.9543481755471686, 0.21412938794340797, 0.5868731373263774, 0.18372830200082535, 0.014539649798626467, 0.9840770609146325, 0.9820619123639444, 0.01738162676750344, 0.9949217874155705, 0.004801231145705165, 0.9813136270325443, 0.26289888177637516, 0.05782955121758018, 0.6275121515099126, 0.05167747130081633, 0.2723705723902742, 0.00309512014079857, 0.23213401055989277, 0.4921241023869727, 0.29066613365180427, 0.7074704007751463, 0.8967213436735736, 0.020733441472221354, 0.08293376588888542, 0.9862629446423877, 0.16136217037851702, 0.2586540672243876, 0.4556108340099304, 0.12339460087768948, 0.052338362485031036, 0.21309190440334064, 0.728998620327218, 0.0037384544632165025, 0.33649600021858195, 0.13932115096769357, 0.32646015459802774, 0.19776519311092097, 0.35101817915512484, 0.645420522962649, 0.3061966762558248, 0.25340414586688953, 0.29111309614470043, 0.14932744310013132, 0.21856686411656837, 0.11959318979963175, 0.08247806193078051, 0.5814703366120026, 0.962164575683868, 0.10502228201228002, 0.4791641616810276, 0.2789654365951188, 0.13784174514111752, 0.9894871481695092, 0.8559673377824918, 0.10789504257762501, 0.009350903690060836, 0.02709364402504806, 0.035029194739711396, 0.02335279649314093, 0.9341118597256373, 0.01208357914455567, 0.9787699107090092, 0.01208357914455567, 0.007171302281035683, 0.9143410408320495, 0.007171302281035683, 0.07171302281035682, 0.9656165414971905, 0.9100670979986396, 0.08400619366141289, 0.9560669318556086, 0.030239763291894605, 0.0043199661845563725, 0.9115128649413945, 0.05183959421467647, 0.06894186307271245, 0.7283857707247445, 0.14387867076044336, 0.0569519738426755, 0.984896530200189, 0.014483772502943955, 0.9186236662633, 0.30084701887960663, 0.6228061092595366, 0.07741092883451867, 0.3157003293654932, 0.6823984042438738, 0.15227396240212543, 0.5314852494164507, 0.11494228129708824, 0.20139459543506913, 0.9917974870166255, 0.24831134664934715, 0.005340028960201014, 0.6194433593833176, 0.12682568780477407, 0.11391082958873279, 0.6718150063244581, 0.19416618679897635, 0.020711059925224144, 0.9919973875406476, 0.050016109426532646, 0.9403028572188138, 0.010003221885306529, 0.21823252126120637, 0.1559915169799354, 0.28553060714033063, 0.3396024796096848, 0.9911554030946728, 0.9625363553499469, 0.9692845908021436, 0.9894200635182667, 0.8852354831234002, 0.0005543115110353163, 0.10919936767395731, 0.004988803599317847, 0.08602419861080758, 0.8745793525432104, 0.04301209930540379, 0.9880530383104538, 0.011292034723548044, 0.9847503441488478, 0.9929283368370396, 0.9956091667406959, 0.960940863227989, 0.5019023092250224, 0.43916452057189465, 0.05620260233509366, 0.0013070372636068293, 0.9875925625408254, 0.11440318878707413, 0.7797480498908474, 0.07827586601220862, 0.02709549208114914, 0.9831171128199315, 0.5784903532277705, 0.04943731334982222, 0.37188665564642387, 0.977184564096391, 0.0237188591659016, 0.9724732258019656, 0.9886662170013732, 0.11672786600364654, 0.8701531829362743, 0.010611624182149686, 0.9958702051234533, 0.0534605170041801, 0.0059400574449089, 0.9385290762956062, 0.02645378478008395, 0.908765312445237, 0.02904729309185689, 0.03527171304011194, 0.011327463213053928, 0.011327463213053928, 0.8948695938312603, 0.0792922424913775, 0.12680623371688188, 0.6483865912693395, 0.11803347540942466, 0.10686814665447908, 0.5015440678570933, 0.2668060514431596, 0.15007840393677727, 0.0808114482736493, 0.014732574804011935, 0.9870825118687997, 0.00595877057225148, 0.7369012941017664, 0.08938155858377221, 0.1688318328804586, 0.961119900443079, 0.2974418905986096, 0.3744862868895446, 0.296810379153602, 0.03157557225038319, 0.9741054876640026, 0.20680602967092218, 0.7041876200187097, 0.07460723855216814, 0.01308898921967862, 0.34161839835902474, 0.6248404893062504, 0.032117969076489505, 0.01547870342412537, 0.9751583157198983, 0.003977714826427428, 0.007955429652854855, 0.7120109539305095, 0.2744623230234925, 0.9596307187537111, 0.9798023208685439, 0.9751511638889051, 0.07396292987350923, 0.3288837075928857, 0.5909853522902727, 0.005744693582408484, 0.02243163883604582, 0.9421288311139244, 0.04486327767209164, 0.18020731006504095, 0.051487802875725984, 0.7658810677764241, 0.6448135251281861, 0.23826442918173288, 0.02665895711124284, 0.08997398025044458, 0.9874755227574976, 0.026101628434228186, 0.965760252066443, 0.09513551330960296, 0.5989517528083453, 0.29880590800058393, 0.0053597472287100255, 0.08763579082834723, 0.37975509358950466, 0.4698252119408615, 0.06329251559825078, 0.9915913344629086, 0.9888847281738774, 0.008404119502894141, 0.0014006865838156904, 0.30641308930906086, 0.04064663429609991, 0.6534728129142215, 0.04026120396145046, 0.0036601094510409515, 0.9552885667216883, 0.9762173154772231, 0.9604172422459153, 0.9916636076192878, 0.0724485323345503, 0.8005562822967808, 0.08331581218473284, 0.04346911940073018, 0.004734821965113177, 0.018939287860452708, 0.13257501502316896, 0.8427983097901456, 0.03980111495882982, 0.9552267590119157, 0.9863802097156784, 0.4190405140174791, 0.5064339902029427, 0.005602145909324587, 0.06898642534053992, 0.005343947816788677, 0.9939742939226941, 0.9454644266066594, 0.9538317799416336, 0.03599365207326919, 0.9822600891094543, 0.35237092442472584, 0.1069697449146489, 0.1667469553081292, 0.3728210227172322, 0.6167603409895465, 0.025064280911041074, 0.26496525534529136, 0.093095900526724, 0.9948161172485597, 0.018876496654631203, 0.9627013293861912, 0.028991708384841313, 0.0032213009316490347, 0.4928590425423023, 0.4735312369524081, 0.03416977008819577, 0.8846173811721794, 0.07972946353912347, 0.9518881590815647, 0.05554402799853738, 0.01633647882309923, 0.8821698564473583, 0.045742140704677844, 0.9727892950849296, 0.4315375838269726, 0.4089589777461214, 0.03752500728930196, 0.12211527795840639, 0.08214488534714544, 0.8625212961450271, 0.034753605339176916, 0.01895651200318741, 0.9514281518540839, 0.04408161321331663, 0.0036734677677763856, 0.09402812836679607, 0.009402812836679608, 0.6111828343841744, 0.2820843851003882, 0.9869805462031681, 0.9967020219420617, 0.25202419778205104, 0.43767165211533143, 0.13690203336308945, 0.17320181493663592, 0.49826706256146913, 0.423109460946052, 0.07794121649006222, 0.9729436182827514, 0.08367882717822321, 0.9131906792058273, 0.003638209877314053, 0.006615734971947691, 0.17862484424258762, 0.8137354015495659, 0.06386043799839944, 0.29965282445402813, 0.538720105165985, 0.0982468276898453, 0.9829559672502232, 0.8520165923637828, 0.005461644822844762, 0.13927194298254142, 0.002730822411422381, 0.0036657081028412517, 0.054985621542618775, 0.02199424861704751, 0.9200927338131542, 0.17408494808485767, 0.46505550416954833, 0.15916338110615558, 0.20206288616992407, 0.955886863052065, 0.981143133186712, 0.0027140888884832973, 0.01560601110877896, 0.994159948331955], \"Term\": [\"absolutely\", \"absolutely\", \"absolutely\", \"account\", \"account\", \"account\", \"activate\", \"activity\", \"adapter\", \"adjust\", \"adjust\", \"adult\", \"advertising\", \"age\", \"age\", \"alexa\", \"alexa\", \"amazon\", \"amazon\", \"amazon\", \"amazon\", \"android\", \"android\", \"android\", \"android\", \"app\", \"app\", \"app\", \"app\", \"appropriate\", \"ask\", \"ask\", \"ask\", \"ask\", \"aspect\", \"associate\", \"available\", \"available\", \"available\", \"available\", \"avoid\", \"backlight\", \"backpack\", \"backup\", \"basic\", \"basic\", \"basic\", \"basic\", \"battery\", \"battery\", \"battery\", \"battery\", \"beat\", \"beat\", \"beat\", \"beat\", \"bill\", \"bill\", \"birthday\", \"block\", \"bluetooth\", \"bluetooth\", \"book\", \"book\", \"book\", \"book\", \"bright\", \"bright\", \"bright\", \"bring\", \"bring\", \"bring\", \"bring\", \"browse\", \"browse\", \"browsing\", \"browsing\", \"browsing\", \"buck\", \"bumper\", \"busy\", \"buy\", \"buy\", \"buy\", \"buy\", \"card\", \"card\", \"case\", \"case\", \"case\", \"chance\", \"charge\", \"charge\", \"charge\", \"charge\", \"check\", \"check\", \"check\", \"check\", \"child\", \"child\", \"childs\", \"christmas\", \"christmas\", \"christmas\", \"claim\", \"college\", \"confusing\", \"connect\", \"connect\", \"control\", \"control\", \"control\", \"control\", \"cord\", \"customer\", \"customer\", \"daughter\", \"daughter\", \"daughter\", \"device\", \"device\", \"device\", \"device\", \"dot\", \"download\", \"download\", \"download\", \"download\", \"drive\", \"durable\", \"durable\", \"durable\", \"ease\", \"ease\", \"ease\", \"easy\", \"easy\", \"easy\", \"easy\", \"echo\", \"ecosystem\", \"educational\", \"email\", \"email\", \"email\", \"enjoy\", \"enjoy\", \"enjoy\", \"enjoy\", \"entertain\", \"eventually\", \"exactly\", \"exactly\", \"example\", \"exceed\", \"exchange\", \"exchange\", \"expand\", \"expandable\", \"expansion\", \"eye\", \"eye\", \"eye\", \"family\", \"family\", \"family\", \"fast\", \"fast\", \"fast\", \"fast\", \"feel\", \"feel\", \"feel\", \"find\", \"find\", \"find\", \"find\", \"fingertip\", \"fire\", \"fire\", \"fire\", \"fire\", \"fit\", \"fit\", \"fit\", \"fit\", \"flight\", \"format\", \"forward\", \"freetime\", \"friday\", \"friday\", \"friday\", \"friday\", \"frustrating\", \"game\", \"game\", \"game\", \"gen\", \"get\", \"get\", \"get\", \"get\", \"gift\", \"gift\", \"gig\", \"good\", \"good\", \"good\", \"good\", \"google\", \"google\", \"google\", \"grand\", \"grand\", \"grandchild\", \"grandchild\", \"granddaughter\", \"granddaughter\", \"grandma\", \"grandson\", \"grandson\", \"graphic\", \"graphic\", \"graphic\", \"great\", \"great\", \"great\", \"great\", \"have\", \"have\", \"have\", \"have\", \"highly\", \"highly\", \"highly\", \"hold\", \"hold\", \"hold\", \"hold\", \"home\", \"home\", \"home\", \"inch\", \"inch\", \"individual\", \"inexpensive\", \"inexpensive\", \"inexpensive\", \"inexpensive\", \"install\", \"install\", \"install\", \"install\", \"ipad\", \"ipad\", \"ipad\", \"ipad\", \"key\", \"keyboard\", \"keyboard\", \"kid\", \"kid\", \"kids\", \"kindle\", \"kindle\", \"kindle\", \"kindle\", \"know\", \"know\", \"know\", \"know\", \"laptop\", \"laptop\", \"learn\", \"learn\", \"learn\", \"learning\", \"life\", \"life\", \"life\", \"life\", \"light\", \"light\", \"light\", \"light\", \"like\", \"like\", \"like\", \"like\", \"listen\", \"listen\", \"little\", \"little\", \"little\", \"little\", \"load\", \"load\", \"load\", \"load\", \"loading\", \"look\", \"look\", \"look\", \"look\", \"loud\", \"love\", \"love\", \"love\", \"love\", \"magazine\", \"magazine\", \"magazine\", \"medium\", \"medium\", \"medium\", \"memory\", \"memory\", \"memory\", \"memory\", \"message\", \"micro\", \"micro\", \"microsd\", \"model\", \"model\", \"model\", \"model\", \"money\", \"money\", \"money\", \"money\", \"mother\", \"mother\", \"motherinlaw\", \"movie\", \"movie\", \"movie\", \"music\", \"music\", \"need\", \"need\", \"need\", \"need\", \"nephew\", \"new\", \"new\", \"new\", \"new\", \"nice\", \"nice\", \"nice\", \"nice\", \"niece\", \"nook\", \"nook\", \"nook\", \"not\", \"not\", \"not\", \"not\", \"note\", \"notice\", \"oasis\", \"office\", \"old\", \"old\", \"old\", \"old\", \"original\", \"original\", \"original\", \"page\", \"page\", \"paper\", \"paperwhite\", \"parental\", \"penny\", \"perfect\", \"perfect\", \"perfect\", \"perfect\", \"perform\", \"picture\", \"picture\", \"picture\", \"picture\", \"pink\", \"play\", \"play\", \"play\", \"pocket\", \"pop\", \"pop\", \"port\", \"power\", \"power\", \"power\", \"present\", \"previous\", \"previous\", \"previous\", \"price\", \"price\", \"price\", \"price\", \"probably\", \"probably\", \"probably\", \"probably\", \"product\", \"product\", \"product\", \"product\", \"purchase\", \"purchase\", \"purchase\", \"purchase\", \"purse\", \"purse\", \"quality\", \"quality\", \"quality\", \"quality\", \"quit\", \"read\", \"read\", \"read\", \"read\", \"reasonable\", \"recommend\", \"recommend\", \"recommend\", \"recommend\", \"replace\", \"replace\", \"replace\", \"require\", \"require\", \"return\", \"return\", \"return\", \"return\", \"root\", \"safe\", \"savvy\", \"screen\", \"screen\", \"screen\", \"screen\", \"serve\", \"serve\", \"serve\", \"service\", \"service\", \"service\", \"set\", \"set\", \"set\", \"set\", \"short\", \"silk\", \"silk\", \"size\", \"size\", \"size\", \"size\", \"small\", \"small\", \"small\", \"small\", \"social\", \"son\", \"son\", \"son\", \"sound\", \"sound\", \"sound\", \"speaker\", \"speaker\", \"speaker\", \"starter\", \"steal\", \"stock\", \"storage\", \"storage\", \"storage\", \"storage\", \"store\", \"store\", \"store\", \"store\", \"surf\", \"surf\", \"surfing\", \"tablet\", \"tablet\", \"tablet\", \"tablet\", \"tap\", \"tap\", \"terrific\", \"text\", \"text\", \"thin\", \"thing\", \"thing\", \"thing\", \"thing\", \"time\", \"time\", \"time\", \"time\", \"toddler\", \"transfer\", \"transfer\", \"try\", \"try\", \"try\", \"try\", \"turn\", \"turn\", \"turn\", \"underground\", \"upgrade\", \"upgrade\", \"upgrade\", \"upgrade\", \"usb\", \"use\", \"use\", \"use\", \"use\", \"user\", \"user\", \"user\", \"user\", \"value\", \"value\", \"value\", \"version\", \"version\", \"version\", \"version\", \"voice\", \"voyage\", \"want\", \"want\", \"want\", \"want\", \"watch\", \"watch\", \"watch\", \"weather\", \"web\", \"web\", \"web\", \"weight\", \"weight\", \"weight\", \"well\", \"well\", \"well\", \"well\", \"white\", \"wife\", \"wife\", \"wife\", \"wife\", \"wifi\", \"wifi\", \"wifi\", \"wifi\", \"work\", \"work\", \"work\", \"work\", \"xmas\", \"year\", \"year\", \"year\", \"young\"]}, \"R\": 30, \"lambda.step\": 0.01, \"plot.opts\": {\"xlab\": \"PC1\", \"ylab\": \"PC2\"}, \"topic.order\": [4, 2, 1, 3]};\n",
              "\n",
              "function LDAvis_load_lib(url, callback){\n",
              "  var s = document.createElement('script');\n",
              "  s.src = url;\n",
              "  s.async = true;\n",
              "  s.onreadystatechange = s.onload = callback;\n",
              "  s.onerror = function(){console.warn(\"failed to load library \" + url);};\n",
              "  document.getElementsByTagName(\"head\")[0].appendChild(s);\n",
              "}\n",
              "\n",
              "if(typeof(LDAvis) !== \"undefined\"){\n",
              "   // already loaded: just create the visualization\n",
              "   !function(LDAvis){\n",
              "       new LDAvis(\"#\" + \"ldavis_el2871397006867129128212306622\", ldavis_el2871397006867129128212306622_data);\n",
              "   }(LDAvis);\n",
              "}else if(typeof define === \"function\" && define.amd){\n",
              "   // require.js is available: use it to load d3/LDAvis\n",
              "   require.config({paths: {d3: \"https://cdnjs.cloudflare.com/ajax/libs/d3/3.5.5/d3.min\"}});\n",
              "   require([\"d3\"], function(d3){\n",
              "      window.d3 = d3;\n",
              "      LDAvis_load_lib(\"https://cdn.rawgit.com/bmabey/pyLDAvis/files/ldavis.v1.0.0.js\", function(){\n",
              "        new LDAvis(\"#\" + \"ldavis_el2871397006867129128212306622\", ldavis_el2871397006867129128212306622_data);\n",
              "      });\n",
              "    });\n",
              "}else{\n",
              "    // require.js not available: dynamically load d3 & LDAvis\n",
              "    LDAvis_load_lib(\"https://cdnjs.cloudflare.com/ajax/libs/d3/3.5.5/d3.min.js\", function(){\n",
              "         LDAvis_load_lib(\"https://cdn.rawgit.com/bmabey/pyLDAvis/files/ldavis.v1.0.0.js\", function(){\n",
              "                 new LDAvis(\"#\" + \"ldavis_el2871397006867129128212306622\", ldavis_el2871397006867129128212306622_data);\n",
              "            })\n",
              "         });\n",
              "}\n",
              "</script>"
            ],
            "text/plain": [
              "PreparedData(topic_coordinates=              x         y  topics  cluster       Freq\n",
              "topic                                                \n",
              "3      0.147195 -0.034458       1        1  32.098634\n",
              "1      0.092556 -0.003354       2        1  27.437477\n",
              "0     -0.153940 -0.126629       3        1  22.330871\n",
              "2     -0.085811  0.164441       4        1  18.133018, topic_info=        Term         Freq        Total Category  logprob  loglift\n",
              "5       love  4170.000000  4170.000000  Default  30.0000  30.0000\n",
              "1333     kid  1874.000000  1874.000000  Default  29.0000  29.0000\n",
              "688   tablet  6247.000000  6247.000000  Default  28.0000  28.0000\n",
              "1      great  4492.000000  4492.000000  Default  27.0000  27.0000\n",
              "105    price  1927.000000  1927.000000  Default  26.0000  26.0000\n",
              "...      ...          ...          ...      ...      ...      ...\n",
              "425     book   246.817958  1402.768777   Topic4  -4.9241  -0.0301\n",
              "272      buy   312.483888  3277.820887   Topic4  -4.6882  -0.6429\n",
              "312     need   205.376088  1017.902191   Topic4  -5.1079   0.1068\n",
              "1      great   197.958035  4492.897679   Topic4  -5.1447  -1.4148\n",
              "49      want   167.370716   964.193130   Topic4  -5.3125  -0.0436\n",
              "\n",
              "[314 rows x 6 columns], token_table=      Topic      Freq        Term\n",
              "term                             \n",
              "1122      1  0.892149  absolutely\n",
              "1122      3  0.092291  absolutely\n",
              "1122      4  0.015382  absolutely\n",
              "1518      1  0.117352     account\n",
              "1518      2  0.008693     account\n",
              "...     ...       ...         ...\n",
              "1786      2  0.955887        xmas\n",
              "1014      1  0.981143        year\n",
              "1014      3  0.002714        year\n",
              "1014      4  0.015606        year\n",
              "1342      1  0.994160       young\n",
              "\n",
              "[583 rows x 3 columns], R=30, lambda_step=0.01, plot_opts={'xlab': 'PC1', 'ylab': 'PC2'}, topic_order=[4, 2, 1, 3])"
            ]
          },
          "metadata": {},
          "execution_count": 40
        }
      ]
    },
    {
      "cell_type": "markdown",
      "metadata": {
        "id": "1aaCUK_9gjIs"
      },
      "source": [
        "## Create a Topic ID/Name Dictionary \n",
        "\n",
        "When populating your topic id/name dictionary, use the index order shown in the viz tool. \n",
        "\n",
        "We'll use a function to map the viz tool index ordering, with the train LDA model ordering. "
      ]
    },
    {
      "cell_type": "code",
      "metadata": {
        "deletable": false,
        "nbgrader": {
          "cell_type": "code",
          "checksum": "fc10e9728e5dcf06baf0800c3cdb88ce",
          "grade": false,
          "grade_id": "cell-4905c0c1050f0d03",
          "locked": false,
          "schema_version": 3,
          "solution": true,
          "task": false
        },
        "id": "v9XRCiu_gjIs"
      },
      "source": [
        "# create a dictionary \n",
        "# keys - use topic ids from pyLDAvis visualization \n",
        "# values - topic names that you create \n",
        "# save dictionary to `vis_topic_name_dict`\n",
        "\n",
        "# YOUR CODE HERE\n",
        "vis_topic_name_dict = {\n",
        "    1:'gift_recommendation',\n",
        "    2:'positive_reviews',\n",
        "    3:'negative_reviews',\n",
        "    4:'apps'\n",
        "}"
      ],
      "execution_count": 41,
      "outputs": []
    },
    {
      "cell_type": "code",
      "metadata": {
        "id": "mv0RmVLugjIs"
      },
      "source": [
        "def get_topic_id_lookup_dict(vis, vis_topic_name_dict):\n",
        "    \"\"\"\n",
        "    The starting index and the ordering of topic ids between the trained LDA model and the viz tool are different. So we need to create a look up dictionary that maps \n",
        "    the correct association between topic ids from both sources. \n",
        "    \"\"\"\n",
        "    # value is order of topic ids according to pyLDAvis tool \n",
        "    # key is order of topic ids according to lda model\n",
        "    model_vis_tool_topic_id_lookup = vis.topic_coordinates.topics.to_dict()\n",
        "\n",
        "    # invert dictionary so that \n",
        "    # key is order of topic ids according to pyLDAvis tool \n",
        "    # value is order of topic ids according to lda model\n",
        "    topic_id_lookup =  {v:k for k, v in model_vis_tool_topic_id_lookup.items()}\n",
        "    \n",
        "    return {v:vis_topic_name_dict[k]  for k, v in topic_id_lookup.items()}"
      ],
      "execution_count": 42,
      "outputs": []
    },
    {
      "cell_type": "code",
      "metadata": {
        "deletable": false,
        "nbgrader": {
          "cell_type": "code",
          "checksum": "55f23aa9324a225091037f0c5daf2192",
          "grade": false,
          "grade_id": "cell-d38acb7b250b4079",
          "locked": false,
          "schema_version": 3,
          "solution": true,
          "task": false
        },
        "id": "gqg49FG_gjIs"
      },
      "source": [
        "# YOUR CODE HERE\n",
        "topic_name_dict = get_topic_id_lookup_dict(vis, vis_topic_name_dict)"
      ],
      "execution_count": 43,
      "outputs": []
    },
    {
      "cell_type": "markdown",
      "metadata": {
        "id": "zTwXUgGXgjIt"
      },
      "source": [
        "## Assign Each Document a Topic Name\n",
        "\n",
        "Now that we have a topic id/name look-up dict aligned with the index ordering of the trained LDA model, we can give each topic a topic name. \n",
        "\n",
        "The function below has been given to you. However, you are highly encouraged to read through it and make sure that you understand what it is doing each step of the way. A good way to do this is to copy and paste the code inside the function into a new cell, comment out all the lines of code and line by line, uncomment the code and see the output. "
      ]
    },
    {
      "cell_type": "code",
      "metadata": {
        "id": "hdZKR1jTgjIt"
      },
      "source": [
        "def get_topic_ids_for_docs(lda_model, corpus):\n",
        "    \n",
        "    \"\"\"\n",
        "    Passes a Bag-of-Words vector into a trained LDA model to get the topic id of that document. \n",
        "    \n",
        "    Parameters\n",
        "    ----------\n",
        "    lda_model: Gensim object\n",
        "        Must be a trained model \n",
        "        \n",
        "    corpus: nested lists of tuples, \n",
        "        i.e. [[(),(), ..., ()], [(),(), ..., ()], ..., [(),(), ..., ()]]\n",
        "        \n",
        "    Returns\n",
        "    -------\n",
        "    topic_id_list: list\n",
        "        Contains topic ids for all document vectors in corpus \n",
        "    \"\"\"\n",
        "    \n",
        "    # store topic ids for each document\n",
        "    doc_topic_ids = []\n",
        "\n",
        "    # iterature through the bow vectors for each doc\n",
        "    for doc_bow in corpus:\n",
        "        \n",
        "        # store the topic ids for the doc\n",
        "        topic_ids = []\n",
        "        # store the topic probabilities for the doc\n",
        "        topic_probs = []\n",
        "\n",
        "        # list of tuples\n",
        "        # each tuple has a topic id and the prob that the doc belongs to that topic \n",
        "        topic_id_prob_tuples = lda_trained_model.get_document_topics(doc_bow)\n",
        "        \n",
        "        # iterate through the topic id/prob pairs \n",
        "        for topic_id_prob in topic_id_prob_tuples:\n",
        "            \n",
        "            # index for topic id\n",
        "            topic_id = topic_id_prob[0]\n",
        "            # index for prob that doc belongs that the corresponding topic\n",
        "            topic_prob = topic_id_prob[1]\n",
        "\n",
        "            # store all topic ids for doc\n",
        "            topic_ids.append(topic_id)\n",
        "            # store all topic probs for doc\n",
        "            topic_probs.append(topic_prob)\n",
        "\n",
        "        # get index for largest prob score\n",
        "        max_topic_prob_ind = np.argmax(topic_probs)\n",
        "        # get corresponding topic id\n",
        "        max_prob_topic_id = topic_ids[max_topic_prob_ind]\n",
        "        # store topic id that had the highest prob for doc being a memebr of that topic\n",
        "        doc_topic_ids.append(max_prob_topic_id)\n",
        "        \n",
        "    return doc_topic_ids"
      ],
      "execution_count": 44,
      "outputs": []
    },
    {
      "cell_type": "code",
      "metadata": {
        "deletable": false,
        "nbgrader": {
          "cell_type": "code",
          "checksum": "09f2b8ebaf696dc05187cecce8c9e251",
          "grade": false,
          "grade_id": "cell-e28e8774a79ac647",
          "locked": false,
          "schema_version": 3,
          "solution": true,
          "task": false
        },
        "id": "6aaxamoWgjIt"
      },
      "source": [
        "\n",
        "# use get_topic_ids_for_docs get the topic id for each doc in the corpus - save result to `doc_topic_ids`\n",
        "\n",
        "# create a new feature in df_electronics called topic_id using `doc_topic_ids`\n",
        "\n",
        "# iterate through topic_id and use the lookup dict `topic_name_dict` to assign each document a topic name\n",
        "# save results to a new feature in df_electronics called `new_topic_name`\n",
        "\n",
        "# YOUR CODE HERE\n",
        "doc_topic_ids = get_topic_ids_for_docs(lda_trained_model, corpus)\n",
        "df_electronics['topic_ids'] = doc_topic_ids\n",
        "df_electronics['new_topic_name'] = df_electronics['topic_ids'].apply(\n",
        "    lambda topic_id : topic_name_dict[topic_id]\n",
        ")"
      ],
      "execution_count": 45,
      "outputs": []
    },
    {
      "cell_type": "markdown",
      "metadata": {
        "id": "QwT1nfVHgjIt"
      },
      "source": [
        "## Congratulations! You have created new topic names for your documents. "
      ]
    },
    {
      "cell_type": "code",
      "metadata": {
        "id": "k0SxziILgjIu",
        "colab": {
          "base_uri": "https://localhost:8080/",
          "height": 204
        },
        "outputId": "eb61f774-6ee1-4598-b4ab-83b6ae2ba0c9"
      },
      "source": [
        "cols = [\"reviews.text\", \"new_topic_name\"]\n",
        "df_electronics[cols].head()"
      ],
      "execution_count": 46,
      "outputs": [
        {
          "output_type": "execute_result",
          "data": {
            "text/html": [
              "<div>\n",
              "<style scoped>\n",
              "    .dataframe tbody tr th:only-of-type {\n",
              "        vertical-align: middle;\n",
              "    }\n",
              "\n",
              "    .dataframe tbody tr th {\n",
              "        vertical-align: top;\n",
              "    }\n",
              "\n",
              "    .dataframe thead th {\n",
              "        text-align: right;\n",
              "    }\n",
              "</style>\n",
              "<table border=\"1\" class=\"dataframe\">\n",
              "  <thead>\n",
              "    <tr style=\"text-align: right;\">\n",
              "      <th></th>\n",
              "      <th>reviews.text</th>\n",
              "      <th>new_topic_name</th>\n",
              "    </tr>\n",
              "  </thead>\n",
              "  <tbody>\n",
              "    <tr>\n",
              "      <th>8343</th>\n",
              "      <td>Great case to keep everything in its place! My...</td>\n",
              "      <td>gift_recommendation</td>\n",
              "    </tr>\n",
              "    <tr>\n",
              "      <th>8344</th>\n",
              "      <td>After discarding and getting rid of broken cd ...</td>\n",
              "      <td>negative_reviews</td>\n",
              "    </tr>\n",
              "    <tr>\n",
              "      <th>8345</th>\n",
              "      <td>A few dollars more, but I am boycotting amazon</td>\n",
              "      <td>apps</td>\n",
              "    </tr>\n",
              "    <tr>\n",
              "      <th>8346</th>\n",
              "      <td>My initial impression of this was very good. T...</td>\n",
              "      <td>negative_reviews</td>\n",
              "    </tr>\n",
              "    <tr>\n",
              "      <th>8347</th>\n",
              "      <td>Pros: Standard Echo. Cons: Older generation Ec...</td>\n",
              "      <td>negative_reviews</td>\n",
              "    </tr>\n",
              "  </tbody>\n",
              "</table>\n",
              "</div>"
            ],
            "text/plain": [
              "                                           reviews.text       new_topic_name\n",
              "8343  Great case to keep everything in its place! My...  gift_recommendation\n",
              "8344  After discarding and getting rid of broken cd ...     negative_reviews\n",
              "8345     A few dollars more, but I am boycotting amazon                 apps\n",
              "8346  My initial impression of this was very good. T...     negative_reviews\n",
              "8347  Pros: Standard Echo. Cons: Older generation Ec...     negative_reviews"
            ]
          },
          "metadata": {},
          "execution_count": 46
        }
      ]
    },
    {
      "cell_type": "code",
      "metadata": {
        "colab": {
          "base_uri": "https://localhost:8080/",
          "height": 225
        },
        "id": "EtyVq801MbOu",
        "outputId": "e09ba94e-508c-4a67-8711-cae1c744ba17"
      },
      "source": [
        "df_electronics['reviews.text'][8346]"
      ],
      "execution_count": 52,
      "outputs": [
        {
          "output_type": "execute_result",
          "data": {
            "application/vnd.google.colaboratory.intrinsic+json": {
              "type": "string"
            },
            "text/plain": [
              "\"My initial impression of this was very good. The material is nicer than the shiny stuff on my Hama CD binders and the netting trim gives a nice appearance compared to plain look of most budget CD binders.There are 50 pages with 8 disc pockets each (4 per side) giving a total of 400 capacity. The pages are hung from the spine in two groups of 25. By that I mean that 25 pages all have a single attachment point to the plastic spine.This is where the first problem with this binder lies. Because each group of 25 pages shares the same anchor point in the spine, the pages cannot sit flat once full of discs. They bend and arch, and apart from looking tatty this puts a lot of tension across the plastic film. With long-term usage I suspect this plastic film will will tear due to the tension. It also makes it awkward to browse the binder as the pages don't sit flat. It may even crack or bend your discs.I look to my Hama 120 binder to see how it *should* be done - it only has 30 pages and yet they were smart enough to hang them from the spine in 3 bundles of 10. This spreads out the pages and allows easy browsing of the binder without putting any of the pockets under tension.After just 2 weeks in storage I opened the binder and the corners of all the pages have become dog-eared by themselves. This is due to the poor design and poor fit of the binder pages when filled with discs. Again, it is not a problem I have seen with my other disc binders, my two-year-old Hama binders look as good as new.Overally this binder has a lot of storage at a good price. If that's all you want you will probably be happy with the product. But sloppy design prevents it from being anything more than a mediocre binder. I feel that whoever designed this did not bother to fill it with discs to see how it would cope.\""
            ]
          },
          "metadata": {},
          "execution_count": 52
        }
      ]
    },
    {
      "cell_type": "markdown",
      "metadata": {
        "id": "A4Eal0R7gjIu"
      },
      "source": [
        "-----\n",
        "# Stretch Goals\n",
        "\n",
        "- Treat `new_topic_name` as a Y vector and train a supervised learning model to predict the topic of each document."
      ]
    }
  ]
}