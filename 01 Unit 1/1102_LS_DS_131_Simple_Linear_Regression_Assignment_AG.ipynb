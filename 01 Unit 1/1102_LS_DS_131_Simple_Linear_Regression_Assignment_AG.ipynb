{
  "nbformat": 4,
  "nbformat_minor": 0,
  "metadata": {
    "colab": {
      "name": "1102 LS_DS_131_Simple_Linear_Regression_Assignment_AG.ipynb",
      "provenance": [],
      "collapsed_sections": []
    },
    "kernelspec": {
      "display_name": "Python 3",
      "language": "python",
      "name": "python3"
    },
    "language_info": {
      "codemirror_mode": {
        "name": "ipython",
        "version": 3
      },
      "file_extension": ".py",
      "mimetype": "text/x-python",
      "name": "python",
      "nbconvert_exporter": "python",
      "pygments_lexer": "ipython3",
      "version": "3.7.4"
    }
  },
  "cells": [
    {
      "cell_type": "markdown",
      "metadata": {
        "id": "voEwRZ2kqXGr"
      },
      "source": [
        "## Autograded Notebook (Canvas & CodeGrade)\n",
        "\n",
        "This notebook will be automatically graded. It is designed to test your answers and award points for the correct answers. Following the instructions for each Task carefully.\n",
        "\n",
        "### Instructions\n",
        "\n",
        "* **Download this notebook** as you would any other ipynb file\n",
        "* **Upload** to Google Colab or work locally (if you have that set-up)\n",
        "* **Delete `raise NotImplementedError()`**\n",
        "* Write your code in the `# YOUR CODE HERE` space\n",
        "* **Execute** the Test cells that contain `assert` statements - these help you check your work (others contain hidden tests that will be checked when you submit through Canvas)\n",
        "* **Save** your notebook when you are finished\n",
        "* **Download** as a `ipynb` file (if working in Colab)\n",
        "* **Upload** your complete notebook to Canvas (there will be additional instructions in Slack and/or Canvas)"
      ]
    },
    {
      "cell_type": "markdown",
      "metadata": {
        "deletable": false,
        "editable": false,
        "id": "RQw2GTc8oDRw",
        "nbgrader": {
          "cell_type": "markdown",
          "checksum": "18d91ace74c3b8631329ae469c03bb84",
          "grade": false,
          "grade_id": "cell-de0b7ec24e1d742c",
          "locked": true,
          "schema_version": 3,
          "solution": false,
          "task": false
        }
      },
      "source": [
        "# Lambda School Data Science - Unit 1 Sprint 3 Module 1\n",
        "\n",
        "---\n",
        "\n",
        "## Module Project: Simple Linear Regression\n",
        "\n",
        "\n",
        "### Learning Objectives \n",
        "\n",
        "- identify the independent and dependent variables in a relationship (also known as features and target, and explanatory and response variables)\n",
        "- identify linear and nonlinear relationships from a scatterplot\n",
        "- calculate and interpret linear correlation\n",
        "- calculate and interpret the slope and intercept of a simple linear regression model\n",
        "- predict a response from a simple linear regression model\n",
        "- calculate and interpret a residual\n",
        "\n",
        "### Total notebook points: 14"
      ]
    },
    {
      "cell_type": "markdown",
      "metadata": {
        "id": "MHWnltybtm8_"
      },
      "source": [
        "## Part A\n",
        "\n",
        "## Introduction\n",
        "\n",
        "### Is head size related to brain weight in healthy adult humans?\n",
        "\n",
        "The `Brainhead.csv` dataset provides information on 237 individuals who were subject to post-mortem examination at the Middlesex Hospital in London around the turn of the 20th century. Study authors used cadavers to see if a relationship between brain weight and other more easily measured physiological characteristics such as age, sex, and head size could be determined. The end goal was to develop a way to estimate a person’s brain size while they were still alive (as the living aren’t keen on having their brains taken out and weighed). \n",
        "\n",
        "**We wish to determine if there is a linear relationship between head size and brain weight in healthy human adults.**\n",
        "\n",
        "(Source: R.J. Gladstone (1905). \"A Study of the Relations of the Brain to the Size of the Head\", Biometrika, Vol. 4, pp105-123.)\n",
        "\n",
        "Use the above information to complete Tasks 1 - 13"
      ]
    },
    {
      "cell_type": "markdown",
      "metadata": {
        "id": "aH4vutaHSS0o"
      },
      "source": [
        "**Task 1** - Load the data\n",
        "\n",
        "As we usually begin, let's load the data! The URL has been provided.\n",
        "\n",
        "* load your CSV file into a DataFrame named `df`"
      ]
    },
    {
      "cell_type": "code",
      "metadata": {
        "deletable": false,
        "id": "sJegaDmRn0a6",
        "nbgrader": {
          "cell_type": "code",
          "checksum": "c479558369906cc550efa3d531d99b0e",
          "grade": false,
          "grade_id": "cell-f56f45d558982ac9",
          "locked": false,
          "schema_version": 3,
          "solution": true,
          "task": false
        },
        "colab": {
          "base_uri": "https://localhost:8080/",
          "height": 204
        },
        "outputId": "7dc93bb9-574f-4e34-a695-12198a168cb5"
      },
      "source": [
        "# Task 1\n",
        "\n",
        "# Imports\n",
        "import pandas as pd\n",
        "import numpy as np\n",
        "\n",
        "data_url = 'https://raw.githubusercontent.com/LambdaSchool/data-science-practice-datasets/main/unit_1/Brainhead/Brainhead.csv'\n",
        "\n",
        "# YOUR CODE HERE\n",
        "df = pd.read_csv(data_url)\n",
        "\n",
        "# Print out your DataFrame\n",
        "df.head()"
      ],
      "execution_count": 1,
      "outputs": [
        {
          "output_type": "execute_result",
          "data": {
            "text/html": [
              "<div>\n",
              "<style scoped>\n",
              "    .dataframe tbody tr th:only-of-type {\n",
              "        vertical-align: middle;\n",
              "    }\n",
              "\n",
              "    .dataframe tbody tr th {\n",
              "        vertical-align: top;\n",
              "    }\n",
              "\n",
              "    .dataframe thead th {\n",
              "        text-align: right;\n",
              "    }\n",
              "</style>\n",
              "<table border=\"1\" class=\"dataframe\">\n",
              "  <thead>\n",
              "    <tr style=\"text-align: right;\">\n",
              "      <th></th>\n",
              "      <th>Gender</th>\n",
              "      <th>Age</th>\n",
              "      <th>Head</th>\n",
              "      <th>Brain</th>\n",
              "    </tr>\n",
              "  </thead>\n",
              "  <tbody>\n",
              "    <tr>\n",
              "      <th>0</th>\n",
              "      <td>1</td>\n",
              "      <td>1</td>\n",
              "      <td>4512</td>\n",
              "      <td>1530</td>\n",
              "    </tr>\n",
              "    <tr>\n",
              "      <th>1</th>\n",
              "      <td>1</td>\n",
              "      <td>1</td>\n",
              "      <td>3738</td>\n",
              "      <td>1297</td>\n",
              "    </tr>\n",
              "    <tr>\n",
              "      <th>2</th>\n",
              "      <td>1</td>\n",
              "      <td>1</td>\n",
              "      <td>4261</td>\n",
              "      <td>1335</td>\n",
              "    </tr>\n",
              "    <tr>\n",
              "      <th>3</th>\n",
              "      <td>1</td>\n",
              "      <td>1</td>\n",
              "      <td>3777</td>\n",
              "      <td>1282</td>\n",
              "    </tr>\n",
              "    <tr>\n",
              "      <th>4</th>\n",
              "      <td>1</td>\n",
              "      <td>1</td>\n",
              "      <td>4177</td>\n",
              "      <td>1590</td>\n",
              "    </tr>\n",
              "  </tbody>\n",
              "</table>\n",
              "</div>"
            ],
            "text/plain": [
              "   Gender  Age  Head  Brain\n",
              "0       1    1  4512   1530\n",
              "1       1    1  3738   1297\n",
              "2       1    1  4261   1335\n",
              "3       1    1  3777   1282\n",
              "4       1    1  4177   1590"
            ]
          },
          "metadata": {
            "tags": []
          },
          "execution_count": 1
        }
      ]
    },
    {
      "cell_type": "markdown",
      "metadata": {
        "deletable": false,
        "editable": false,
        "id": "Xa940Q03SS0q",
        "nbgrader": {
          "cell_type": "markdown",
          "checksum": "5341faf9877c24ef94beb0e200d4ab2c",
          "grade": false,
          "grade_id": "cell-2754449cf4111e17",
          "locked": true,
          "schema_version": 3,
          "solution": false,
          "task": false
        }
      },
      "source": [
        "**Task 1 - Test**"
      ]
    },
    {
      "cell_type": "code",
      "metadata": {
        "deletable": false,
        "editable": false,
        "id": "EeoSY7pfSS0q",
        "nbgrader": {
          "cell_type": "code",
          "checksum": "22a0ec95c1e64fb630d813ebfd46128b",
          "grade": true,
          "grade_id": "cell-a168cbc0826de9db",
          "locked": true,
          "points": 1,
          "schema_version": 3,
          "solution": false,
          "task": false
        }
      },
      "source": [
        "# Task 1 - Test\n",
        "\n",
        "assert isinstance(df, pd.DataFrame), 'Have you created a DataFrame named `df`?'\n",
        "assert len(df) == 237\n"
      ],
      "execution_count": 2,
      "outputs": []
    },
    {
      "cell_type": "markdown",
      "metadata": {
        "id": "UygPGJ5Iq4zZ"
      },
      "source": [
        "**Task 2**\n",
        "\n",
        "The two variables we are interested in - for now - are \n",
        "\n",
        "* `Brain` - the brain weight in g\n",
        "* `Head` - the head size in cubic cm\n",
        "\n",
        "If we wish to predict brain weight from head size, which variable is the **independent variable** (also called the feature, explanatory, or x variable) and which variable is the **dependent variable** (also called the target, response or y variable)?\n",
        "\n",
        "Using the DataFrame `df` you loaded above assign columns to the independent and dependent variables\n",
        "\n",
        "* Assign the DataFrame column of the independent variable to `ind_x`\n",
        "* Assign the DataFrame column of dependent variable to `dep_y`"
      ]
    },
    {
      "cell_type": "code",
      "metadata": {
        "deletable": false,
        "id": "WHq7LXeASS0r",
        "nbgrader": {
          "cell_type": "code",
          "checksum": "7664a78fd5bbdb8f8273dcc941da406d",
          "grade": false,
          "grade_id": "cell-7ec1c137b28cf882",
          "locked": false,
          "schema_version": 3,
          "solution": true,
          "task": false
        }
      },
      "source": [
        "# Task 2\n",
        "\n",
        "# YOUR CODE HERE\n",
        "ind_x = df['Head']\n",
        "dep_y = df['Brain']"
      ],
      "execution_count": 3,
      "outputs": []
    },
    {
      "cell_type": "markdown",
      "metadata": {
        "id": "Nqy2hDgXSS0r"
      },
      "source": [
        "**Task 2 - Test**"
      ]
    },
    {
      "cell_type": "code",
      "metadata": {
        "deletable": false,
        "editable": false,
        "id": "3IOn-TcxSS0r",
        "nbgrader": {
          "cell_type": "code",
          "checksum": "336f7b141797be4ade6db0acc52f258d",
          "grade": true,
          "grade_id": "cell-631ebe25bd655d2f",
          "locked": true,
          "points": 1,
          "schema_version": 3,
          "solution": false,
          "task": false
        }
      },
      "source": [
        "# Task 2 - Test\n",
        "# Hidden tests - you will see the results when you submit to Canvas"
      ],
      "execution_count": 4,
      "outputs": []
    },
    {
      "cell_type": "markdown",
      "metadata": {
        "id": "p-dC58hMvRYt"
      },
      "source": [
        "**Task 3** - Create a plot\n",
        "\n",
        "This task will not be autograded - but it is part of the project!\n",
        "\n",
        "Create a scatterplot showing the relationship between brain weight and head size.  Make sure to plot the correct variable on the correct axis and label your axes.\n",
        "\n",
        "* Import your plotting library\n",
        "* Plot your x- and y-variables on a scatter plot\n",
        "* Label the axes\n",
        "* Give your plot a title!"
      ]
    },
    {
      "cell_type": "code",
      "metadata": {
        "deletable": false,
        "id": "sVZOz0j8xLb4",
        "nbgrader": {
          "cell_type": "code",
          "checksum": "3ade2e63e95a1cfb3871b903290756b7",
          "grade": false,
          "grade_id": "cell-e12fa4ed788aaf45",
          "locked": false,
          "schema_version": 3,
          "solution": true,
          "task": false
        },
        "colab": {
          "base_uri": "https://localhost:8080/",
          "height": 318
        },
        "outputId": "d87d9ec8-190e-4e95-ba44-b57bc9ff85e7"
      },
      "source": [
        "# Task 3\n",
        "# (NOT autograded but fill in your code!)\n",
        "\n",
        "# YOUR CODE HERE\n",
        "import seaborn as sns\n",
        "\n",
        "ax = sns.scatterplot(x=ind_x, y=dep_y)\n",
        "ax.set_title('BIG BRAIN')\n",
        "ax.set_ylabel('Brain Weight (g)')\n",
        "ax.set_xlabel('Head Size (cm^3)')"
      ],
      "execution_count": 16,
      "outputs": [
        {
          "output_type": "execute_result",
          "data": {
            "text/plain": [
              "Text(0.5, 0, 'Head Size (cm^3)')"
            ]
          },
          "metadata": {
            "tags": []
          },
          "execution_count": 16
        },
        {
          "output_type": "display_data",
          "data": {
            "image/png": "[encoded data removed]",
            "text/plain": [
              "<Figure size 432x288 with 1 Axes>"
            ]
          },
          "metadata": {
            "tags": []
          }
        }
      ]
    },
    {
      "cell_type": "markdown",
      "metadata": {
        "id": "nusDTdXxOyUB"
      },
      "source": [
        "**Task 4** Describe your plot\n",
        "\n",
        "Select the correct description of the strength and direction of the relationship between the independent and dependent variables shown in the plot you created in Task 3. Specify your answer in the next code block using `Answer = `.  For example, if the correct answer is choice B, you'll type `Answer = 'B'`.\n",
        "\n",
        "A: There appears to be a negative linear relationship between the independent and dependent variables.\n",
        "\n",
        "B: There appears to be a non-linear relationship between the independent and dependent variables.\n",
        "\n",
        "C: There appears to be no linear relationship between the independent and dependent variables.\n",
        "\n",
        "D: There appears to be a positive linear relationship between the independent and dependent variables.\n"
      ]
    },
    {
      "cell_type": "code",
      "metadata": {
        "deletable": false,
        "id": "d5n9MhFFOyUN",
        "nbgrader": {
          "cell_type": "code",
          "checksum": "840ad9c9d7150bddf31bc4044f84cea0",
          "grade": false,
          "grade_id": "cell-cc8d0ae0969654bf",
          "locked": false,
          "schema_version": 3,
          "solution": true,
          "task": false
        }
      },
      "source": [
        "# Task 4\n",
        "\n",
        "# YOUR CODE HERE\n",
        "Answer = 'D'"
      ],
      "execution_count": 17,
      "outputs": []
    },
    {
      "cell_type": "markdown",
      "metadata": {
        "id": "DWAMbt2VOyUN"
      },
      "source": [
        "**Task 4 Test**"
      ]
    },
    {
      "cell_type": "code",
      "metadata": {
        "deletable": false,
        "editable": false,
        "id": "P872bHxJOyUO",
        "nbgrader": {
          "cell_type": "code",
          "checksum": "6fa3e36df5933c4210ce08a948a2e3b9",
          "grade": true,
          "grade_id": "cell-3970fbb1a3eaefb5",
          "locked": true,
          "points": 1,
          "schema_version": 3,
          "solution": false,
          "task": false
        }
      },
      "source": [
        "# Task 4 - Test\n",
        "# Hidden tests - you will see the results when you submit to Canvas"
      ],
      "execution_count": 18,
      "outputs": []
    },
    {
      "cell_type": "markdown",
      "metadata": {
        "id": "q9zVxcOPwU4Z"
      },
      "source": [
        "**Task 5** - Missing data\n",
        "\n",
        "Now, let's determine if there is any missing data in the dataset. If there are null values, drop the row that contains a missing value(s).\n",
        "\n",
        "* Check for missing/null values and assign the sum to `num_null` - the result should be the sum of **all** the null values and a **single integer** (*Hint: you will compute the sum of a sum*)\n",
        "* If there are null values, drop them in place (your DataFrame should still be (`df`)"
      ]
    },
    {
      "cell_type": "code",
      "metadata": {
        "deletable": false,
        "id": "ebhykD7aSS0t",
        "nbgrader": {
          "cell_type": "code",
          "checksum": "291449e6f1b4c13b40c8510e9f1fff2a",
          "grade": false,
          "grade_id": "cell-be6f6047329c7d29",
          "locked": false,
          "schema_version": 3,
          "solution": true,
          "task": false
        }
      },
      "source": [
        "# Task 5\n",
        "\n",
        "# YOUR CODE HERE\n",
        "num_null = df.isnull().sum().sum()\n",
        "\n",
        "if num_null != 0:\n",
        "  df = df.dropna()"
      ],
      "execution_count": 21,
      "outputs": []
    },
    {
      "cell_type": "markdown",
      "metadata": {
        "id": "hiQKoRx3SS0t"
      },
      "source": [
        "**Task 5 - Test**"
      ]
    },
    {
      "cell_type": "code",
      "metadata": {
        "deletable": false,
        "editable": false,
        "id": "wO9cpgzuSS0t",
        "nbgrader": {
          "cell_type": "code",
          "checksum": "4a7ecb68177d9cc01b7497b93659eb8d",
          "grade": true,
          "grade_id": "cell-701f63265ccd9bb8",
          "locked": true,
          "points": 1,
          "schema_version": 3,
          "solution": false,
          "task": false
        }
      },
      "source": [
        "# Task 5 - Test\n",
        "# Hidden tests - you will see the results when you submit to Canvas"
      ],
      "execution_count": 22,
      "outputs": []
    },
    {
      "cell_type": "markdown",
      "metadata": {
        "id": "5ZeOv8ELAy8u"
      },
      "source": [
        "**Task 6** - Correlation coefficient\n",
        "\n",
        "Now that we've explored our data through a plot and checked for null values, we can move on to some calculations. First, we're going to calculate and interpret the correlation coefficient for the relationship between *head size* and *brain weight*.\n",
        "\n",
        "* Import import scipy.stats as st\n",
        "* Calculate the correlation coefficient and assign it to the variable `r`. Remember that the output of `st.pearsonr()` is *two* values, the correlation and the p-value for the correlation."
      ]
    },
    {
      "cell_type": "code",
      "metadata": {
        "deletable": false,
        "id": "GyoPNwziBm-5",
        "nbgrader": {
          "cell_type": "code",
          "checksum": "7779c20d2b6247b172954cf64b0462a1",
          "grade": false,
          "grade_id": "cell-0753e360c56efe9e",
          "locked": false,
          "schema_version": 3,
          "solution": true,
          "task": false
        },
        "colab": {
          "base_uri": "https://localhost:8080/"
        },
        "outputId": "6d92ceef-2a71-4406-e4a4-9f68395ec353"
      },
      "source": [
        "# Task 6\n",
        "\n",
        "# YOUR CODE HERE\n",
        "import scipy.stats as st\n",
        "\n",
        "r, p_val = st.pearsonr(df['Head'], df['Brain'])\n",
        "\n",
        "# View the results\n",
        "print('Correlation coefficient:', r)\n"
      ],
      "execution_count": 26,
      "outputs": [
        {
          "output_type": "stream",
          "text": [
            "Correlation coefficient: 0.7995697092542963\n"
          ],
          "name": "stdout"
        }
      ]
    },
    {
      "cell_type": "markdown",
      "metadata": {
        "id": "pGIa3jCUSS0u"
      },
      "source": [
        "**Task 6 - Test**"
      ]
    },
    {
      "cell_type": "code",
      "metadata": {
        "deletable": false,
        "editable": false,
        "id": "0DzsijTqSS0v",
        "nbgrader": {
          "cell_type": "code",
          "checksum": "c65ad90406b18a162b9799f3e09841b9",
          "grade": true,
          "grade_id": "cell-7874d478572b8bae",
          "locked": true,
          "points": 1,
          "schema_version": 3,
          "solution": false,
          "task": false
        }
      },
      "source": [
        "# Task 6 - Test\n",
        "\n",
        "assert isinstance(r, float), 'Make sure to assign only the correlation (not the correlation and p-value) to the variable r.'"
      ],
      "execution_count": 25,
      "outputs": []
    },
    {
      "cell_type": "markdown",
      "metadata": {
        "id": "wOCbNpPpSS0v"
      },
      "source": [
        "**Task 6** - Correlation coefficient written answer\n",
        "\n",
        "Comment on the correlation coefficient value: Does the value align with your above plot? Is it a strong correlation or a weak correlation? In what direction? Your answer is not autograded but it is required for a complete project.\n",
        "\n",
        "Yes, it does align with the scatter plot. The scatter plot displayed a fairly strong positive correlation, while the coefficient was .80, which is a strong positive correlation."
      ]
    },
    {
      "cell_type": "markdown",
      "metadata": {
        "id": "AzdWVytNTTib"
      },
      "source": [
        "**Task 7** - Correlation coefficient, part 2\n",
        "\n",
        "**Without** doing any other calculations, determine the correlation of *brain weight* with *head size*.\n",
        "\n",
        "* Assign your result to `r_2`; this value should be a float."
      ]
    },
    {
      "cell_type": "code",
      "metadata": {
        "deletable": false,
        "id": "G7dsfoNmSS0v",
        "nbgrader": {
          "cell_type": "code",
          "checksum": "3691d90bd6a5b94f85a38e6cb0e1c946",
          "grade": false,
          "grade_id": "cell-1a6fe56b6c095212",
          "locked": false,
          "schema_version": 3,
          "solution": true,
          "task": false
        },
        "colab": {
          "base_uri": "https://localhost:8080/"
        },
        "outputId": "6b15499e-0150-44a9-f020-0301f76659d3"
      },
      "source": [
        "# Task 7\n",
        "\n",
        "# YOUR CODE HERE\n",
        "r_2, p_val_2 = st.pearsonr(df['Brain'], df['Head'])\n",
        "\n",
        "# View the results\n",
        "print('Correlation coefficient, part 2:', r_2)"
      ],
      "execution_count": 27,
      "outputs": [
        {
          "output_type": "stream",
          "text": [
            "Correlation coefficient, part 2: 0.7995697092542963\n"
          ],
          "name": "stdout"
        }
      ]
    },
    {
      "cell_type": "markdown",
      "metadata": {
        "id": "N1DwNk3MrIp3"
      },
      "source": [
        "**Task 7 - Test**"
      ]
    },
    {
      "cell_type": "code",
      "metadata": {
        "deletable": false,
        "editable": false,
        "id": "jyrqUxCZSS0w",
        "nbgrader": {
          "cell_type": "code",
          "checksum": "936b964a37f56dd755d19e8c615c152c",
          "grade": true,
          "grade_id": "cell-7d1c7c0e6c6e1e28",
          "locked": true,
          "points": 1,
          "schema_version": 3,
          "solution": false,
          "task": false
        }
      },
      "source": [
        "# Task 7 - Test\n",
        "\n",
        "# Hidden tests - you will see the results when you submit to Canvas"
      ],
      "execution_count": 28,
      "outputs": []
    },
    {
      "cell_type": "markdown",
      "metadata": {
        "id": "RFa5JXjmxive"
      },
      "source": [
        "**Task 8** - Linear model\n",
        "\n",
        "Now that we've calculated the correlation coefficient, we going to fit a linear model to our two variables. We'll use the `statsmodels` to calculate the least-squares regression coefficients (slope and intercept). Our two variables are head size (`Head`) and brain weight (`Brain`).\n",
        "\n",
        "* The import statement has been provided (don't edit this)\n",
        "* Create and fit your model in one step; assign it to `model` (*Hint: remember the format of the input data is `Y ~ X`*)\n",
        "* Using the `model.params[1]` method, assign the slope to the variable `slope`. Your variable should be a float (`numpy.float64`).\n",
        "* Using the same `model.params[0]` method, assign the intercept to the variable `intercept`. Your variable should be a float (`numpy.float64`)."
      ]
    },
    {
      "cell_type": "code",
      "metadata": {
        "deletable": false,
        "id": "dWWiUtwTyHp2",
        "nbgrader": {
          "cell_type": "code",
          "checksum": "222f49289ab09ddd1b0eeebb8b47e4f2",
          "grade": false,
          "grade_id": "cell-34c43054fcb49e9c",
          "locked": false,
          "schema_version": 3,
          "solution": true,
          "task": false
        },
        "colab": {
          "base_uri": "https://localhost:8080/"
        },
        "outputId": "3826cf0c-8720-4e77-90ac-db2b9bdbd7a5"
      },
      "source": [
        "# Task 8\n",
        "\n",
        "# Import OLS from statsmodel\n",
        "from statsmodels.formula.api import ols\n",
        "\n",
        "# Set-up and fit the model in one step\n",
        "# (format Y ~ X)\n",
        "\n",
        "# YOUR CODE HERE\n",
        "model = ols('Brain ~ Head', data = df).fit()\n",
        "intercept, slope = model.params\n",
        "\n",
        "# View the model parameters\n",
        "print('The slope is:', slope)\n",
        "print('The intercept is:', intercept)"
      ],
      "execution_count": 31,
      "outputs": [
        {
          "output_type": "stream",
          "text": [
            "The slope is: 0.263429339489399\n",
            "The intercept is: 325.5734210494421\n"
          ],
          "name": "stdout"
        }
      ]
    },
    {
      "cell_type": "markdown",
      "metadata": {
        "id": "GwARzDqzSS0x"
      },
      "source": [
        "**Task 8 - Test**"
      ]
    },
    {
      "cell_type": "code",
      "metadata": {
        "deletable": false,
        "editable": false,
        "id": "XX9bLQ-bSS0x",
        "nbgrader": {
          "cell_type": "code",
          "checksum": "f72a6d5cbda40e269ed003cf89c1f106",
          "grade": true,
          "grade_id": "cell-730fe2c573964f36",
          "locked": true,
          "points": 1,
          "schema_version": 3,
          "solution": false,
          "task": false
        }
      },
      "source": [
        "# Task 8 - Test\n",
        "\n",
        "# Hidden tests - you will see the results when you submit to Canvas"
      ],
      "execution_count": 32,
      "outputs": []
    },
    {
      "cell_type": "markdown",
      "metadata": {
        "id": "vO7saCVHjuEh"
      },
      "source": [
        "**Task 9** Writing the linear equation\n",
        "\n",
        "Select the statement that correctly shows the linear model of the relationship between head size and brain weight (coefficients are rounded to the hundreths place). Specify your answer in the next code block using `Answer = `.  For example, if the correct answer is choice B, you'll type `Answer = 'B'`.\n",
        "\n",
        "A: $\\hat{Y} = 0.26 + 325.57x$\n",
        "\n",
        "B: $\\hat{Y} = 0.26 - 325.57x$\n",
        "\n",
        "C: $\\hat{Y} = 325.57 + 0.26x$\n",
        "\n",
        "D: $\\hat{Y} = 325.57 - 0.26x$\n"
      ]
    },
    {
      "cell_type": "code",
      "metadata": {
        "deletable": false,
        "id": "zUazJShUjuEu",
        "nbgrader": {
          "cell_type": "code",
          "checksum": "a42e23352c3541222f82feed50e27108",
          "grade": false,
          "grade_id": "cell-ed50c6ccd43fc7ab",
          "locked": false,
          "schema_version": 3,
          "solution": true,
          "task": false
        }
      },
      "source": [
        "# Task 9\n",
        "\n",
        "# YOUR CODE HERE\n",
        "Answer = 'C'"
      ],
      "execution_count": 33,
      "outputs": []
    },
    {
      "cell_type": "markdown",
      "metadata": {
        "id": "Zw9E0WTqjuEu"
      },
      "source": [
        "**Task 9 Test**"
      ]
    },
    {
      "cell_type": "code",
      "metadata": {
        "deletable": false,
        "editable": false,
        "nbgrader": {
          "cell_type": "code",
          "checksum": "0fb23940f2d0b60776f5073d8ba19fe3",
          "grade": true,
          "grade_id": "cell-3a4c554820a7dad3",
          "locked": true,
          "points": 1,
          "schema_version": 3,
          "solution": false,
          "task": false
        },
        "id": "BCIip7YbqXG3"
      },
      "source": [
        "# Task 9 - Test\n",
        "# Hidden tests - you will see the results when you submit to Canvas"
      ],
      "execution_count": 34,
      "outputs": []
    },
    {
      "cell_type": "markdown",
      "metadata": {
        "id": "_KlS62UB1UAi"
      },
      "source": [
        "**Task  10** - Interpreting the equation\n",
        "\n",
        "Answer the following questions about the slope and intercept parameters. Your answer is not autograded but it is required for a complete project.\n",
        "\n",
        "10a - What does the slope term tell us about the relationship between head size and brain weight? Make sure to include the units of the variables in your answer!\n",
        "\n",
        "10b - What does the intercept tell us about the relationship between head size and brain weight? *Hint: Think about what a negative intercept means in terms of weight and size - can you have a negative weight?*\n",
        "\n",
        "---\n",
        "\n",
        "10a: The slope tells us how the y increases for every x unit. In this case, everytime the size of the head increases by one cubic cm, the weight of the brain increases by .26g.\n",
        "\n",
        "10b: The intercept tells us where y is when x is 0. So in this case, when the brain is head is 0 cubic cm, then the brain should weigh about 325g, granted this isn't possible in this scenario, same with a negative weight. But in other cases this is a possibility."
      ]
    },
    {
      "cell_type": "markdown",
      "metadata": {
        "id": "6ZvdF_8OkpyS"
      },
      "source": [
        "**Task 10** Interpreting the equation\n",
        "\n",
        "Select the statement that correctly interprets the slope and intercept coefficients. Specify your answer in the next code block using `Answer = `.  For example, if the correct answer is choice B, you'll type `Answer = 'B'`.\n",
        "\n",
        "A: The slope tells us that, for every additional cubic cm of head size, we expect brain weight to increase by .26g.  It does not make sense to interpret the intercept because 0 is **NOT** one of the x-values in our dataset.\n",
        "\n",
        "B: The slope tells us that, for every additional g of brain weight, we expect head size to increase by .26g.  It does not make sense to interpret the intercept because 0 is one of the x-values in our dataset.\n",
        "\n",
        "C: The slope tells us that, for every additional cubic cm of head size, we expect brain weight to increase by 325.57g.  It does not make sense to interpret the intercept because 0 is one of the x-values in our dataset.\n",
        "\n",
        "D: The intercept tells us that, for every additional cubic cm of head size, we expect brain weight to increase by .26g.  It does not make sense to interpret the slope because 0 is one of the x-values in our dataset.\n"
      ]
    },
    {
      "cell_type": "code",
      "metadata": {
        "deletable": false,
        "id": "YhVATiWSkpyS",
        "nbgrader": {
          "cell_type": "code",
          "checksum": "300237dbd607ddb88fdf269cff63680d",
          "grade": false,
          "grade_id": "cell-4c6ea81285bef22b",
          "locked": false,
          "schema_version": 3,
          "solution": true,
          "task": false
        }
      },
      "source": [
        "# Task 10\n",
        "\n",
        "# YOUR CODE HERE\n",
        "\n",
        "Answer = 'A'"
      ],
      "execution_count": 35,
      "outputs": []
    },
    {
      "cell_type": "markdown",
      "metadata": {
        "id": "vpRzwyiKkpyS"
      },
      "source": [
        "**Task 10 Test**"
      ]
    },
    {
      "cell_type": "code",
      "metadata": {
        "deletable": false,
        "editable": false,
        "nbgrader": {
          "cell_type": "code",
          "checksum": "bf93d89fc16aeb2d1c706cde44e1bd34",
          "grade": true,
          "grade_id": "cell-ba067cd35fde73c7",
          "locked": true,
          "points": 1,
          "schema_version": 3,
          "solution": false,
          "task": false
        },
        "id": "iXk-14J-qXG4"
      },
      "source": [
        "# Task 10 - Test\n",
        "# Hidden tests - you will see the results when you submit to Canvas"
      ],
      "execution_count": 36,
      "outputs": []
    },
    {
      "cell_type": "markdown",
      "metadata": {
        "id": "f0NjkceYb2sY"
      },
      "source": [
        "**Task 11** - Scatterplot with regression line\n",
        "\n",
        "Create a scatterplot with the regression line overlayed on top of the data. You can do this either with the seaborn plotting library or with matplotlib.\n",
        "\n",
        "**Tips**\n",
        "\n",
        "* If you use seaborn, turn off the confidence interval plotting (`ci=None`).\n",
        "* If you use matplotlib, you'll have to generate the data for the line using the equation you wrote in Task 9\n",
        "\n",
        "Write your plotting code below. Your plot will not be autograded but it is required for a complete project!"
      ]
    },
    {
      "cell_type": "code",
      "metadata": {
        "deletable": false,
        "id": "dKxmzQLYabfm",
        "nbgrader": {
          "cell_type": "code",
          "checksum": "aa36dce40983caa0d079396ad0b0ef99",
          "grade": false,
          "grade_id": "cell-b5053b5a757a7af3",
          "locked": false,
          "schema_version": 3,
          "solution": true,
          "task": false
        },
        "colab": {
          "base_uri": "https://localhost:8080/",
          "height": 399
        },
        "outputId": "df7a6f6c-8135-4cb6-db27-f378fa70fb09"
      },
      "source": [
        "# Task 11\n",
        "\n",
        "# Plotting code here; not autograde3d\n",
        "# YOUR CODE HERE\n",
        "sns.lmplot(x='Head', y='Brain', ci=None, data=df)"
      ],
      "execution_count": 38,
      "outputs": [
        {
          "output_type": "execute_result",
          "data": {
            "text/plain": [
              "<seaborn.axisgrid.FacetGrid at 0x7f8ebe07c9d0>"
            ]
          },
          "metadata": {
            "tags": []
          },
          "execution_count": 38
        },
        {
          "output_type": "display_data",
          "data": {
            "image/png": "[encoded data removed]",
            "text/plain": [
              "<Figure size 360x360 with 1 Axes>"
            ]
          },
          "metadata": {
            "tags": []
          }
        }
      ]
    },
    {
      "cell_type": "markdown",
      "metadata": {
        "id": "7dySccNE3pX7"
      },
      "source": [
        "**Task 12** - Making a prediction\n",
        "\n",
        "We're going to use our model to make a prediction. A healthy human has a brain size of 4100 cubic cm. How much do we expect his or her brain to weigh?\n",
        "\n",
        "* Assign the value 4100 to the variable `x_healthy` (it is an integer).\n",
        "* Using your `slope` and `intercept` values, determine the weight of a brain of size `x_healthy`; assign this value to `predict_healthy` and it should be a float.\n"
      ]
    },
    {
      "cell_type": "code",
      "metadata": {
        "deletable": false,
        "id": "BNV0bbzH4NFX",
        "nbgrader": {
          "cell_type": "code",
          "checksum": "bfa97d69c32109ba703bb08a0e1fe83f",
          "grade": false,
          "grade_id": "cell-e53d89ddafc02ccf",
          "locked": false,
          "schema_version": 3,
          "solution": true,
          "task": false
        },
        "colab": {
          "base_uri": "https://localhost:8080/"
        },
        "outputId": "692761ea-783b-49e8-96a1-3d6c7f6b32f0"
      },
      "source": [
        "# Task 12\n",
        "\n",
        "# YOUR CODE HERE\n",
        "x_healthy = 4100\n",
        "\n",
        "predict_healthy = slope * x_healthy + intercept\n",
        "\n",
        "# View your prediction\n",
        "\n",
        "print(f\"Prediction for a brain size of 4100 cc: {predict_healthy}g\")"
      ],
      "execution_count": 42,
      "outputs": [
        {
          "output_type": "stream",
          "text": [
            "Prediction for a brain size of 4100 cc: 1405.633712955978g\n"
          ],
          "name": "stdout"
        }
      ]
    },
    {
      "cell_type": "markdown",
      "metadata": {
        "id": "OnGU23JI6C1r"
      },
      "source": [
        "**Task 12 - Test**"
      ]
    },
    {
      "cell_type": "code",
      "metadata": {
        "deletable": false,
        "editable": false,
        "id": "42k24a-jSS0z",
        "nbgrader": {
          "cell_type": "code",
          "checksum": "4ef095d656067d072052fb9c282bfc82",
          "grade": true,
          "grade_id": "cell-d26901edcca8a728",
          "locked": true,
          "points": 1,
          "schema_version": 3,
          "solution": false,
          "task": false
        }
      },
      "source": [
        "# Task 12 - Test\n",
        "\n",
        "assert x_healthy == 4100, \"Make sure to correct set your x variable.\""
      ],
      "execution_count": 43,
      "outputs": []
    },
    {
      "cell_type": "markdown",
      "metadata": {
        "id": "rogizl36Bape"
      },
      "source": [
        "**Task 13** - Calculating a residual\n",
        "\n",
        "Now that we've made a prediction, we can take a look at a *model residual*. For this task, you will calculate and interpret the model residual for the first observation in the dataset. Remember that the first observation in the dataset is `Head`=4512 cubic centimeters.\n",
        "\n",
        "* Assign the value of 4512 to the variable `x_first` (it is an integer)\n",
        "* Assign the value of the first observation for `Brain` to the variable `observed_first` (*it is your job to look-up this value in your DataFrame; it should be an integer)\n",
        "* Calculate the predicted value and assign it to the variable `predict_first` (this variable should be a float).\n",
        "* Calculate the residual and assign it to the variable `residual_first` (*Hint: use the equation observed - predicted*. Your result will be float)."
      ]
    },
    {
      "cell_type": "code",
      "metadata": {
        "deletable": false,
        "id": "L9_qbtRtBnvr",
        "nbgrader": {
          "cell_type": "code",
          "checksum": "e887e0f5f99e04a5809c27cd1914d750",
          "grade": false,
          "grade_id": "cell-495335b2126a454d",
          "locked": false,
          "schema_version": 3,
          "solution": true,
          "task": false
        },
        "colab": {
          "base_uri": "https://localhost:8080/"
        },
        "outputId": "a7ddc7b9-eddc-40d6-ca89-5f85d29549b4"
      },
      "source": [
        "# Task 13\n",
        "\n",
        "# YOUR CODE HERE\n",
        "x_first = 4512\n",
        "observed_first = 1530\n",
        "\n",
        "predict_first = slope * x_first + intercept\n",
        "residual_first = observed_first - predict_first\n",
        "\n",
        "# View your prediction and residual \n",
        "print('Prediction for a brain size of 4512 cc:', predict_first)\n",
        "print('Residual for the prediction:', residual_first)"
      ],
      "execution_count": 44,
      "outputs": [
        {
          "output_type": "stream",
          "text": [
            "Prediction for a brain size of 4512 cc: 1514.1666008256107\n",
            "Residual for the prediction: 15.833399174389342\n"
          ],
          "name": "stdout"
        }
      ]
    },
    {
      "cell_type": "markdown",
      "metadata": {
        "id": "yGiNKDm7SS00"
      },
      "source": [
        "**Task 13 - Test**"
      ]
    },
    {
      "cell_type": "code",
      "metadata": {
        "deletable": false,
        "editable": false,
        "id": "pOATq2zUSS00",
        "nbgrader": {
          "cell_type": "code",
          "checksum": "8b61a278a2ab888404a0dd2b75567800",
          "grade": true,
          "grade_id": "cell-10ee8c2149d64bdd",
          "locked": true,
          "points": 1,
          "schema_version": 3,
          "solution": false,
          "task": false
        }
      },
      "source": [
        "# Task 13 - Test\n",
        "\n",
        "assert x_first == 4512, \"Make sure to correct set your x variable.\""
      ],
      "execution_count": 45,
      "outputs": []
    },
    {
      "cell_type": "markdown",
      "metadata": {
        "id": "C4NzMnGd7bVI"
      },
      "source": [
        "## Part B\n",
        "\n",
        "### Sleep Data\n",
        "\n",
        "Use the following information to answer Tasks 14 - 16 in the rest of this project:\n",
        "\n",
        "Researchers recorded data on sleep duration as well as a set of ecological and constitutional variables for a selection of mammal species. This data is available in the Sleep.csv dataset; the URL is provided below. \n",
        "\n",
        "(*Source: Allison, T. and Cicchetti, D. (1976), \"Sleep in Mammals: Ecological and Constitutional Correlates\",  Science, November 12, vol. 194, pp. 732-734.*)\n",
        "\n",
        "**Data Dictionary:**\n",
        "\n",
        "| Variable Name |            Description           |                                                                 Details                                                                 |              |   |\n",
        "|:-------------:|:--------------------------------:|:---------------------------------------------------------------------------------------------------------------------------------------:|--------------|---|\n",
        "| Animal        |            Animal name           |                                                            Character [string]                                                           |    |   |\n",
        "| Body          |            Body weight           |                                                               Numeric [kg]                                                              |       |   |\n",
        "| Brain         |           Brain weight           |                                                               Numeric [g]                                                               |  |   |\n",
        "| SWsleep       | Slow wave (“non-dreaming”) sleep | Numeric [hours]                                                                                                                         |              |   |\n",
        "| Parasleep     | Paradoxical (“dreaming”) sleep   | Numeric [hours]                                                                                                                         |              |   |\n",
        "| Totsleep      | Total sleep                      | Numeric [hours]                                                                                                                         |              |   |\n",
        "| Life          | Maximum life expectancy          | Numeric [years]                                                                                                                         |              |   |\n",
        "| Gest          | Gestation time                   | Numeric [days]                                                                                                                          |              |   |\n",
        "| Pred          | Predation index                  | Numeric [1 – 5] 1 = least likely to be preyed upon, 5 = most likely to be preyed upon                                                   |              |   |\n",
        "| Exposure      | Sleep exposure index             | Numeric [1 – 5] 1 = least amount of exposure during sleep (mammal sleeps indoors or in a den), 5 = most amount of exposure during sleep |              |   |\n",
        "| Danger        | Overall danger index             | Numeric [ 1 – 5] 1 = least amount of danger from other animals, 5 = most amount of danger from other animals                            |              |   |\n",
        "\n"
      ]
    },
    {
      "cell_type": "markdown",
      "metadata": {
        "id": "TyD5c8z4SS00"
      },
      "source": [
        "**Task 14**\n",
        "\n",
        "Before we can look at the data, we need to load in the data. The URL has been provided.\n",
        "\n",
        "* Load in the CSV file as a DataFrame and assign it to the variable `df_sleep`.\n",
        "* Make sure to view the DataFrame!"
      ]
    },
    {
      "cell_type": "code",
      "metadata": {
        "deletable": false,
        "id": "lAGRV2LkuKyw",
        "nbgrader": {
          "cell_type": "code",
          "checksum": "e8b36acb488f375c75345ccdd751c106",
          "grade": false,
          "grade_id": "cell-55ea1290b6484513",
          "locked": false,
          "schema_version": 3,
          "solution": true,
          "task": false
        },
        "colab": {
          "base_uri": "https://localhost:8080/",
          "height": 204
        },
        "outputId": "e8825b61-630f-4d25-d790-72e696ba4b16"
      },
      "source": [
        "# Task 14\n",
        "\n",
        "# Dataset URL\n",
        "data_url_2 = 'https://raw.githubusercontent.com/LambdaSchool/data-science-practice-datasets/main/unit_1/Sleep/Sleep.csv'\n",
        "\n",
        "# YOUR CODE HERE\n",
        "df_sleep = pd.read_csv(data_url_2)\n",
        "\n",
        "# Print out your DataFrame\n",
        "df_sleep.head()"
      ],
      "execution_count": 46,
      "outputs": [
        {
          "output_type": "execute_result",
          "data": {
            "text/html": [
              "<div>\n",
              "<style scoped>\n",
              "    .dataframe tbody tr th:only-of-type {\n",
              "        vertical-align: middle;\n",
              "    }\n",
              "\n",
              "    .dataframe tbody tr th {\n",
              "        vertical-align: top;\n",
              "    }\n",
              "\n",
              "    .dataframe thead th {\n",
              "        text-align: right;\n",
              "    }\n",
              "</style>\n",
              "<table border=\"1\" class=\"dataframe\">\n",
              "  <thead>\n",
              "    <tr style=\"text-align: right;\">\n",
              "      <th></th>\n",
              "      <th>Animal</th>\n",
              "      <th>Body</th>\n",
              "      <th>Brain</th>\n",
              "      <th>SWsleep</th>\n",
              "      <th>Parasleep</th>\n",
              "      <th>Totsleep</th>\n",
              "      <th>Life</th>\n",
              "      <th>Gest</th>\n",
              "      <th>Pred</th>\n",
              "      <th>Exposure</th>\n",
              "      <th>Danger</th>\n",
              "    </tr>\n",
              "  </thead>\n",
              "  <tbody>\n",
              "    <tr>\n",
              "      <th>0</th>\n",
              "      <td>African_giant_pouched_rat</td>\n",
              "      <td>1.000</td>\n",
              "      <td>6.6</td>\n",
              "      <td>6.3</td>\n",
              "      <td>2.0</td>\n",
              "      <td>8.3</td>\n",
              "      <td>4.5</td>\n",
              "      <td>42.0</td>\n",
              "      <td>3</td>\n",
              "      <td>1</td>\n",
              "      <td>3</td>\n",
              "    </tr>\n",
              "    <tr>\n",
              "      <th>1</th>\n",
              "      <td>Asian_elephant</td>\n",
              "      <td>2547.000</td>\n",
              "      <td>4603.0</td>\n",
              "      <td>2.1</td>\n",
              "      <td>1.8</td>\n",
              "      <td>3.9</td>\n",
              "      <td>69.0</td>\n",
              "      <td>624.0</td>\n",
              "      <td>3</td>\n",
              "      <td>5</td>\n",
              "      <td>4</td>\n",
              "    </tr>\n",
              "    <tr>\n",
              "      <th>2</th>\n",
              "      <td>Baboon</td>\n",
              "      <td>10.550</td>\n",
              "      <td>179.5</td>\n",
              "      <td>9.1</td>\n",
              "      <td>0.7</td>\n",
              "      <td>9.8</td>\n",
              "      <td>27.0</td>\n",
              "      <td>180.0</td>\n",
              "      <td>4</td>\n",
              "      <td>4</td>\n",
              "      <td>4</td>\n",
              "    </tr>\n",
              "    <tr>\n",
              "      <th>3</th>\n",
              "      <td>Big_brown_bat</td>\n",
              "      <td>0.023</td>\n",
              "      <td>0.3</td>\n",
              "      <td>15.8</td>\n",
              "      <td>3.9</td>\n",
              "      <td>19.7</td>\n",
              "      <td>19.0</td>\n",
              "      <td>35.0</td>\n",
              "      <td>1</td>\n",
              "      <td>1</td>\n",
              "      <td>1</td>\n",
              "    </tr>\n",
              "    <tr>\n",
              "      <th>4</th>\n",
              "      <td>Brazilian_tapir</td>\n",
              "      <td>160.000</td>\n",
              "      <td>169.0</td>\n",
              "      <td>5.2</td>\n",
              "      <td>1.0</td>\n",
              "      <td>6.2</td>\n",
              "      <td>30.4</td>\n",
              "      <td>392.0</td>\n",
              "      <td>4</td>\n",
              "      <td>5</td>\n",
              "      <td>4</td>\n",
              "    </tr>\n",
              "  </tbody>\n",
              "</table>\n",
              "</div>"
            ],
            "text/plain": [
              "                      Animal      Body   Brain  ...  Pred  Exposure  Danger\n",
              "0  African_giant_pouched_rat     1.000     6.6  ...     3         1       3\n",
              "1             Asian_elephant  2547.000  4603.0  ...     3         5       4\n",
              "2                     Baboon    10.550   179.5  ...     4         4       4\n",
              "3              Big_brown_bat     0.023     0.3  ...     1         1       1\n",
              "4            Brazilian_tapir   160.000   169.0  ...     4         5       4\n",
              "\n",
              "[5 rows x 11 columns]"
            ]
          },
          "metadata": {
            "tags": []
          },
          "execution_count": 46
        }
      ]
    },
    {
      "cell_type": "markdown",
      "metadata": {
        "id": "E3hdCaqsSS00"
      },
      "source": [
        "**Task 14 - Test**"
      ]
    },
    {
      "cell_type": "code",
      "metadata": {
        "deletable": false,
        "editable": false,
        "id": "ZbU-ZQKASS01",
        "nbgrader": {
          "cell_type": "code",
          "checksum": "b637b84401ea04191807b8f1ab218c81",
          "grade": true,
          "grade_id": "cell-bdadecfb395ed39a",
          "locked": true,
          "points": 1,
          "schema_version": 3,
          "solution": false,
          "task": false
        }
      },
      "source": [
        "# Task 14 - Test\n",
        "\n",
        "assert isinstance(df_sleep, pd.DataFrame), 'Have you created a DataFrame named `df_sleep`?'\n",
        "assert len(df_sleep) == 42\n"
      ],
      "execution_count": 47,
      "outputs": []
    },
    {
      "cell_type": "markdown",
      "metadata": {
        "id": "bren8oq27vGP"
      },
      "source": [
        "**Task 15**\n",
        "\n",
        "Write a function that replaces the `_` character in each animal name with a space.  For example,  Asian_elephant = Asian elephant.\n",
        "\n",
        "Hint: use the `string.replace()` string method. Look up the documentation or the Canvas material to help.\n",
        "\n",
        "* Write your function and define it with the name `name_nospace`. It should return a string.\n",
        "* Use your function to add an additional column to the `df_sleep` DataFrame; this new column should be named `Animal_name`. (*Hint: consider using the `.apply()` method on your DataFrame*)"
      ]
    },
    {
      "cell_type": "code",
      "metadata": {
        "deletable": false,
        "id": "IDTgzW2B8RLn",
        "nbgrader": {
          "cell_type": "code",
          "checksum": "fb3de921935bc289e143d0d9f58e5efc",
          "grade": false,
          "grade_id": "cell-304116e44bf4977b",
          "locked": false,
          "schema_version": 3,
          "solution": true,
          "task": false
        },
        "colab": {
          "base_uri": "https://localhost:8080/",
          "height": 204
        },
        "outputId": "1f5a3f88-103b-4474-89b7-3a86a08cefcc"
      },
      "source": [
        "# Task 15\n",
        "\n",
        "# Write your function here\n",
        "\n",
        "# YOUR CODE HERE\n",
        "name_nospace = lambda name : name.replace('_', ' ')\n",
        "\n",
        "df_sleep['Animal_name'] = df_sleep['Animal'].apply(name_nospace)\n",
        "\n",
        "# View your DataFrame\n",
        "df_sleep.head()"
      ],
      "execution_count": 48,
      "outputs": [
        {
          "output_type": "execute_result",
          "data": {
            "text/html": [
              "<div>\n",
              "<style scoped>\n",
              "    .dataframe tbody tr th:only-of-type {\n",
              "        vertical-align: middle;\n",
              "    }\n",
              "\n",
              "    .dataframe tbody tr th {\n",
              "        vertical-align: top;\n",
              "    }\n",
              "\n",
              "    .dataframe thead th {\n",
              "        text-align: right;\n",
              "    }\n",
              "</style>\n",
              "<table border=\"1\" class=\"dataframe\">\n",
              "  <thead>\n",
              "    <tr style=\"text-align: right;\">\n",
              "      <th></th>\n",
              "      <th>Animal</th>\n",
              "      <th>Body</th>\n",
              "      <th>Brain</th>\n",
              "      <th>SWsleep</th>\n",
              "      <th>Parasleep</th>\n",
              "      <th>Totsleep</th>\n",
              "      <th>Life</th>\n",
              "      <th>Gest</th>\n",
              "      <th>Pred</th>\n",
              "      <th>Exposure</th>\n",
              "      <th>Danger</th>\n",
              "      <th>Animal_name</th>\n",
              "    </tr>\n",
              "  </thead>\n",
              "  <tbody>\n",
              "    <tr>\n",
              "      <th>0</th>\n",
              "      <td>African_giant_pouched_rat</td>\n",
              "      <td>1.000</td>\n",
              "      <td>6.6</td>\n",
              "      <td>6.3</td>\n",
              "      <td>2.0</td>\n",
              "      <td>8.3</td>\n",
              "      <td>4.5</td>\n",
              "      <td>42.0</td>\n",
              "      <td>3</td>\n",
              "      <td>1</td>\n",
              "      <td>3</td>\n",
              "      <td>African giant pouched rat</td>\n",
              "    </tr>\n",
              "    <tr>\n",
              "      <th>1</th>\n",
              "      <td>Asian_elephant</td>\n",
              "      <td>2547.000</td>\n",
              "      <td>4603.0</td>\n",
              "      <td>2.1</td>\n",
              "      <td>1.8</td>\n",
              "      <td>3.9</td>\n",
              "      <td>69.0</td>\n",
              "      <td>624.0</td>\n",
              "      <td>3</td>\n",
              "      <td>5</td>\n",
              "      <td>4</td>\n",
              "      <td>Asian elephant</td>\n",
              "    </tr>\n",
              "    <tr>\n",
              "      <th>2</th>\n",
              "      <td>Baboon</td>\n",
              "      <td>10.550</td>\n",
              "      <td>179.5</td>\n",
              "      <td>9.1</td>\n",
              "      <td>0.7</td>\n",
              "      <td>9.8</td>\n",
              "      <td>27.0</td>\n",
              "      <td>180.0</td>\n",
              "      <td>4</td>\n",
              "      <td>4</td>\n",
              "      <td>4</td>\n",
              "      <td>Baboon</td>\n",
              "    </tr>\n",
              "    <tr>\n",
              "      <th>3</th>\n",
              "      <td>Big_brown_bat</td>\n",
              "      <td>0.023</td>\n",
              "      <td>0.3</td>\n",
              "      <td>15.8</td>\n",
              "      <td>3.9</td>\n",
              "      <td>19.7</td>\n",
              "      <td>19.0</td>\n",
              "      <td>35.0</td>\n",
              "      <td>1</td>\n",
              "      <td>1</td>\n",
              "      <td>1</td>\n",
              "      <td>Big brown bat</td>\n",
              "    </tr>\n",
              "    <tr>\n",
              "      <th>4</th>\n",
              "      <td>Brazilian_tapir</td>\n",
              "      <td>160.000</td>\n",
              "      <td>169.0</td>\n",
              "      <td>5.2</td>\n",
              "      <td>1.0</td>\n",
              "      <td>6.2</td>\n",
              "      <td>30.4</td>\n",
              "      <td>392.0</td>\n",
              "      <td>4</td>\n",
              "      <td>5</td>\n",
              "      <td>4</td>\n",
              "      <td>Brazilian tapir</td>\n",
              "    </tr>\n",
              "  </tbody>\n",
              "</table>\n",
              "</div>"
            ],
            "text/plain": [
              "                      Animal      Body  ...  Danger                Animal_name\n",
              "0  African_giant_pouched_rat     1.000  ...       3  African giant pouched rat\n",
              "1             Asian_elephant  2547.000  ...       4             Asian elephant\n",
              "2                     Baboon    10.550  ...       4                     Baboon\n",
              "3              Big_brown_bat     0.023  ...       1              Big brown bat\n",
              "4            Brazilian_tapir   160.000  ...       4            Brazilian tapir\n",
              "\n",
              "[5 rows x 12 columns]"
            ]
          },
          "metadata": {
            "tags": []
          },
          "execution_count": 48
        }
      ]
    },
    {
      "cell_type": "markdown",
      "metadata": {
        "id": "1sN4tabGSS01"
      },
      "source": [
        "**Task 15 - Test**"
      ]
    },
    {
      "cell_type": "code",
      "metadata": {
        "deletable": false,
        "editable": false,
        "id": "E-TcPcWUSS01",
        "nbgrader": {
          "cell_type": "code",
          "checksum": "ff7093a99a757d7b10a201e7320778c6",
          "grade": true,
          "grade_id": "cell-2986063fe6fc3654",
          "locked": true,
          "points": 1,
          "schema_version": 3,
          "solution": false,
          "task": false
        }
      },
      "source": [
        "# Task 15 - Test\n",
        "\n",
        "assert name_nospace('Test_name') == 'Test name', 'Double check your function and that it returns the correct name.'\n"
      ],
      "execution_count": 49,
      "outputs": []
    },
    {
      "cell_type": "markdown",
      "metadata": {
        "id": "vOHOv5cc-plj"
      },
      "source": [
        "**Task 15** - Correlation calculations\n",
        "\n",
        "On this final graded task, we're going to complete two more correlation calculations.\n",
        "\n",
        "* Calculate the correlation between life expectancy and total sleep - assign your result to `corr_life_sleep`. Your number should be a float.\n",
        "* Calculate the correlation between gestation time and total sleep - assign your result to `corr_gest_sleep`. Your number should be a float."
      ]
    },
    {
      "cell_type": "code",
      "metadata": {
        "deletable": false,
        "id": "_eLjxXMXSS02",
        "nbgrader": {
          "cell_type": "code",
          "checksum": "217f6c08e7286d957e6a5f0c0389c2d0",
          "grade": false,
          "grade_id": "cell-c24f71c01d7b61ce",
          "locked": false,
          "schema_version": 3,
          "solution": true,
          "task": false
        },
        "colab": {
          "base_uri": "https://localhost:8080/"
        },
        "outputId": "1af8f4af-e1f6-4986-8bf5-eb8bec0b2a3a"
      },
      "source": [
        "# Task 15\n",
        "\n",
        "# YOUR CODE HERE\n",
        "corr_life_sleep, psleep = st.pearsonr(df_sleep['Life'], df_sleep['Totsleep'])\n",
        "corr_gest_sleep, gsleep = st.pearsonr(df_sleep['Gest'], df_sleep['Totsleep'])\n",
        "\n",
        "print(\"Correlation between total sleep and life expectancy=\", corr_life_sleep)\n",
        "print(\"Correlation between total sleep and gestation time=\", corr_gest_sleep)"
      ],
      "execution_count": 50,
      "outputs": [
        {
          "output_type": "stream",
          "text": [
            "Correlation between total sleep and life expectancy= -0.38244617694907174\n",
            "Correlation between total sleep and gestation time= -0.6144743061371065\n"
          ],
          "name": "stdout"
        }
      ]
    },
    {
      "cell_type": "markdown",
      "metadata": {
        "id": "9L7UqH7nSS02"
      },
      "source": [
        "**Task 16 - Test**"
      ]
    },
    {
      "cell_type": "code",
      "metadata": {
        "deletable": false,
        "editable": false,
        "id": "DlhS1o27-ss8",
        "nbgrader": {
          "cell_type": "code",
          "checksum": "b9c2c7ad06bcb852a9887f663491b774",
          "grade": true,
          "grade_id": "cell-a10442996184bd9c",
          "locked": true,
          "points": 1,
          "schema_version": 3,
          "solution": false,
          "task": false
        }
      },
      "source": [
        "# Task 16 - Test\n",
        "\n",
        "# Hidden tests - you will see the results when you submit to Canvas\n"
      ],
      "execution_count": 51,
      "outputs": []
    }
  ]
}