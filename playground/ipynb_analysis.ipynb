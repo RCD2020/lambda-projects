{
  "nbformat": 4,
  "nbformat_minor": 0,
  "metadata": {
    "colab": {
      "name": "ipynb_analysis.ipynb",
      "provenance": [],
      "collapsed_sections": []
    },
    "kernelspec": {
      "name": "python3",
      "display_name": "Python 3"
    },
    "language_info": {
      "name": "python"
    }
  },
  "cells": [
    {
      "cell_type": "code",
      "metadata": {
        "colab": {
          "base_uri": "https://localhost:8080/"
        },
        "id": "xEOQK0pydCeO",
        "outputId": "1c24ca39-b844-4273-ee88-faf45ac43f76"
      },
      "source": [
        "'This is a block of code'\n",
        "print('very cool')"
      ],
      "execution_count": 1,
      "outputs": [
        {
          "output_type": "stream",
          "text": [
            "very cool\n"
          ],
          "name": "stdout"
        }
      ]
    },
    {
      "cell_type": "code",
      "metadata": {
        "id": "Sgyc9VX1dR-j"
      },
      "source": [
        ""
      ],
      "execution_count": null,
      "outputs": []
    },
    {
      "cell_type": "markdown",
      "metadata": {
        "id": "qd7VZObYdVZ5"
      },
      "source": [
        "This is a text block"
      ]
    },
    {
      "cell_type": "markdown",
      "metadata": {
        "id": "TqFRTBZUdZcn"
      },
      "source": [
        "# New Section\n",
        "\n",
        "**bold text**\n",
        "\n",
        "*italicized text*\n",
        "\n",
        "```\n",
        "# This is formatted as code\n",
        "```\n",
        "\n",
        "[link text](https://colab.research.google.com/drive/1HPvovLIVQnx49EPIgPhULQaySzgrVCke?usp=sharing)\n",
        "\n",
        "![red_sword.png](data:image/png;base64,iVBORw0KGgoAAAANSUhEUgAAABAAAAAQCAYAAAAf8/9hAAAA3UlEQVQ4jWNkIAO4cHD/J0cfGIA0/1+0GIw1WFhJMwim+aakAukGUE+zvAaNNIMUoocuWLO8Bl7NTMgcDRZWeBSB6N3isgy3fv1gUGPjYNB8epfhxp/f+KMdpGmaoDjYJpCNIDYhPzOiGxDEyQNmX/v9k2GysARBmzEkQIaAvHLjz2+GJ39+EXQ2iiS/nP9/Nm5FBuHbUxlkWNjAYoQMYUHWzCPuyvDm1nSG1xANYH9DDfqPyxAWWKhf5FYEa/758SpYIZIGvCmOEebnPT++Eo4mbC4A+RGEyQIMDAwATxKZBsx+sGIAAAAASUVORK5CYII=)\n",
        "\n",
        "> Indented block\n",
        "\n",
        "1.   List item\n",
        "2.   List item\n",
        "\n",
        "*   List item\n",
        "*   List item\n",
        "\n",
        "---\n",
        "\n"
      ]
    },
    {
      "cell_type": "code",
      "metadata": {
        "colab": {
          "base_uri": "https://localhost:8080/"
        },
        "id": "iIHpvx4feXPz",
        "outputId": "84d7b9a5-38c4-466f-fd68-6bb9e899861d"
      },
      "source": [
        "#@title Default title text\n",
        "#@markdown adfsjk\n",
        "\n",
        "print('sup')"
      ],
      "execution_count": 3,
      "outputs": [
        {
          "output_type": "stream",
          "text": [
            "sup\n"
          ],
          "name": "stdout"
        }
      ]
    },
    {
      "cell_type": "markdown",
      "metadata": {
        "id": "t3SGqi_teeKI"
      },
      "source": [
        ""
      ]
    }
  ]
}