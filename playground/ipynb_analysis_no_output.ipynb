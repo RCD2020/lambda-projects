{
  "nbformat": 4,
  "nbformat_minor": 0,
  "metadata": {
    "colab": {
      "name": "ipynb_analysis_no_output.ipynb",
      "provenance": []
    },
    "kernelspec": {
      "name": "python3",
      "display_name": "Python 3"
    },
    "language_info": {
      "name": "python"
    }
  },
  "cells": [
    {
      "cell_type": "code",
      "metadata": {
        "id": "GsNvFT0xqXn-"
      },
      "source": [
        "'This is a block of code'\n",
        "print('very cool')\n",
        "print(\"very cool\")\n",
        "print('\\n')"
      ],
      "execution_count": null,
      "outputs": []
    },
    {
      "cell_type": "code",
      "metadata": {
        "id": "I6umMZ8Sqf0K"
      },
      "source": [
        ""
      ],
      "execution_count": null,
      "outputs": []
    },
    {
      "cell_type": "markdown",
      "metadata": {
        "id": "liluUt0mqhEH"
      },
      "source": [
        "This is a text block"
      ]
    },
    {
      "cell_type": "markdown",
      "metadata": {
        "id": "7mBsyVvLqpPX"
      },
      "source": [
        "# New Section\n",
        "\n",
        "**bold text**\n",
        "\n",
        "*italicized text*\n",
        "\n",
        "```\n",
        "# This is formatted as code\n",
        "```\n",
        "\n",
        "[link text](https://colab.research.google.com/drive/1negkxztEtQ7de6Gj5bqtgxUZSDOoFAI3?usp=sharing)\n",
        "\n",
        "> Indented block\n",
        "\n",
        "1.   List item\n",
        "2.   List item\n",
        "\n",
        "*   List item\n",
        "*   List item\n",
        "\n",
        "---"
      ]
    },
    {
      "cell_type": "code",
      "metadata": {
        "id": "IJfYMdvBrVT7"
      },
      "source": [
        "#@title Default title text\n",
        "#@markdown adfsjk\n",
        "\n",
        "print('sup')"
      ],
      "execution_count": null,
      "outputs": []
    },
    {
      "cell_type": "markdown",
      "metadata": {
        "id": "nyMwuRANreo9"
      },
      "source": [
        ""
      ]
    }
  ]
}